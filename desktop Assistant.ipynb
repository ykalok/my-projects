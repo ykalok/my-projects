{
 "cells": [
  {
   "cell_type": "markdown",
   "metadata": {},
   "source": [
    "https://medium.com/voice-tech-podcast/desktop-assistant-in-python-3-6-e11ab7739f70"
   ]
  },
  {
   "cell_type": "code",
   "execution_count": 1,
   "metadata": {},
   "outputs": [],
   "source": [
    "import numpy as np\n",
    "import pandas as pd\n"
   ]
  },
  {
   "cell_type": "code",
   "execution_count": 2,
   "metadata": {},
   "outputs": [],
   "source": [
    "#pip install google-search-results"
   ]
  },
  {
   "cell_type": "code",
   "execution_count": 3,
   "metadata": {},
   "outputs": [],
   "source": [
    "from serpapi.google_search_results import GoogleSearchResults\n",
    "query = GoogleSearchResults({\"q\": \"coffee\"})\n",
    "json_results = query.get_json()"
   ]
  },
  {
   "cell_type": "code",
   "execution_count": 4,
   "metadata": {},
   "outputs": [
    {
     "name": "stdout",
     "output_type": "stream",
     "text": [
      "pygame 1.9.6\n",
      "Hello from the pygame community. https://www.pygame.org/contribute.html\n"
     ]
    }
   ],
   "source": [
    "import requests\n",
    "import datetime\n",
    "import random\n",
    "import sys\n",
    "import os\n",
    "import webbrowser\n",
    "import urllib\n",
    "import pyttsx3\n",
    "import speech_recognition as sr\n",
    "import pyaudio\n",
    "from PyDictionary import PyDictionary\n",
    "from pygame import mixer\n",
    "#from googlesearch import search\n",
    "from bs4 import BeautifulSoup\n",
    "import ety\n",
    "from nltk.corpus import wordnet"
   ]
  },
  {
   "cell_type": "code",
   "execution_count": 5,
   "metadata": {},
   "outputs": [
    {
     "name": "stdout",
     "output_type": "stream",
     "text": [
      "200\n"
     ]
    }
   ],
   "source": [
    "engine = pyttsx3.init() \n",
    "voices = engine.getProperty('voices')       #getting details of current voice\n",
    "#engine.setProperty('voice', voices[0].id)  #changing index, changes voices. o for male\n",
    "engine.setProperty('voice', voices[len(voices) - 1].id)\n",
    "rate = engine.getProperty('rate')   # getting details of current speaking rate\n",
    "print (rate)                        #printing current voice rate\n",
    "engine.setProperty('rate', rate-62)"
   ]
  },
  {
   "cell_type": "code",
   "execution_count": 6,
   "metadata": {},
   "outputs": [],
   "source": [
    "def speak(audio):\n",
    "    print(\"Alok: \"+audio)\n",
    "    engine.say(audio)\n",
    "    engine.runAndWait()"
   ]
  },
  {
   "cell_type": "code",
   "execution_count": 7,
   "metadata": {},
   "outputs": [],
   "source": [
    "def command():\n",
    "    cmd = sr.Recognizer()\n",
    "    with sr.Microphone() as source:\n",
    "        cmd.adjust_for_ambient_noise(source)    # Adjusts the level to recieve voice even in case of noise in surroundings\n",
    "        print('Listening..')\n",
    "        audio = cmd.listen(source)\n",
    "        try:\n",
    "            query = cmd.recognize_google(audio,language='en-in')\n",
    "            print('User: '+query+'\\n')\n",
    "        except sr.UnknownValueError:\n",
    "            speak('Sorry ! I did not get that. Could you please type it out ?')\n",
    "            query = str(input('Command: '))\n",
    "    return query"
   ]
  },
  {
   "cell_type": "code",
   "execution_count": 8,
   "metadata": {},
   "outputs": [],
   "source": [
    "def greeting():\n",
    "    currentH = int(datetime.datetime.now().hour)\n",
    "    if currentH >= 0 and currentH < 12 :\n",
    "        speak('Good Morning')\n",
    "    if currentH >= 12 and currentH < 17 :\n",
    "        speak('Good Afternoon')\n",
    "    if currentH >= 17 and currentH != 0 :\n",
    "        speak('Good Evening')"
   ]
  },
  {
   "cell_type": "code",
   "execution_count": 9,
   "metadata": {},
   "outputs": [],
   "source": [
    "#os.getcwd()"
   ]
  },
  {
   "cell_type": "code",
   "execution_count": 10,
   "metadata": {},
   "outputs": [],
   "source": [
    "def playMusic():\n",
    "    music_folder =\"G://Hollywood songs//\"\n",
    "    music = os.listdir(music_folder)\n",
    "    random_music = music_folder + random.choice(music)\n",
    "    mixer.init()\n",
    "    mixer.music.load(random_music)\n",
    "    mixer.music.play()\n",
    "    \n",
    "    "
   ]
  },
  {
   "cell_type": "code",
   "execution_count": 11,
   "metadata": {},
   "outputs": [],
   "source": [
    "#code_path = os.path.dirname(os.path.realpath(os.getcwd()))\n",
    "#music_folder =\"G://Hollywood songs//\"\n",
    "#music_folder"
   ]
  },
  {
   "cell_type": "code",
   "execution_count": 12,
   "metadata": {},
   "outputs": [],
   "source": [
    "def find(name, path):\n",
    "    for root, files in os.walk(path):\n",
    "        if name in files:\n",
    "            return os.path.join(root, name)\n"
   ]
  },
  {
   "cell_type": "code",
   "execution_count": 13,
   "metadata": {},
   "outputs": [],
   "source": [
    "def searchOnGoogle(query, outputList):\n",
    "    speak('The top five search results from Google  are listed below.')\n",
    "    for output in search(query, tld=\"co.in\", num=10, stop=1, pause=2):\n",
    "        print(output)\n",
    "        outputList.append(output)\n",
    "    return outputList"
   ]
  },
  {
   "cell_type": "code",
   "execution_count": 14,
   "metadata": {},
   "outputs": [],
   "source": [
    "def openLink(query):\n",
    "    speak(\"Here's the link for you.\")\n",
    "    url = \"https://www.google.co.in/search?q=\" +(str(query))+ \"&oq=\"+(str(query))+\"&gs_l=serp.12..0i71l8.0.0.0.6391.0.0.0.0.0.0.0.0..0.0....0...1c..64.serp..0.0.0.UiQhpfaBsuU\"\n",
    "    webbrowser.open_new(url)\n",
    "    #webbrowser.open(outputList[0])"
   ]
  },
  {
   "cell_type": "code",
   "execution_count": 15,
   "metadata": {},
   "outputs": [],
   "source": [
    "#query=\"geeksforgeeks\"\n",
    "#openLink(query)"
   ]
  },
  {
   "cell_type": "code",
   "execution_count": 16,
   "metadata": {},
   "outputs": [],
   "source": [
    "def playOnYoutube(query_string):\n",
    "    query_string = urllib.parse.urlencode({\"search_query\" : query})\n",
    "    search_string = str(\"http://www.youtube.com/results?\" + query_string)\n",
    "    speak(\"Here's what you asked for. Enjoy!\")\n",
    "    webbrowser.open_new_tab(search_string)"
   ]
  },
  {
   "cell_type": "code",
   "execution_count": 17,
   "metadata": {},
   "outputs": [],
   "source": [
    "#query=\"hukka bar song\"\n",
    "#playOnYoutube(query)"
   ]
  },
  {
   "cell_type": "code",
   "execution_count": 18,
   "metadata": {},
   "outputs": [],
   "source": [
    "def tellAJoke():\n",
    "    res = requests.get(\n",
    "        'https://icanhazdadjoke.com/',\n",
    "        headers={\"Accept\":\"application/json\"}\n",
    "        )\n",
    "    if res.status_code == 200:\n",
    "        speak(\"Okay. Here's one\")\n",
    "        speak(str(res.json()['joke']))\n",
    "    else:\n",
    "        speak('Oops!I ran out of jokes')"
   ]
  },
  {
   "cell_type": "code",
   "execution_count": 19,
   "metadata": {},
   "outputs": [],
   "source": [
    "#tellAJoke()"
   ]
  },
  {
   "cell_type": "code",
   "execution_count": 20,
   "metadata": {},
   "outputs": [],
   "source": [
    "#pip install wordnet"
   ]
  },
  {
   "cell_type": "code",
   "execution_count": 21,
   "metadata": {},
   "outputs": [],
   "source": [
    "#pip install corpora"
   ]
  },
  {
   "cell_type": "code",
   "execution_count": 22,
   "metadata": {},
   "outputs": [],
   "source": [
    "def getCompleteInfo(word):\n",
    "    dictionary = PyDictionary()\n",
    "    mean = {}\n",
    "    mean = dictionary.meaning(word)\n",
    "    synonyms = []\n",
    "    antonyms = []\n",
    "\n",
    "    speak(\"Alright. Here is the information you asked for.\" +word)\n",
    "\n",
    "    for key in mean.keys():\n",
    "        speak(\"When \"+str(word)+\" is used as a \"+str(key)+\" then it has the following meanings\")\n",
    "        for val in mean[key]:\n",
    "            print(val)\n",
    "        print()\n",
    "\n",
    "\n",
    "    speak(\"The possible synonyms and antonyms of \"+str(word)+\" are given below.\")\n",
    "    for syn in wordnet.synsets(word): \n",
    "        for l in syn.lemmas():\n",
    "            if l.name() not in synonyms:\n",
    "                synonyms.append(l.name())\n",
    "            if l.antonyms() and l.antonyms()[0].name() not in antonyms:\n",
    "                antonyms.append(l.antonyms()[0].name())\n",
    "    \n",
    "    print(\"Synonyms: \", end = \" \")\n",
    "    print(' '.join(synonyms), end = \" \")\n",
    "    print(\"\\n\")\n",
    "    print(\"Antonyms: \", end = \" \")\n",
    "    print(' '.join(antonyms), end = \" \") \n",
    "    print(\"\\n\")\n",
    "\n",
    "    ori = ety.origins(word)\n",
    "    if len(ori) > 0:\n",
    "        speak(\"There are \"+str(len(ori))+\" possible origins found.\")\n",
    "        for origin in ori:\n",
    "            print(origin)\n",
    "    else:\n",
    "        speak(\"I'm sorry. No data regarding the origin of \"+str(word)+\" was found.\")\n"
   ]
  },
  {
   "cell_type": "code",
   "execution_count": 23,
   "metadata": {},
   "outputs": [],
   "source": [
    "#word=\"Apple\"\n",
    "#getCompleteInfo(word)"
   ]
  },
  {
   "cell_type": "code",
   "execution_count": null,
   "metadata": {},
   "outputs": [],
   "source": [
    "greeting()\n",
    "speak('Alok here.')\n",
    "speak('What would you like me to do for you ?')\n",
    "if __name__ == '__main__':\n",
    "    while True:\n",
    "\n",
    "        query = command()\n",
    "        query = query.lower()\n",
    "\n",
    "\n",
    "        if 'play music' in query or 'play a song' in query :\n",
    "             speak(\"Here's your music. Enjoy !\")\n",
    "             playMusic()\n",
    "            \n",
    "        if 'stop the music' in query or 'stop the song' in query or 'stop' in query :\n",
    "            mixer.music.stop()\n",
    "            speak('The music is stopped.')\n",
    "\n",
    "        if 'find file' in query:\n",
    "            speak('What is the name of the file that I should find ?')\n",
    "            query = command()\n",
    "            filename = query\n",
    "            print(filename)\n",
    "            speak('What would be the extension of the file ?')\n",
    "            query = command()\n",
    "            query = query.lower()\n",
    "            extension = query\n",
    "            print(extension)\n",
    "            fullname = str(filename) + '.' + str(extension)\n",
    "            print(fullname)\n",
    "            path = r'D:\\\\'\n",
    "            location = find(fullname,path)\n",
    "            speak('File is found at the below location')\n",
    "            print(location)\n",
    "\n",
    "        if 'search' in query:\n",
    "            outputList = []\n",
    "            speak('What should I search for ?')\n",
    "            query = command()\n",
    "            #searchOnGoogle(query,outputList)\n",
    "            speak('Should I open up the first link for you ?')\n",
    "            query = command()\n",
    "            if 'yes' in query or 'sure' in query:\n",
    "                openLink(query)\n",
    "            if 'no' in query:\n",
    "                speak('Alright.')\n",
    "\n",
    "        if 'play on youtube' in query:\n",
    "            speak('What should I look up for ?')\n",
    "            query = command()\n",
    "            playOnYoutube(query)  \n",
    "        if 'open dictionary' in query or 'dictionary' in query:\n",
    "            speak('What word should I look up for ?')\n",
    "            word = command()\n",
    "            getCompleteInfo(word)\n",
    "       \n",
    "        if 'joke' in query:\n",
    "            tellAJoke()\n",
    "        \n",
    "        if 'that would be all' in query or 'that is it' in query or 'ok bye' in query:\n",
    "            speak('Alright. Have a nice day')\n",
    "            sys.exit()"
   ]
  },
  {
   "cell_type": "code",
   "execution_count": null,
   "metadata": {},
   "outputs": [],
   "source": []
  }
 ],
 "metadata": {
  "kernelspec": {
   "display_name": "Python 3",
   "language": "python",
   "name": "python3"
  },
  "language_info": {
   "codemirror_mode": {
    "name": "ipython",
    "version": 3
   },
   "file_extension": ".py",
   "mimetype": "text/x-python",
   "name": "python",
   "nbconvert_exporter": "python",
   "pygments_lexer": "ipython3",
   "version": "3.7.3"
  }
 },
 "nbformat": 4,
 "nbformat_minor": 2
}
