{
 "cells": [
  {
   "cell_type": "markdown",
   "metadata": {},
   "source": [
    "# Job recommendation system\n"
   ]
  },
  {
   "cell_type": "raw",
   "metadata": {},
   "source": [
    "1.Which country, state and city are popular among job creator?\n",
    "2.Which country, state and city are popular among job seekers?\n",
    "3.Recommend similar jobs based on the jobs title, description\n",
    "4.Recommend jobs based on similar user profiles"
   ]
  },
  {
   "cell_type": "markdown",
   "metadata": {},
   "source": [
    "# Import preliminary dependency\n"
   ]
  },
  {
   "cell_type": "code",
   "execution_count": null,
   "metadata": {},
   "outputs": [],
   "source": [
    "%matplotlib inline\n",
    "import matplotlib.pyplot as plt\n",
    "import seaborn as sns\n",
    "import pandas as pd\n",
    "import numpy as np\n",
    "from scipy import stats\n",
    "import warnings; warnings.simplefilter('ignore')"
   ]
  },
  {
   "cell_type": "markdown",
   "metadata": {},
   "source": [
    "# Load datasets"
   ]
  },
  {
   "cell_type": "code",
   "execution_count": 2,
   "metadata": {},
   "outputs": [],
   "source": [
    "apps=pd.read_csv('apps.tsv', delimiter='\\t',encoding='utf-8')"
   ]
  },
  {
   "cell_type": "code",
   "execution_count": 3,
   "metadata": {},
   "outputs": [
    {
     "data": {
      "text/html": [
       "<div>\n",
       "<style scoped>\n",
       "    .dataframe tbody tr th:only-of-type {\n",
       "        vertical-align: middle;\n",
       "    }\n",
       "\n",
       "    .dataframe tbody tr th {\n",
       "        vertical-align: top;\n",
       "    }\n",
       "\n",
       "    .dataframe thead th {\n",
       "        text-align: right;\n",
       "    }\n",
       "</style>\n",
       "<table border=\"1\" class=\"dataframe\">\n",
       "  <thead>\n",
       "    <tr style=\"text-align: right;\">\n",
       "      <th></th>\n",
       "      <th>UserID</th>\n",
       "      <th>WindowID</th>\n",
       "      <th>Split</th>\n",
       "      <th>ApplicationDate</th>\n",
       "      <th>JobID</th>\n",
       "    </tr>\n",
       "  </thead>\n",
       "  <tbody>\n",
       "    <tr>\n",
       "      <th>0</th>\n",
       "      <td>47</td>\n",
       "      <td>1</td>\n",
       "      <td>Train</td>\n",
       "      <td>2012-04-04 15:56:23.537</td>\n",
       "      <td>169528</td>\n",
       "    </tr>\n",
       "    <tr>\n",
       "      <th>1</th>\n",
       "      <td>47</td>\n",
       "      <td>1</td>\n",
       "      <td>Train</td>\n",
       "      <td>2012-04-06 01:03:00.003</td>\n",
       "      <td>284009</td>\n",
       "    </tr>\n",
       "    <tr>\n",
       "      <th>2</th>\n",
       "      <td>47</td>\n",
       "      <td>1</td>\n",
       "      <td>Train</td>\n",
       "      <td>2012-04-05 02:40:27.753</td>\n",
       "      <td>2121</td>\n",
       "    </tr>\n",
       "    <tr>\n",
       "      <th>3</th>\n",
       "      <td>47</td>\n",
       "      <td>1</td>\n",
       "      <td>Train</td>\n",
       "      <td>2012-04-05 02:37:02.673</td>\n",
       "      <td>848187</td>\n",
       "    </tr>\n",
       "    <tr>\n",
       "      <th>4</th>\n",
       "      <td>47</td>\n",
       "      <td>1</td>\n",
       "      <td>Train</td>\n",
       "      <td>2012-04-05 22:44:06.653</td>\n",
       "      <td>733748</td>\n",
       "    </tr>\n",
       "  </tbody>\n",
       "</table>\n",
       "</div>"
      ],
      "text/plain": [
       "   UserID  WindowID  Split          ApplicationDate   JobID\n",
       "0      47         1  Train  2012-04-04 15:56:23.537  169528\n",
       "1      47         1  Train  2012-04-06 01:03:00.003  284009\n",
       "2      47         1  Train  2012-04-05 02:40:27.753    2121\n",
       "3      47         1  Train  2012-04-05 02:37:02.673  848187\n",
       "4      47         1  Train  2012-04-05 22:44:06.653  733748"
      ]
     },
     "execution_count": 3,
     "metadata": {},
     "output_type": "execute_result"
    }
   ],
   "source": [
    "apps.head()"
   ]
  },
  {
   "cell_type": "code",
   "execution_count": 4,
   "metadata": {},
   "outputs": [
    {
     "data": {
      "text/plain": [
       "Index(['UserID', 'WindowID', 'Split', 'ApplicationDate', 'JobID'], dtype='object')"
      ]
     },
     "execution_count": 4,
     "metadata": {},
     "output_type": "execute_result"
    }
   ],
   "source": [
    "apps.columns"
   ]
  },
  {
   "cell_type": "code",
   "execution_count": 5,
   "metadata": {},
   "outputs": [
    {
     "data": {
      "text/plain": [
       "(1603111, 5)"
      ]
     },
     "execution_count": 5,
     "metadata": {},
     "output_type": "execute_result"
    }
   ],
   "source": [
    "apps.shape"
   ]
  },
  {
   "cell_type": "code",
   "execution_count": 6,
   "metadata": {},
   "outputs": [
    {
     "name": "stdout",
     "output_type": "stream",
     "text": [
      "<class 'pandas.core.frame.DataFrame'>\n",
      "RangeIndex: 1603111 entries, 0 to 1603110\n",
      "Data columns (total 5 columns):\n",
      "UserID             1603111 non-null int64\n",
      "WindowID           1603111 non-null int64\n",
      "Split              1603111 non-null object\n",
      "ApplicationDate    1603111 non-null object\n",
      "JobID              1603111 non-null int64\n",
      "dtypes: int64(3), object(2)\n",
      "memory usage: 61.2+ MB\n"
     ]
    }
   ],
   "source": [
    "apps.info()"
   ]
  },
  {
   "cell_type": "code",
   "execution_count": 7,
   "metadata": {},
   "outputs": [],
   "source": [
    "user_history = pd.read_csv('user_history.tsv', delimiter='\\t',encoding='utf-8')"
   ]
  },
  {
   "cell_type": "code",
   "execution_count": 8,
   "metadata": {},
   "outputs": [
    {
     "data": {
      "text/html": [
       "<div>\n",
       "<style scoped>\n",
       "    .dataframe tbody tr th:only-of-type {\n",
       "        vertical-align: middle;\n",
       "    }\n",
       "\n",
       "    .dataframe tbody tr th {\n",
       "        vertical-align: top;\n",
       "    }\n",
       "\n",
       "    .dataframe thead th {\n",
       "        text-align: right;\n",
       "    }\n",
       "</style>\n",
       "<table border=\"1\" class=\"dataframe\">\n",
       "  <thead>\n",
       "    <tr style=\"text-align: right;\">\n",
       "      <th></th>\n",
       "      <th>UserID</th>\n",
       "      <th>WindowID</th>\n",
       "      <th>Split</th>\n",
       "      <th>Sequence</th>\n",
       "      <th>JobTitle</th>\n",
       "    </tr>\n",
       "  </thead>\n",
       "  <tbody>\n",
       "    <tr>\n",
       "      <th>0</th>\n",
       "      <td>47</td>\n",
       "      <td>1</td>\n",
       "      <td>Train</td>\n",
       "      <td>1</td>\n",
       "      <td>National Space Communication Programs-Special ...</td>\n",
       "    </tr>\n",
       "    <tr>\n",
       "      <th>1</th>\n",
       "      <td>47</td>\n",
       "      <td>1</td>\n",
       "      <td>Train</td>\n",
       "      <td>2</td>\n",
       "      <td>Detention Officer</td>\n",
       "    </tr>\n",
       "    <tr>\n",
       "      <th>2</th>\n",
       "      <td>47</td>\n",
       "      <td>1</td>\n",
       "      <td>Train</td>\n",
       "      <td>3</td>\n",
       "      <td>Passenger Screener, TSA</td>\n",
       "    </tr>\n",
       "    <tr>\n",
       "      <th>3</th>\n",
       "      <td>72</td>\n",
       "      <td>1</td>\n",
       "      <td>Train</td>\n",
       "      <td>1</td>\n",
       "      <td>Lecturer, Department of Anthropology</td>\n",
       "    </tr>\n",
       "    <tr>\n",
       "      <th>4</th>\n",
       "      <td>72</td>\n",
       "      <td>1</td>\n",
       "      <td>Train</td>\n",
       "      <td>2</td>\n",
       "      <td>Student Assistant</td>\n",
       "    </tr>\n",
       "  </tbody>\n",
       "</table>\n",
       "</div>"
      ],
      "text/plain": [
       "   UserID  WindowID  Split  Sequence  \\\n",
       "0      47         1  Train         1   \n",
       "1      47         1  Train         2   \n",
       "2      47         1  Train         3   \n",
       "3      72         1  Train         1   \n",
       "4      72         1  Train         2   \n",
       "\n",
       "                                            JobTitle  \n",
       "0  National Space Communication Programs-Special ...  \n",
       "1                                  Detention Officer  \n",
       "2                            Passenger Screener, TSA  \n",
       "3               Lecturer, Department of Anthropology  \n",
       "4                                  Student Assistant  "
      ]
     },
     "execution_count": 8,
     "metadata": {},
     "output_type": "execute_result"
    }
   ],
   "source": [
    "user_history.head()"
   ]
  },
  {
   "cell_type": "code",
   "execution_count": 9,
   "metadata": {},
   "outputs": [
    {
     "data": {
      "text/plain": [
       "Index(['UserID', 'WindowID', 'Split', 'Sequence', 'JobTitle'], dtype='object')"
      ]
     },
     "execution_count": 9,
     "metadata": {},
     "output_type": "execute_result"
    }
   ],
   "source": [
    "user_history.columns"
   ]
  },
  {
   "cell_type": "code",
   "execution_count": 10,
   "metadata": {},
   "outputs": [
    {
     "data": {
      "text/plain": [
       "(1753901, 5)"
      ]
     },
     "execution_count": 10,
     "metadata": {},
     "output_type": "execute_result"
    }
   ],
   "source": [
    "user_history.shape"
   ]
  },
  {
   "cell_type": "code",
   "execution_count": 11,
   "metadata": {},
   "outputs": [
    {
     "name": "stdout",
     "output_type": "stream",
     "text": [
      "<class 'pandas.core.frame.DataFrame'>\n",
      "RangeIndex: 1753901 entries, 0 to 1753900\n",
      "Data columns (total 5 columns):\n",
      "UserID      int64\n",
      "WindowID    int64\n",
      "Split       object\n",
      "Sequence    int64\n",
      "JobTitle    object\n",
      "dtypes: int64(3), object(2)\n",
      "memory usage: 66.9+ MB\n"
     ]
    }
   ],
   "source": [
    "user_history.info()"
   ]
  },
  {
   "cell_type": "code",
   "execution_count": 12,
   "metadata": {},
   "outputs": [
    {
     "name": "stderr",
     "output_type": "stream",
     "text": [
      "b'Skipping line 122433: expected 11 fields, saw 12\\n'\n",
      "b'Skipping line 602576: expected 11 fields, saw 12\\n'\n"
     ]
    }
   ],
   "source": [
    "jobs = pd.read_csv('jobs.tsv', delimiter='\\t',encoding='utf-8', error_bad_lines=False)"
   ]
  },
  {
   "cell_type": "code",
   "execution_count": 13,
   "metadata": {},
   "outputs": [
    {
     "data": {
      "text/html": [
       "<div>\n",
       "<style scoped>\n",
       "    .dataframe tbody tr th:only-of-type {\n",
       "        vertical-align: middle;\n",
       "    }\n",
       "\n",
       "    .dataframe tbody tr th {\n",
       "        vertical-align: top;\n",
       "    }\n",
       "\n",
       "    .dataframe thead th {\n",
       "        text-align: right;\n",
       "    }\n",
       "</style>\n",
       "<table border=\"1\" class=\"dataframe\">\n",
       "  <thead>\n",
       "    <tr style=\"text-align: right;\">\n",
       "      <th></th>\n",
       "      <th>JobID</th>\n",
       "      <th>WindowID</th>\n",
       "      <th>Title</th>\n",
       "      <th>Description</th>\n",
       "      <th>Requirements</th>\n",
       "      <th>City</th>\n",
       "      <th>State</th>\n",
       "      <th>Country</th>\n",
       "      <th>Zip5</th>\n",
       "      <th>StartDate</th>\n",
       "      <th>EndDate</th>\n",
       "    </tr>\n",
       "  </thead>\n",
       "  <tbody>\n",
       "    <tr>\n",
       "      <th>0</th>\n",
       "      <td>1</td>\n",
       "      <td>1</td>\n",
       "      <td>Security Engineer/Technical Lead</td>\n",
       "      <td>&lt;p&gt;Security Clearance Required:&amp;nbsp; Top Secr...</td>\n",
       "      <td>&lt;p&gt;SKILL SET&lt;/p&gt;\\r&lt;p&gt;&amp;nbsp;&lt;/p&gt;\\r&lt;p&gt;Network Se...</td>\n",
       "      <td>Washington</td>\n",
       "      <td>DC</td>\n",
       "      <td>US</td>\n",
       "      <td>20531</td>\n",
       "      <td>2012-03-07 13:17:01.643</td>\n",
       "      <td>2012-04-06 23:59:59</td>\n",
       "    </tr>\n",
       "    <tr>\n",
       "      <th>1</th>\n",
       "      <td>4</td>\n",
       "      <td>1</td>\n",
       "      <td>SAP Business Analyst / WM</td>\n",
       "      <td>&lt;strong&gt;NO Corp. to Corp resumes&amp;nbsp;are bein...</td>\n",
       "      <td>&lt;p&gt;&lt;b&gt;WHAT YOU NEED: &lt;/b&gt;&lt;/p&gt;\\r&lt;p&gt;Four year co...</td>\n",
       "      <td>Charlotte</td>\n",
       "      <td>NC</td>\n",
       "      <td>US</td>\n",
       "      <td>28217</td>\n",
       "      <td>2012-03-21 02:03:44.137</td>\n",
       "      <td>2012-04-20 23:59:59</td>\n",
       "    </tr>\n",
       "    <tr>\n",
       "      <th>2</th>\n",
       "      <td>7</td>\n",
       "      <td>1</td>\n",
       "      <td>P/T HUMAN RESOURCES ASSISTANT</td>\n",
       "      <td>&lt;b&gt;    &lt;b&gt; P/T HUMAN RESOURCES ASSISTANT&lt;/b&gt; &lt;...</td>\n",
       "      <td>Please refer to the Job Description to view th...</td>\n",
       "      <td>Winter Park</td>\n",
       "      <td>FL</td>\n",
       "      <td>US</td>\n",
       "      <td>32792</td>\n",
       "      <td>2012-03-02 16:36:55.447</td>\n",
       "      <td>2012-04-01 23:59:59</td>\n",
       "    </tr>\n",
       "  </tbody>\n",
       "</table>\n",
       "</div>"
      ],
      "text/plain": [
       "   JobID  WindowID                             Title  \\\n",
       "0      1         1  Security Engineer/Technical Lead   \n",
       "1      4         1         SAP Business Analyst / WM   \n",
       "2      7         1     P/T HUMAN RESOURCES ASSISTANT   \n",
       "\n",
       "                                         Description  \\\n",
       "0  <p>Security Clearance Required:&nbsp; Top Secr...   \n",
       "1  <strong>NO Corp. to Corp resumes&nbsp;are bein...   \n",
       "2  <b>    <b> P/T HUMAN RESOURCES ASSISTANT</b> <...   \n",
       "\n",
       "                                        Requirements         City State  \\\n",
       "0  <p>SKILL SET</p>\\r<p>&nbsp;</p>\\r<p>Network Se...   Washington    DC   \n",
       "1  <p><b>WHAT YOU NEED: </b></p>\\r<p>Four year co...    Charlotte    NC   \n",
       "2  Please refer to the Job Description to view th...  Winter Park    FL   \n",
       "\n",
       "  Country   Zip5                StartDate              EndDate  \n",
       "0      US  20531  2012-03-07 13:17:01.643  2012-04-06 23:59:59  \n",
       "1      US  28217  2012-03-21 02:03:44.137  2012-04-20 23:59:59  \n",
       "2      US  32792  2012-03-02 16:36:55.447  2012-04-01 23:59:59  "
      ]
     },
     "execution_count": 13,
     "metadata": {},
     "output_type": "execute_result"
    }
   ],
   "source": [
    "jobs.head(3)"
   ]
  },
  {
   "cell_type": "code",
   "execution_count": 14,
   "metadata": {},
   "outputs": [
    {
     "data": {
      "text/plain": [
       "(605854, 11)"
      ]
     },
     "execution_count": 14,
     "metadata": {},
     "output_type": "execute_result"
    }
   ],
   "source": [
    "jobs.shape"
   ]
  },
  {
   "cell_type": "code",
   "execution_count": 15,
   "metadata": {},
   "outputs": [
    {
     "data": {
      "text/plain": [
       "Index(['JobID', 'WindowID', 'Title', 'Description', 'Requirements', 'City',\n",
       "       'State', 'Country', 'Zip5', 'StartDate', 'EndDate'],\n",
       "      dtype='object')"
      ]
     },
     "execution_count": 15,
     "metadata": {},
     "output_type": "execute_result"
    }
   ],
   "source": [
    "jobs.columns"
   ]
  },
  {
   "cell_type": "code",
   "execution_count": 16,
   "metadata": {},
   "outputs": [
    {
     "name": "stdout",
     "output_type": "stream",
     "text": [
      "<class 'pandas.core.frame.DataFrame'>\n",
      "RangeIndex: 605854 entries, 0 to 605853\n",
      "Data columns (total 11 columns):\n",
      "JobID           605854 non-null int64\n",
      "WindowID        605854 non-null int64\n",
      "Title           605854 non-null object\n",
      "Description     605850 non-null object\n",
      "Requirements    564873 non-null object\n",
      "City            605852 non-null object\n",
      "State           605853 non-null object\n",
      "Country         605850 non-null object\n",
      "Zip5            388289 non-null object\n",
      "StartDate       605853 non-null object\n",
      "EndDate         605847 non-null object\n",
      "dtypes: int64(2), object(9)\n",
      "memory usage: 50.8+ MB\n"
     ]
    }
   ],
   "source": [
    "jobs.info()"
   ]
  },
  {
   "cell_type": "code",
   "execution_count": 17,
   "metadata": {},
   "outputs": [],
   "source": [
    "users = pd.read_csv('users.tsv' ,delimiter='\\t',encoding='utf-8')"
   ]
  },
  {
   "cell_type": "code",
   "execution_count": 18,
   "metadata": {},
   "outputs": [
    {
     "data": {
      "text/html": [
       "<div>\n",
       "<style scoped>\n",
       "    .dataframe tbody tr th:only-of-type {\n",
       "        vertical-align: middle;\n",
       "    }\n",
       "\n",
       "    .dataframe tbody tr th {\n",
       "        vertical-align: top;\n",
       "    }\n",
       "\n",
       "    .dataframe thead th {\n",
       "        text-align: right;\n",
       "    }\n",
       "</style>\n",
       "<table border=\"1\" class=\"dataframe\">\n",
       "  <thead>\n",
       "    <tr style=\"text-align: right;\">\n",
       "      <th></th>\n",
       "      <th>UserID</th>\n",
       "      <th>WindowID</th>\n",
       "      <th>Split</th>\n",
       "      <th>City</th>\n",
       "      <th>State</th>\n",
       "      <th>Country</th>\n",
       "      <th>ZipCode</th>\n",
       "      <th>DegreeType</th>\n",
       "      <th>Major</th>\n",
       "      <th>GraduationDate</th>\n",
       "      <th>WorkHistoryCount</th>\n",
       "      <th>TotalYearsExperience</th>\n",
       "      <th>CurrentlyEmployed</th>\n",
       "      <th>ManagedOthers</th>\n",
       "      <th>ManagedHowMany</th>\n",
       "    </tr>\n",
       "  </thead>\n",
       "  <tbody>\n",
       "    <tr>\n",
       "      <th>0</th>\n",
       "      <td>47</td>\n",
       "      <td>1</td>\n",
       "      <td>Train</td>\n",
       "      <td>Paramount</td>\n",
       "      <td>CA</td>\n",
       "      <td>US</td>\n",
       "      <td>90723</td>\n",
       "      <td>High School</td>\n",
       "      <td>NaN</td>\n",
       "      <td>1999-06-01 00:00:00</td>\n",
       "      <td>3</td>\n",
       "      <td>10.0</td>\n",
       "      <td>Yes</td>\n",
       "      <td>No</td>\n",
       "      <td>0</td>\n",
       "    </tr>\n",
       "    <tr>\n",
       "      <th>1</th>\n",
       "      <td>72</td>\n",
       "      <td>1</td>\n",
       "      <td>Train</td>\n",
       "      <td>La Mesa</td>\n",
       "      <td>CA</td>\n",
       "      <td>US</td>\n",
       "      <td>91941</td>\n",
       "      <td>Master's</td>\n",
       "      <td>Anthropology</td>\n",
       "      <td>2011-01-01 00:00:00</td>\n",
       "      <td>10</td>\n",
       "      <td>8.0</td>\n",
       "      <td>Yes</td>\n",
       "      <td>No</td>\n",
       "      <td>0</td>\n",
       "    </tr>\n",
       "  </tbody>\n",
       "</table>\n",
       "</div>"
      ],
      "text/plain": [
       "   UserID  WindowID  Split       City State Country ZipCode   DegreeType  \\\n",
       "0      47         1  Train  Paramount    CA      US   90723  High School   \n",
       "1      72         1  Train    La Mesa    CA      US   91941     Master's   \n",
       "\n",
       "          Major       GraduationDate  WorkHistoryCount  TotalYearsExperience  \\\n",
       "0           NaN  1999-06-01 00:00:00                 3                  10.0   \n",
       "1  Anthropology  2011-01-01 00:00:00                10                   8.0   \n",
       "\n",
       "  CurrentlyEmployed ManagedOthers  ManagedHowMany  \n",
       "0               Yes            No               0  \n",
       "1               Yes            No               0  "
      ]
     },
     "execution_count": 18,
     "metadata": {},
     "output_type": "execute_result"
    }
   ],
   "source": [
    "users.head(2)"
   ]
  },
  {
   "cell_type": "code",
   "execution_count": 19,
   "metadata": {},
   "outputs": [
    {
     "data": {
      "text/plain": [
       "Index(['UserID', 'WindowID', 'Split', 'City', 'State', 'Country', 'ZipCode',\n",
       "       'DegreeType', 'Major', 'GraduationDate', 'WorkHistoryCount',\n",
       "       'TotalYearsExperience', 'CurrentlyEmployed', 'ManagedOthers',\n",
       "       'ManagedHowMany'],\n",
       "      dtype='object')"
      ]
     },
     "execution_count": 19,
     "metadata": {},
     "output_type": "execute_result"
    }
   ],
   "source": [
    "users.columns"
   ]
  },
  {
   "cell_type": "code",
   "execution_count": 20,
   "metadata": {},
   "outputs": [
    {
     "data": {
      "text/plain": [
       "(389708, 15)"
      ]
     },
     "execution_count": 20,
     "metadata": {},
     "output_type": "execute_result"
    }
   ],
   "source": [
    "users.shape"
   ]
  },
  {
   "cell_type": "code",
   "execution_count": 21,
   "metadata": {},
   "outputs": [
    {
     "name": "stdout",
     "output_type": "stream",
     "text": [
      "<class 'pandas.core.frame.DataFrame'>\n",
      "RangeIndex: 389708 entries, 0 to 389707\n",
      "Data columns (total 15 columns):\n",
      "UserID                  389708 non-null int64\n",
      "WindowID                389708 non-null int64\n",
      "Split                   389708 non-null object\n",
      "City                    389708 non-null object\n",
      "State                   389218 non-null object\n",
      "Country                 389708 non-null object\n",
      "ZipCode                 387974 non-null object\n",
      "DegreeType              389708 non-null object\n",
      "Major                   292468 non-null object\n",
      "GraduationDate          269477 non-null object\n",
      "WorkHistoryCount        389708 non-null int64\n",
      "TotalYearsExperience    375528 non-null float64\n",
      "CurrentlyEmployed       347632 non-null object\n",
      "ManagedOthers           389708 non-null object\n",
      "ManagedHowMany          389708 non-null int64\n",
      "dtypes: float64(1), int64(4), object(10)\n",
      "memory usage: 44.6+ MB\n"
     ]
    }
   ],
   "source": [
    "users.info()"
   ]
  },
  {
   "cell_type": "markdown",
   "metadata": {},
   "source": [
    "# Exploratory Data Analysis (EDA) and Pre-processing"
   ]
  },
  {
   "cell_type": "markdown",
   "metadata": {},
   "source": [
    "### Split training and testing data based on column split"
   ]
  },
  {
   "cell_type": "raw",
   "metadata": {},
   "source": [
    "Here, there are three datafiles/dataframes are having attribute split.\n",
    "* apps\n",
    "* user_history\n",
    "* users\n",
    "* This data attribute indicates that whether the data record can be used for training or testing so we need to filter out based on that.\n",
    "* We are generating training and testing dataframes"
   ]
  },
  {
   "cell_type": "raw",
   "metadata": {},
   "source": [
    "NOTE:-\n",
    "Selecting data by row numbers (.iloc)\n",
    "Selecting data by label or by a conditional statment (.loc)\n",
    "Selecting in a hybrid approach (.ix) (now Deprecated in Pandas 0.20.1)"
   ]
  },
  {
   "cell_type": "code",
   "execution_count": 22,
   "metadata": {},
   "outputs": [],
   "source": [
    "apps_training = apps.loc[apps['Split'] == 'Train']"
   ]
  },
  {
   "cell_type": "code",
   "execution_count": 23,
   "metadata": {},
   "outputs": [
    {
     "data": {
      "text/html": [
       "<div>\n",
       "<style scoped>\n",
       "    .dataframe tbody tr th:only-of-type {\n",
       "        vertical-align: middle;\n",
       "    }\n",
       "\n",
       "    .dataframe tbody tr th {\n",
       "        vertical-align: top;\n",
       "    }\n",
       "\n",
       "    .dataframe thead th {\n",
       "        text-align: right;\n",
       "    }\n",
       "</style>\n",
       "<table border=\"1\" class=\"dataframe\">\n",
       "  <thead>\n",
       "    <tr style=\"text-align: right;\">\n",
       "      <th></th>\n",
       "      <th>UserID</th>\n",
       "      <th>WindowID</th>\n",
       "      <th>Split</th>\n",
       "      <th>ApplicationDate</th>\n",
       "      <th>JobID</th>\n",
       "    </tr>\n",
       "  </thead>\n",
       "  <tbody>\n",
       "    <tr>\n",
       "      <th>0</th>\n",
       "      <td>47</td>\n",
       "      <td>1</td>\n",
       "      <td>Train</td>\n",
       "      <td>2012-04-04 15:56:23.537</td>\n",
       "      <td>169528</td>\n",
       "    </tr>\n",
       "    <tr>\n",
       "      <th>1</th>\n",
       "      <td>47</td>\n",
       "      <td>1</td>\n",
       "      <td>Train</td>\n",
       "      <td>2012-04-06 01:03:00.003</td>\n",
       "      <td>284009</td>\n",
       "    </tr>\n",
       "    <tr>\n",
       "      <th>2</th>\n",
       "      <td>47</td>\n",
       "      <td>1</td>\n",
       "      <td>Train</td>\n",
       "      <td>2012-04-05 02:40:27.753</td>\n",
       "      <td>2121</td>\n",
       "    </tr>\n",
       "    <tr>\n",
       "      <th>3</th>\n",
       "      <td>47</td>\n",
       "      <td>1</td>\n",
       "      <td>Train</td>\n",
       "      <td>2012-04-05 02:37:02.673</td>\n",
       "      <td>848187</td>\n",
       "    </tr>\n",
       "    <tr>\n",
       "      <th>4</th>\n",
       "      <td>47</td>\n",
       "      <td>1</td>\n",
       "      <td>Train</td>\n",
       "      <td>2012-04-05 22:44:06.653</td>\n",
       "      <td>733748</td>\n",
       "    </tr>\n",
       "  </tbody>\n",
       "</table>\n",
       "</div>"
      ],
      "text/plain": [
       "   UserID  WindowID  Split          ApplicationDate   JobID\n",
       "0      47         1  Train  2012-04-04 15:56:23.537  169528\n",
       "1      47         1  Train  2012-04-06 01:03:00.003  284009\n",
       "2      47         1  Train  2012-04-05 02:40:27.753    2121\n",
       "3      47         1  Train  2012-04-05 02:37:02.673  848187\n",
       "4      47         1  Train  2012-04-05 22:44:06.653  733748"
      ]
     },
     "execution_count": 23,
     "metadata": {},
     "output_type": "execute_result"
    }
   ],
   "source": [
    "apps_training.head()"
   ]
  },
  {
   "cell_type": "code",
   "execution_count": 24,
   "metadata": {},
   "outputs": [
    {
     "data": {
      "text/plain": [
       "(1417514, 5)"
      ]
     },
     "execution_count": 24,
     "metadata": {},
     "output_type": "execute_result"
    }
   ],
   "source": [
    "apps_training.shape"
   ]
  },
  {
   "cell_type": "code",
   "execution_count": 25,
   "metadata": {},
   "outputs": [],
   "source": [
    "apps_testing=apps.loc[apps['Split']=='Test']"
   ]
  },
  {
   "cell_type": "code",
   "execution_count": 26,
   "metadata": {},
   "outputs": [
    {
     "data": {
      "text/html": [
       "<div>\n",
       "<style scoped>\n",
       "    .dataframe tbody tr th:only-of-type {\n",
       "        vertical-align: middle;\n",
       "    }\n",
       "\n",
       "    .dataframe tbody tr th {\n",
       "        vertical-align: top;\n",
       "    }\n",
       "\n",
       "    .dataframe thead th {\n",
       "        text-align: right;\n",
       "    }\n",
       "</style>\n",
       "<table border=\"1\" class=\"dataframe\">\n",
       "  <thead>\n",
       "    <tr style=\"text-align: right;\">\n",
       "      <th></th>\n",
       "      <th>UserID</th>\n",
       "      <th>WindowID</th>\n",
       "      <th>Split</th>\n",
       "      <th>ApplicationDate</th>\n",
       "      <th>JobID</th>\n",
       "    </tr>\n",
       "  </thead>\n",
       "  <tbody>\n",
       "    <tr>\n",
       "      <th>126</th>\n",
       "      <td>767</td>\n",
       "      <td>1</td>\n",
       "      <td>Test</td>\n",
       "      <td>2012-04-01 14:37:20.023</td>\n",
       "      <td>85377</td>\n",
       "    </tr>\n",
       "    <tr>\n",
       "      <th>127</th>\n",
       "      <td>769</td>\n",
       "      <td>1</td>\n",
       "      <td>Test</td>\n",
       "      <td>2012-04-16 22:36:52.48</td>\n",
       "      <td>853328</td>\n",
       "    </tr>\n",
       "    <tr>\n",
       "      <th>128</th>\n",
       "      <td>769</td>\n",
       "      <td>1</td>\n",
       "      <td>Test</td>\n",
       "      <td>2012-04-09 18:59:28.193</td>\n",
       "      <td>86106</td>\n",
       "    </tr>\n",
       "    <tr>\n",
       "      <th>129</th>\n",
       "      <td>769</td>\n",
       "      <td>1</td>\n",
       "      <td>Test</td>\n",
       "      <td>2012-04-09 18:59:31.127</td>\n",
       "      <td>327571</td>\n",
       "    </tr>\n",
       "    <tr>\n",
       "      <th>130</th>\n",
       "      <td>769</td>\n",
       "      <td>1</td>\n",
       "      <td>Test</td>\n",
       "      <td>2012-04-08 21:29:11.993</td>\n",
       "      <td>119161</td>\n",
       "    </tr>\n",
       "  </tbody>\n",
       "</table>\n",
       "</div>"
      ],
      "text/plain": [
       "     UserID  WindowID Split          ApplicationDate   JobID\n",
       "126     767         1  Test  2012-04-01 14:37:20.023   85377\n",
       "127     769         1  Test   2012-04-16 22:36:52.48  853328\n",
       "128     769         1  Test  2012-04-09 18:59:28.193   86106\n",
       "129     769         1  Test  2012-04-09 18:59:31.127  327571\n",
       "130     769         1  Test  2012-04-08 21:29:11.993  119161"
      ]
     },
     "execution_count": 26,
     "metadata": {},
     "output_type": "execute_result"
    }
   ],
   "source": [
    "apps_testing.head()"
   ]
  },
  {
   "cell_type": "code",
   "execution_count": 27,
   "metadata": {},
   "outputs": [
    {
     "data": {
      "text/plain": [
       "(185597, 5)"
      ]
     },
     "execution_count": 27,
     "metadata": {},
     "output_type": "execute_result"
    }
   ],
   "source": [
    "apps_testing.shape"
   ]
  },
  {
   "cell_type": "code",
   "execution_count": 28,
   "metadata": {},
   "outputs": [],
   "source": [
    "user_history_training=user_history.loc[user_history['Split']=='Train']"
   ]
  },
  {
   "cell_type": "code",
   "execution_count": 29,
   "metadata": {},
   "outputs": [
    {
     "data": {
      "text/html": [
       "<div>\n",
       "<style scoped>\n",
       "    .dataframe tbody tr th:only-of-type {\n",
       "        vertical-align: middle;\n",
       "    }\n",
       "\n",
       "    .dataframe tbody tr th {\n",
       "        vertical-align: top;\n",
       "    }\n",
       "\n",
       "    .dataframe thead th {\n",
       "        text-align: right;\n",
       "    }\n",
       "</style>\n",
       "<table border=\"1\" class=\"dataframe\">\n",
       "  <thead>\n",
       "    <tr style=\"text-align: right;\">\n",
       "      <th></th>\n",
       "      <th>UserID</th>\n",
       "      <th>WindowID</th>\n",
       "      <th>Split</th>\n",
       "      <th>Sequence</th>\n",
       "      <th>JobTitle</th>\n",
       "    </tr>\n",
       "  </thead>\n",
       "  <tbody>\n",
       "    <tr>\n",
       "      <th>0</th>\n",
       "      <td>47</td>\n",
       "      <td>1</td>\n",
       "      <td>Train</td>\n",
       "      <td>1</td>\n",
       "      <td>National Space Communication Programs-Special ...</td>\n",
       "    </tr>\n",
       "    <tr>\n",
       "      <th>1</th>\n",
       "      <td>47</td>\n",
       "      <td>1</td>\n",
       "      <td>Train</td>\n",
       "      <td>2</td>\n",
       "      <td>Detention Officer</td>\n",
       "    </tr>\n",
       "    <tr>\n",
       "      <th>2</th>\n",
       "      <td>47</td>\n",
       "      <td>1</td>\n",
       "      <td>Train</td>\n",
       "      <td>3</td>\n",
       "      <td>Passenger Screener, TSA</td>\n",
       "    </tr>\n",
       "    <tr>\n",
       "      <th>3</th>\n",
       "      <td>72</td>\n",
       "      <td>1</td>\n",
       "      <td>Train</td>\n",
       "      <td>1</td>\n",
       "      <td>Lecturer, Department of Anthropology</td>\n",
       "    </tr>\n",
       "    <tr>\n",
       "      <th>4</th>\n",
       "      <td>72</td>\n",
       "      <td>1</td>\n",
       "      <td>Train</td>\n",
       "      <td>2</td>\n",
       "      <td>Student Assistant</td>\n",
       "    </tr>\n",
       "  </tbody>\n",
       "</table>\n",
       "</div>"
      ],
      "text/plain": [
       "   UserID  WindowID  Split  Sequence  \\\n",
       "0      47         1  Train         1   \n",
       "1      47         1  Train         2   \n",
       "2      47         1  Train         3   \n",
       "3      72         1  Train         1   \n",
       "4      72         1  Train         2   \n",
       "\n",
       "                                            JobTitle  \n",
       "0  National Space Communication Programs-Special ...  \n",
       "1                                  Detention Officer  \n",
       "2                            Passenger Screener, TSA  \n",
       "3               Lecturer, Department of Anthropology  \n",
       "4                                  Student Assistant  "
      ]
     },
     "execution_count": 29,
     "metadata": {},
     "output_type": "execute_result"
    }
   ],
   "source": [
    "user_history_training.head()"
   ]
  },
  {
   "cell_type": "code",
   "execution_count": 30,
   "metadata": {},
   "outputs": [
    {
     "data": {
      "text/plain": [
       "(1652513, 5)"
      ]
     },
     "execution_count": 30,
     "metadata": {},
     "output_type": "execute_result"
    }
   ],
   "source": [
    "user_history_training.shape"
   ]
  },
  {
   "cell_type": "code",
   "execution_count": 31,
   "metadata": {},
   "outputs": [],
   "source": [
    "user_history_testing=user_history.loc[user_history['Split']=='Test']"
   ]
  },
  {
   "cell_type": "code",
   "execution_count": 32,
   "metadata": {},
   "outputs": [
    {
     "data": {
      "text/plain": [
       "(101388, 5)"
      ]
     },
     "execution_count": 32,
     "metadata": {},
     "output_type": "execute_result"
    }
   ],
   "source": [
    "user_history_testing.shape"
   ]
  },
  {
   "cell_type": "code",
   "execution_count": 33,
   "metadata": {},
   "outputs": [
    {
     "data": {
      "text/html": [
       "<div>\n",
       "<style scoped>\n",
       "    .dataframe tbody tr th:only-of-type {\n",
       "        vertical-align: middle;\n",
       "    }\n",
       "\n",
       "    .dataframe tbody tr th {\n",
       "        vertical-align: top;\n",
       "    }\n",
       "\n",
       "    .dataframe thead th {\n",
       "        text-align: right;\n",
       "    }\n",
       "</style>\n",
       "<table border=\"1\" class=\"dataframe\">\n",
       "  <thead>\n",
       "    <tr style=\"text-align: right;\">\n",
       "      <th></th>\n",
       "      <th>UserID</th>\n",
       "      <th>WindowID</th>\n",
       "      <th>Split</th>\n",
       "      <th>Sequence</th>\n",
       "      <th>JobTitle</th>\n",
       "    </tr>\n",
       "  </thead>\n",
       "  <tbody>\n",
       "    <tr>\n",
       "      <th>144</th>\n",
       "      <td>767</td>\n",
       "      <td>1</td>\n",
       "      <td>Test</td>\n",
       "      <td>1</td>\n",
       "      <td>Claims Adjuster</td>\n",
       "    </tr>\n",
       "    <tr>\n",
       "      <th>145</th>\n",
       "      <td>767</td>\n",
       "      <td>1</td>\n",
       "      <td>Test</td>\n",
       "      <td>2</td>\n",
       "      <td>Professional Baseball Player</td>\n",
       "    </tr>\n",
       "    <tr>\n",
       "      <th>146</th>\n",
       "      <td>767</td>\n",
       "      <td>1</td>\n",
       "      <td>Test</td>\n",
       "      <td>3</td>\n",
       "      <td>Professional Baseball Player</td>\n",
       "    </tr>\n",
       "    <tr>\n",
       "      <th>147</th>\n",
       "      <td>767</td>\n",
       "      <td>1</td>\n",
       "      <td>Test</td>\n",
       "      <td>4</td>\n",
       "      <td>Professional Baseball Player</td>\n",
       "    </tr>\n",
       "    <tr>\n",
       "      <th>148</th>\n",
       "      <td>767</td>\n",
       "      <td>1</td>\n",
       "      <td>Test</td>\n",
       "      <td>5</td>\n",
       "      <td>Professional Baseball Player</td>\n",
       "    </tr>\n",
       "  </tbody>\n",
       "</table>\n",
       "</div>"
      ],
      "text/plain": [
       "     UserID  WindowID Split  Sequence                      JobTitle\n",
       "144     767         1  Test         1               Claims Adjuster\n",
       "145     767         1  Test         2  Professional Baseball Player\n",
       "146     767         1  Test         3  Professional Baseball Player\n",
       "147     767         1  Test         4  Professional Baseball Player\n",
       "148     767         1  Test         5  Professional Baseball Player"
      ]
     },
     "execution_count": 33,
     "metadata": {},
     "output_type": "execute_result"
    }
   ],
   "source": [
    "user_history_testing.head()"
   ]
  },
  {
   "cell_type": "code",
   "execution_count": 34,
   "metadata": {},
   "outputs": [],
   "source": [
    "users_training=users.loc[users['Split']=='Train']"
   ]
  },
  {
   "cell_type": "code",
   "execution_count": 35,
   "metadata": {},
   "outputs": [
    {
     "data": {
      "text/plain": [
       "(366870, 15)"
      ]
     },
     "execution_count": 35,
     "metadata": {},
     "output_type": "execute_result"
    }
   ],
   "source": [
    "users_training.shape"
   ]
  },
  {
   "cell_type": "code",
   "execution_count": 36,
   "metadata": {},
   "outputs": [
    {
     "data": {
      "text/html": [
       "<div>\n",
       "<style scoped>\n",
       "    .dataframe tbody tr th:only-of-type {\n",
       "        vertical-align: middle;\n",
       "    }\n",
       "\n",
       "    .dataframe tbody tr th {\n",
       "        vertical-align: top;\n",
       "    }\n",
       "\n",
       "    .dataframe thead th {\n",
       "        text-align: right;\n",
       "    }\n",
       "</style>\n",
       "<table border=\"1\" class=\"dataframe\">\n",
       "  <thead>\n",
       "    <tr style=\"text-align: right;\">\n",
       "      <th></th>\n",
       "      <th>UserID</th>\n",
       "      <th>WindowID</th>\n",
       "      <th>Split</th>\n",
       "      <th>City</th>\n",
       "      <th>State</th>\n",
       "      <th>Country</th>\n",
       "      <th>ZipCode</th>\n",
       "      <th>DegreeType</th>\n",
       "      <th>Major</th>\n",
       "      <th>GraduationDate</th>\n",
       "      <th>WorkHistoryCount</th>\n",
       "      <th>TotalYearsExperience</th>\n",
       "      <th>CurrentlyEmployed</th>\n",
       "      <th>ManagedOthers</th>\n",
       "      <th>ManagedHowMany</th>\n",
       "    </tr>\n",
       "  </thead>\n",
       "  <tbody>\n",
       "    <tr>\n",
       "      <th>0</th>\n",
       "      <td>47</td>\n",
       "      <td>1</td>\n",
       "      <td>Train</td>\n",
       "      <td>Paramount</td>\n",
       "      <td>CA</td>\n",
       "      <td>US</td>\n",
       "      <td>90723</td>\n",
       "      <td>High School</td>\n",
       "      <td>NaN</td>\n",
       "      <td>1999-06-01 00:00:00</td>\n",
       "      <td>3</td>\n",
       "      <td>10.0</td>\n",
       "      <td>Yes</td>\n",
       "      <td>No</td>\n",
       "      <td>0</td>\n",
       "    </tr>\n",
       "    <tr>\n",
       "      <th>1</th>\n",
       "      <td>72</td>\n",
       "      <td>1</td>\n",
       "      <td>Train</td>\n",
       "      <td>La Mesa</td>\n",
       "      <td>CA</td>\n",
       "      <td>US</td>\n",
       "      <td>91941</td>\n",
       "      <td>Master's</td>\n",
       "      <td>Anthropology</td>\n",
       "      <td>2011-01-01 00:00:00</td>\n",
       "      <td>10</td>\n",
       "      <td>8.0</td>\n",
       "      <td>Yes</td>\n",
       "      <td>No</td>\n",
       "      <td>0</td>\n",
       "    </tr>\n",
       "    <tr>\n",
       "      <th>2</th>\n",
       "      <td>80</td>\n",
       "      <td>1</td>\n",
       "      <td>Train</td>\n",
       "      <td>Williamstown</td>\n",
       "      <td>NJ</td>\n",
       "      <td>US</td>\n",
       "      <td>08094</td>\n",
       "      <td>High School</td>\n",
       "      <td>Not Applicable</td>\n",
       "      <td>1985-06-01 00:00:00</td>\n",
       "      <td>5</td>\n",
       "      <td>11.0</td>\n",
       "      <td>Yes</td>\n",
       "      <td>Yes</td>\n",
       "      <td>5</td>\n",
       "    </tr>\n",
       "    <tr>\n",
       "      <th>3</th>\n",
       "      <td>98</td>\n",
       "      <td>1</td>\n",
       "      <td>Train</td>\n",
       "      <td>Astoria</td>\n",
       "      <td>NY</td>\n",
       "      <td>US</td>\n",
       "      <td>11105</td>\n",
       "      <td>Master's</td>\n",
       "      <td>Journalism</td>\n",
       "      <td>2007-05-01 00:00:00</td>\n",
       "      <td>3</td>\n",
       "      <td>3.0</td>\n",
       "      <td>Yes</td>\n",
       "      <td>No</td>\n",
       "      <td>0</td>\n",
       "    </tr>\n",
       "    <tr>\n",
       "      <th>4</th>\n",
       "      <td>123</td>\n",
       "      <td>1</td>\n",
       "      <td>Train</td>\n",
       "      <td>Baton Rouge</td>\n",
       "      <td>LA</td>\n",
       "      <td>US</td>\n",
       "      <td>70808</td>\n",
       "      <td>Bachelor's</td>\n",
       "      <td>Agricultural Business</td>\n",
       "      <td>2011-05-01 00:00:00</td>\n",
       "      <td>1</td>\n",
       "      <td>9.0</td>\n",
       "      <td>Yes</td>\n",
       "      <td>No</td>\n",
       "      <td>0</td>\n",
       "    </tr>\n",
       "  </tbody>\n",
       "</table>\n",
       "</div>"
      ],
      "text/plain": [
       "   UserID  WindowID  Split          City State Country ZipCode   DegreeType  \\\n",
       "0      47         1  Train     Paramount    CA      US   90723  High School   \n",
       "1      72         1  Train       La Mesa    CA      US   91941     Master's   \n",
       "2      80         1  Train  Williamstown    NJ      US   08094  High School   \n",
       "3      98         1  Train       Astoria    NY      US   11105     Master's   \n",
       "4     123         1  Train   Baton Rouge    LA      US   70808   Bachelor's   \n",
       "\n",
       "                   Major       GraduationDate  WorkHistoryCount  \\\n",
       "0                    NaN  1999-06-01 00:00:00                 3   \n",
       "1           Anthropology  2011-01-01 00:00:00                10   \n",
       "2         Not Applicable  1985-06-01 00:00:00                 5   \n",
       "3             Journalism  2007-05-01 00:00:00                 3   \n",
       "4  Agricultural Business  2011-05-01 00:00:00                 1   \n",
       "\n",
       "   TotalYearsExperience CurrentlyEmployed ManagedOthers  ManagedHowMany  \n",
       "0                  10.0               Yes            No               0  \n",
       "1                   8.0               Yes            No               0  \n",
       "2                  11.0               Yes           Yes               5  \n",
       "3                   3.0               Yes            No               0  \n",
       "4                   9.0               Yes            No               0  "
      ]
     },
     "execution_count": 36,
     "metadata": {},
     "output_type": "execute_result"
    }
   ],
   "source": [
    "users_training.head()"
   ]
  },
  {
   "cell_type": "code",
   "execution_count": 37,
   "metadata": {},
   "outputs": [],
   "source": [
    "users_testing=users.loc[users['Split']=='Test']"
   ]
  },
  {
   "cell_type": "code",
   "execution_count": 38,
   "metadata": {},
   "outputs": [
    {
     "data": {
      "text/plain": [
       "(22838, 15)"
      ]
     },
     "execution_count": 38,
     "metadata": {},
     "output_type": "execute_result"
    }
   ],
   "source": [
    "users_testing.shape"
   ]
  },
  {
   "cell_type": "code",
   "execution_count": 39,
   "metadata": {},
   "outputs": [
    {
     "data": {
      "text/html": [
       "<div>\n",
       "<style scoped>\n",
       "    .dataframe tbody tr th:only-of-type {\n",
       "        vertical-align: middle;\n",
       "    }\n",
       "\n",
       "    .dataframe tbody tr th {\n",
       "        vertical-align: top;\n",
       "    }\n",
       "\n",
       "    .dataframe thead th {\n",
       "        text-align: right;\n",
       "    }\n",
       "</style>\n",
       "<table border=\"1\" class=\"dataframe\">\n",
       "  <thead>\n",
       "    <tr style=\"text-align: right;\">\n",
       "      <th></th>\n",
       "      <th>UserID</th>\n",
       "      <th>WindowID</th>\n",
       "      <th>Split</th>\n",
       "      <th>City</th>\n",
       "      <th>State</th>\n",
       "      <th>Country</th>\n",
       "      <th>ZipCode</th>\n",
       "      <th>DegreeType</th>\n",
       "      <th>Major</th>\n",
       "      <th>GraduationDate</th>\n",
       "      <th>WorkHistoryCount</th>\n",
       "      <th>TotalYearsExperience</th>\n",
       "      <th>CurrentlyEmployed</th>\n",
       "      <th>ManagedOthers</th>\n",
       "      <th>ManagedHowMany</th>\n",
       "    </tr>\n",
       "  </thead>\n",
       "  <tbody>\n",
       "    <tr>\n",
       "      <th>31</th>\n",
       "      <td>767</td>\n",
       "      <td>1</td>\n",
       "      <td>Test</td>\n",
       "      <td>Murrieta</td>\n",
       "      <td>CA</td>\n",
       "      <td>US</td>\n",
       "      <td>92562</td>\n",
       "      <td>Bachelor's</td>\n",
       "      <td>University Studies/Business</td>\n",
       "      <td>2008-05-01 00:00:00</td>\n",
       "      <td>5</td>\n",
       "      <td>16.0</td>\n",
       "      <td>No</td>\n",
       "      <td>No</td>\n",
       "      <td>0</td>\n",
       "    </tr>\n",
       "    <tr>\n",
       "      <th>32</th>\n",
       "      <td>769</td>\n",
       "      <td>1</td>\n",
       "      <td>Test</td>\n",
       "      <td>Roselle</td>\n",
       "      <td>IL</td>\n",
       "      <td>US</td>\n",
       "      <td>60172</td>\n",
       "      <td>Bachelor's</td>\n",
       "      <td>Radio-Television</td>\n",
       "      <td>2011-05-01 00:00:00</td>\n",
       "      <td>5</td>\n",
       "      <td>5.0</td>\n",
       "      <td>Yes</td>\n",
       "      <td>No</td>\n",
       "      <td>0</td>\n",
       "    </tr>\n",
       "    <tr>\n",
       "      <th>33</th>\n",
       "      <td>861</td>\n",
       "      <td>1</td>\n",
       "      <td>Test</td>\n",
       "      <td>Morris</td>\n",
       "      <td>IL</td>\n",
       "      <td>US</td>\n",
       "      <td>60450</td>\n",
       "      <td>High School</td>\n",
       "      <td>General Studies</td>\n",
       "      <td>1989-05-01 00:00:00</td>\n",
       "      <td>7</td>\n",
       "      <td>21.0</td>\n",
       "      <td>NaN</td>\n",
       "      <td>No</td>\n",
       "      <td>0</td>\n",
       "    </tr>\n",
       "    <tr>\n",
       "      <th>38</th>\n",
       "      <td>1006</td>\n",
       "      <td>1</td>\n",
       "      <td>Test</td>\n",
       "      <td>West Chester</td>\n",
       "      <td>PA</td>\n",
       "      <td>US</td>\n",
       "      <td>19382</td>\n",
       "      <td>High School</td>\n",
       "      <td>Not Applicable</td>\n",
       "      <td>2008-06-01 00:00:00</td>\n",
       "      <td>3</td>\n",
       "      <td>6.0</td>\n",
       "      <td>Yes</td>\n",
       "      <td>No</td>\n",
       "      <td>0</td>\n",
       "    </tr>\n",
       "    <tr>\n",
       "      <th>44</th>\n",
       "      <td>1192</td>\n",
       "      <td>1</td>\n",
       "      <td>Test</td>\n",
       "      <td>Cincinnati</td>\n",
       "      <td>OH</td>\n",
       "      <td>US</td>\n",
       "      <td>45255</td>\n",
       "      <td>Bachelor's</td>\n",
       "      <td>Marketing</td>\n",
       "      <td>NaN</td>\n",
       "      <td>5</td>\n",
       "      <td>6.0</td>\n",
       "      <td>Yes</td>\n",
       "      <td>No</td>\n",
       "      <td>0</td>\n",
       "    </tr>\n",
       "  </tbody>\n",
       "</table>\n",
       "</div>"
      ],
      "text/plain": [
       "    UserID  WindowID Split          City State Country ZipCode   DegreeType  \\\n",
       "31     767         1  Test      Murrieta    CA      US   92562   Bachelor's   \n",
       "32     769         1  Test       Roselle    IL      US   60172   Bachelor's   \n",
       "33     861         1  Test        Morris    IL      US   60450  High School   \n",
       "38    1006         1  Test  West Chester    PA      US   19382  High School   \n",
       "44    1192         1  Test    Cincinnati    OH      US   45255   Bachelor's   \n",
       "\n",
       "                          Major       GraduationDate  WorkHistoryCount  \\\n",
       "31  University Studies/Business  2008-05-01 00:00:00                 5   \n",
       "32             Radio-Television  2011-05-01 00:00:00                 5   \n",
       "33              General Studies  1989-05-01 00:00:00                 7   \n",
       "38               Not Applicable  2008-06-01 00:00:00                 3   \n",
       "44                    Marketing                  NaN                 5   \n",
       "\n",
       "    TotalYearsExperience CurrentlyEmployed ManagedOthers  ManagedHowMany  \n",
       "31                  16.0                No            No               0  \n",
       "32                   5.0               Yes            No               0  \n",
       "33                  21.0               NaN            No               0  \n",
       "38                   6.0               Yes            No               0  \n",
       "44                   6.0               Yes            No               0  "
      ]
     },
     "execution_count": 39,
     "metadata": {},
     "output_type": "execute_result"
    }
   ],
   "source": [
    "users_testing.head()"
   ]
  },
  {
   "cell_type": "markdown",
   "metadata": {},
   "source": [
    "# List of all Training data Record"
   ]
  },
  {
   "cell_type": "code",
   "execution_count": 40,
   "metadata": {},
   "outputs": [
    {
     "data": {
      "text/html": [
       "<div>\n",
       "<style scoped>\n",
       "    .dataframe tbody tr th:only-of-type {\n",
       "        vertical-align: middle;\n",
       "    }\n",
       "\n",
       "    .dataframe tbody tr th {\n",
       "        vertical-align: top;\n",
       "    }\n",
       "\n",
       "    .dataframe thead th {\n",
       "        text-align: right;\n",
       "    }\n",
       "</style>\n",
       "<table border=\"1\" class=\"dataframe\">\n",
       "  <thead>\n",
       "    <tr style=\"text-align: right;\">\n",
       "      <th></th>\n",
       "      <th>UserID</th>\n",
       "      <th>WindowID</th>\n",
       "      <th>Split</th>\n",
       "      <th>ApplicationDate</th>\n",
       "      <th>JobID</th>\n",
       "    </tr>\n",
       "  </thead>\n",
       "  <tbody>\n",
       "    <tr>\n",
       "      <th>0</th>\n",
       "      <td>47</td>\n",
       "      <td>1</td>\n",
       "      <td>Train</td>\n",
       "      <td>2012-04-04 15:56:23.537</td>\n",
       "      <td>169528</td>\n",
       "    </tr>\n",
       "    <tr>\n",
       "      <th>1</th>\n",
       "      <td>47</td>\n",
       "      <td>1</td>\n",
       "      <td>Train</td>\n",
       "      <td>2012-04-06 01:03:00.003</td>\n",
       "      <td>284009</td>\n",
       "    </tr>\n",
       "    <tr>\n",
       "      <th>2</th>\n",
       "      <td>47</td>\n",
       "      <td>1</td>\n",
       "      <td>Train</td>\n",
       "      <td>2012-04-05 02:40:27.753</td>\n",
       "      <td>2121</td>\n",
       "    </tr>\n",
       "    <tr>\n",
       "      <th>3</th>\n",
       "      <td>47</td>\n",
       "      <td>1</td>\n",
       "      <td>Train</td>\n",
       "      <td>2012-04-05 02:37:02.673</td>\n",
       "      <td>848187</td>\n",
       "    </tr>\n",
       "    <tr>\n",
       "      <th>4</th>\n",
       "      <td>47</td>\n",
       "      <td>1</td>\n",
       "      <td>Train</td>\n",
       "      <td>2012-04-05 22:44:06.653</td>\n",
       "      <td>733748</td>\n",
       "    </tr>\n",
       "  </tbody>\n",
       "</table>\n",
       "</div>"
      ],
      "text/plain": [
       "   UserID  WindowID  Split          ApplicationDate   JobID\n",
       "0      47         1  Train  2012-04-04 15:56:23.537  169528\n",
       "1      47         1  Train  2012-04-06 01:03:00.003  284009\n",
       "2      47         1  Train  2012-04-05 02:40:27.753    2121\n",
       "3      47         1  Train  2012-04-05 02:37:02.673  848187\n",
       "4      47         1  Train  2012-04-05 22:44:06.653  733748"
      ]
     },
     "execution_count": 40,
     "metadata": {},
     "output_type": "execute_result"
    }
   ],
   "source": [
    "apps_training.head()"
   ]
  },
  {
   "cell_type": "code",
   "execution_count": 41,
   "metadata": {},
   "outputs": [
    {
     "data": {
      "text/html": [
       "<div>\n",
       "<style scoped>\n",
       "    .dataframe tbody tr th:only-of-type {\n",
       "        vertical-align: middle;\n",
       "    }\n",
       "\n",
       "    .dataframe tbody tr th {\n",
       "        vertical-align: top;\n",
       "    }\n",
       "\n",
       "    .dataframe thead th {\n",
       "        text-align: right;\n",
       "    }\n",
       "</style>\n",
       "<table border=\"1\" class=\"dataframe\">\n",
       "  <thead>\n",
       "    <tr style=\"text-align: right;\">\n",
       "      <th></th>\n",
       "      <th>UserID</th>\n",
       "      <th>WindowID</th>\n",
       "      <th>Split</th>\n",
       "      <th>Sequence</th>\n",
       "      <th>JobTitle</th>\n",
       "    </tr>\n",
       "  </thead>\n",
       "  <tbody>\n",
       "    <tr>\n",
       "      <th>0</th>\n",
       "      <td>47</td>\n",
       "      <td>1</td>\n",
       "      <td>Train</td>\n",
       "      <td>1</td>\n",
       "      <td>National Space Communication Programs-Special ...</td>\n",
       "    </tr>\n",
       "    <tr>\n",
       "      <th>1</th>\n",
       "      <td>47</td>\n",
       "      <td>1</td>\n",
       "      <td>Train</td>\n",
       "      <td>2</td>\n",
       "      <td>Detention Officer</td>\n",
       "    </tr>\n",
       "    <tr>\n",
       "      <th>2</th>\n",
       "      <td>47</td>\n",
       "      <td>1</td>\n",
       "      <td>Train</td>\n",
       "      <td>3</td>\n",
       "      <td>Passenger Screener, TSA</td>\n",
       "    </tr>\n",
       "    <tr>\n",
       "      <th>3</th>\n",
       "      <td>72</td>\n",
       "      <td>1</td>\n",
       "      <td>Train</td>\n",
       "      <td>1</td>\n",
       "      <td>Lecturer, Department of Anthropology</td>\n",
       "    </tr>\n",
       "    <tr>\n",
       "      <th>4</th>\n",
       "      <td>72</td>\n",
       "      <td>1</td>\n",
       "      <td>Train</td>\n",
       "      <td>2</td>\n",
       "      <td>Student Assistant</td>\n",
       "    </tr>\n",
       "  </tbody>\n",
       "</table>\n",
       "</div>"
      ],
      "text/plain": [
       "   UserID  WindowID  Split  Sequence  \\\n",
       "0      47         1  Train         1   \n",
       "1      47         1  Train         2   \n",
       "2      47         1  Train         3   \n",
       "3      72         1  Train         1   \n",
       "4      72         1  Train         2   \n",
       "\n",
       "                                            JobTitle  \n",
       "0  National Space Communication Programs-Special ...  \n",
       "1                                  Detention Officer  \n",
       "2                            Passenger Screener, TSA  \n",
       "3               Lecturer, Department of Anthropology  \n",
       "4                                  Student Assistant  "
      ]
     },
     "execution_count": 41,
     "metadata": {},
     "output_type": "execute_result"
    }
   ],
   "source": [
    "user_history_training.head()"
   ]
  },
  {
   "cell_type": "code",
   "execution_count": 42,
   "metadata": {},
   "outputs": [
    {
     "data": {
      "text/html": [
       "<div>\n",
       "<style scoped>\n",
       "    .dataframe tbody tr th:only-of-type {\n",
       "        vertical-align: middle;\n",
       "    }\n",
       "\n",
       "    .dataframe tbody tr th {\n",
       "        vertical-align: top;\n",
       "    }\n",
       "\n",
       "    .dataframe thead th {\n",
       "        text-align: right;\n",
       "    }\n",
       "</style>\n",
       "<table border=\"1\" class=\"dataframe\">\n",
       "  <thead>\n",
       "    <tr style=\"text-align: right;\">\n",
       "      <th></th>\n",
       "      <th>UserID</th>\n",
       "      <th>WindowID</th>\n",
       "      <th>Split</th>\n",
       "      <th>City</th>\n",
       "      <th>State</th>\n",
       "      <th>Country</th>\n",
       "      <th>ZipCode</th>\n",
       "      <th>DegreeType</th>\n",
       "      <th>Major</th>\n",
       "      <th>GraduationDate</th>\n",
       "      <th>WorkHistoryCount</th>\n",
       "      <th>TotalYearsExperience</th>\n",
       "      <th>CurrentlyEmployed</th>\n",
       "      <th>ManagedOthers</th>\n",
       "      <th>ManagedHowMany</th>\n",
       "    </tr>\n",
       "  </thead>\n",
       "  <tbody>\n",
       "    <tr>\n",
       "      <th>0</th>\n",
       "      <td>47</td>\n",
       "      <td>1</td>\n",
       "      <td>Train</td>\n",
       "      <td>Paramount</td>\n",
       "      <td>CA</td>\n",
       "      <td>US</td>\n",
       "      <td>90723</td>\n",
       "      <td>High School</td>\n",
       "      <td>NaN</td>\n",
       "      <td>1999-06-01 00:00:00</td>\n",
       "      <td>3</td>\n",
       "      <td>10.0</td>\n",
       "      <td>Yes</td>\n",
       "      <td>No</td>\n",
       "      <td>0</td>\n",
       "    </tr>\n",
       "    <tr>\n",
       "      <th>1</th>\n",
       "      <td>72</td>\n",
       "      <td>1</td>\n",
       "      <td>Train</td>\n",
       "      <td>La Mesa</td>\n",
       "      <td>CA</td>\n",
       "      <td>US</td>\n",
       "      <td>91941</td>\n",
       "      <td>Master's</td>\n",
       "      <td>Anthropology</td>\n",
       "      <td>2011-01-01 00:00:00</td>\n",
       "      <td>10</td>\n",
       "      <td>8.0</td>\n",
       "      <td>Yes</td>\n",
       "      <td>No</td>\n",
       "      <td>0</td>\n",
       "    </tr>\n",
       "    <tr>\n",
       "      <th>2</th>\n",
       "      <td>80</td>\n",
       "      <td>1</td>\n",
       "      <td>Train</td>\n",
       "      <td>Williamstown</td>\n",
       "      <td>NJ</td>\n",
       "      <td>US</td>\n",
       "      <td>08094</td>\n",
       "      <td>High School</td>\n",
       "      <td>Not Applicable</td>\n",
       "      <td>1985-06-01 00:00:00</td>\n",
       "      <td>5</td>\n",
       "      <td>11.0</td>\n",
       "      <td>Yes</td>\n",
       "      <td>Yes</td>\n",
       "      <td>5</td>\n",
       "    </tr>\n",
       "    <tr>\n",
       "      <th>3</th>\n",
       "      <td>98</td>\n",
       "      <td>1</td>\n",
       "      <td>Train</td>\n",
       "      <td>Astoria</td>\n",
       "      <td>NY</td>\n",
       "      <td>US</td>\n",
       "      <td>11105</td>\n",
       "      <td>Master's</td>\n",
       "      <td>Journalism</td>\n",
       "      <td>2007-05-01 00:00:00</td>\n",
       "      <td>3</td>\n",
       "      <td>3.0</td>\n",
       "      <td>Yes</td>\n",
       "      <td>No</td>\n",
       "      <td>0</td>\n",
       "    </tr>\n",
       "    <tr>\n",
       "      <th>4</th>\n",
       "      <td>123</td>\n",
       "      <td>1</td>\n",
       "      <td>Train</td>\n",
       "      <td>Baton Rouge</td>\n",
       "      <td>LA</td>\n",
       "      <td>US</td>\n",
       "      <td>70808</td>\n",
       "      <td>Bachelor's</td>\n",
       "      <td>Agricultural Business</td>\n",
       "      <td>2011-05-01 00:00:00</td>\n",
       "      <td>1</td>\n",
       "      <td>9.0</td>\n",
       "      <td>Yes</td>\n",
       "      <td>No</td>\n",
       "      <td>0</td>\n",
       "    </tr>\n",
       "  </tbody>\n",
       "</table>\n",
       "</div>"
      ],
      "text/plain": [
       "   UserID  WindowID  Split          City State Country ZipCode   DegreeType  \\\n",
       "0      47         1  Train     Paramount    CA      US   90723  High School   \n",
       "1      72         1  Train       La Mesa    CA      US   91941     Master's   \n",
       "2      80         1  Train  Williamstown    NJ      US   08094  High School   \n",
       "3      98         1  Train       Astoria    NY      US   11105     Master's   \n",
       "4     123         1  Train   Baton Rouge    LA      US   70808   Bachelor's   \n",
       "\n",
       "                   Major       GraduationDate  WorkHistoryCount  \\\n",
       "0                    NaN  1999-06-01 00:00:00                 3   \n",
       "1           Anthropology  2011-01-01 00:00:00                10   \n",
       "2         Not Applicable  1985-06-01 00:00:00                 5   \n",
       "3             Journalism  2007-05-01 00:00:00                 3   \n",
       "4  Agricultural Business  2011-05-01 00:00:00                 1   \n",
       "\n",
       "   TotalYearsExperience CurrentlyEmployed ManagedOthers  ManagedHowMany  \n",
       "0                  10.0               Yes            No               0  \n",
       "1                   8.0               Yes            No               0  \n",
       "2                  11.0               Yes           Yes               5  \n",
       "3                   3.0               Yes            No               0  \n",
       "4                   9.0               Yes            No               0  "
      ]
     },
     "execution_count": 42,
     "metadata": {},
     "output_type": "execute_result"
    }
   ],
   "source": [
    "users_training.head()"
   ]
  },
  {
   "cell_type": "markdown",
   "metadata": {},
   "source": [
    "# List of all Testing data Record"
   ]
  },
  {
   "cell_type": "code",
   "execution_count": 43,
   "metadata": {},
   "outputs": [
    {
     "data": {
      "text/html": [
       "<div>\n",
       "<style scoped>\n",
       "    .dataframe tbody tr th:only-of-type {\n",
       "        vertical-align: middle;\n",
       "    }\n",
       "\n",
       "    .dataframe tbody tr th {\n",
       "        vertical-align: top;\n",
       "    }\n",
       "\n",
       "    .dataframe thead th {\n",
       "        text-align: right;\n",
       "    }\n",
       "</style>\n",
       "<table border=\"1\" class=\"dataframe\">\n",
       "  <thead>\n",
       "    <tr style=\"text-align: right;\">\n",
       "      <th></th>\n",
       "      <th>UserID</th>\n",
       "      <th>WindowID</th>\n",
       "      <th>Split</th>\n",
       "      <th>ApplicationDate</th>\n",
       "      <th>JobID</th>\n",
       "    </tr>\n",
       "  </thead>\n",
       "  <tbody>\n",
       "    <tr>\n",
       "      <th>126</th>\n",
       "      <td>767</td>\n",
       "      <td>1</td>\n",
       "      <td>Test</td>\n",
       "      <td>2012-04-01 14:37:20.023</td>\n",
       "      <td>85377</td>\n",
       "    </tr>\n",
       "    <tr>\n",
       "      <th>127</th>\n",
       "      <td>769</td>\n",
       "      <td>1</td>\n",
       "      <td>Test</td>\n",
       "      <td>2012-04-16 22:36:52.48</td>\n",
       "      <td>853328</td>\n",
       "    </tr>\n",
       "    <tr>\n",
       "      <th>128</th>\n",
       "      <td>769</td>\n",
       "      <td>1</td>\n",
       "      <td>Test</td>\n",
       "      <td>2012-04-09 18:59:28.193</td>\n",
       "      <td>86106</td>\n",
       "    </tr>\n",
       "    <tr>\n",
       "      <th>129</th>\n",
       "      <td>769</td>\n",
       "      <td>1</td>\n",
       "      <td>Test</td>\n",
       "      <td>2012-04-09 18:59:31.127</td>\n",
       "      <td>327571</td>\n",
       "    </tr>\n",
       "    <tr>\n",
       "      <th>130</th>\n",
       "      <td>769</td>\n",
       "      <td>1</td>\n",
       "      <td>Test</td>\n",
       "      <td>2012-04-08 21:29:11.993</td>\n",
       "      <td>119161</td>\n",
       "    </tr>\n",
       "  </tbody>\n",
       "</table>\n",
       "</div>"
      ],
      "text/plain": [
       "     UserID  WindowID Split          ApplicationDate   JobID\n",
       "126     767         1  Test  2012-04-01 14:37:20.023   85377\n",
       "127     769         1  Test   2012-04-16 22:36:52.48  853328\n",
       "128     769         1  Test  2012-04-09 18:59:28.193   86106\n",
       "129     769         1  Test  2012-04-09 18:59:31.127  327571\n",
       "130     769         1  Test  2012-04-08 21:29:11.993  119161"
      ]
     },
     "execution_count": 43,
     "metadata": {},
     "output_type": "execute_result"
    }
   ],
   "source": [
    "apps_testing.head()"
   ]
  },
  {
   "cell_type": "code",
   "execution_count": 44,
   "metadata": {},
   "outputs": [
    {
     "data": {
      "text/html": [
       "<div>\n",
       "<style scoped>\n",
       "    .dataframe tbody tr th:only-of-type {\n",
       "        vertical-align: middle;\n",
       "    }\n",
       "\n",
       "    .dataframe tbody tr th {\n",
       "        vertical-align: top;\n",
       "    }\n",
       "\n",
       "    .dataframe thead th {\n",
       "        text-align: right;\n",
       "    }\n",
       "</style>\n",
       "<table border=\"1\" class=\"dataframe\">\n",
       "  <thead>\n",
       "    <tr style=\"text-align: right;\">\n",
       "      <th></th>\n",
       "      <th>UserID</th>\n",
       "      <th>WindowID</th>\n",
       "      <th>Split</th>\n",
       "      <th>Sequence</th>\n",
       "      <th>JobTitle</th>\n",
       "    </tr>\n",
       "  </thead>\n",
       "  <tbody>\n",
       "    <tr>\n",
       "      <th>144</th>\n",
       "      <td>767</td>\n",
       "      <td>1</td>\n",
       "      <td>Test</td>\n",
       "      <td>1</td>\n",
       "      <td>Claims Adjuster</td>\n",
       "    </tr>\n",
       "    <tr>\n",
       "      <th>145</th>\n",
       "      <td>767</td>\n",
       "      <td>1</td>\n",
       "      <td>Test</td>\n",
       "      <td>2</td>\n",
       "      <td>Professional Baseball Player</td>\n",
       "    </tr>\n",
       "    <tr>\n",
       "      <th>146</th>\n",
       "      <td>767</td>\n",
       "      <td>1</td>\n",
       "      <td>Test</td>\n",
       "      <td>3</td>\n",
       "      <td>Professional Baseball Player</td>\n",
       "    </tr>\n",
       "    <tr>\n",
       "      <th>147</th>\n",
       "      <td>767</td>\n",
       "      <td>1</td>\n",
       "      <td>Test</td>\n",
       "      <td>4</td>\n",
       "      <td>Professional Baseball Player</td>\n",
       "    </tr>\n",
       "    <tr>\n",
       "      <th>148</th>\n",
       "      <td>767</td>\n",
       "      <td>1</td>\n",
       "      <td>Test</td>\n",
       "      <td>5</td>\n",
       "      <td>Professional Baseball Player</td>\n",
       "    </tr>\n",
       "  </tbody>\n",
       "</table>\n",
       "</div>"
      ],
      "text/plain": [
       "     UserID  WindowID Split  Sequence                      JobTitle\n",
       "144     767         1  Test         1               Claims Adjuster\n",
       "145     767         1  Test         2  Professional Baseball Player\n",
       "146     767         1  Test         3  Professional Baseball Player\n",
       "147     767         1  Test         4  Professional Baseball Player\n",
       "148     767         1  Test         5  Professional Baseball Player"
      ]
     },
     "execution_count": 44,
     "metadata": {},
     "output_type": "execute_result"
    }
   ],
   "source": [
    "user_history_testing.head()"
   ]
  },
  {
   "cell_type": "code",
   "execution_count": 45,
   "metadata": {},
   "outputs": [
    {
     "data": {
      "text/html": [
       "<div>\n",
       "<style scoped>\n",
       "    .dataframe tbody tr th:only-of-type {\n",
       "        vertical-align: middle;\n",
       "    }\n",
       "\n",
       "    .dataframe tbody tr th {\n",
       "        vertical-align: top;\n",
       "    }\n",
       "\n",
       "    .dataframe thead th {\n",
       "        text-align: right;\n",
       "    }\n",
       "</style>\n",
       "<table border=\"1\" class=\"dataframe\">\n",
       "  <thead>\n",
       "    <tr style=\"text-align: right;\">\n",
       "      <th></th>\n",
       "      <th>UserID</th>\n",
       "      <th>WindowID</th>\n",
       "      <th>Split</th>\n",
       "      <th>City</th>\n",
       "      <th>State</th>\n",
       "      <th>Country</th>\n",
       "      <th>ZipCode</th>\n",
       "      <th>DegreeType</th>\n",
       "      <th>Major</th>\n",
       "      <th>GraduationDate</th>\n",
       "      <th>WorkHistoryCount</th>\n",
       "      <th>TotalYearsExperience</th>\n",
       "      <th>CurrentlyEmployed</th>\n",
       "      <th>ManagedOthers</th>\n",
       "      <th>ManagedHowMany</th>\n",
       "    </tr>\n",
       "  </thead>\n",
       "  <tbody>\n",
       "    <tr>\n",
       "      <th>31</th>\n",
       "      <td>767</td>\n",
       "      <td>1</td>\n",
       "      <td>Test</td>\n",
       "      <td>Murrieta</td>\n",
       "      <td>CA</td>\n",
       "      <td>US</td>\n",
       "      <td>92562</td>\n",
       "      <td>Bachelor's</td>\n",
       "      <td>University Studies/Business</td>\n",
       "      <td>2008-05-01 00:00:00</td>\n",
       "      <td>5</td>\n",
       "      <td>16.0</td>\n",
       "      <td>No</td>\n",
       "      <td>No</td>\n",
       "      <td>0</td>\n",
       "    </tr>\n",
       "    <tr>\n",
       "      <th>32</th>\n",
       "      <td>769</td>\n",
       "      <td>1</td>\n",
       "      <td>Test</td>\n",
       "      <td>Roselle</td>\n",
       "      <td>IL</td>\n",
       "      <td>US</td>\n",
       "      <td>60172</td>\n",
       "      <td>Bachelor's</td>\n",
       "      <td>Radio-Television</td>\n",
       "      <td>2011-05-01 00:00:00</td>\n",
       "      <td>5</td>\n",
       "      <td>5.0</td>\n",
       "      <td>Yes</td>\n",
       "      <td>No</td>\n",
       "      <td>0</td>\n",
       "    </tr>\n",
       "    <tr>\n",
       "      <th>33</th>\n",
       "      <td>861</td>\n",
       "      <td>1</td>\n",
       "      <td>Test</td>\n",
       "      <td>Morris</td>\n",
       "      <td>IL</td>\n",
       "      <td>US</td>\n",
       "      <td>60450</td>\n",
       "      <td>High School</td>\n",
       "      <td>General Studies</td>\n",
       "      <td>1989-05-01 00:00:00</td>\n",
       "      <td>7</td>\n",
       "      <td>21.0</td>\n",
       "      <td>NaN</td>\n",
       "      <td>No</td>\n",
       "      <td>0</td>\n",
       "    </tr>\n",
       "    <tr>\n",
       "      <th>38</th>\n",
       "      <td>1006</td>\n",
       "      <td>1</td>\n",
       "      <td>Test</td>\n",
       "      <td>West Chester</td>\n",
       "      <td>PA</td>\n",
       "      <td>US</td>\n",
       "      <td>19382</td>\n",
       "      <td>High School</td>\n",
       "      <td>Not Applicable</td>\n",
       "      <td>2008-06-01 00:00:00</td>\n",
       "      <td>3</td>\n",
       "      <td>6.0</td>\n",
       "      <td>Yes</td>\n",
       "      <td>No</td>\n",
       "      <td>0</td>\n",
       "    </tr>\n",
       "    <tr>\n",
       "      <th>44</th>\n",
       "      <td>1192</td>\n",
       "      <td>1</td>\n",
       "      <td>Test</td>\n",
       "      <td>Cincinnati</td>\n",
       "      <td>OH</td>\n",
       "      <td>US</td>\n",
       "      <td>45255</td>\n",
       "      <td>Bachelor's</td>\n",
       "      <td>Marketing</td>\n",
       "      <td>NaN</td>\n",
       "      <td>5</td>\n",
       "      <td>6.0</td>\n",
       "      <td>Yes</td>\n",
       "      <td>No</td>\n",
       "      <td>0</td>\n",
       "    </tr>\n",
       "  </tbody>\n",
       "</table>\n",
       "</div>"
      ],
      "text/plain": [
       "    UserID  WindowID Split          City State Country ZipCode   DegreeType  \\\n",
       "31     767         1  Test      Murrieta    CA      US   92562   Bachelor's   \n",
       "32     769         1  Test       Roselle    IL      US   60172   Bachelor's   \n",
       "33     861         1  Test        Morris    IL      US   60450  High School   \n",
       "38    1006         1  Test  West Chester    PA      US   19382  High School   \n",
       "44    1192         1  Test    Cincinnati    OH      US   45255   Bachelor's   \n",
       "\n",
       "                          Major       GraduationDate  WorkHistoryCount  \\\n",
       "31  University Studies/Business  2008-05-01 00:00:00                 5   \n",
       "32             Radio-Television  2011-05-01 00:00:00                 5   \n",
       "33              General Studies  1989-05-01 00:00:00                 7   \n",
       "38               Not Applicable  2008-06-01 00:00:00                 3   \n",
       "44                    Marketing                  NaN                 5   \n",
       "\n",
       "    TotalYearsExperience CurrentlyEmployed ManagedOthers  ManagedHowMany  \n",
       "31                  16.0                No            No               0  \n",
       "32                   5.0               Yes            No               0  \n",
       "33                  21.0               NaN            No               0  \n",
       "38                   6.0               Yes            No               0  \n",
       "44                   6.0               Yes            No               0  "
      ]
     },
     "execution_count": 45,
     "metadata": {},
     "output_type": "execute_result"
    }
   ],
   "source": [
    "users_testing.head()"
   ]
  },
  {
   "cell_type": "markdown",
   "metadata": {},
   "source": [
    "## Exploratory Data Analysis (EDA) for job openings based on their location information"
   ]
  },
  {
   "cell_type": "code",
   "execution_count": 46,
   "metadata": {},
   "outputs": [
    {
     "data": {
      "text/html": [
       "<div>\n",
       "<style scoped>\n",
       "    .dataframe tbody tr th:only-of-type {\n",
       "        vertical-align: middle;\n",
       "    }\n",
       "\n",
       "    .dataframe tbody tr th {\n",
       "        vertical-align: top;\n",
       "    }\n",
       "\n",
       "    .dataframe thead th {\n",
       "        text-align: right;\n",
       "    }\n",
       "</style>\n",
       "<table border=\"1\" class=\"dataframe\">\n",
       "  <thead>\n",
       "    <tr style=\"text-align: right;\">\n",
       "      <th></th>\n",
       "      <th>City</th>\n",
       "      <th>State</th>\n",
       "      <th>Country</th>\n",
       "      <th>Locationwise</th>\n",
       "    </tr>\n",
       "  </thead>\n",
       "  <tbody>\n",
       "    <tr>\n",
       "      <th>0</th>\n",
       "      <td>- Any</td>\n",
       "      <td></td>\n",
       "      <td>CZ</td>\n",
       "      <td>2</td>\n",
       "    </tr>\n",
       "    <tr>\n",
       "      <th>1</th>\n",
       "      <td>29 Palms</td>\n",
       "      <td>CA</td>\n",
       "      <td>US</td>\n",
       "      <td>1</td>\n",
       "    </tr>\n",
       "    <tr>\n",
       "      <th>2</th>\n",
       "      <td>APAC-Australia</td>\n",
       "      <td></td>\n",
       "      <td>AU</td>\n",
       "      <td>41</td>\n",
       "    </tr>\n",
       "    <tr>\n",
       "      <th>3</th>\n",
       "      <td>Aaron</td>\n",
       "      <td>IN</td>\n",
       "      <td>US</td>\n",
       "      <td>5</td>\n",
       "    </tr>\n",
       "    <tr>\n",
       "      <th>4</th>\n",
       "      <td>Abbeville</td>\n",
       "      <td>LA</td>\n",
       "      <td>US</td>\n",
       "      <td>22</td>\n",
       "    </tr>\n",
       "  </tbody>\n",
       "</table>\n",
       "</div>"
      ],
      "text/plain": [
       "             City State Country  Locationwise\n",
       "0           - Any            CZ             2\n",
       "1        29 Palms    CA      US             1\n",
       "2  APAC-Australia            AU            41\n",
       "3           Aaron    IN      US             5\n",
       "4       Abbeville    LA      US            22"
      ]
     },
     "execution_count": 46,
     "metadata": {},
     "output_type": "execute_result"
    }
   ],
   "source": [
    "#group by city ,state,country wise\n",
    "jobs.groupby(['City','State','Country']).size().reset_index(name='Locationwise').head()"
   ]
  },
  {
   "cell_type": "code",
   "execution_count": 47,
   "metadata": {},
   "outputs": [
    {
     "data": {
      "text/plain": [
       "(13243, 4)"
      ]
     },
     "execution_count": 47,
     "metadata": {},
     "output_type": "execute_result"
    }
   ],
   "source": [
    "# in state some null(empty) value are present\n",
    "jobs.groupby(['City','State','Country']).size().reset_index(name='Locationwise').shape"
   ]
  },
  {
   "cell_type": "raw",
   "metadata": {},
   "source": [
    "*Here note that for data attribute state, there are some blank/empty values are present.\n",
    "*We will take care of it very soon"
   ]
  },
  {
   "cell_type": "code",
   "execution_count": 48,
   "metadata": {},
   "outputs": [
    {
     "data": {
      "text/html": [
       "<div>\n",
       "<style scoped>\n",
       "    .dataframe tbody tr th:only-of-type {\n",
       "        vertical-align: middle;\n",
       "    }\n",
       "\n",
       "    .dataframe tbody tr th {\n",
       "        vertical-align: top;\n",
       "    }\n",
       "\n",
       "    .dataframe thead th {\n",
       "        text-align: right;\n",
       "    }\n",
       "</style>\n",
       "<table border=\"1\" class=\"dataframe\">\n",
       "  <thead>\n",
       "    <tr style=\"text-align: right;\">\n",
       "      <th></th>\n",
       "      <th>Country</th>\n",
       "      <th>Locationwise</th>\n",
       "    </tr>\n",
       "  </thead>\n",
       "  <tbody>\n",
       "    <tr>\n",
       "      <th>0</th>\n",
       "      <td>32905</td>\n",
       "      <td>1</td>\n",
       "    </tr>\n",
       "    <tr>\n",
       "      <th>1</th>\n",
       "      <td>97838</td>\n",
       "      <td>2</td>\n",
       "    </tr>\n",
       "    <tr>\n",
       "      <th>2</th>\n",
       "      <td>AF</td>\n",
       "      <td>291</td>\n",
       "    </tr>\n",
       "    <tr>\n",
       "      <th>3</th>\n",
       "      <td>AT</td>\n",
       "      <td>41</td>\n",
       "    </tr>\n",
       "    <tr>\n",
       "      <th>4</th>\n",
       "      <td>AU</td>\n",
       "      <td>50</td>\n",
       "    </tr>\n",
       "  </tbody>\n",
       "</table>\n",
       "</div>"
      ],
      "text/plain": [
       "  Country  Locationwise\n",
       "0   32905             1\n",
       "1   97838             2\n",
       "2      AF           291\n",
       "3      AT            41\n",
       "4      AU            50"
      ]
     },
     "execution_count": 48,
     "metadata": {},
     "output_type": "execute_result"
    }
   ],
   "source": [
    "# group by country wise\n",
    "jobs.groupby(['Country']).size().reset_index(name='Locationwise').head()"
   ]
  },
  {
   "cell_type": "code",
   "execution_count": 49,
   "metadata": {},
   "outputs": [
    {
     "data": {
      "text/html": [
       "<div>\n",
       "<style scoped>\n",
       "    .dataframe tbody tr th:only-of-type {\n",
       "        vertical-align: middle;\n",
       "    }\n",
       "\n",
       "    .dataframe tbody tr th {\n",
       "        vertical-align: top;\n",
       "    }\n",
       "\n",
       "    .dataframe thead th {\n",
       "        text-align: right;\n",
       "    }\n",
       "</style>\n",
       "<table border=\"1\" class=\"dataframe\">\n",
       "  <thead>\n",
       "    <tr style=\"text-align: right;\">\n",
       "      <th></th>\n",
       "      <th>Country</th>\n",
       "      <th>Locationwise</th>\n",
       "    </tr>\n",
       "  </thead>\n",
       "  <tbody>\n",
       "    <tr>\n",
       "      <th>42</th>\n",
       "      <td>US</td>\n",
       "      <td>605212</td>\n",
       "    </tr>\n",
       "    <tr>\n",
       "      <th>2</th>\n",
       "      <td>AF</td>\n",
       "      <td>291</td>\n",
       "    </tr>\n",
       "    <tr>\n",
       "      <th>4</th>\n",
       "      <td>AU</td>\n",
       "      <td>50</td>\n",
       "    </tr>\n",
       "    <tr>\n",
       "      <th>28</th>\n",
       "      <td>MX</td>\n",
       "      <td>49</td>\n",
       "    </tr>\n",
       "    <tr>\n",
       "      <th>3</th>\n",
       "      <td>AT</td>\n",
       "      <td>41</td>\n",
       "    </tr>\n",
       "  </tbody>\n",
       "</table>\n",
       "</div>"
      ],
      "text/plain": [
       "   Country  Locationwise\n",
       "42      US        605212\n",
       "2       AF           291\n",
       "4       AU            50\n",
       "28      MX            49\n",
       "3       AT            41"
      ]
     },
     "execution_count": 49,
     "metadata": {},
     "output_type": "execute_result"
    }
   ],
   "source": [
    "jobs.groupby(['Country']).size().reset_index(name='Locationwise').sort_values('Locationwise', ascending=False).head()"
   ]
  },
  {
   "cell_type": "code",
   "execution_count": 50,
   "metadata": {},
   "outputs": [],
   "source": [
    "Country_wise_job=jobs.groupby(['Country']).size().reset_index(name='Locationwise').sort_values('Locationwise', ascending=False)"
   ]
  },
  {
   "cell_type": "markdown",
   "metadata": {},
   "source": [
    "### plot figure of  country_wise_job"
   ]
  },
  {
   "cell_type": "code",
   "execution_count": 51,
   "metadata": {},
   "outputs": [],
   "source": [
    "%matplotlib inline\n",
    "import matplotlib.pyplot as plt\n",
    "import seaborn as sns"
   ]
  },
  {
   "cell_type": "code",
   "execution_count": 52,
   "metadata": {},
   "outputs": [
    {
     "data": {
      "image/png": "[encoded data removed]",
      "text/plain": [
       "<Figure size 576x576 with 1 Axes>"
      ]
     },
     "metadata": {
      "needs_background": "light"
     },
     "output_type": "display_data"
    }
   ],
   "source": [
    "plt.figure(figsize=(8,8))\n",
    "ax = sns.barplot(x=\"Country\", y=\"Locationwise\", data=Country_wise_job)\n",
    "ax.set_xticklabels(ax.get_xticklabels(), rotation=90,ha=\"right\")\n",
    "ax.set_title('Country wise job openings')\n",
    "plt.tight_layout()\n",
    "plt.show()"
   ]
  },
  {
   "cell_type": "markdown",
   "metadata": {},
   "source": [
    "# pre-processing"
   ]
  },
  {
   "cell_type": "markdown",
   "metadata": {},
   "source": [
    "### Now we will perform following pre-processing steps:\n",
    "    We will consider only US region for building this recommendation engine\n",
    "    We will be removing data records where state is blank or state data attribute is having numerical value.(If needed)\n",
    "    \n",
    "    "
   ]
  },
  {
   "cell_type": "code",
   "execution_count": 53,
   "metadata": {},
   "outputs": [],
   "source": [
    "#only us region is important of job recommendation other country are blank.\n",
    "#we select the us region for recommendation"
   ]
  },
  {
   "cell_type": "code",
   "execution_count": 54,
   "metadata": {},
   "outputs": [],
   "source": [
    "#we use loc because we select column\n",
    "jobs_US=jobs.loc[jobs['Country']=='US']"
   ]
  },
  {
   "cell_type": "code",
   "execution_count": 55,
   "metadata": {},
   "outputs": [
    {
     "data": {
      "text/html": [
       "<div>\n",
       "<style scoped>\n",
       "    .dataframe tbody tr th:only-of-type {\n",
       "        vertical-align: middle;\n",
       "    }\n",
       "\n",
       "    .dataframe tbody tr th {\n",
       "        vertical-align: top;\n",
       "    }\n",
       "\n",
       "    .dataframe thead th {\n",
       "        text-align: right;\n",
       "    }\n",
       "</style>\n",
       "<table border=\"1\" class=\"dataframe\">\n",
       "  <thead>\n",
       "    <tr style=\"text-align: right;\">\n",
       "      <th></th>\n",
       "      <th>City</th>\n",
       "      <th>State</th>\n",
       "      <th>Country</th>\n",
       "    </tr>\n",
       "  </thead>\n",
       "  <tbody>\n",
       "    <tr>\n",
       "      <th>0</th>\n",
       "      <td>Washington</td>\n",
       "      <td>DC</td>\n",
       "      <td>US</td>\n",
       "    </tr>\n",
       "    <tr>\n",
       "      <th>1</th>\n",
       "      <td>Charlotte</td>\n",
       "      <td>NC</td>\n",
       "      <td>US</td>\n",
       "    </tr>\n",
       "    <tr>\n",
       "      <th>2</th>\n",
       "      <td>Winter Park</td>\n",
       "      <td>FL</td>\n",
       "      <td>US</td>\n",
       "    </tr>\n",
       "    <tr>\n",
       "      <th>3</th>\n",
       "      <td>Orlando</td>\n",
       "      <td>FL</td>\n",
       "      <td>US</td>\n",
       "    </tr>\n",
       "    <tr>\n",
       "      <th>4</th>\n",
       "      <td>Orlando</td>\n",
       "      <td>FL</td>\n",
       "      <td>US</td>\n",
       "    </tr>\n",
       "  </tbody>\n",
       "</table>\n",
       "</div>"
      ],
      "text/plain": [
       "          City State Country\n",
       "0   Washington    DC      US\n",
       "1    Charlotte    NC      US\n",
       "2  Winter Park    FL      US\n",
       "3      Orlando    FL      US\n",
       "4      Orlando    FL      US"
      ]
     },
     "execution_count": 55,
     "metadata": {},
     "output_type": "execute_result"
    }
   ],
   "source": [
    "jobs_US[['City','State','Country']].head()"
   ]
  },
  {
   "cell_type": "code",
   "execution_count": 56,
   "metadata": {},
   "outputs": [
    {
     "data": {
      "text/html": [
       "<div>\n",
       "<style scoped>\n",
       "    .dataframe tbody tr th:only-of-type {\n",
       "        vertical-align: middle;\n",
       "    }\n",
       "\n",
       "    .dataframe tbody tr th {\n",
       "        vertical-align: top;\n",
       "    }\n",
       "\n",
       "    .dataframe thead th {\n",
       "        text-align: right;\n",
       "    }\n",
       "</style>\n",
       "<table border=\"1\" class=\"dataframe\">\n",
       "  <thead>\n",
       "    <tr style=\"text-align: right;\">\n",
       "      <th></th>\n",
       "      <th>City</th>\n",
       "      <th>State</th>\n",
       "      <th>Country</th>\n",
       "      <th>Locationwise</th>\n",
       "    </tr>\n",
       "  </thead>\n",
       "  <tbody>\n",
       "    <tr>\n",
       "      <th>5562</th>\n",
       "      <td>Houston</td>\n",
       "      <td>TX</td>\n",
       "      <td>US</td>\n",
       "      <td>10454</td>\n",
       "    </tr>\n",
       "    <tr>\n",
       "      <th>8307</th>\n",
       "      <td>New York</td>\n",
       "      <td>NY</td>\n",
       "      <td>US</td>\n",
       "      <td>10220</td>\n",
       "    </tr>\n",
       "    <tr>\n",
       "      <th>2234</th>\n",
       "      <td>Chicago</td>\n",
       "      <td>IL</td>\n",
       "      <td>US</td>\n",
       "      <td>9906</td>\n",
       "    </tr>\n",
       "    <tr>\n",
       "      <th>2936</th>\n",
       "      <td>Dallas</td>\n",
       "      <td>TX</td>\n",
       "      <td>US</td>\n",
       "      <td>7275</td>\n",
       "    </tr>\n",
       "    <tr>\n",
       "      <th>516</th>\n",
       "      <td>Atlanta</td>\n",
       "      <td>GA</td>\n",
       "      <td>US</td>\n",
       "      <td>6833</td>\n",
       "    </tr>\n",
       "  </tbody>\n",
       "</table>\n",
       "</div>"
      ],
      "text/plain": [
       "          City State Country  Locationwise\n",
       "5562   Houston    TX      US         10454\n",
       "8307  New York    NY      US         10220\n",
       "2234   Chicago    IL      US          9906\n",
       "2936    Dallas    TX      US          7275\n",
       "516    Atlanta    GA      US          6833"
      ]
     },
     "execution_count": 56,
     "metadata": {},
     "output_type": "execute_result"
    }
   ],
   "source": [
    "#sort us data according to city,state\n",
    "jobs_US.groupby(['City','State','Country']).size().reset_index(name='Locationwise').sort_values('Locationwise', ascending=False).head()"
   ]
  },
  {
   "cell_type": "code",
   "execution_count": 57,
   "metadata": {},
   "outputs": [],
   "source": [
    "#we select the job according to state wise in us\n",
    "State_wise_job_US = jobs_US.groupby(['State']).size().reset_index(name='Locationwise').sort_values('Locationwise',ascending=False)"
   ]
  },
  {
   "cell_type": "code",
   "execution_count": 58,
   "metadata": {},
   "outputs": [
    {
     "data": {
      "text/html": [
       "<div>\n",
       "<style scoped>\n",
       "    .dataframe tbody tr th:only-of-type {\n",
       "        vertical-align: middle;\n",
       "    }\n",
       "\n",
       "    .dataframe tbody tr th {\n",
       "        vertical-align: top;\n",
       "    }\n",
       "\n",
       "    .dataframe thead th {\n",
       "        text-align: right;\n",
       "    }\n",
       "</style>\n",
       "<table border=\"1\" class=\"dataframe\">\n",
       "  <thead>\n",
       "    <tr style=\"text-align: right;\">\n",
       "      <th></th>\n",
       "      <th>State</th>\n",
       "      <th>Locationwise</th>\n",
       "    </tr>\n",
       "  </thead>\n",
       "  <tbody>\n",
       "    <tr>\n",
       "      <th>5</th>\n",
       "      <td>CA</td>\n",
       "      <td>60675</td>\n",
       "    </tr>\n",
       "    <tr>\n",
       "      <th>47</th>\n",
       "      <td>TX</td>\n",
       "      <td>53866</td>\n",
       "    </tr>\n",
       "    <tr>\n",
       "      <th>10</th>\n",
       "      <td>FL</td>\n",
       "      <td>39355</td>\n",
       "    </tr>\n",
       "    <tr>\n",
       "      <th>16</th>\n",
       "      <td>IL</td>\n",
       "      <td>32576</td>\n",
       "    </tr>\n",
       "    <tr>\n",
       "      <th>37</th>\n",
       "      <td>NY</td>\n",
       "      <td>30515</td>\n",
       "    </tr>\n",
       "  </tbody>\n",
       "</table>\n",
       "</div>"
      ],
      "text/plain": [
       "   State  Locationwise\n",
       "5     CA         60675\n",
       "47    TX         53866\n",
       "10    FL         39355\n",
       "16    IL         32576\n",
       "37    NY         30515"
      ]
     },
     "execution_count": 58,
     "metadata": {},
     "output_type": "execute_result"
    }
   ],
   "source": [
    "State_wise_job_US.head()"
   ]
  },
  {
   "cell_type": "code",
   "execution_count": 59,
   "metadata": {},
   "outputs": [
    {
     "data": {
      "image/png": "[encoded data removed]",
      "text/plain": [
       "<Figure size 648x360 with 1 Axes>"
      ]
     },
     "metadata": {
      "needs_background": "light"
     },
     "output_type": "display_data"
    }
   ],
   "source": [
    "plt.figure(figsize=(9,5))\n",
    "ax = sns.barplot(x=\"State\", y=\"Locationwise\",data=State_wise_job_US)\n",
    "ax.set_xticklabels(ax.get_xticklabels(), rotation=90, ha=\"right\")\n",
    "ax.set_title('State wise job openings')\n",
    "plt.tight_layout()\n",
    "plt.show()"
   ]
  },
  {
   "cell_type": "code",
   "execution_count": 60,
   "metadata": {},
   "outputs": [
    {
     "data": {
      "text/html": [
       "<div>\n",
       "<style scoped>\n",
       "    .dataframe tbody tr th:only-of-type {\n",
       "        vertical-align: middle;\n",
       "    }\n",
       "\n",
       "    .dataframe tbody tr th {\n",
       "        vertical-align: top;\n",
       "    }\n",
       "\n",
       "    .dataframe thead th {\n",
       "        text-align: right;\n",
       "    }\n",
       "</style>\n",
       "<table border=\"1\" class=\"dataframe\">\n",
       "  <thead>\n",
       "    <tr style=\"text-align: right;\">\n",
       "      <th></th>\n",
       "      <th>City</th>\n",
       "      <th>Locationwise</th>\n",
       "    </tr>\n",
       "  </thead>\n",
       "  <tbody>\n",
       "    <tr>\n",
       "      <th>3921</th>\n",
       "      <td>Houston</td>\n",
       "      <td>10463</td>\n",
       "    </tr>\n",
       "    <tr>\n",
       "      <th>5837</th>\n",
       "      <td>New York</td>\n",
       "      <td>10223</td>\n",
       "    </tr>\n",
       "    <tr>\n",
       "      <th>1536</th>\n",
       "      <td>Chicago</td>\n",
       "      <td>9906</td>\n",
       "    </tr>\n",
       "    <tr>\n",
       "      <th>2024</th>\n",
       "      <td>Dallas</td>\n",
       "      <td>7310</td>\n",
       "    </tr>\n",
       "    <tr>\n",
       "      <th>350</th>\n",
       "      <td>Atlanta</td>\n",
       "      <td>6840</td>\n",
       "    </tr>\n",
       "  </tbody>\n",
       "</table>\n",
       "</div>"
      ],
      "text/plain": [
       "          City  Locationwise\n",
       "3921   Houston         10463\n",
       "5837  New York         10223\n",
       "1536   Chicago          9906\n",
       "2024    Dallas          7310\n",
       "350    Atlanta          6840"
      ]
     },
     "execution_count": 60,
     "metadata": {},
     "output_type": "execute_result"
    }
   ],
   "source": [
    "\n",
    "jobs_US.groupby(['City']).size().reset_index(name='Locationwise').sort_values('Locationwise',ascending=False).head()"
   ]
  },
  {
   "cell_type": "code",
   "execution_count": 61,
   "metadata": {},
   "outputs": [],
   "source": [
    "City_wise_location = jobs_US.groupby(['City']).size().reset_index( name='Locationwise').sort_values('Locationwise',ascending=False)"
   ]
  },
  {
   "cell_type": "code",
   "execution_count": 62,
   "metadata": {},
   "outputs": [
    {
     "data": {
      "text/html": [
       "<div>\n",
       "<style scoped>\n",
       "    .dataframe tbody tr th:only-of-type {\n",
       "        vertical-align: middle;\n",
       "    }\n",
       "\n",
       "    .dataframe tbody tr th {\n",
       "        vertical-align: top;\n",
       "    }\n",
       "\n",
       "    .dataframe thead th {\n",
       "        text-align: right;\n",
       "    }\n",
       "</style>\n",
       "<table border=\"1\" class=\"dataframe\">\n",
       "  <thead>\n",
       "    <tr style=\"text-align: right;\">\n",
       "      <th></th>\n",
       "      <th>City</th>\n",
       "      <th>Locationwise</th>\n",
       "    </tr>\n",
       "  </thead>\n",
       "  <tbody>\n",
       "    <tr>\n",
       "      <th>3921</th>\n",
       "      <td>Houston</td>\n",
       "      <td>10463</td>\n",
       "    </tr>\n",
       "    <tr>\n",
       "      <th>5837</th>\n",
       "      <td>New York</td>\n",
       "      <td>10223</td>\n",
       "    </tr>\n",
       "    <tr>\n",
       "      <th>1536</th>\n",
       "      <td>Chicago</td>\n",
       "      <td>9906</td>\n",
       "    </tr>\n",
       "    <tr>\n",
       "      <th>2024</th>\n",
       "      <td>Dallas</td>\n",
       "      <td>7310</td>\n",
       "    </tr>\n",
       "    <tr>\n",
       "      <th>350</th>\n",
       "      <td>Atlanta</td>\n",
       "      <td>6840</td>\n",
       "    </tr>\n",
       "  </tbody>\n",
       "</table>\n",
       "</div>"
      ],
      "text/plain": [
       "          City  Locationwise\n",
       "3921   Houston         10463\n",
       "5837  New York         10223\n",
       "1536   Chicago          9906\n",
       "2024    Dallas          7310\n",
       "350    Atlanta          6840"
      ]
     },
     "execution_count": 62,
     "metadata": {},
     "output_type": "execute_result"
    }
   ],
   "source": [
    "City_wise_location.head()"
   ]
  },
  {
   "cell_type": "code",
   "execution_count": 63,
   "metadata": {},
   "outputs": [
    {
     "data": {
      "image/png": "[encoded data removed]",
      "text/plain": [
       "<Figure size 576x576 with 1 Axes>"
      ]
     },
     "metadata": {
      "needs_background": "light"
     },
     "output_type": "display_data"
    }
   ],
   "source": [
    "plt.figure(figsize=(8,8))\n",
    "ax = sns.barplot(x=\"City\", y=\"Locationwise\",data=City_wise_location.head(30))\n",
    "ax.set_xticklabels(ax.get_xticklabels(), rotation=90, ha=\"right\")\n",
    "ax.set_title('City wise job openings')\n",
    "plt.tight_layout()\n",
    "plt.show()"
   ]
  },
  {
   "cell_type": "markdown",
   "metadata": {},
   "source": [
    "### Insights:"
   ]
  },
  {
   "cell_type": "raw",
   "metadata": {},
   "source": [
    "*When we do analysis state-wise then CA, TX, FL, IL and NY are having more job opening then other state\n",
    "*When we do analysis city-wise then Houston, New York, Chicago, Dallas, Atlanta and Phoenix are having more jobs compare to other cities\n"
   ]
  },
  {
   "cell_type": "markdown",
   "metadata": {},
   "source": [
    "We have analyze the demand (job openings). Now there is time to analyze the supply(user-profiles)"
   ]
  },
  {
   "cell_type": "markdown",
   "metadata": {},
   "source": [
    "## Exploratory Data Analysis(EDA)  for User profiles based on their location information"
   ]
  },
  {
   "cell_type": "code",
   "execution_count": 64,
   "metadata": {},
   "outputs": [
    {
     "data": {
      "text/html": [
       "<div>\n",
       "<style scoped>\n",
       "    .dataframe tbody tr th:only-of-type {\n",
       "        vertical-align: middle;\n",
       "    }\n",
       "\n",
       "    .dataframe tbody tr th {\n",
       "        vertical-align: top;\n",
       "    }\n",
       "\n",
       "    .dataframe thead th {\n",
       "        text-align: right;\n",
       "    }\n",
       "</style>\n",
       "<table border=\"1\" class=\"dataframe\">\n",
       "  <thead>\n",
       "    <tr style=\"text-align: right;\">\n",
       "      <th></th>\n",
       "      <th>Country</th>\n",
       "      <th>Locationwise</th>\n",
       "    </tr>\n",
       "  </thead>\n",
       "  <tbody>\n",
       "    <tr>\n",
       "      <th>105</th>\n",
       "      <td>US</td>\n",
       "      <td>365740</td>\n",
       "    </tr>\n",
       "    <tr>\n",
       "      <th>47</th>\n",
       "      <td>IN</td>\n",
       "      <td>236</td>\n",
       "    </tr>\n",
       "    <tr>\n",
       "      <th>18</th>\n",
       "      <td>CA</td>\n",
       "      <td>108</td>\n",
       "    </tr>\n",
       "    <tr>\n",
       "      <th>81</th>\n",
       "      <td>PH</td>\n",
       "      <td>59</td>\n",
       "    </tr>\n",
       "    <tr>\n",
       "      <th>82</th>\n",
       "      <td>PK</td>\n",
       "      <td>59</td>\n",
       "    </tr>\n",
       "  </tbody>\n",
       "</table>\n",
       "</div>"
      ],
      "text/plain": [
       "    Country  Locationwise\n",
       "105      US        365740\n",
       "47       IN           236\n",
       "18       CA           108\n",
       "81       PH            59\n",
       "82       PK            59"
      ]
     },
     "execution_count": 64,
     "metadata": {},
     "output_type": "execute_result"
    }
   ],
   "source": [
    "user_training_c=users_training.groupby(['Country']).size().reset_index(name='Locationwise').sort_values('Locationwise', ascending=False).head()\n",
    "user_training_c"
   ]
  },
  {
   "cell_type": "code",
   "execution_count": 65,
   "metadata": {},
   "outputs": [
    {
     "data": {
      "image/png": "[encoded data removed]",
      "text/plain": [
       "<Figure size 360x360 with 1 Axes>"
      ]
     },
     "metadata": {
      "needs_background": "light"
     },
     "output_type": "display_data"
    }
   ],
   "source": [
    "plt.figure(figsize=(5,5))\n",
    "ax = sns.barplot(x=\"Country\", y=\"Locationwise\", data=user_training_c)\n",
    "ax.set_xticklabels(ax.get_xticklabels(), rotation=90,ha=\"right\")\n",
    "ax.set_title('Country wise job openings')\n",
    "plt.tight_layout()\n",
    "plt.show()"
   ]
  },
  {
   "cell_type": "code",
   "execution_count": 66,
   "metadata": {},
   "outputs": [],
   "source": [
    "#upper table us data is more thats why we choose country us\n",
    "user_training_US = users_training.loc[users_training['Country']=='US']\n"
   ]
  },
  {
   "cell_type": "code",
   "execution_count": 67,
   "metadata": {},
   "outputs": [
    {
     "data": {
      "text/html": [
       "<div>\n",
       "<style scoped>\n",
       "    .dataframe tbody tr th:only-of-type {\n",
       "        vertical-align: middle;\n",
       "    }\n",
       "\n",
       "    .dataframe tbody tr th {\n",
       "        vertical-align: top;\n",
       "    }\n",
       "\n",
       "    .dataframe thead th {\n",
       "        text-align: right;\n",
       "    }\n",
       "</style>\n",
       "<table border=\"1\" class=\"dataframe\">\n",
       "  <thead>\n",
       "    <tr style=\"text-align: right;\">\n",
       "      <th></th>\n",
       "      <th>UserID</th>\n",
       "      <th>WindowID</th>\n",
       "      <th>Split</th>\n",
       "      <th>City</th>\n",
       "      <th>State</th>\n",
       "      <th>Country</th>\n",
       "      <th>ZipCode</th>\n",
       "      <th>DegreeType</th>\n",
       "      <th>Major</th>\n",
       "      <th>GraduationDate</th>\n",
       "      <th>WorkHistoryCount</th>\n",
       "      <th>TotalYearsExperience</th>\n",
       "      <th>CurrentlyEmployed</th>\n",
       "      <th>ManagedOthers</th>\n",
       "      <th>ManagedHowMany</th>\n",
       "    </tr>\n",
       "  </thead>\n",
       "  <tbody>\n",
       "    <tr>\n",
       "      <th>0</th>\n",
       "      <td>47</td>\n",
       "      <td>1</td>\n",
       "      <td>Train</td>\n",
       "      <td>Paramount</td>\n",
       "      <td>CA</td>\n",
       "      <td>US</td>\n",
       "      <td>90723</td>\n",
       "      <td>High School</td>\n",
       "      <td>NaN</td>\n",
       "      <td>1999-06-01 00:00:00</td>\n",
       "      <td>3</td>\n",
       "      <td>10.0</td>\n",
       "      <td>Yes</td>\n",
       "      <td>No</td>\n",
       "      <td>0</td>\n",
       "    </tr>\n",
       "    <tr>\n",
       "      <th>1</th>\n",
       "      <td>72</td>\n",
       "      <td>1</td>\n",
       "      <td>Train</td>\n",
       "      <td>La Mesa</td>\n",
       "      <td>CA</td>\n",
       "      <td>US</td>\n",
       "      <td>91941</td>\n",
       "      <td>Master's</td>\n",
       "      <td>Anthropology</td>\n",
       "      <td>2011-01-01 00:00:00</td>\n",
       "      <td>10</td>\n",
       "      <td>8.0</td>\n",
       "      <td>Yes</td>\n",
       "      <td>No</td>\n",
       "      <td>0</td>\n",
       "    </tr>\n",
       "    <tr>\n",
       "      <th>2</th>\n",
       "      <td>80</td>\n",
       "      <td>1</td>\n",
       "      <td>Train</td>\n",
       "      <td>Williamstown</td>\n",
       "      <td>NJ</td>\n",
       "      <td>US</td>\n",
       "      <td>08094</td>\n",
       "      <td>High School</td>\n",
       "      <td>Not Applicable</td>\n",
       "      <td>1985-06-01 00:00:00</td>\n",
       "      <td>5</td>\n",
       "      <td>11.0</td>\n",
       "      <td>Yes</td>\n",
       "      <td>Yes</td>\n",
       "      <td>5</td>\n",
       "    </tr>\n",
       "    <tr>\n",
       "      <th>3</th>\n",
       "      <td>98</td>\n",
       "      <td>1</td>\n",
       "      <td>Train</td>\n",
       "      <td>Astoria</td>\n",
       "      <td>NY</td>\n",
       "      <td>US</td>\n",
       "      <td>11105</td>\n",
       "      <td>Master's</td>\n",
       "      <td>Journalism</td>\n",
       "      <td>2007-05-01 00:00:00</td>\n",
       "      <td>3</td>\n",
       "      <td>3.0</td>\n",
       "      <td>Yes</td>\n",
       "      <td>No</td>\n",
       "      <td>0</td>\n",
       "    </tr>\n",
       "    <tr>\n",
       "      <th>4</th>\n",
       "      <td>123</td>\n",
       "      <td>1</td>\n",
       "      <td>Train</td>\n",
       "      <td>Baton Rouge</td>\n",
       "      <td>LA</td>\n",
       "      <td>US</td>\n",
       "      <td>70808</td>\n",
       "      <td>Bachelor's</td>\n",
       "      <td>Agricultural Business</td>\n",
       "      <td>2011-05-01 00:00:00</td>\n",
       "      <td>1</td>\n",
       "      <td>9.0</td>\n",
       "      <td>Yes</td>\n",
       "      <td>No</td>\n",
       "      <td>0</td>\n",
       "    </tr>\n",
       "  </tbody>\n",
       "</table>\n",
       "</div>"
      ],
      "text/plain": [
       "   UserID  WindowID  Split          City State Country ZipCode   DegreeType  \\\n",
       "0      47         1  Train     Paramount    CA      US   90723  High School   \n",
       "1      72         1  Train       La Mesa    CA      US   91941     Master's   \n",
       "2      80         1  Train  Williamstown    NJ      US   08094  High School   \n",
       "3      98         1  Train       Astoria    NY      US   11105     Master's   \n",
       "4     123         1  Train   Baton Rouge    LA      US   70808   Bachelor's   \n",
       "\n",
       "                   Major       GraduationDate  WorkHistoryCount  \\\n",
       "0                    NaN  1999-06-01 00:00:00                 3   \n",
       "1           Anthropology  2011-01-01 00:00:00                10   \n",
       "2         Not Applicable  1985-06-01 00:00:00                 5   \n",
       "3             Journalism  2007-05-01 00:00:00                 3   \n",
       "4  Agricultural Business  2011-05-01 00:00:00                 1   \n",
       "\n",
       "   TotalYearsExperience CurrentlyEmployed ManagedOthers  ManagedHowMany  \n",
       "0                  10.0               Yes            No               0  \n",
       "1                   8.0               Yes            No               0  \n",
       "2                  11.0               Yes           Yes               5  \n",
       "3                   3.0               Yes            No               0  \n",
       "4                   9.0               Yes            No               0  "
      ]
     },
     "execution_count": 67,
     "metadata": {},
     "output_type": "execute_result"
    }
   ],
   "source": [
    "user_training_US.head()\n"
   ]
  },
  {
   "cell_type": "code",
   "execution_count": 68,
   "metadata": {},
   "outputs": [
    {
     "data": {
      "text/plain": [
       "(365740, 15)"
      ]
     },
     "execution_count": 68,
     "metadata": {},
     "output_type": "execute_result"
    }
   ],
   "source": [
    "user_training_US.shape"
   ]
  },
  {
   "cell_type": "code",
   "execution_count": 69,
   "metadata": {},
   "outputs": [
    {
     "data": {
      "text/html": [
       "<div>\n",
       "<style scoped>\n",
       "    .dataframe tbody tr th:only-of-type {\n",
       "        vertical-align: middle;\n",
       "    }\n",
       "\n",
       "    .dataframe tbody tr th {\n",
       "        vertical-align: top;\n",
       "    }\n",
       "\n",
       "    .dataframe thead th {\n",
       "        text-align: right;\n",
       "    }\n",
       "</style>\n",
       "<table border=\"1\" class=\"dataframe\">\n",
       "  <thead>\n",
       "    <tr style=\"text-align: right;\">\n",
       "      <th></th>\n",
       "      <th>State</th>\n",
       "      <th>Locationwise_state</th>\n",
       "    </tr>\n",
       "  </thead>\n",
       "  <tbody>\n",
       "    <tr>\n",
       "      <th>11</th>\n",
       "      <td>FL</td>\n",
       "      <td>40381</td>\n",
       "    </tr>\n",
       "    <tr>\n",
       "      <th>47</th>\n",
       "      <td>TX</td>\n",
       "      <td>33260</td>\n",
       "    </tr>\n",
       "    <tr>\n",
       "      <th>6</th>\n",
       "      <td>CA</td>\n",
       "      <td>31141</td>\n",
       "    </tr>\n",
       "    <tr>\n",
       "      <th>17</th>\n",
       "      <td>IL</td>\n",
       "      <td>22557</td>\n",
       "    </tr>\n",
       "    <tr>\n",
       "      <th>37</th>\n",
       "      <td>NY</td>\n",
       "      <td>19299</td>\n",
       "    </tr>\n",
       "  </tbody>\n",
       "</table>\n",
       "</div>"
      ],
      "text/plain": [
       "   State  Locationwise_state\n",
       "11    FL               40381\n",
       "47    TX               33260\n",
       "6     CA               31141\n",
       "17    IL               22557\n",
       "37    NY               19299"
      ]
     },
     "execution_count": 69,
     "metadata": {},
     "output_type": "execute_result"
    }
   ],
   "source": [
    "user_training_US.groupby(['State']).size().reset_index(name='Locationwise_state').sort_values('Locationwise_state',ascending=False).head()"
   ]
  },
  {
   "cell_type": "code",
   "execution_count": 70,
   "metadata": {},
   "outputs": [],
   "source": [
    "user_training_US_state_wise = user_training_US.groupby(['State']).size().reset_index( name='Locationwise_state').sort_values('Locationwise_state',ascending=False)"
   ]
  },
  {
   "cell_type": "code",
   "execution_count": 71,
   "metadata": {},
   "outputs": [],
   "source": [
    "#user_training_US_th = user_training_US_state_wise.loc[user_training_US_state_wise['Locationwise_state']>=12]"
   ]
  },
  {
   "cell_type": "code",
   "execution_count": 72,
   "metadata": {},
   "outputs": [
    {
     "data": {
      "image/png": "[encoded data removed]",
      "text/plain": [
       "<Figure size 576x576 with 1 Axes>"
      ]
     },
     "metadata": {
      "needs_background": "light"
     },
     "output_type": "display_data"
    }
   ],
   "source": [
    "plt.figure(figsize=(8,8))\n",
    "ax = sns.barplot(x=\"State\", y=\"Locationwise_state\",data=user_training_US_state_wise)\n",
    "ax.set_xticklabels(ax.get_xticklabels(), rotation=90, ha=\"right\")\n",
    "ax.set_title('State wise job seekers')\n",
    "plt.tight_layout()\n",
    "plt.show()"
   ]
  },
  {
   "cell_type": "code",
   "execution_count": 73,
   "metadata": {},
   "outputs": [
    {
     "data": {
      "text/html": [
       "<div>\n",
       "<style scoped>\n",
       "    .dataframe tbody tr th:only-of-type {\n",
       "        vertical-align: middle;\n",
       "    }\n",
       "\n",
       "    .dataframe tbody tr th {\n",
       "        vertical-align: top;\n",
       "    }\n",
       "\n",
       "    .dataframe thead th {\n",
       "        text-align: right;\n",
       "    }\n",
       "</style>\n",
       "<table border=\"1\" class=\"dataframe\">\n",
       "  <thead>\n",
       "    <tr style=\"text-align: right;\">\n",
       "      <th></th>\n",
       "      <th>City</th>\n",
       "      <th>Locationwise_city</th>\n",
       "    </tr>\n",
       "  </thead>\n",
       "  <tbody>\n",
       "    <tr>\n",
       "      <th>1528</th>\n",
       "      <td>Chicago</td>\n",
       "      <td>6964</td>\n",
       "    </tr>\n",
       "    <tr>\n",
       "      <th>4066</th>\n",
       "      <td>Houston</td>\n",
       "      <td>5487</td>\n",
       "    </tr>\n",
       "    <tr>\n",
       "      <th>4177</th>\n",
       "      <td>Indianapolis</td>\n",
       "      <td>4450</td>\n",
       "    </tr>\n",
       "    <tr>\n",
       "      <th>5604</th>\n",
       "      <td>Miami</td>\n",
       "      <td>4359</td>\n",
       "    </tr>\n",
       "    <tr>\n",
       "      <th>6965</th>\n",
       "      <td>Philadelphia</td>\n",
       "      <td>4347</td>\n",
       "    </tr>\n",
       "  </tbody>\n",
       "</table>\n",
       "</div>"
      ],
      "text/plain": [
       "              City  Locationwise_city\n",
       "1528       Chicago               6964\n",
       "4066       Houston               5487\n",
       "4177  Indianapolis               4450\n",
       "5604         Miami               4359\n",
       "6965  Philadelphia               4347"
      ]
     },
     "execution_count": 73,
     "metadata": {},
     "output_type": "execute_result"
    }
   ],
   "source": [
    "user_training_US.groupby(['City']).size().reset_index(name='Locationwise_city').sort_values('Locationwise_city',ascending=False).head()"
   ]
  },
  {
   "cell_type": "code",
   "execution_count": 74,
   "metadata": {},
   "outputs": [],
   "source": [
    "user_training_US_city_wise = user_training_US.groupby(['City']).size().reset_index(name='Locationwise_city').sort_values('Locationwise_city',ascending=False)"
   ]
  },
  {
   "cell_type": "code",
   "execution_count": 75,
   "metadata": {},
   "outputs": [
    {
     "data": {
      "text/html": [
       "<div>\n",
       "<style scoped>\n",
       "    .dataframe tbody tr th:only-of-type {\n",
       "        vertical-align: middle;\n",
       "    }\n",
       "\n",
       "    .dataframe tbody tr th {\n",
       "        vertical-align: top;\n",
       "    }\n",
       "\n",
       "    .dataframe thead th {\n",
       "        text-align: right;\n",
       "    }\n",
       "</style>\n",
       "<table border=\"1\" class=\"dataframe\">\n",
       "  <thead>\n",
       "    <tr style=\"text-align: right;\">\n",
       "      <th></th>\n",
       "      <th>City</th>\n",
       "      <th>Locationwise_city</th>\n",
       "    </tr>\n",
       "  </thead>\n",
       "  <tbody>\n",
       "    <tr>\n",
       "      <th>1528</th>\n",
       "      <td>Chicago</td>\n",
       "      <td>6964</td>\n",
       "    </tr>\n",
       "    <tr>\n",
       "      <th>4066</th>\n",
       "      <td>Houston</td>\n",
       "      <td>5487</td>\n",
       "    </tr>\n",
       "    <tr>\n",
       "      <th>4177</th>\n",
       "      <td>Indianapolis</td>\n",
       "      <td>4450</td>\n",
       "    </tr>\n",
       "    <tr>\n",
       "      <th>5604</th>\n",
       "      <td>Miami</td>\n",
       "      <td>4359</td>\n",
       "    </tr>\n",
       "    <tr>\n",
       "      <th>6965</th>\n",
       "      <td>Philadelphia</td>\n",
       "      <td>4347</td>\n",
       "    </tr>\n",
       "  </tbody>\n",
       "</table>\n",
       "</div>"
      ],
      "text/plain": [
       "              City  Locationwise_city\n",
       "1528       Chicago               6964\n",
       "4066       Houston               5487\n",
       "4177  Indianapolis               4450\n",
       "5604         Miami               4359\n",
       "6965  Philadelphia               4347"
      ]
     },
     "execution_count": 75,
     "metadata": {},
     "output_type": "execute_result"
    }
   ],
   "source": [
    "#user_training_US_City_th = user_training_US_city_wise.loc[user_training_US_city_wise['Locationwise_city']>=12]\n",
    "user_training_US_city_wise.head()"
   ]
  },
  {
   "cell_type": "code",
   "execution_count": 76,
   "metadata": {},
   "outputs": [
    {
     "data": {
      "image/png": "[encoded data removed]",
      "text/plain": [
       "<Figure size 648x360 with 1 Axes>"
      ]
     },
     "metadata": {
      "needs_background": "light"
     },
     "output_type": "display_data"
    }
   ],
   "source": [
    "plt.figure(figsize=(9,5))\n",
    "ax = sns.barplot(x=\"City\", y=\"Locationwise_city\",data=user_training_US_city_wise.head(50))\n",
    "ax.set_xticklabels(ax.get_xticklabels(), rotation=90, ha=\"right\")\n",
    "ax.set_title('State wise job seekers')\n",
    "plt.tight_layout()\n",
    "plt.show()"
   ]
  },
  {
   "cell_type": "raw",
   "metadata": {},
   "source": [
    "Here note that we are going to consider the US region for our further analysis. We are not removing any data records right now.\n",
    "\n",
    "Up-till now we have obtain the popular state and city for job seeker and job creator"
   ]
  },
  {
   "cell_type": "markdown",
   "metadata": {},
   "source": [
    "# content based job"
   ]
  },
  {
   "cell_type": "markdown",
   "metadata": {},
   "source": [
    "### Let's find out Similar jobs\n"
   ]
  },
  {
   "cell_type": "code",
   "execution_count": 77,
   "metadata": {},
   "outputs": [],
   "source": [
    "#we find  jobs on  jobs_US data"
   ]
  },
  {
   "cell_type": "code",
   "execution_count": 78,
   "metadata": {},
   "outputs": [
    {
     "data": {
      "text/html": [
       "<div>\n",
       "<style scoped>\n",
       "    .dataframe tbody tr th:only-of-type {\n",
       "        vertical-align: middle;\n",
       "    }\n",
       "\n",
       "    .dataframe tbody tr th {\n",
       "        vertical-align: top;\n",
       "    }\n",
       "\n",
       "    .dataframe thead th {\n",
       "        text-align: right;\n",
       "    }\n",
       "</style>\n",
       "<table border=\"1\" class=\"dataframe\">\n",
       "  <thead>\n",
       "    <tr style=\"text-align: right;\">\n",
       "      <th></th>\n",
       "      <th>JobID</th>\n",
       "      <th>WindowID</th>\n",
       "      <th>Title</th>\n",
       "      <th>Description</th>\n",
       "      <th>Requirements</th>\n",
       "      <th>City</th>\n",
       "      <th>State</th>\n",
       "      <th>Country</th>\n",
       "      <th>Zip5</th>\n",
       "      <th>StartDate</th>\n",
       "      <th>EndDate</th>\n",
       "    </tr>\n",
       "  </thead>\n",
       "  <tbody>\n",
       "    <tr>\n",
       "      <th>0</th>\n",
       "      <td>1</td>\n",
       "      <td>1</td>\n",
       "      <td>Security Engineer/Technical Lead</td>\n",
       "      <td>&lt;p&gt;Security Clearance Required:&amp;nbsp; Top Secr...</td>\n",
       "      <td>&lt;p&gt;SKILL SET&lt;/p&gt;\\r&lt;p&gt;&amp;nbsp;&lt;/p&gt;\\r&lt;p&gt;Network Se...</td>\n",
       "      <td>Washington</td>\n",
       "      <td>DC</td>\n",
       "      <td>US</td>\n",
       "      <td>20531</td>\n",
       "      <td>2012-03-07 13:17:01.643</td>\n",
       "      <td>2012-04-06 23:59:59</td>\n",
       "    </tr>\n",
       "    <tr>\n",
       "      <th>1</th>\n",
       "      <td>4</td>\n",
       "      <td>1</td>\n",
       "      <td>SAP Business Analyst / WM</td>\n",
       "      <td>&lt;strong&gt;NO Corp. to Corp resumes&amp;nbsp;are bein...</td>\n",
       "      <td>&lt;p&gt;&lt;b&gt;WHAT YOU NEED: &lt;/b&gt;&lt;/p&gt;\\r&lt;p&gt;Four year co...</td>\n",
       "      <td>Charlotte</td>\n",
       "      <td>NC</td>\n",
       "      <td>US</td>\n",
       "      <td>28217</td>\n",
       "      <td>2012-03-21 02:03:44.137</td>\n",
       "      <td>2012-04-20 23:59:59</td>\n",
       "    </tr>\n",
       "    <tr>\n",
       "      <th>2</th>\n",
       "      <td>7</td>\n",
       "      <td>1</td>\n",
       "      <td>P/T HUMAN RESOURCES ASSISTANT</td>\n",
       "      <td>&lt;b&gt;    &lt;b&gt; P/T HUMAN RESOURCES ASSISTANT&lt;/b&gt; &lt;...</td>\n",
       "      <td>Please refer to the Job Description to view th...</td>\n",
       "      <td>Winter Park</td>\n",
       "      <td>FL</td>\n",
       "      <td>US</td>\n",
       "      <td>32792</td>\n",
       "      <td>2012-03-02 16:36:55.447</td>\n",
       "      <td>2012-04-01 23:59:59</td>\n",
       "    </tr>\n",
       "    <tr>\n",
       "      <th>3</th>\n",
       "      <td>8</td>\n",
       "      <td>1</td>\n",
       "      <td>Route Delivery Drivers</td>\n",
       "      <td>CITY BEVERAGES Come to work for the best in th...</td>\n",
       "      <td>Please refer to the Job Description to view th...</td>\n",
       "      <td>Orlando</td>\n",
       "      <td>FL</td>\n",
       "      <td>US</td>\n",
       "      <td>NaN</td>\n",
       "      <td>2012-03-03 09:01:10.077</td>\n",
       "      <td>2012-04-02 23:59:59</td>\n",
       "    </tr>\n",
       "    <tr>\n",
       "      <th>4</th>\n",
       "      <td>9</td>\n",
       "      <td>1</td>\n",
       "      <td>Housekeeping</td>\n",
       "      <td>I make  sure every part of their day is magica...</td>\n",
       "      <td>Please refer to the Job Description to view th...</td>\n",
       "      <td>Orlando</td>\n",
       "      <td>FL</td>\n",
       "      <td>US</td>\n",
       "      <td>NaN</td>\n",
       "      <td>2012-03-03 09:01:11.88</td>\n",
       "      <td>2012-04-02 23:59:59</td>\n",
       "    </tr>\n",
       "  </tbody>\n",
       "</table>\n",
       "</div>"
      ],
      "text/plain": [
       "   JobID  WindowID                             Title  \\\n",
       "0      1         1  Security Engineer/Technical Lead   \n",
       "1      4         1         SAP Business Analyst / WM   \n",
       "2      7         1     P/T HUMAN RESOURCES ASSISTANT   \n",
       "3      8         1            Route Delivery Drivers   \n",
       "4      9         1                      Housekeeping   \n",
       "\n",
       "                                         Description  \\\n",
       "0  <p>Security Clearance Required:&nbsp; Top Secr...   \n",
       "1  <strong>NO Corp. to Corp resumes&nbsp;are bein...   \n",
       "2  <b>    <b> P/T HUMAN RESOURCES ASSISTANT</b> <...   \n",
       "3  CITY BEVERAGES Come to work for the best in th...   \n",
       "4  I make  sure every part of their day is magica...   \n",
       "\n",
       "                                        Requirements         City State  \\\n",
       "0  <p>SKILL SET</p>\\r<p>&nbsp;</p>\\r<p>Network Se...   Washington    DC   \n",
       "1  <p><b>WHAT YOU NEED: </b></p>\\r<p>Four year co...    Charlotte    NC   \n",
       "2  Please refer to the Job Description to view th...  Winter Park    FL   \n",
       "3  Please refer to the Job Description to view th...      Orlando    FL   \n",
       "4  Please refer to the Job Description to view th...      Orlando    FL   \n",
       "\n",
       "  Country   Zip5                StartDate              EndDate  \n",
       "0      US  20531  2012-03-07 13:17:01.643  2012-04-06 23:59:59  \n",
       "1      US  28217  2012-03-21 02:03:44.137  2012-04-20 23:59:59  \n",
       "2      US  32792  2012-03-02 16:36:55.447  2012-04-01 23:59:59  \n",
       "3      US    NaN  2012-03-03 09:01:10.077  2012-04-02 23:59:59  \n",
       "4      US    NaN   2012-03-03 09:01:11.88  2012-04-02 23:59:59  "
      ]
     },
     "execution_count": 78,
     "metadata": {},
     "output_type": "execute_result"
    }
   ],
   "source": [
    "jobs_US.head()"
   ]
  },
  {
   "cell_type": "code",
   "execution_count": 79,
   "metadata": {},
   "outputs": [
    {
     "data": {
      "text/plain": [
       "Index(['JobID', 'WindowID', 'Title', 'Description', 'Requirements', 'City',\n",
       "       'State', 'Country', 'Zip5', 'StartDate', 'EndDate'],\n",
       "      dtype='object')"
      ]
     },
     "execution_count": 79,
     "metadata": {},
     "output_type": "execute_result"
    }
   ],
   "source": [
    "jobs_US.columns"
   ]
  },
  {
   "cell_type": "code",
   "execution_count": 80,
   "metadata": {},
   "outputs": [
    {
     "data": {
      "text/plain": [
       "(605212, 11)"
      ]
     },
     "execution_count": 80,
     "metadata": {},
     "output_type": "execute_result"
    }
   ],
   "source": [
    "jobs_US.shape"
   ]
  },
  {
   "cell_type": "code",
   "execution_count": 81,
   "metadata": {},
   "outputs": [],
   "source": [
    "#jobs_US.head().transpose()"
   ]
  },
  {
   "cell_type": "code",
   "execution_count": 82,
   "metadata": {},
   "outputs": [],
   "source": [
    "jobs_US_base_line = jobs_US.iloc[0:10000,0:8]"
   ]
  },
  {
   "cell_type": "code",
   "execution_count": 83,
   "metadata": {},
   "outputs": [
    {
     "data": {
      "text/plain": [
       "0    False\n",
       "1    False\n",
       "2    False\n",
       "3    False\n",
       "4    False\n",
       "5    False\n",
       "6    False\n",
       "7    False\n",
       "8    False\n",
       "9    False\n",
       "Name: Title, dtype: bool"
      ]
     },
     "execution_count": 83,
     "metadata": {},
     "output_type": "execute_result"
    }
   ],
   "source": [
    "\n",
    "jobs_US_base_line['Title'].isnull().head(10)"
   ]
  },
  {
   "cell_type": "code",
   "execution_count": 84,
   "metadata": {},
   "outputs": [
    {
     "data": {
      "text/html": [
       "<div>\n",
       "<style scoped>\n",
       "    .dataframe tbody tr th:only-of-type {\n",
       "        vertical-align: middle;\n",
       "    }\n",
       "\n",
       "    .dataframe tbody tr th {\n",
       "        vertical-align: top;\n",
       "    }\n",
       "\n",
       "    .dataframe thead th {\n",
       "        text-align: right;\n",
       "    }\n",
       "</style>\n",
       "<table border=\"1\" class=\"dataframe\">\n",
       "  <thead>\n",
       "    <tr style=\"text-align: right;\">\n",
       "      <th></th>\n",
       "      <th>JobID</th>\n",
       "      <th>WindowID</th>\n",
       "      <th>Title</th>\n",
       "      <th>Description</th>\n",
       "      <th>Requirements</th>\n",
       "      <th>City</th>\n",
       "      <th>State</th>\n",
       "      <th>Country</th>\n",
       "    </tr>\n",
       "  </thead>\n",
       "  <tbody>\n",
       "    <tr>\n",
       "      <th>0</th>\n",
       "      <td>1</td>\n",
       "      <td>1</td>\n",
       "      <td>Security Engineer/Technical Lead</td>\n",
       "      <td>&lt;p&gt;Security Clearance Required:&amp;nbsp; Top Secr...</td>\n",
       "      <td>&lt;p&gt;SKILL SET&lt;/p&gt;\\r&lt;p&gt;&amp;nbsp;&lt;/p&gt;\\r&lt;p&gt;Network Se...</td>\n",
       "      <td>Washington</td>\n",
       "      <td>DC</td>\n",
       "      <td>US</td>\n",
       "    </tr>\n",
       "    <tr>\n",
       "      <th>1</th>\n",
       "      <td>4</td>\n",
       "      <td>1</td>\n",
       "      <td>SAP Business Analyst / WM</td>\n",
       "      <td>&lt;strong&gt;NO Corp. to Corp resumes&amp;nbsp;are bein...</td>\n",
       "      <td>&lt;p&gt;&lt;b&gt;WHAT YOU NEED: &lt;/b&gt;&lt;/p&gt;\\r&lt;p&gt;Four year co...</td>\n",
       "      <td>Charlotte</td>\n",
       "      <td>NC</td>\n",
       "      <td>US</td>\n",
       "    </tr>\n",
       "    <tr>\n",
       "      <th>2</th>\n",
       "      <td>7</td>\n",
       "      <td>1</td>\n",
       "      <td>P/T HUMAN RESOURCES ASSISTANT</td>\n",
       "      <td>&lt;b&gt;    &lt;b&gt; P/T HUMAN RESOURCES ASSISTANT&lt;/b&gt; &lt;...</td>\n",
       "      <td>Please refer to the Job Description to view th...</td>\n",
       "      <td>Winter Park</td>\n",
       "      <td>FL</td>\n",
       "      <td>US</td>\n",
       "    </tr>\n",
       "    <tr>\n",
       "      <th>3</th>\n",
       "      <td>8</td>\n",
       "      <td>1</td>\n",
       "      <td>Route Delivery Drivers</td>\n",
       "      <td>CITY BEVERAGES Come to work for the best in th...</td>\n",
       "      <td>Please refer to the Job Description to view th...</td>\n",
       "      <td>Orlando</td>\n",
       "      <td>FL</td>\n",
       "      <td>US</td>\n",
       "    </tr>\n",
       "    <tr>\n",
       "      <th>4</th>\n",
       "      <td>9</td>\n",
       "      <td>1</td>\n",
       "      <td>Housekeeping</td>\n",
       "      <td>I make  sure every part of their day is magica...</td>\n",
       "      <td>Please refer to the Job Description to view th...</td>\n",
       "      <td>Orlando</td>\n",
       "      <td>FL</td>\n",
       "      <td>US</td>\n",
       "    </tr>\n",
       "  </tbody>\n",
       "</table>\n",
       "</div>"
      ],
      "text/plain": [
       "   JobID  WindowID                             Title  \\\n",
       "0      1         1  Security Engineer/Technical Lead   \n",
       "1      4         1         SAP Business Analyst / WM   \n",
       "2      7         1     P/T HUMAN RESOURCES ASSISTANT   \n",
       "3      8         1            Route Delivery Drivers   \n",
       "4      9         1                      Housekeeping   \n",
       "\n",
       "                                         Description  \\\n",
       "0  <p>Security Clearance Required:&nbsp; Top Secr...   \n",
       "1  <strong>NO Corp. to Corp resumes&nbsp;are bein...   \n",
       "2  <b>    <b> P/T HUMAN RESOURCES ASSISTANT</b> <...   \n",
       "3  CITY BEVERAGES Come to work for the best in th...   \n",
       "4  I make  sure every part of their day is magica...   \n",
       "\n",
       "                                        Requirements         City State  \\\n",
       "0  <p>SKILL SET</p>\\r<p>&nbsp;</p>\\r<p>Network Se...   Washington    DC   \n",
       "1  <p><b>WHAT YOU NEED: </b></p>\\r<p>Four year co...    Charlotte    NC   \n",
       "2  Please refer to the Job Description to view th...  Winter Park    FL   \n",
       "3  Please refer to the Job Description to view th...      Orlando    FL   \n",
       "4  Please refer to the Job Description to view th...      Orlando    FL   \n",
       "\n",
       "  Country  \n",
       "0      US  \n",
       "1      US  \n",
       "2      US  \n",
       "3      US  \n",
       "4      US  "
      ]
     },
     "execution_count": 84,
     "metadata": {},
     "output_type": "execute_result"
    }
   ],
   "source": [
    "jobs_US_base_line.head()\n"
   ]
  },
  {
   "cell_type": "code",
   "execution_count": 85,
   "metadata": {},
   "outputs": [
    {
     "data": {
      "text/html": [
       "<div>\n",
       "<style scoped>\n",
       "    .dataframe tbody tr th:only-of-type {\n",
       "        vertical-align: middle;\n",
       "    }\n",
       "\n",
       "    .dataframe tbody tr th {\n",
       "        vertical-align: top;\n",
       "    }\n",
       "\n",
       "    .dataframe thead th {\n",
       "        text-align: right;\n",
       "    }\n",
       "</style>\n",
       "<table border=\"1\" class=\"dataframe\">\n",
       "  <thead>\n",
       "    <tr style=\"text-align: right;\">\n",
       "      <th></th>\n",
       "      <th>JobID</th>\n",
       "      <th>WindowID</th>\n",
       "      <th>Title</th>\n",
       "      <th>Description</th>\n",
       "      <th>Requirements</th>\n",
       "      <th>City</th>\n",
       "      <th>State</th>\n",
       "      <th>Country</th>\n",
       "    </tr>\n",
       "  </thead>\n",
       "  <tbody>\n",
       "    <tr>\n",
       "      <th>0</th>\n",
       "      <td>1</td>\n",
       "      <td>1</td>\n",
       "      <td>Security Engineer/Technical Lead</td>\n",
       "      <td>&lt;p&gt;Security Clearance Required:&amp;nbsp; Top Secr...</td>\n",
       "      <td>&lt;p&gt;SKILL SET&lt;/p&gt;\\r&lt;p&gt;&amp;nbsp;&lt;/p&gt;\\r&lt;p&gt;Network Se...</td>\n",
       "      <td>Washington</td>\n",
       "      <td>DC</td>\n",
       "      <td>US</td>\n",
       "    </tr>\n",
       "    <tr>\n",
       "      <th>1</th>\n",
       "      <td>4</td>\n",
       "      <td>1</td>\n",
       "      <td>SAP Business Analyst / WM</td>\n",
       "      <td>&lt;strong&gt;NO Corp. to Corp resumes&amp;nbsp;are bein...</td>\n",
       "      <td>&lt;p&gt;&lt;b&gt;WHAT YOU NEED: &lt;/b&gt;&lt;/p&gt;\\r&lt;p&gt;Four year co...</td>\n",
       "      <td>Charlotte</td>\n",
       "      <td>NC</td>\n",
       "      <td>US</td>\n",
       "    </tr>\n",
       "    <tr>\n",
       "      <th>2</th>\n",
       "      <td>7</td>\n",
       "      <td>1</td>\n",
       "      <td>P/T HUMAN RESOURCES ASSISTANT</td>\n",
       "      <td>&lt;b&gt;    &lt;b&gt; P/T HUMAN RESOURCES ASSISTANT&lt;/b&gt; &lt;...</td>\n",
       "      <td>Please refer to the Job Description to view th...</td>\n",
       "      <td>Winter Park</td>\n",
       "      <td>FL</td>\n",
       "      <td>US</td>\n",
       "    </tr>\n",
       "    <tr>\n",
       "      <th>3</th>\n",
       "      <td>8</td>\n",
       "      <td>1</td>\n",
       "      <td>Route Delivery Drivers</td>\n",
       "      <td>CITY BEVERAGES Come to work for the best in th...</td>\n",
       "      <td>Please refer to the Job Description to view th...</td>\n",
       "      <td>Orlando</td>\n",
       "      <td>FL</td>\n",
       "      <td>US</td>\n",
       "    </tr>\n",
       "    <tr>\n",
       "      <th>4</th>\n",
       "      <td>9</td>\n",
       "      <td>1</td>\n",
       "      <td>Housekeeping</td>\n",
       "      <td>I make  sure every part of their day is magica...</td>\n",
       "      <td>Please refer to the Job Description to view th...</td>\n",
       "      <td>Orlando</td>\n",
       "      <td>FL</td>\n",
       "      <td>US</td>\n",
       "    </tr>\n",
       "  </tbody>\n",
       "</table>\n",
       "</div>"
      ],
      "text/plain": [
       "   JobID  WindowID                             Title  \\\n",
       "0      1         1  Security Engineer/Technical Lead   \n",
       "1      4         1         SAP Business Analyst / WM   \n",
       "2      7         1     P/T HUMAN RESOURCES ASSISTANT   \n",
       "3      8         1            Route Delivery Drivers   \n",
       "4      9         1                      Housekeeping   \n",
       "\n",
       "                                         Description  \\\n",
       "0  <p>Security Clearance Required:&nbsp; Top Secr...   \n",
       "1  <strong>NO Corp. to Corp resumes&nbsp;are bein...   \n",
       "2  <b>    <b> P/T HUMAN RESOURCES ASSISTANT</b> <...   \n",
       "3  CITY BEVERAGES Come to work for the best in th...   \n",
       "4  I make  sure every part of their day is magica...   \n",
       "\n",
       "                                        Requirements         City State  \\\n",
       "0  <p>SKILL SET</p>\\r<p>&nbsp;</p>\\r<p>Network Se...   Washington    DC   \n",
       "1  <p><b>WHAT YOU NEED: </b></p>\\r<p>Four year co...    Charlotte    NC   \n",
       "2  Please refer to the Job Description to view th...  Winter Park    FL   \n",
       "3  Please refer to the Job Description to view th...      Orlando    FL   \n",
       "4  Please refer to the Job Description to view th...      Orlando    FL   \n",
       "\n",
       "  Country  \n",
       "0      US  \n",
       "1      US  \n",
       "2      US  \n",
       "3      US  \n",
       "4      US  "
      ]
     },
     "execution_count": 85,
     "metadata": {},
     "output_type": "execute_result"
    }
   ],
   "source": [
    "jobs_US_base_line['Title'] = jobs_US_base_line['Title'].fillna('')\n",
    "jobs_US_base_line.head()"
   ]
  },
  {
   "cell_type": "code",
   "execution_count": 86,
   "metadata": {},
   "outputs": [
    {
     "data": {
      "text/plain": [
       "0    False\n",
       "1    False\n",
       "2    False\n",
       "3    False\n",
       "4    False\n",
       "5    False\n",
       "6    False\n",
       "7    False\n",
       "8    False\n",
       "9    False\n",
       "Name: Description, dtype: bool"
      ]
     },
     "execution_count": 86,
     "metadata": {},
     "output_type": "execute_result"
    }
   ],
   "source": [
    "jobs_US_base_line['Description'].isnull().head(10)"
   ]
  },
  {
   "cell_type": "code",
   "execution_count": 87,
   "metadata": {},
   "outputs": [],
   "source": [
    "jobs_US_base_line['Description'] = jobs_US_base_line['Description'].fillna('')"
   ]
  },
  {
   "cell_type": "code",
   "execution_count": 88,
   "metadata": {},
   "outputs": [
    {
     "data": {
      "text/plain": [
       "0    False\n",
       "1    False\n",
       "2    False\n",
       "3    False\n",
       "4    False\n",
       "Name: Requirements, dtype: bool"
      ]
     },
     "execution_count": 88,
     "metadata": {},
     "output_type": "execute_result"
    }
   ],
   "source": [
    "jobs_US_base_line['Requirements'].isnull().head()\n"
   ]
  },
  {
   "cell_type": "code",
   "execution_count": 89,
   "metadata": {},
   "outputs": [],
   "source": [
    "jobs_US_base_line['Requirements'] = jobs_US_base_line['Requirements'].fillna('')\n"
   ]
  },
  {
   "cell_type": "code",
   "execution_count": 90,
   "metadata": {},
   "outputs": [
    {
     "data": {
      "text/plain": [
       "0    Security Engineer/Technical Lead<p>Security Cl...\n",
       "1    SAP Business Analyst / WM<strong>NO Corp. to C...\n",
       "2    P/T HUMAN RESOURCES ASSISTANT<b>    <b> P/T HU...\n",
       "3    Route Delivery DriversCITY BEVERAGES Come to w...\n",
       "4    HousekeepingI make  sure every part of their d...\n",
       "Name: Description, dtype: object"
      ]
     },
     "execution_count": 90,
     "metadata": {},
     "output_type": "execute_result"
    }
   ],
   "source": [
    "#merge description column and title column in description\n",
    "jobs_US_base_line['Description'] = jobs_US_base_line['Title'] + jobs_US_base_line['Description']\n",
    "desc=jobs_US_base_line['Description']\n",
    "desc.head()\n"
   ]
  },
  {
   "cell_type": "code",
   "execution_count": 91,
   "metadata": {},
   "outputs": [
    {
     "data": {
      "text/html": [
       "<div>\n",
       "<style scoped>\n",
       "    .dataframe tbody tr th:only-of-type {\n",
       "        vertical-align: middle;\n",
       "    }\n",
       "\n",
       "    .dataframe tbody tr th {\n",
       "        vertical-align: top;\n",
       "    }\n",
       "\n",
       "    .dataframe thead th {\n",
       "        text-align: right;\n",
       "    }\n",
       "</style>\n",
       "<table border=\"1\" class=\"dataframe\">\n",
       "  <thead>\n",
       "    <tr style=\"text-align: right;\">\n",
       "      <th></th>\n",
       "      <th>JobID</th>\n",
       "      <th>WindowID</th>\n",
       "      <th>Title</th>\n",
       "      <th>Description</th>\n",
       "      <th>Requirements</th>\n",
       "      <th>City</th>\n",
       "      <th>State</th>\n",
       "      <th>Country</th>\n",
       "    </tr>\n",
       "  </thead>\n",
       "  <tbody>\n",
       "    <tr>\n",
       "      <th>0</th>\n",
       "      <td>1</td>\n",
       "      <td>1</td>\n",
       "      <td>Security Engineer/Technical Lead</td>\n",
       "      <td>Security Engineer/Technical Lead&lt;p&gt;Security Cl...</td>\n",
       "      <td>&lt;p&gt;SKILL SET&lt;/p&gt;\\r&lt;p&gt;&amp;nbsp;&lt;/p&gt;\\r&lt;p&gt;Network Se...</td>\n",
       "      <td>Washington</td>\n",
       "      <td>DC</td>\n",
       "      <td>US</td>\n",
       "    </tr>\n",
       "    <tr>\n",
       "      <th>1</th>\n",
       "      <td>4</td>\n",
       "      <td>1</td>\n",
       "      <td>SAP Business Analyst / WM</td>\n",
       "      <td>SAP Business Analyst / WM&lt;strong&gt;NO Corp. to C...</td>\n",
       "      <td>&lt;p&gt;&lt;b&gt;WHAT YOU NEED: &lt;/b&gt;&lt;/p&gt;\\r&lt;p&gt;Four year co...</td>\n",
       "      <td>Charlotte</td>\n",
       "      <td>NC</td>\n",
       "      <td>US</td>\n",
       "    </tr>\n",
       "    <tr>\n",
       "      <th>2</th>\n",
       "      <td>7</td>\n",
       "      <td>1</td>\n",
       "      <td>P/T HUMAN RESOURCES ASSISTANT</td>\n",
       "      <td>P/T HUMAN RESOURCES ASSISTANT&lt;b&gt;    &lt;b&gt; P/T HU...</td>\n",
       "      <td>Please refer to the Job Description to view th...</td>\n",
       "      <td>Winter Park</td>\n",
       "      <td>FL</td>\n",
       "      <td>US</td>\n",
       "    </tr>\n",
       "    <tr>\n",
       "      <th>3</th>\n",
       "      <td>8</td>\n",
       "      <td>1</td>\n",
       "      <td>Route Delivery Drivers</td>\n",
       "      <td>Route Delivery DriversCITY BEVERAGES Come to w...</td>\n",
       "      <td>Please refer to the Job Description to view th...</td>\n",
       "      <td>Orlando</td>\n",
       "      <td>FL</td>\n",
       "      <td>US</td>\n",
       "    </tr>\n",
       "    <tr>\n",
       "      <th>4</th>\n",
       "      <td>9</td>\n",
       "      <td>1</td>\n",
       "      <td>Housekeeping</td>\n",
       "      <td>HousekeepingI make  sure every part of their d...</td>\n",
       "      <td>Please refer to the Job Description to view th...</td>\n",
       "      <td>Orlando</td>\n",
       "      <td>FL</td>\n",
       "      <td>US</td>\n",
       "    </tr>\n",
       "  </tbody>\n",
       "</table>\n",
       "</div>"
      ],
      "text/plain": [
       "   JobID  WindowID                             Title  \\\n",
       "0      1         1  Security Engineer/Technical Lead   \n",
       "1      4         1         SAP Business Analyst / WM   \n",
       "2      7         1     P/T HUMAN RESOURCES ASSISTANT   \n",
       "3      8         1            Route Delivery Drivers   \n",
       "4      9         1                      Housekeeping   \n",
       "\n",
       "                                         Description  \\\n",
       "0  Security Engineer/Technical Lead<p>Security Cl...   \n",
       "1  SAP Business Analyst / WM<strong>NO Corp. to C...   \n",
       "2  P/T HUMAN RESOURCES ASSISTANT<b>    <b> P/T HU...   \n",
       "3  Route Delivery DriversCITY BEVERAGES Come to w...   \n",
       "4  HousekeepingI make  sure every part of their d...   \n",
       "\n",
       "                                        Requirements         City State  \\\n",
       "0  <p>SKILL SET</p>\\r<p>&nbsp;</p>\\r<p>Network Se...   Washington    DC   \n",
       "1  <p><b>WHAT YOU NEED: </b></p>\\r<p>Four year co...    Charlotte    NC   \n",
       "2  Please refer to the Job Description to view th...  Winter Park    FL   \n",
       "3  Please refer to the Job Description to view th...      Orlando    FL   \n",
       "4  Please refer to the Job Description to view th...      Orlando    FL   \n",
       "\n",
       "  Country  \n",
       "0      US  \n",
       "1      US  \n",
       "2      US  \n",
       "3      US  \n",
       "4      US  "
      ]
     },
     "execution_count": 91,
     "metadata": {},
     "output_type": "execute_result"
    }
   ],
   "source": [
    "jobs_US_base_line.head()"
   ]
  },
  {
   "cell_type": "code",
   "execution_count": 92,
   "metadata": {},
   "outputs": [],
   "source": [
    "from sklearn.feature_extraction.text import CountVectorizer"
   ]
  },
  {
   "cell_type": "code",
   "execution_count": 93,
   "metadata": {},
   "outputs": [],
   "source": [
    "Cv=CountVectorizer()"
   ]
  },
  {
   "cell_type": "code",
   "execution_count": 94,
   "metadata": {},
   "outputs": [
    {
     "data": {
      "text/plain": [
       "(10000, 39873)"
      ]
     },
     "execution_count": 94,
     "metadata": {},
     "output_type": "execute_result"
    }
   ],
   "source": [
    "CV_matrix=Cv.fit_transform(jobs_US_base_line['Description'])\n",
    "CV_matrix.shape"
   ]
  },
  {
   "cell_type": "code",
   "execution_count": 95,
   "metadata": {},
   "outputs": [],
   "source": [
    "from sklearn.feature_extraction.text import TfidfTransformer"
   ]
  },
  {
   "cell_type": "code",
   "execution_count": 96,
   "metadata": {},
   "outputs": [],
   "source": [
    "tfidf_transfer=TfidfTransformer()"
   ]
  },
  {
   "cell_type": "code",
   "execution_count": 97,
   "metadata": {},
   "outputs": [],
   "source": [
    "tfidf_matrix=tfidf_transfer.fit_transform(CV_matrix)"
   ]
  },
  {
   "cell_type": "code",
   "execution_count": 98,
   "metadata": {},
   "outputs": [
    {
     "data": {
      "text/plain": [
       "(10000, 39873)"
      ]
     },
     "execution_count": 98,
     "metadata": {},
     "output_type": "execute_result"
    }
   ],
   "source": [
    "tfidf_matrix.shape"
   ]
  },
  {
   "cell_type": "code",
   "execution_count": 99,
   "metadata": {},
   "outputs": [],
   "source": [
    "from sklearn.metrics.pairwise import linear_kernel, cosine_similarity"
   ]
  },
  {
   "cell_type": "code",
   "execution_count": 100,
   "metadata": {},
   "outputs": [],
   "source": [
    "# http://scikit-learn.org/stable/modules/metrics.html#linear-kernel\n",
    "cosine_sim = linear_kernel(tfidf_matrix, tfidf_matrix)"
   ]
  },
  {
   "cell_type": "code",
   "execution_count": 101,
   "metadata": {},
   "outputs": [
    {
     "data": {
      "text/plain": [
       "array([0.12193633, 1.        , 0.03680659, ..., 0.14937868, 0.14937868,\n",
       "       0.14937868])"
      ]
     },
     "execution_count": 101,
     "metadata": {},
     "output_type": "execute_result"
    }
   ],
   "source": [
    "cosine_sim[1]"
   ]
  },
  {
   "cell_type": "code",
   "execution_count": 102,
   "metadata": {},
   "outputs": [
    {
     "data": {
      "text/html": [
       "<div>\n",
       "<style scoped>\n",
       "    .dataframe tbody tr th:only-of-type {\n",
       "        vertical-align: middle;\n",
       "    }\n",
       "\n",
       "    .dataframe tbody tr th {\n",
       "        vertical-align: top;\n",
       "    }\n",
       "\n",
       "    .dataframe thead th {\n",
       "        text-align: right;\n",
       "    }\n",
       "</style>\n",
       "<table border=\"1\" class=\"dataframe\">\n",
       "  <thead>\n",
       "    <tr style=\"text-align: right;\">\n",
       "      <th></th>\n",
       "      <th>index</th>\n",
       "      <th>JobID</th>\n",
       "      <th>WindowID</th>\n",
       "      <th>Title</th>\n",
       "      <th>Description</th>\n",
       "      <th>Requirements</th>\n",
       "      <th>City</th>\n",
       "      <th>State</th>\n",
       "      <th>Country</th>\n",
       "    </tr>\n",
       "  </thead>\n",
       "  <tbody>\n",
       "    <tr>\n",
       "      <th>0</th>\n",
       "      <td>0</td>\n",
       "      <td>1</td>\n",
       "      <td>1</td>\n",
       "      <td>Security Engineer/Technical Lead</td>\n",
       "      <td>Security Engineer/Technical Lead&lt;p&gt;Security Cl...</td>\n",
       "      <td>&lt;p&gt;SKILL SET&lt;/p&gt;\\r&lt;p&gt;&amp;nbsp;&lt;/p&gt;\\r&lt;p&gt;Network Se...</td>\n",
       "      <td>Washington</td>\n",
       "      <td>DC</td>\n",
       "      <td>US</td>\n",
       "    </tr>\n",
       "    <tr>\n",
       "      <th>1</th>\n",
       "      <td>1</td>\n",
       "      <td>4</td>\n",
       "      <td>1</td>\n",
       "      <td>SAP Business Analyst / WM</td>\n",
       "      <td>SAP Business Analyst / WM&lt;strong&gt;NO Corp. to C...</td>\n",
       "      <td>&lt;p&gt;&lt;b&gt;WHAT YOU NEED: &lt;/b&gt;&lt;/p&gt;\\r&lt;p&gt;Four year co...</td>\n",
       "      <td>Charlotte</td>\n",
       "      <td>NC</td>\n",
       "      <td>US</td>\n",
       "    </tr>\n",
       "    <tr>\n",
       "      <th>2</th>\n",
       "      <td>2</td>\n",
       "      <td>7</td>\n",
       "      <td>1</td>\n",
       "      <td>P/T HUMAN RESOURCES ASSISTANT</td>\n",
       "      <td>P/T HUMAN RESOURCES ASSISTANT&lt;b&gt;    &lt;b&gt; P/T HU...</td>\n",
       "      <td>Please refer to the Job Description to view th...</td>\n",
       "      <td>Winter Park</td>\n",
       "      <td>FL</td>\n",
       "      <td>US</td>\n",
       "    </tr>\n",
       "    <tr>\n",
       "      <th>3</th>\n",
       "      <td>3</td>\n",
       "      <td>8</td>\n",
       "      <td>1</td>\n",
       "      <td>Route Delivery Drivers</td>\n",
       "      <td>Route Delivery DriversCITY BEVERAGES Come to w...</td>\n",
       "      <td>Please refer to the Job Description to view th...</td>\n",
       "      <td>Orlando</td>\n",
       "      <td>FL</td>\n",
       "      <td>US</td>\n",
       "    </tr>\n",
       "    <tr>\n",
       "      <th>4</th>\n",
       "      <td>4</td>\n",
       "      <td>9</td>\n",
       "      <td>1</td>\n",
       "      <td>Housekeeping</td>\n",
       "      <td>HousekeepingI make  sure every part of their d...</td>\n",
       "      <td>Please refer to the Job Description to view th...</td>\n",
       "      <td>Orlando</td>\n",
       "      <td>FL</td>\n",
       "      <td>US</td>\n",
       "    </tr>\n",
       "    <tr>\n",
       "      <th>5</th>\n",
       "      <td>5</td>\n",
       "      <td>10</td>\n",
       "      <td>1</td>\n",
       "      <td>SALON/SPA COORDINATOR</td>\n",
       "      <td>SALON/SPA COORDINATOR&lt;b&gt;    &lt;b&gt;— SALON/SPA COO...</td>\n",
       "      <td>Please refer to the Job Description to view th...</td>\n",
       "      <td>Ormond Beach</td>\n",
       "      <td>FL</td>\n",
       "      <td>US</td>\n",
       "    </tr>\n",
       "    <tr>\n",
       "      <th>6</th>\n",
       "      <td>6</td>\n",
       "      <td>11</td>\n",
       "      <td>1</td>\n",
       "      <td>SUPERINTENDENT</td>\n",
       "      <td>SUPERINTENDENT&lt;b&gt;    &lt;b&gt;SUPERINTENDENT&lt;/b&gt; &lt;/b...</td>\n",
       "      <td>Please refer to the Job Description to view th...</td>\n",
       "      <td>Orlando</td>\n",
       "      <td>FL</td>\n",
       "      <td>US</td>\n",
       "    </tr>\n",
       "    <tr>\n",
       "      <th>7</th>\n",
       "      <td>7</td>\n",
       "      <td>12</td>\n",
       "      <td>1</td>\n",
       "      <td>ELECTRONIC PRE-PRESS PROFESSIONAL</td>\n",
       "      <td>ELECTRONIC PRE-PRESS PROFESSIONAL&lt;b&gt;    &lt;b&gt;ELE...</td>\n",
       "      <td>Please refer to the Job Description to view th...</td>\n",
       "      <td>Orlando</td>\n",
       "      <td>FL</td>\n",
       "      <td>US</td>\n",
       "    </tr>\n",
       "    <tr>\n",
       "      <th>8</th>\n",
       "      <td>8</td>\n",
       "      <td>13</td>\n",
       "      <td>1</td>\n",
       "      <td>UTILITY LINE TRUCK OPERATOR/ DIGGER DERRICK</td>\n",
       "      <td>UTILITY LINE TRUCK OPERATOR/ DIGGER DERRICK&lt;b&gt;...</td>\n",
       "      <td>Please refer to the Job Description to view th...</td>\n",
       "      <td>Orlando</td>\n",
       "      <td>FL</td>\n",
       "      <td>US</td>\n",
       "    </tr>\n",
       "    <tr>\n",
       "      <th>9</th>\n",
       "      <td>9</td>\n",
       "      <td>14</td>\n",
       "      <td>1</td>\n",
       "      <td>CONSTRUCTION PROJECT MGR &amp; PM TRAINEE</td>\n",
       "      <td>CONSTRUCTION PROJECT MGR &amp; PM TRAINEE&lt;b&gt;    &lt;b...</td>\n",
       "      <td>Please refer to the Job Description to view th...</td>\n",
       "      <td>Winter Park</td>\n",
       "      <td>FL</td>\n",
       "      <td>US</td>\n",
       "    </tr>\n",
       "    <tr>\n",
       "      <th>10</th>\n",
       "      <td>10</td>\n",
       "      <td>15</td>\n",
       "      <td>1</td>\n",
       "      <td>Administrative Assistant</td>\n",
       "      <td>Administrative AssistantThis Administrative As...</td>\n",
       "      <td>Please refer to the Job Description to view th...</td>\n",
       "      <td>Los Angeles</td>\n",
       "      <td>CA</td>\n",
       "      <td>US</td>\n",
       "    </tr>\n",
       "    <tr>\n",
       "      <th>11</th>\n",
       "      <td>11</td>\n",
       "      <td>16</td>\n",
       "      <td>1</td>\n",
       "      <td>ACCOUNT EXECUTIVES</td>\n",
       "      <td>ACCOUNT EXECUTIVES&lt;b&gt;    &lt;b&gt;ACCOUNT EXECUTIVES...</td>\n",
       "      <td>Please refer to the Job Description to view th...</td>\n",
       "      <td>Longwood</td>\n",
       "      <td>FL</td>\n",
       "      <td>US</td>\n",
       "    </tr>\n",
       "    <tr>\n",
       "      <th>12</th>\n",
       "      <td>12</td>\n",
       "      <td>17</td>\n",
       "      <td>1</td>\n",
       "      <td>COMMERCIAL ESTIMATOR</td>\n",
       "      <td>COMMERCIAL ESTIMATOR&lt;b&gt;    &lt;b&gt;TRI-CITY ELECTRI...</td>\n",
       "      <td>Please refer to the Job Description to view th...</td>\n",
       "      <td>Altamonte Springs</td>\n",
       "      <td>FL</td>\n",
       "      <td>US</td>\n",
       "    </tr>\n",
       "    <tr>\n",
       "      <th>13</th>\n",
       "      <td>13</td>\n",
       "      <td>18</td>\n",
       "      <td>1</td>\n",
       "      <td>Immediate Opening</td>\n",
       "      <td>Immediate OpeningImmediate Opening - AR Clerk ...</td>\n",
       "      <td>Please refer to the Job Description to view th...</td>\n",
       "      <td>Orlando</td>\n",
       "      <td>FL</td>\n",
       "      <td>US</td>\n",
       "    </tr>\n",
       "    <tr>\n",
       "      <th>14</th>\n",
       "      <td>14</td>\n",
       "      <td>19</td>\n",
       "      <td>1</td>\n",
       "      <td>TESL Adjunct</td>\n",
       "      <td>TESL AdjunctTESL Adjunct - The Embry-Riddle La...</td>\n",
       "      <td>Please refer to the Job Description to view th...</td>\n",
       "      <td>Daytona Beach</td>\n",
       "      <td>FL</td>\n",
       "      <td>US</td>\n",
       "    </tr>\n",
       "    <tr>\n",
       "      <th>15</th>\n",
       "      <td>15</td>\n",
       "      <td>20</td>\n",
       "      <td>1</td>\n",
       "      <td>Salon Manager/Hairstylists</td>\n",
       "      <td>Salon Manager/HairstylistsSalon Manager/Hairst...</td>\n",
       "      <td>Please refer to the Job Description to view th...</td>\n",
       "      <td>Oviedo</td>\n",
       "      <td>FL</td>\n",
       "      <td>US</td>\n",
       "    </tr>\n",
       "    <tr>\n",
       "      <th>16</th>\n",
       "      <td>16</td>\n",
       "      <td>21</td>\n",
       "      <td>1</td>\n",
       "      <td>VOCATIONAL COUNSELOR</td>\n",
       "      <td>VOCATIONAL COUNSELOR&lt;b&gt;    &lt;b&gt;VOCATIONAL COUNS...</td>\n",
       "      <td>Please refer to the Job Description to view th...</td>\n",
       "      <td>Orlando</td>\n",
       "      <td>FL</td>\n",
       "      <td>US</td>\n",
       "    </tr>\n",
       "    <tr>\n",
       "      <th>17</th>\n",
       "      <td>17</td>\n",
       "      <td>22</td>\n",
       "      <td>1</td>\n",
       "      <td>GALLERY SALES POSITIONS</td>\n",
       "      <td>GALLERY SALES POSITIONS&lt;b&gt;    &lt;b&gt;         GALL...</td>\n",
       "      <td>Please refer to the Job Description to view th...</td>\n",
       "      <td>Orlando</td>\n",
       "      <td>FL</td>\n",
       "      <td>US</td>\n",
       "    </tr>\n",
       "    <tr>\n",
       "      <th>18</th>\n",
       "      <td>18</td>\n",
       "      <td>23</td>\n",
       "      <td>1</td>\n",
       "      <td>SURGICAL SCRUB TECH</td>\n",
       "      <td>SURGICAL SCRUB TECH&lt;b&gt;    &lt;b&gt; SURGICAL SCRUB T...</td>\n",
       "      <td>Please refer to the Job Description to view th...</td>\n",
       "      <td>Altamonte Springs</td>\n",
       "      <td>FL</td>\n",
       "      <td>US</td>\n",
       "    </tr>\n",
       "    <tr>\n",
       "      <th>19</th>\n",
       "      <td>19</td>\n",
       "      <td>24</td>\n",
       "      <td>1</td>\n",
       "      <td>Real Estate Agent</td>\n",
       "      <td>Real Estate AgentNow accepting Seasoned Agents...</td>\n",
       "      <td>Please refer to the Job Description to view th...</td>\n",
       "      <td>Windermere</td>\n",
       "      <td>FL</td>\n",
       "      <td>US</td>\n",
       "    </tr>\n",
       "    <tr>\n",
       "      <th>20</th>\n",
       "      <td>20</td>\n",
       "      <td>25</td>\n",
       "      <td>1</td>\n",
       "      <td>LPN, RN, CNA, TECHS</td>\n",
       "      <td>LPN, RN, CNA, TECHS&lt;b&gt;    &lt;b&gt; LPN, RN, CNA, TE...</td>\n",
       "      <td>Please refer to the Job Description to view th...</td>\n",
       "      <td>Leesburg</td>\n",
       "      <td>FL</td>\n",
       "      <td>US</td>\n",
       "    </tr>\n",
       "    <tr>\n",
       "      <th>21</th>\n",
       "      <td>21</td>\n",
       "      <td>26</td>\n",
       "      <td>1</td>\n",
       "      <td>Vacation Sales Representatives</td>\n",
       "      <td>Vacation Sales RepresentativesWYNDAHAM VACATIO...</td>\n",
       "      <td>Please refer to the Job Description to view th...</td>\n",
       "      <td>Orlando</td>\n",
       "      <td>FL</td>\n",
       "      <td>US</td>\n",
       "    </tr>\n",
       "    <tr>\n",
       "      <th>22</th>\n",
       "      <td>22</td>\n",
       "      <td>27</td>\n",
       "      <td>1</td>\n",
       "      <td>Top Sales Agent</td>\n",
       "      <td>Top Sales AgentWANTED TOP SALES AGENT With a D...</td>\n",
       "      <td>Please refer to the Job Description to view th...</td>\n",
       "      <td>Orlando</td>\n",
       "      <td>FL</td>\n",
       "      <td>US</td>\n",
       "    </tr>\n",
       "    <tr>\n",
       "      <th>23</th>\n",
       "      <td>23</td>\n",
       "      <td>28</td>\n",
       "      <td>1</td>\n",
       "      <td>Quick Service Food &amp; Beverage</td>\n",
       "      <td>Quick Service Food &amp; BeverageI love making his...</td>\n",
       "      <td>Please refer to the Job Description to view th...</td>\n",
       "      <td>Orlando</td>\n",
       "      <td>FL</td>\n",
       "      <td>US</td>\n",
       "    </tr>\n",
       "    <tr>\n",
       "      <th>24</th>\n",
       "      <td>24</td>\n",
       "      <td>29</td>\n",
       "      <td>1</td>\n",
       "      <td>CREDIT/COLLECTIONS ASSISTANT</td>\n",
       "      <td>CREDIT/COLLECTIONS ASSISTANT&lt;b&gt;     &lt;/b&gt; \\r\\n ...</td>\n",
       "      <td>Please refer to the Job Description to view th...</td>\n",
       "      <td>Orlando</td>\n",
       "      <td>FL</td>\n",
       "      <td>US</td>\n",
       "    </tr>\n",
       "    <tr>\n",
       "      <th>25</th>\n",
       "      <td>25</td>\n",
       "      <td>30</td>\n",
       "      <td>1</td>\n",
       "      <td>POOL TECH</td>\n",
       "      <td>POOL TECH&lt;b&gt;    &lt;b&gt;POOL TECH&lt;/b&gt; &lt;/b&gt;  ——  Imm...</td>\n",
       "      <td>Please refer to the Job Description to view th...</td>\n",
       "      <td>Orlando</td>\n",
       "      <td>FL</td>\n",
       "      <td>US</td>\n",
       "    </tr>\n",
       "    <tr>\n",
       "      <th>26</th>\n",
       "      <td>26</td>\n",
       "      <td>31</td>\n",
       "      <td>1</td>\n",
       "      <td>EXPERIENCED ROOFERS</td>\n",
       "      <td>EXPERIENCED ROOFERS&lt;b&gt;    &lt;b&gt;EXPERIENCED ROOFE...</td>\n",
       "      <td>Please refer to the Job Description to view th...</td>\n",
       "      <td>Orlando</td>\n",
       "      <td>FL</td>\n",
       "      <td>US</td>\n",
       "    </tr>\n",
       "    <tr>\n",
       "      <th>27</th>\n",
       "      <td>27</td>\n",
       "      <td>32</td>\n",
       "      <td>1</td>\n",
       "      <td>ARIZA TALENT &amp; MODELING</td>\n",
       "      <td>ARIZA TALENT &amp; MODELING&lt;b&gt;     &lt;/b&gt; \\r\\n &lt;b&gt;  ...</td>\n",
       "      <td>Please refer to the Job Description to view th...</td>\n",
       "      <td>Longwood</td>\n",
       "      <td>FL</td>\n",
       "      <td>US</td>\n",
       "    </tr>\n",
       "    <tr>\n",
       "      <th>28</th>\n",
       "      <td>28</td>\n",
       "      <td>33</td>\n",
       "      <td>1</td>\n",
       "      <td>CDL CLASS A DRIVER</td>\n",
       "      <td>CDL CLASS A DRIVER&lt;b&gt;    &lt;b&gt;CDL CLASS A DRIVER...</td>\n",
       "      <td>Please refer to the Job Description to view th...</td>\n",
       "      <td>Apopka</td>\n",
       "      <td>FL</td>\n",
       "      <td>US</td>\n",
       "    </tr>\n",
       "    <tr>\n",
       "      <th>29</th>\n",
       "      <td>29</td>\n",
       "      <td>34</td>\n",
       "      <td>1</td>\n",
       "      <td>Skilled Tradesman</td>\n",
       "      <td>Skilled TradesmanSkilled Tradesman - Experienc...</td>\n",
       "      <td>Please refer to the Job Description to view th...</td>\n",
       "      <td>Orlando</td>\n",
       "      <td>FL</td>\n",
       "      <td>US</td>\n",
       "    </tr>\n",
       "    <tr>\n",
       "      <th>...</th>\n",
       "      <td>...</td>\n",
       "      <td>...</td>\n",
       "      <td>...</td>\n",
       "      <td>...</td>\n",
       "      <td>...</td>\n",
       "      <td>...</td>\n",
       "      <td>...</td>\n",
       "      <td>...</td>\n",
       "      <td>...</td>\n",
       "    </tr>\n",
       "    <tr>\n",
       "      <th>9970</th>\n",
       "      <td>9973</td>\n",
       "      <td>36626</td>\n",
       "      <td>1</td>\n",
       "      <td>Sales Representative / Account Manager /  Cust...</td>\n",
       "      <td>Sales Representative / Account Manager /  Cust...</td>\n",
       "      <td>&lt;P&gt;As an Outside Sales Rep with Central Paymen...</td>\n",
       "      <td>Billings</td>\n",
       "      <td>MT</td>\n",
       "      <td>US</td>\n",
       "    </tr>\n",
       "    <tr>\n",
       "      <th>9971</th>\n",
       "      <td>9974</td>\n",
       "      <td>36628</td>\n",
       "      <td>1</td>\n",
       "      <td>Sales Representative / Account Manager /  Cust...</td>\n",
       "      <td>Sales Representative / Account Manager /  Cust...</td>\n",
       "      <td>&lt;P&gt;As an Outside Sales Rep with Central Paymen...</td>\n",
       "      <td>Daytona</td>\n",
       "      <td>FL</td>\n",
       "      <td>US</td>\n",
       "    </tr>\n",
       "    <tr>\n",
       "      <th>9972</th>\n",
       "      <td>9975</td>\n",
       "      <td>36629</td>\n",
       "      <td>1</td>\n",
       "      <td>Sales Representative / Account Manager /  Cust...</td>\n",
       "      <td>Sales Representative / Account Manager /  Cust...</td>\n",
       "      <td>&lt;P&gt;As an Outside Sales Rep with Central Paymen...</td>\n",
       "      <td>El Cajon</td>\n",
       "      <td>CA</td>\n",
       "      <td>US</td>\n",
       "    </tr>\n",
       "    <tr>\n",
       "      <th>9973</th>\n",
       "      <td>9976</td>\n",
       "      <td>36630</td>\n",
       "      <td>1</td>\n",
       "      <td>Sales Representative / Account Manager /  Cust...</td>\n",
       "      <td>Sales Representative / Account Manager /  Cust...</td>\n",
       "      <td>&lt;P&gt;As an Outside Sales Rep with Central Paymen...</td>\n",
       "      <td>Fargo</td>\n",
       "      <td>ND</td>\n",
       "      <td>US</td>\n",
       "    </tr>\n",
       "    <tr>\n",
       "      <th>9974</th>\n",
       "      <td>9977</td>\n",
       "      <td>36631</td>\n",
       "      <td>1</td>\n",
       "      <td>Sales Representative / Account Manager /  Cust...</td>\n",
       "      <td>Sales Representative / Account Manager /  Cust...</td>\n",
       "      <td>&lt;P&gt;As an Outside Sales Rep with Central Paymen...</td>\n",
       "      <td>Green Bay</td>\n",
       "      <td>WI</td>\n",
       "      <td>US</td>\n",
       "    </tr>\n",
       "    <tr>\n",
       "      <th>9975</th>\n",
       "      <td>9978</td>\n",
       "      <td>36632</td>\n",
       "      <td>1</td>\n",
       "      <td>Sales Representative / Account Manager /  Cust...</td>\n",
       "      <td>Sales Representative / Account Manager /  Cust...</td>\n",
       "      <td>&lt;P&gt;As an Outside Sales Rep with Central Paymen...</td>\n",
       "      <td>Riverside</td>\n",
       "      <td>CA</td>\n",
       "      <td>US</td>\n",
       "    </tr>\n",
       "    <tr>\n",
       "      <th>9976</th>\n",
       "      <td>9979</td>\n",
       "      <td>36633</td>\n",
       "      <td>1</td>\n",
       "      <td>Sales Representative / Account Manager /  Cust...</td>\n",
       "      <td>Sales Representative / Account Manager /  Cust...</td>\n",
       "      <td>&lt;P&gt;As an Outside Sales Rep with Central Paymen...</td>\n",
       "      <td>Rocky Mount</td>\n",
       "      <td>NC</td>\n",
       "      <td>US</td>\n",
       "    </tr>\n",
       "    <tr>\n",
       "      <th>9977</th>\n",
       "      <td>9980</td>\n",
       "      <td>36634</td>\n",
       "      <td>1</td>\n",
       "      <td>Sales Representative / Account Manager /  Cust...</td>\n",
       "      <td>Sales Representative / Account Manager /  Cust...</td>\n",
       "      <td>&lt;P&gt;As an Outside Sales Rep with Central Paymen...</td>\n",
       "      <td>San Francisco</td>\n",
       "      <td>CA</td>\n",
       "      <td>US</td>\n",
       "    </tr>\n",
       "    <tr>\n",
       "      <th>9978</th>\n",
       "      <td>9981</td>\n",
       "      <td>36636</td>\n",
       "      <td>1</td>\n",
       "      <td>Sales Representative / Account Manager /  Cust...</td>\n",
       "      <td>Sales Representative / Account Manager /  Cust...</td>\n",
       "      <td>&lt;P&gt;As an Outside Sales Rep with Central Paymen...</td>\n",
       "      <td>Washington</td>\n",
       "      <td>DC</td>\n",
       "      <td>US</td>\n",
       "    </tr>\n",
       "    <tr>\n",
       "      <th>9979</th>\n",
       "      <td>9982</td>\n",
       "      <td>36637</td>\n",
       "      <td>1</td>\n",
       "      <td>Sales Representative / Account Manager /  Cust...</td>\n",
       "      <td>Sales Representative / Account Manager /  Cust...</td>\n",
       "      <td>&lt;P&gt;As an Outside Sales Rep with Central Paymen...</td>\n",
       "      <td>Chesapeake</td>\n",
       "      <td>VA</td>\n",
       "      <td>US</td>\n",
       "    </tr>\n",
       "    <tr>\n",
       "      <th>9980</th>\n",
       "      <td>9983</td>\n",
       "      <td>36639</td>\n",
       "      <td>1</td>\n",
       "      <td>Sales Representative / Account Manager /  Cust...</td>\n",
       "      <td>Sales Representative / Account Manager /  Cust...</td>\n",
       "      <td>&lt;P&gt;As an Outside Sales Rep with Central Paymen...</td>\n",
       "      <td>Joliet</td>\n",
       "      <td>IL</td>\n",
       "      <td>US</td>\n",
       "    </tr>\n",
       "    <tr>\n",
       "      <th>9981</th>\n",
       "      <td>9984</td>\n",
       "      <td>36640</td>\n",
       "      <td>1</td>\n",
       "      <td>Sales Representative / Account Manager /  Cust...</td>\n",
       "      <td>Sales Representative / Account Manager /  Cust...</td>\n",
       "      <td>&lt;P&gt;As an Outside Sales Rep with Central Paymen...</td>\n",
       "      <td>Jonesboro</td>\n",
       "      <td>GA</td>\n",
       "      <td>US</td>\n",
       "    </tr>\n",
       "    <tr>\n",
       "      <th>9982</th>\n",
       "      <td>9985</td>\n",
       "      <td>36641</td>\n",
       "      <td>1</td>\n",
       "      <td>Sales Representative / Account Manager /  Cust...</td>\n",
       "      <td>Sales Representative / Account Manager /  Cust...</td>\n",
       "      <td>&lt;P&gt;As an Outside Sales Rep with Central Paymen...</td>\n",
       "      <td>Nampa</td>\n",
       "      <td>ID</td>\n",
       "      <td>US</td>\n",
       "    </tr>\n",
       "    <tr>\n",
       "      <th>9983</th>\n",
       "      <td>9986</td>\n",
       "      <td>36645</td>\n",
       "      <td>1</td>\n",
       "      <td>Sales Representative / Account Manager /  Cust...</td>\n",
       "      <td>Sales Representative / Account Manager /  Cust...</td>\n",
       "      <td>&lt;P&gt;As an Outside Sales Rep with Central Paymen...</td>\n",
       "      <td>Yuma</td>\n",
       "      <td>AZ</td>\n",
       "      <td>US</td>\n",
       "    </tr>\n",
       "    <tr>\n",
       "      <th>9984</th>\n",
       "      <td>9987</td>\n",
       "      <td>36647</td>\n",
       "      <td>1</td>\n",
       "      <td>Sales Representative / Account Manager /  Cust...</td>\n",
       "      <td>Sales Representative / Account Manager /  Cust...</td>\n",
       "      <td>&lt;P&gt;As an Outside Sales Rep with Central Paymen...</td>\n",
       "      <td>Beverly Hills</td>\n",
       "      <td>CA</td>\n",
       "      <td>US</td>\n",
       "    </tr>\n",
       "    <tr>\n",
       "      <th>9985</th>\n",
       "      <td>9988</td>\n",
       "      <td>36648</td>\n",
       "      <td>1</td>\n",
       "      <td>Sales Representative / Account Manager /  Cust...</td>\n",
       "      <td>Sales Representative / Account Manager /  Cust...</td>\n",
       "      <td>&lt;P&gt;As an Outside Sales Rep with Central Paymen...</td>\n",
       "      <td>Boulder</td>\n",
       "      <td>CO</td>\n",
       "      <td>US</td>\n",
       "    </tr>\n",
       "    <tr>\n",
       "      <th>9986</th>\n",
       "      <td>9989</td>\n",
       "      <td>36650</td>\n",
       "      <td>1</td>\n",
       "      <td>Sales Representative / Account Manager /  Cust...</td>\n",
       "      <td>Sales Representative / Account Manager /  Cust...</td>\n",
       "      <td>&lt;P&gt;As an Outside Sales Rep with Central Paymen...</td>\n",
       "      <td>Concord</td>\n",
       "      <td>NC</td>\n",
       "      <td>US</td>\n",
       "    </tr>\n",
       "    <tr>\n",
       "      <th>9987</th>\n",
       "      <td>9990</td>\n",
       "      <td>36652</td>\n",
       "      <td>1</td>\n",
       "      <td>Sales Representative / Account Manager /  Cust...</td>\n",
       "      <td>Sales Representative / Account Manager /  Cust...</td>\n",
       "      <td>&lt;P&gt;As an Outside Sales Rep with Central Paymen...</td>\n",
       "      <td>Lake Orion</td>\n",
       "      <td>MI</td>\n",
       "      <td>US</td>\n",
       "    </tr>\n",
       "    <tr>\n",
       "      <th>9988</th>\n",
       "      <td>9991</td>\n",
       "      <td>36653</td>\n",
       "      <td>1</td>\n",
       "      <td>Sales Representative / Account Manager /  Cust...</td>\n",
       "      <td>Sales Representative / Account Manager /  Cust...</td>\n",
       "      <td>&lt;P&gt;As an Outside Sales Rep with Central Paymen...</td>\n",
       "      <td>Lebanon</td>\n",
       "      <td>PA</td>\n",
       "      <td>US</td>\n",
       "    </tr>\n",
       "    <tr>\n",
       "      <th>9989</th>\n",
       "      <td>9992</td>\n",
       "      <td>36654</td>\n",
       "      <td>1</td>\n",
       "      <td>Sales Representative / Account Manager /  Cust...</td>\n",
       "      <td>Sales Representative / Account Manager /  Cust...</td>\n",
       "      <td>&lt;P&gt;As an Outside Sales Rep with Central Paymen...</td>\n",
       "      <td>Levittown</td>\n",
       "      <td>PA</td>\n",
       "      <td>US</td>\n",
       "    </tr>\n",
       "    <tr>\n",
       "      <th>9990</th>\n",
       "      <td>9993</td>\n",
       "      <td>36656</td>\n",
       "      <td>1</td>\n",
       "      <td>Sales Representative / Account Manager /  Cust...</td>\n",
       "      <td>Sales Representative / Account Manager /  Cust...</td>\n",
       "      <td>&lt;P&gt;As an Outside Sales Rep with Central Paymen...</td>\n",
       "      <td>Oceanside</td>\n",
       "      <td>CA</td>\n",
       "      <td>US</td>\n",
       "    </tr>\n",
       "    <tr>\n",
       "      <th>9991</th>\n",
       "      <td>9994</td>\n",
       "      <td>36657</td>\n",
       "      <td>1</td>\n",
       "      <td>Sales Representative / Account Manager /  Cust...</td>\n",
       "      <td>Sales Representative / Account Manager /  Cust...</td>\n",
       "      <td>&lt;P&gt;As an Outside Sales Rep with Central Paymen...</td>\n",
       "      <td>Palmdale</td>\n",
       "      <td>CA</td>\n",
       "      <td>US</td>\n",
       "    </tr>\n",
       "    <tr>\n",
       "      <th>9992</th>\n",
       "      <td>9995</td>\n",
       "      <td>36658</td>\n",
       "      <td>1</td>\n",
       "      <td>Sales Representative / Account Manager /  Cust...</td>\n",
       "      <td>Sales Representative / Account Manager /  Cust...</td>\n",
       "      <td>&lt;P&gt;As an Outside Sales Rep with Central Paymen...</td>\n",
       "      <td>Phenix City</td>\n",
       "      <td>AL</td>\n",
       "      <td>US</td>\n",
       "    </tr>\n",
       "    <tr>\n",
       "      <th>9993</th>\n",
       "      <td>9996</td>\n",
       "      <td>36660</td>\n",
       "      <td>1</td>\n",
       "      <td>Sales Representative / Account Manager /  Cust...</td>\n",
       "      <td>Sales Representative / Account Manager /  Cust...</td>\n",
       "      <td>&lt;P&gt;As an Outside Sales Rep with Central Paymen...</td>\n",
       "      <td>Winston Salem</td>\n",
       "      <td>NC</td>\n",
       "      <td>US</td>\n",
       "    </tr>\n",
       "    <tr>\n",
       "      <th>9994</th>\n",
       "      <td>9997</td>\n",
       "      <td>36661</td>\n",
       "      <td>1</td>\n",
       "      <td>Sales Representative / Account Manager /  Cust...</td>\n",
       "      <td>Sales Representative / Account Manager /  Cust...</td>\n",
       "      <td>&lt;P&gt;As an Outside Sales Rep with Central Paymen...</td>\n",
       "      <td>Youngstown</td>\n",
       "      <td>OH</td>\n",
       "      <td>US</td>\n",
       "    </tr>\n",
       "    <tr>\n",
       "      <th>9995</th>\n",
       "      <td>9998</td>\n",
       "      <td>36662</td>\n",
       "      <td>1</td>\n",
       "      <td>Sales Representative / Account Manager /  Cust...</td>\n",
       "      <td>Sales Representative / Account Manager /  Cust...</td>\n",
       "      <td>&lt;P&gt;As an Outside Sales Rep with Central Paymen...</td>\n",
       "      <td>Alpharetta</td>\n",
       "      <td>GA</td>\n",
       "      <td>US</td>\n",
       "    </tr>\n",
       "    <tr>\n",
       "      <th>9996</th>\n",
       "      <td>9999</td>\n",
       "      <td>36663</td>\n",
       "      <td>1</td>\n",
       "      <td>Sales Representative / Account Manager /  Cust...</td>\n",
       "      <td>Sales Representative / Account Manager /  Cust...</td>\n",
       "      <td>&lt;P&gt;As an Outside Sales Rep with Central Paymen...</td>\n",
       "      <td>Antioch</td>\n",
       "      <td>TN</td>\n",
       "      <td>US</td>\n",
       "    </tr>\n",
       "    <tr>\n",
       "      <th>9997</th>\n",
       "      <td>10000</td>\n",
       "      <td>36664</td>\n",
       "      <td>1</td>\n",
       "      <td>Sales Representative / Account Manager /  Cust...</td>\n",
       "      <td>Sales Representative / Account Manager /  Cust...</td>\n",
       "      <td>&lt;P&gt;As an Outside Sales Rep with Central Paymen...</td>\n",
       "      <td>Austin</td>\n",
       "      <td>TX</td>\n",
       "      <td>US</td>\n",
       "    </tr>\n",
       "    <tr>\n",
       "      <th>9998</th>\n",
       "      <td>10001</td>\n",
       "      <td>36666</td>\n",
       "      <td>1</td>\n",
       "      <td>Sales Representative / Account Manager /  Cust...</td>\n",
       "      <td>Sales Representative / Account Manager /  Cust...</td>\n",
       "      <td>&lt;P&gt;As an Outside Sales Rep with Central Paymen...</td>\n",
       "      <td>Covington</td>\n",
       "      <td>KY</td>\n",
       "      <td>US</td>\n",
       "    </tr>\n",
       "    <tr>\n",
       "      <th>9999</th>\n",
       "      <td>10002</td>\n",
       "      <td>36667</td>\n",
       "      <td>1</td>\n",
       "      <td>Sales Representative / Account Manager /  Cust...</td>\n",
       "      <td>Sales Representative / Account Manager /  Cust...</td>\n",
       "      <td>&lt;P&gt;As an Outside Sales Rep with Central Paymen...</td>\n",
       "      <td>Daytona Beach</td>\n",
       "      <td>FL</td>\n",
       "      <td>US</td>\n",
       "    </tr>\n",
       "  </tbody>\n",
       "</table>\n",
       "<p>10000 rows × 9 columns</p>\n",
       "</div>"
      ],
      "text/plain": [
       "      index  JobID  WindowID  \\\n",
       "0         0      1         1   \n",
       "1         1      4         1   \n",
       "2         2      7         1   \n",
       "3         3      8         1   \n",
       "4         4      9         1   \n",
       "5         5     10         1   \n",
       "6         6     11         1   \n",
       "7         7     12         1   \n",
       "8         8     13         1   \n",
       "9         9     14         1   \n",
       "10       10     15         1   \n",
       "11       11     16         1   \n",
       "12       12     17         1   \n",
       "13       13     18         1   \n",
       "14       14     19         1   \n",
       "15       15     20         1   \n",
       "16       16     21         1   \n",
       "17       17     22         1   \n",
       "18       18     23         1   \n",
       "19       19     24         1   \n",
       "20       20     25         1   \n",
       "21       21     26         1   \n",
       "22       22     27         1   \n",
       "23       23     28         1   \n",
       "24       24     29         1   \n",
       "25       25     30         1   \n",
       "26       26     31         1   \n",
       "27       27     32         1   \n",
       "28       28     33         1   \n",
       "29       29     34         1   \n",
       "...     ...    ...       ...   \n",
       "9970   9973  36626         1   \n",
       "9971   9974  36628         1   \n",
       "9972   9975  36629         1   \n",
       "9973   9976  36630         1   \n",
       "9974   9977  36631         1   \n",
       "9975   9978  36632         1   \n",
       "9976   9979  36633         1   \n",
       "9977   9980  36634         1   \n",
       "9978   9981  36636         1   \n",
       "9979   9982  36637         1   \n",
       "9980   9983  36639         1   \n",
       "9981   9984  36640         1   \n",
       "9982   9985  36641         1   \n",
       "9983   9986  36645         1   \n",
       "9984   9987  36647         1   \n",
       "9985   9988  36648         1   \n",
       "9986   9989  36650         1   \n",
       "9987   9990  36652         1   \n",
       "9988   9991  36653         1   \n",
       "9989   9992  36654         1   \n",
       "9990   9993  36656         1   \n",
       "9991   9994  36657         1   \n",
       "9992   9995  36658         1   \n",
       "9993   9996  36660         1   \n",
       "9994   9997  36661         1   \n",
       "9995   9998  36662         1   \n",
       "9996   9999  36663         1   \n",
       "9997  10000  36664         1   \n",
       "9998  10001  36666         1   \n",
       "9999  10002  36667         1   \n",
       "\n",
       "                                                  Title  \\\n",
       "0                      Security Engineer/Technical Lead   \n",
       "1                             SAP Business Analyst / WM   \n",
       "2                         P/T HUMAN RESOURCES ASSISTANT   \n",
       "3                                Route Delivery Drivers   \n",
       "4                                          Housekeeping   \n",
       "5                                 SALON/SPA COORDINATOR   \n",
       "6                                        SUPERINTENDENT   \n",
       "7                     ELECTRONIC PRE-PRESS PROFESSIONAL   \n",
       "8           UTILITY LINE TRUCK OPERATOR/ DIGGER DERRICK   \n",
       "9                 CONSTRUCTION PROJECT MGR & PM TRAINEE   \n",
       "10                             Administrative Assistant   \n",
       "11                                   ACCOUNT EXECUTIVES   \n",
       "12                                 COMMERCIAL ESTIMATOR   \n",
       "13                                    Immediate Opening   \n",
       "14                                         TESL Adjunct   \n",
       "15                           Salon Manager/Hairstylists   \n",
       "16                                 VOCATIONAL COUNSELOR   \n",
       "17                              GALLERY SALES POSITIONS   \n",
       "18                                  SURGICAL SCRUB TECH   \n",
       "19                                    Real Estate Agent   \n",
       "20                                  LPN, RN, CNA, TECHS   \n",
       "21                       Vacation Sales Representatives   \n",
       "22                                      Top Sales Agent   \n",
       "23                        Quick Service Food & Beverage   \n",
       "24                         CREDIT/COLLECTIONS ASSISTANT   \n",
       "25                                            POOL TECH   \n",
       "26                                  EXPERIENCED ROOFERS   \n",
       "27                              ARIZA TALENT & MODELING   \n",
       "28                                   CDL CLASS A DRIVER   \n",
       "29                                    Skilled Tradesman   \n",
       "...                                                 ...   \n",
       "9970  Sales Representative / Account Manager /  Cust...   \n",
       "9971  Sales Representative / Account Manager /  Cust...   \n",
       "9972  Sales Representative / Account Manager /  Cust...   \n",
       "9973  Sales Representative / Account Manager /  Cust...   \n",
       "9974  Sales Representative / Account Manager /  Cust...   \n",
       "9975  Sales Representative / Account Manager /  Cust...   \n",
       "9976  Sales Representative / Account Manager /  Cust...   \n",
       "9977  Sales Representative / Account Manager /  Cust...   \n",
       "9978  Sales Representative / Account Manager /  Cust...   \n",
       "9979  Sales Representative / Account Manager /  Cust...   \n",
       "9980  Sales Representative / Account Manager /  Cust...   \n",
       "9981  Sales Representative / Account Manager /  Cust...   \n",
       "9982  Sales Representative / Account Manager /  Cust...   \n",
       "9983  Sales Representative / Account Manager /  Cust...   \n",
       "9984  Sales Representative / Account Manager /  Cust...   \n",
       "9985  Sales Representative / Account Manager /  Cust...   \n",
       "9986  Sales Representative / Account Manager /  Cust...   \n",
       "9987  Sales Representative / Account Manager /  Cust...   \n",
       "9988  Sales Representative / Account Manager /  Cust...   \n",
       "9989  Sales Representative / Account Manager /  Cust...   \n",
       "9990  Sales Representative / Account Manager /  Cust...   \n",
       "9991  Sales Representative / Account Manager /  Cust...   \n",
       "9992  Sales Representative / Account Manager /  Cust...   \n",
       "9993  Sales Representative / Account Manager /  Cust...   \n",
       "9994  Sales Representative / Account Manager /  Cust...   \n",
       "9995  Sales Representative / Account Manager /  Cust...   \n",
       "9996  Sales Representative / Account Manager /  Cust...   \n",
       "9997  Sales Representative / Account Manager /  Cust...   \n",
       "9998  Sales Representative / Account Manager /  Cust...   \n",
       "9999  Sales Representative / Account Manager /  Cust...   \n",
       "\n",
       "                                            Description  \\\n",
       "0     Security Engineer/Technical Lead<p>Security Cl...   \n",
       "1     SAP Business Analyst / WM<strong>NO Corp. to C...   \n",
       "2     P/T HUMAN RESOURCES ASSISTANT<b>    <b> P/T HU...   \n",
       "3     Route Delivery DriversCITY BEVERAGES Come to w...   \n",
       "4     HousekeepingI make  sure every part of their d...   \n",
       "5     SALON/SPA COORDINATOR<b>    <b>— SALON/SPA COO...   \n",
       "6     SUPERINTENDENT<b>    <b>SUPERINTENDENT</b> </b...   \n",
       "7     ELECTRONIC PRE-PRESS PROFESSIONAL<b>    <b>ELE...   \n",
       "8     UTILITY LINE TRUCK OPERATOR/ DIGGER DERRICK<b>...   \n",
       "9     CONSTRUCTION PROJECT MGR & PM TRAINEE<b>    <b...   \n",
       "10    Administrative AssistantThis Administrative As...   \n",
       "11    ACCOUNT EXECUTIVES<b>    <b>ACCOUNT EXECUTIVES...   \n",
       "12    COMMERCIAL ESTIMATOR<b>    <b>TRI-CITY ELECTRI...   \n",
       "13    Immediate OpeningImmediate Opening - AR Clerk ...   \n",
       "14    TESL AdjunctTESL Adjunct - The Embry-Riddle La...   \n",
       "15    Salon Manager/HairstylistsSalon Manager/Hairst...   \n",
       "16    VOCATIONAL COUNSELOR<b>    <b>VOCATIONAL COUNS...   \n",
       "17    GALLERY SALES POSITIONS<b>    <b>         GALL...   \n",
       "18    SURGICAL SCRUB TECH<b>    <b> SURGICAL SCRUB T...   \n",
       "19    Real Estate AgentNow accepting Seasoned Agents...   \n",
       "20    LPN, RN, CNA, TECHS<b>    <b> LPN, RN, CNA, TE...   \n",
       "21    Vacation Sales RepresentativesWYNDAHAM VACATIO...   \n",
       "22    Top Sales AgentWANTED TOP SALES AGENT With a D...   \n",
       "23    Quick Service Food & BeverageI love making his...   \n",
       "24    CREDIT/COLLECTIONS ASSISTANT<b>     </b> \\r\\n ...   \n",
       "25    POOL TECH<b>    <b>POOL TECH</b> </b>  ——  Imm...   \n",
       "26    EXPERIENCED ROOFERS<b>    <b>EXPERIENCED ROOFE...   \n",
       "27    ARIZA TALENT & MODELING<b>     </b> \\r\\n <b>  ...   \n",
       "28    CDL CLASS A DRIVER<b>    <b>CDL CLASS A DRIVER...   \n",
       "29    Skilled TradesmanSkilled Tradesman - Experienc...   \n",
       "...                                                 ...   \n",
       "9970  Sales Representative / Account Manager /  Cust...   \n",
       "9971  Sales Representative / Account Manager /  Cust...   \n",
       "9972  Sales Representative / Account Manager /  Cust...   \n",
       "9973  Sales Representative / Account Manager /  Cust...   \n",
       "9974  Sales Representative / Account Manager /  Cust...   \n",
       "9975  Sales Representative / Account Manager /  Cust...   \n",
       "9976  Sales Representative / Account Manager /  Cust...   \n",
       "9977  Sales Representative / Account Manager /  Cust...   \n",
       "9978  Sales Representative / Account Manager /  Cust...   \n",
       "9979  Sales Representative / Account Manager /  Cust...   \n",
       "9980  Sales Representative / Account Manager /  Cust...   \n",
       "9981  Sales Representative / Account Manager /  Cust...   \n",
       "9982  Sales Representative / Account Manager /  Cust...   \n",
       "9983  Sales Representative / Account Manager /  Cust...   \n",
       "9984  Sales Representative / Account Manager /  Cust...   \n",
       "9985  Sales Representative / Account Manager /  Cust...   \n",
       "9986  Sales Representative / Account Manager /  Cust...   \n",
       "9987  Sales Representative / Account Manager /  Cust...   \n",
       "9988  Sales Representative / Account Manager /  Cust...   \n",
       "9989  Sales Representative / Account Manager /  Cust...   \n",
       "9990  Sales Representative / Account Manager /  Cust...   \n",
       "9991  Sales Representative / Account Manager /  Cust...   \n",
       "9992  Sales Representative / Account Manager /  Cust...   \n",
       "9993  Sales Representative / Account Manager /  Cust...   \n",
       "9994  Sales Representative / Account Manager /  Cust...   \n",
       "9995  Sales Representative / Account Manager /  Cust...   \n",
       "9996  Sales Representative / Account Manager /  Cust...   \n",
       "9997  Sales Representative / Account Manager /  Cust...   \n",
       "9998  Sales Representative / Account Manager /  Cust...   \n",
       "9999  Sales Representative / Account Manager /  Cust...   \n",
       "\n",
       "                                           Requirements               City  \\\n",
       "0     <p>SKILL SET</p>\\r<p>&nbsp;</p>\\r<p>Network Se...         Washington   \n",
       "1     <p><b>WHAT YOU NEED: </b></p>\\r<p>Four year co...          Charlotte   \n",
       "2     Please refer to the Job Description to view th...        Winter Park   \n",
       "3     Please refer to the Job Description to view th...            Orlando   \n",
       "4     Please refer to the Job Description to view th...            Orlando   \n",
       "5     Please refer to the Job Description to view th...       Ormond Beach   \n",
       "6     Please refer to the Job Description to view th...            Orlando   \n",
       "7     Please refer to the Job Description to view th...            Orlando   \n",
       "8     Please refer to the Job Description to view th...            Orlando   \n",
       "9     Please refer to the Job Description to view th...        Winter Park   \n",
       "10    Please refer to the Job Description to view th...        Los Angeles   \n",
       "11    Please refer to the Job Description to view th...           Longwood   \n",
       "12    Please refer to the Job Description to view th...  Altamonte Springs   \n",
       "13    Please refer to the Job Description to view th...            Orlando   \n",
       "14    Please refer to the Job Description to view th...      Daytona Beach   \n",
       "15    Please refer to the Job Description to view th...             Oviedo   \n",
       "16    Please refer to the Job Description to view th...            Orlando   \n",
       "17    Please refer to the Job Description to view th...            Orlando   \n",
       "18    Please refer to the Job Description to view th...  Altamonte Springs   \n",
       "19    Please refer to the Job Description to view th...         Windermere   \n",
       "20    Please refer to the Job Description to view th...           Leesburg   \n",
       "21    Please refer to the Job Description to view th...            Orlando   \n",
       "22    Please refer to the Job Description to view th...            Orlando   \n",
       "23    Please refer to the Job Description to view th...            Orlando   \n",
       "24    Please refer to the Job Description to view th...            Orlando   \n",
       "25    Please refer to the Job Description to view th...            Orlando   \n",
       "26    Please refer to the Job Description to view th...            Orlando   \n",
       "27    Please refer to the Job Description to view th...           Longwood   \n",
       "28    Please refer to the Job Description to view th...             Apopka   \n",
       "29    Please refer to the Job Description to view th...            Orlando   \n",
       "...                                                 ...                ...   \n",
       "9970  <P>As an Outside Sales Rep with Central Paymen...           Billings   \n",
       "9971  <P>As an Outside Sales Rep with Central Paymen...            Daytona   \n",
       "9972  <P>As an Outside Sales Rep with Central Paymen...           El Cajon   \n",
       "9973  <P>As an Outside Sales Rep with Central Paymen...              Fargo   \n",
       "9974  <P>As an Outside Sales Rep with Central Paymen...          Green Bay   \n",
       "9975  <P>As an Outside Sales Rep with Central Paymen...          Riverside   \n",
       "9976  <P>As an Outside Sales Rep with Central Paymen...        Rocky Mount   \n",
       "9977  <P>As an Outside Sales Rep with Central Paymen...      San Francisco   \n",
       "9978  <P>As an Outside Sales Rep with Central Paymen...         Washington   \n",
       "9979  <P>As an Outside Sales Rep with Central Paymen...         Chesapeake   \n",
       "9980  <P>As an Outside Sales Rep with Central Paymen...             Joliet   \n",
       "9981  <P>As an Outside Sales Rep with Central Paymen...          Jonesboro   \n",
       "9982  <P>As an Outside Sales Rep with Central Paymen...              Nampa   \n",
       "9983  <P>As an Outside Sales Rep with Central Paymen...               Yuma   \n",
       "9984  <P>As an Outside Sales Rep with Central Paymen...      Beverly Hills   \n",
       "9985  <P>As an Outside Sales Rep with Central Paymen...            Boulder   \n",
       "9986  <P>As an Outside Sales Rep with Central Paymen...            Concord   \n",
       "9987  <P>As an Outside Sales Rep with Central Paymen...         Lake Orion   \n",
       "9988  <P>As an Outside Sales Rep with Central Paymen...            Lebanon   \n",
       "9989  <P>As an Outside Sales Rep with Central Paymen...          Levittown   \n",
       "9990  <P>As an Outside Sales Rep with Central Paymen...          Oceanside   \n",
       "9991  <P>As an Outside Sales Rep with Central Paymen...           Palmdale   \n",
       "9992  <P>As an Outside Sales Rep with Central Paymen...        Phenix City   \n",
       "9993  <P>As an Outside Sales Rep with Central Paymen...      Winston Salem   \n",
       "9994  <P>As an Outside Sales Rep with Central Paymen...         Youngstown   \n",
       "9995  <P>As an Outside Sales Rep with Central Paymen...         Alpharetta   \n",
       "9996  <P>As an Outside Sales Rep with Central Paymen...            Antioch   \n",
       "9997  <P>As an Outside Sales Rep with Central Paymen...             Austin   \n",
       "9998  <P>As an Outside Sales Rep with Central Paymen...          Covington   \n",
       "9999  <P>As an Outside Sales Rep with Central Paymen...      Daytona Beach   \n",
       "\n",
       "     State Country  \n",
       "0       DC      US  \n",
       "1       NC      US  \n",
       "2       FL      US  \n",
       "3       FL      US  \n",
       "4       FL      US  \n",
       "5       FL      US  \n",
       "6       FL      US  \n",
       "7       FL      US  \n",
       "8       FL      US  \n",
       "9       FL      US  \n",
       "10      CA      US  \n",
       "11      FL      US  \n",
       "12      FL      US  \n",
       "13      FL      US  \n",
       "14      FL      US  \n",
       "15      FL      US  \n",
       "16      FL      US  \n",
       "17      FL      US  \n",
       "18      FL      US  \n",
       "19      FL      US  \n",
       "20      FL      US  \n",
       "21      FL      US  \n",
       "22      FL      US  \n",
       "23      FL      US  \n",
       "24      FL      US  \n",
       "25      FL      US  \n",
       "26      FL      US  \n",
       "27      FL      US  \n",
       "28      FL      US  \n",
       "29      FL      US  \n",
       "...    ...     ...  \n",
       "9970    MT      US  \n",
       "9971    FL      US  \n",
       "9972    CA      US  \n",
       "9973    ND      US  \n",
       "9974    WI      US  \n",
       "9975    CA      US  \n",
       "9976    NC      US  \n",
       "9977    CA      US  \n",
       "9978    DC      US  \n",
       "9979    VA      US  \n",
       "9980    IL      US  \n",
       "9981    GA      US  \n",
       "9982    ID      US  \n",
       "9983    AZ      US  \n",
       "9984    CA      US  \n",
       "9985    CO      US  \n",
       "9986    NC      US  \n",
       "9987    MI      US  \n",
       "9988    PA      US  \n",
       "9989    PA      US  \n",
       "9990    CA      US  \n",
       "9991    CA      US  \n",
       "9992    AL      US  \n",
       "9993    NC      US  \n",
       "9994    OH      US  \n",
       "9995    GA      US  \n",
       "9996    TN      US  \n",
       "9997    TX      US  \n",
       "9998    KY      US  \n",
       "9999    FL      US  \n",
       "\n",
       "[10000 rows x 9 columns]"
      ]
     },
     "execution_count": 102,
     "metadata": {},
     "output_type": "execute_result"
    }
   ],
   "source": [
    "#reset_index(level=None, drop=False, inplace=False, col_level=0, col_fill=”)\n",
    "jobs_US_base_line = jobs_US_base_line.reset_index(col_level=0)\n",
    "jobs_US_base_line "
   ]
  },
  {
   "cell_type": "code",
   "execution_count": 103,
   "metadata": {},
   "outputs": [
    {
     "data": {
      "text/plain": [
       "(7508,)"
      ]
     },
     "execution_count": 103,
     "metadata": {},
     "output_type": "execute_result"
    }
   ],
   "source": [
    "titles = jobs_US_base_line['Title']\n",
    "titles.head()\n",
    "titles.unique().shape"
   ]
  },
  {
   "cell_type": "code",
   "execution_count": 104,
   "metadata": {},
   "outputs": [
    {
     "data": {
      "text/plain": [
       "(10000,)"
      ]
     },
     "execution_count": 104,
     "metadata": {},
     "output_type": "execute_result"
    }
   ],
   "source": [
    "# series work is the axis labels are collectively referred to as the index. \n",
    "indices = pd.Series(jobs_US_base_line.index, index=jobs_US_base_line['Title'])\n",
    "indices.shape"
   ]
  },
  {
   "cell_type": "code",
   "execution_count": 105,
   "metadata": {},
   "outputs": [
    {
     "data": {
      "text/plain": [
       "0"
      ]
     },
     "execution_count": 105,
     "metadata": {},
     "output_type": "execute_result"
    }
   ],
   "source": [
    "indices.head(10)\n",
    "idx = indices['Security Engineer/Technical Lead']\n",
    "idx"
   ]
  },
  {
   "cell_type": "code",
   "execution_count": 106,
   "metadata": {},
   "outputs": [
    {
     "data": {
      "text/plain": [
       "(10000,)"
      ]
     },
     "execution_count": 106,
     "metadata": {},
     "output_type": "execute_result"
    }
   ],
   "source": [
    "titles.shape"
   ]
  },
  {
   "cell_type": "markdown",
   "metadata": {},
   "source": [
    "### Recommendation Algorithms"
   ]
  },
  {
   "cell_type": "code",
   "execution_count": 107,
   "metadata": {},
   "outputs": [],
   "source": [
    "#This enumerate object can then be used directly in for loops or be converted into a list of tuples using list() method\n",
    "def job_recommendations(title):\n",
    "    idx = indices[title]\n",
    "    sim_scores = list(enumerate(cosine_sim[idx]))\n",
    "    sim_scores = sorted(sim_scores, key=lambda x: x[1], reverse=True)\n",
    "    job_indices = [i[0] for i in sim_scores]\n",
    "    return titles.iloc[job_indices]"
   ]
  },
  {
   "cell_type": "code",
   "execution_count": 108,
   "metadata": {},
   "outputs": [
    {
     "data": {
      "text/plain": [
       "1                           SAP Business Analyst / WM\n",
       "6051                    SAP FI/CO Business Consultant\n",
       "5868                       SAP FI/CO Business Analyst\n",
       "5159                          SAP Basis Administrator\n",
       "5351    SAP Sales and Distribution Solution Architect\n",
       "4796       Senior Specialist - SAP Configuration - SD\n",
       "5117                       SAP Integration Specialist\n",
       "4728           SAP ABAP Developer with PRA experience\n",
       "5244                                 Business Analyst\n",
       "6277                              SAP Project Manager\n",
       "Name: Title, dtype: object"
      ]
     },
     "execution_count": 108,
     "metadata": {},
     "output_type": "execute_result"
    }
   ],
   "source": [
    "job_recommendations('SAP Business Analyst / WM').head(10)"
   ]
  },
  {
   "cell_type": "code",
   "execution_count": null,
   "metadata": {},
   "outputs": [],
   "source": [
    "job_recommendations('Security Engineer/Technical Lead').head(10)"
   ]
  },
  {
   "cell_type": "code",
   "execution_count": null,
   "metadata": {},
   "outputs": [],
   "source": [
    "job_recommendations('Immediate Opening').head(10)"
   ]
  },
  {
   "cell_type": "code",
   "execution_count": null,
   "metadata": {},
   "outputs": [],
   "source": [
    " job_recommendations('EXPERIENCED ROOFERS').head()"
   ]
  },
  {
   "cell_type": "code",
   "execution_count": 109,
   "metadata": {},
   "outputs": [],
   "source": [
    "from sklearn.feature_extraction.text import CountVectorizer\n"
   ]
  },
  {
   "cell_type": "code",
   "execution_count": 110,
   "metadata": {},
   "outputs": [],
   "source": [
    "cv=CountVectorizer()"
   ]
  },
  {
   "cell_type": "code",
   "execution_count": 111,
   "metadata": {},
   "outputs": [],
   "source": [
    "cv_matrix = cv.fit_transform(jobs_US_base_line['Description'])"
   ]
  },
  {
   "cell_type": "code",
   "execution_count": 112,
   "metadata": {},
   "outputs": [
    {
     "data": {
      "text/plain": [
       "(10000, 39873)"
      ]
     },
     "execution_count": 112,
     "metadata": {},
     "output_type": "execute_result"
    }
   ],
   "source": [
    "cv_matrix.shape"
   ]
  },
  {
   "cell_type": "code",
   "execution_count": 113,
   "metadata": {},
   "outputs": [],
   "source": [
    "from sklearn.metrics.pairwise import linear_kernel, cosine_similarity"
   ]
  },
  {
   "cell_type": "code",
   "execution_count": 114,
   "metadata": {},
   "outputs": [],
   "source": [
    "cosine_sim2 = linear_kernel(cv_matrix, cv_matrix)"
   ]
  },
  {
   "cell_type": "markdown",
   "metadata": {},
   "source": [
    "### Recommendation Algorithms"
   ]
  },
  {
   "cell_type": "code",
   "execution_count": 115,
   "metadata": {},
   "outputs": [],
   "source": [
    "def job_recommendations(title):\n",
    "    idx = indices[title]\n",
    "    sim_scores = list(enumerate(cosine_sim2[idx]))\n",
    "    sim_scores = sorted(sim_scores, key=lambda x: x[1], reverse=True)\n",
    "    job_indices = [i[0] for i in sim_scores]\n",
    "    return titles.iloc[job_indices]"
   ]
  },
  {
   "cell_type": "code",
   "execution_count": 116,
   "metadata": {},
   "outputs": [
    {
     "data": {
      "text/plain": [
       "3108    Instructional Laboratory Technician - Writing ...\n",
       "592                                       Chief of Police\n",
       "6293              3 Network Architects needed - immediate\n",
       "6915                         Property Management Director\n",
       "6190    Marketing and Sponsorship Director, Premier an...\n",
       "3335                 ELECTRICAL ESTIMATION FOR THE A TEAM\n",
       "7643         Companions, Certified Home Health Aides & RN\n",
       "3336              ELECTRICAL CONSTRUCTION PROJECT MANAGER\n",
       "3337    ELECTRICAL LEAD ESTIMATOR, TIMBERLINE NETWORK ...\n",
       "619     Sr Director of Business Development, HID Conne...\n",
       "Name: Title, dtype: object"
      ]
     },
     "execution_count": 116,
     "metadata": {},
     "output_type": "execute_result"
    }
   ],
   "source": [
    "job_recommendations('SAP Business Analyst / WM').head(10)"
   ]
  },
  {
   "cell_type": "code",
   "execution_count": 118,
   "metadata": {
    "scrolled": true
   },
   "outputs": [
    {
     "data": {
      "text/plain": [
       "1680                             Director of Nursing\n",
       "7643    Companions, Certified Home Health Aides & RN\n",
       "7653                                       REGISTRAR\n",
       "6915                    Property Management Director\n",
       "1284                       Special Education Teacher\n",
       "3664                    Corporate Quality Technician\n",
       "6293         3 Network Architects needed - immediate\n",
       "6917                                Property Manager\n",
       "2881                                   HR Generalist\n",
       "7412                       Assistant Project Manager\n",
       "Name: Title, dtype: object"
      ]
     },
     "execution_count": 118,
     "metadata": {},
     "output_type": "execute_result"
    }
   ],
   "source": [
    "job_recommendations('Property Management Director').head(10)"
   ]
  },
  {
   "cell_type": "markdown",
   "metadata": {},
   "source": [
    "# colabrative  filtering based job"
   ]
  },
  {
   "cell_type": "markdown",
   "metadata": {},
   "source": [
    "##### Find out similar users -- Find out for which jobs they have applied -- suggest those job to the other users who shared similar user profile.\n"
   ]
  },
  {
   "cell_type": "raw",
   "metadata": {},
   "source": [
    "We are finding put similar user profile based on their degree type, majors and total years of experience."
   ]
  },
  {
   "cell_type": "raw",
   "metadata": {},
   "source": [
    "We will get to 10 similar users.\n",
    "We will find our which are the jobs for which these users have applied\n",
    "We take an union of these jobs and recommend the jobs all these user base"
   ]
  },
  {
   "cell_type": "code",
   "execution_count": 119,
   "metadata": {},
   "outputs": [
    {
     "data": {
      "text/html": [
       "<div>\n",
       "<style scoped>\n",
       "    .dataframe tbody tr th:only-of-type {\n",
       "        vertical-align: middle;\n",
       "    }\n",
       "\n",
       "    .dataframe tbody tr th {\n",
       "        vertical-align: top;\n",
       "    }\n",
       "\n",
       "    .dataframe thead th {\n",
       "        text-align: right;\n",
       "    }\n",
       "</style>\n",
       "<table border=\"1\" class=\"dataframe\">\n",
       "  <thead>\n",
       "    <tr style=\"text-align: right;\">\n",
       "      <th></th>\n",
       "      <th>UserID</th>\n",
       "      <th>WindowID</th>\n",
       "      <th>Split</th>\n",
       "      <th>City</th>\n",
       "      <th>State</th>\n",
       "      <th>Country</th>\n",
       "      <th>ZipCode</th>\n",
       "      <th>DegreeType</th>\n",
       "      <th>Major</th>\n",
       "      <th>GraduationDate</th>\n",
       "      <th>WorkHistoryCount</th>\n",
       "      <th>TotalYearsExperience</th>\n",
       "      <th>CurrentlyEmployed</th>\n",
       "      <th>ManagedOthers</th>\n",
       "      <th>ManagedHowMany</th>\n",
       "    </tr>\n",
       "  </thead>\n",
       "  <tbody>\n",
       "    <tr>\n",
       "      <th>0</th>\n",
       "      <td>47</td>\n",
       "      <td>1</td>\n",
       "      <td>Train</td>\n",
       "      <td>Paramount</td>\n",
       "      <td>CA</td>\n",
       "      <td>US</td>\n",
       "      <td>90723</td>\n",
       "      <td>High School</td>\n",
       "      <td>NaN</td>\n",
       "      <td>1999-06-01 00:00:00</td>\n",
       "      <td>3</td>\n",
       "      <td>10.0</td>\n",
       "      <td>Yes</td>\n",
       "      <td>No</td>\n",
       "      <td>0</td>\n",
       "    </tr>\n",
       "    <tr>\n",
       "      <th>1</th>\n",
       "      <td>72</td>\n",
       "      <td>1</td>\n",
       "      <td>Train</td>\n",
       "      <td>La Mesa</td>\n",
       "      <td>CA</td>\n",
       "      <td>US</td>\n",
       "      <td>91941</td>\n",
       "      <td>Master's</td>\n",
       "      <td>Anthropology</td>\n",
       "      <td>2011-01-01 00:00:00</td>\n",
       "      <td>10</td>\n",
       "      <td>8.0</td>\n",
       "      <td>Yes</td>\n",
       "      <td>No</td>\n",
       "      <td>0</td>\n",
       "    </tr>\n",
       "    <tr>\n",
       "      <th>2</th>\n",
       "      <td>80</td>\n",
       "      <td>1</td>\n",
       "      <td>Train</td>\n",
       "      <td>Williamstown</td>\n",
       "      <td>NJ</td>\n",
       "      <td>US</td>\n",
       "      <td>08094</td>\n",
       "      <td>High School</td>\n",
       "      <td>Not Applicable</td>\n",
       "      <td>1985-06-01 00:00:00</td>\n",
       "      <td>5</td>\n",
       "      <td>11.0</td>\n",
       "      <td>Yes</td>\n",
       "      <td>Yes</td>\n",
       "      <td>5</td>\n",
       "    </tr>\n",
       "    <tr>\n",
       "      <th>3</th>\n",
       "      <td>98</td>\n",
       "      <td>1</td>\n",
       "      <td>Train</td>\n",
       "      <td>Astoria</td>\n",
       "      <td>NY</td>\n",
       "      <td>US</td>\n",
       "      <td>11105</td>\n",
       "      <td>Master's</td>\n",
       "      <td>Journalism</td>\n",
       "      <td>2007-05-01 00:00:00</td>\n",
       "      <td>3</td>\n",
       "      <td>3.0</td>\n",
       "      <td>Yes</td>\n",
       "      <td>No</td>\n",
       "      <td>0</td>\n",
       "    </tr>\n",
       "    <tr>\n",
       "      <th>4</th>\n",
       "      <td>123</td>\n",
       "      <td>1</td>\n",
       "      <td>Train</td>\n",
       "      <td>Baton Rouge</td>\n",
       "      <td>LA</td>\n",
       "      <td>US</td>\n",
       "      <td>70808</td>\n",
       "      <td>Bachelor's</td>\n",
       "      <td>Agricultural Business</td>\n",
       "      <td>2011-05-01 00:00:00</td>\n",
       "      <td>1</td>\n",
       "      <td>9.0</td>\n",
       "      <td>Yes</td>\n",
       "      <td>No</td>\n",
       "      <td>0</td>\n",
       "    </tr>\n",
       "  </tbody>\n",
       "</table>\n",
       "</div>"
      ],
      "text/plain": [
       "   UserID  WindowID  Split          City State Country ZipCode   DegreeType  \\\n",
       "0      47         1  Train     Paramount    CA      US   90723  High School   \n",
       "1      72         1  Train       La Mesa    CA      US   91941     Master's   \n",
       "2      80         1  Train  Williamstown    NJ      US   08094  High School   \n",
       "3      98         1  Train       Astoria    NY      US   11105     Master's   \n",
       "4     123         1  Train   Baton Rouge    LA      US   70808   Bachelor's   \n",
       "\n",
       "                   Major       GraduationDate  WorkHistoryCount  \\\n",
       "0                    NaN  1999-06-01 00:00:00                 3   \n",
       "1           Anthropology  2011-01-01 00:00:00                10   \n",
       "2         Not Applicable  1985-06-01 00:00:00                 5   \n",
       "3             Journalism  2007-05-01 00:00:00                 3   \n",
       "4  Agricultural Business  2011-05-01 00:00:00                 1   \n",
       "\n",
       "   TotalYearsExperience CurrentlyEmployed ManagedOthers  ManagedHowMany  \n",
       "0                  10.0               Yes            No               0  \n",
       "1                   8.0               Yes            No               0  \n",
       "2                  11.0               Yes           Yes               5  \n",
       "3                   3.0               Yes            No               0  \n",
       "4                   9.0               Yes            No               0  "
      ]
     },
     "execution_count": 119,
     "metadata": {},
     "output_type": "execute_result"
    }
   ],
   "source": [
    "users_training.head()"
   ]
  },
  {
   "cell_type": "code",
   "execution_count": 120,
   "metadata": {},
   "outputs": [
    {
     "data": {
      "text/html": [
       "<div>\n",
       "<style scoped>\n",
       "    .dataframe tbody tr th:only-of-type {\n",
       "        vertical-align: middle;\n",
       "    }\n",
       "\n",
       "    .dataframe tbody tr th {\n",
       "        vertical-align: top;\n",
       "    }\n",
       "\n",
       "    .dataframe thead th {\n",
       "        text-align: right;\n",
       "    }\n",
       "</style>\n",
       "<table border=\"1\" class=\"dataframe\">\n",
       "  <thead>\n",
       "    <tr style=\"text-align: right;\">\n",
       "      <th></th>\n",
       "      <th>UserID</th>\n",
       "      <th>WindowID</th>\n",
       "      <th>Split</th>\n",
       "      <th>City</th>\n",
       "      <th>State</th>\n",
       "      <th>Country</th>\n",
       "      <th>ZipCode</th>\n",
       "      <th>DegreeType</th>\n",
       "      <th>Major</th>\n",
       "      <th>GraduationDate</th>\n",
       "      <th>WorkHistoryCount</th>\n",
       "      <th>TotalYearsExperience</th>\n",
       "      <th>CurrentlyEmployed</th>\n",
       "      <th>ManagedOthers</th>\n",
       "      <th>ManagedHowMany</th>\n",
       "    </tr>\n",
       "  </thead>\n",
       "  <tbody>\n",
       "    <tr>\n",
       "      <th>31</th>\n",
       "      <td>767</td>\n",
       "      <td>1</td>\n",
       "      <td>Test</td>\n",
       "      <td>Murrieta</td>\n",
       "      <td>CA</td>\n",
       "      <td>US</td>\n",
       "      <td>92562</td>\n",
       "      <td>Bachelor's</td>\n",
       "      <td>University Studies/Business</td>\n",
       "      <td>2008-05-01 00:00:00</td>\n",
       "      <td>5</td>\n",
       "      <td>16.0</td>\n",
       "      <td>No</td>\n",
       "      <td>No</td>\n",
       "      <td>0</td>\n",
       "    </tr>\n",
       "    <tr>\n",
       "      <th>32</th>\n",
       "      <td>769</td>\n",
       "      <td>1</td>\n",
       "      <td>Test</td>\n",
       "      <td>Roselle</td>\n",
       "      <td>IL</td>\n",
       "      <td>US</td>\n",
       "      <td>60172</td>\n",
       "      <td>Bachelor's</td>\n",
       "      <td>Radio-Television</td>\n",
       "      <td>2011-05-01 00:00:00</td>\n",
       "      <td>5</td>\n",
       "      <td>5.0</td>\n",
       "      <td>Yes</td>\n",
       "      <td>No</td>\n",
       "      <td>0</td>\n",
       "    </tr>\n",
       "    <tr>\n",
       "      <th>33</th>\n",
       "      <td>861</td>\n",
       "      <td>1</td>\n",
       "      <td>Test</td>\n",
       "      <td>Morris</td>\n",
       "      <td>IL</td>\n",
       "      <td>US</td>\n",
       "      <td>60450</td>\n",
       "      <td>High School</td>\n",
       "      <td>General Studies</td>\n",
       "      <td>1989-05-01 00:00:00</td>\n",
       "      <td>7</td>\n",
       "      <td>21.0</td>\n",
       "      <td>NaN</td>\n",
       "      <td>No</td>\n",
       "      <td>0</td>\n",
       "    </tr>\n",
       "    <tr>\n",
       "      <th>38</th>\n",
       "      <td>1006</td>\n",
       "      <td>1</td>\n",
       "      <td>Test</td>\n",
       "      <td>West Chester</td>\n",
       "      <td>PA</td>\n",
       "      <td>US</td>\n",
       "      <td>19382</td>\n",
       "      <td>High School</td>\n",
       "      <td>Not Applicable</td>\n",
       "      <td>2008-06-01 00:00:00</td>\n",
       "      <td>3</td>\n",
       "      <td>6.0</td>\n",
       "      <td>Yes</td>\n",
       "      <td>No</td>\n",
       "      <td>0</td>\n",
       "    </tr>\n",
       "    <tr>\n",
       "      <th>44</th>\n",
       "      <td>1192</td>\n",
       "      <td>1</td>\n",
       "      <td>Test</td>\n",
       "      <td>Cincinnati</td>\n",
       "      <td>OH</td>\n",
       "      <td>US</td>\n",
       "      <td>45255</td>\n",
       "      <td>Bachelor's</td>\n",
       "      <td>Marketing</td>\n",
       "      <td>NaN</td>\n",
       "      <td>5</td>\n",
       "      <td>6.0</td>\n",
       "      <td>Yes</td>\n",
       "      <td>No</td>\n",
       "      <td>0</td>\n",
       "    </tr>\n",
       "  </tbody>\n",
       "</table>\n",
       "</div>"
      ],
      "text/plain": [
       "    UserID  WindowID Split          City State Country ZipCode   DegreeType  \\\n",
       "31     767         1  Test      Murrieta    CA      US   92562   Bachelor's   \n",
       "32     769         1  Test       Roselle    IL      US   60172   Bachelor's   \n",
       "33     861         1  Test        Morris    IL      US   60450  High School   \n",
       "38    1006         1  Test  West Chester    PA      US   19382  High School   \n",
       "44    1192         1  Test    Cincinnati    OH      US   45255   Bachelor's   \n",
       "\n",
       "                          Major       GraduationDate  WorkHistoryCount  \\\n",
       "31  University Studies/Business  2008-05-01 00:00:00                 5   \n",
       "32             Radio-Television  2011-05-01 00:00:00                 5   \n",
       "33              General Studies  1989-05-01 00:00:00                 7   \n",
       "38               Not Applicable  2008-06-01 00:00:00                 3   \n",
       "44                    Marketing                  NaN                 5   \n",
       "\n",
       "    TotalYearsExperience CurrentlyEmployed ManagedOthers  ManagedHowMany  \n",
       "31                  16.0                No            No               0  \n",
       "32                   5.0               Yes            No               0  \n",
       "33                  21.0               NaN            No               0  \n",
       "38                   6.0               Yes            No               0  \n",
       "44                   6.0               Yes            No               0  "
      ]
     },
     "execution_count": 120,
     "metadata": {},
     "output_type": "execute_result"
    }
   ],
   "source": [
    "users_testing.head()"
   ]
  },
  {
   "cell_type": "code",
   "execution_count": 121,
   "metadata": {},
   "outputs": [],
   "source": [
    "user_based_approach_US = users_training.loc[users_training['Country']=='US']"
   ]
  },
  {
   "cell_type": "code",
   "execution_count": 122,
   "metadata": {},
   "outputs": [],
   "source": [
    "user_based_approach_US_test = users_testing.loc[users_testing['Country']=='US']"
   ]
  },
  {
   "cell_type": "code",
   "execution_count": 123,
   "metadata": {},
   "outputs": [],
   "source": [
    "user_based_approach = user_based_approach_US.iloc[0:10000,:]"
   ]
  },
  {
   "cell_type": "code",
   "execution_count": 124,
   "metadata": {},
   "outputs": [],
   "source": [
    "user_based_approach_test = user_based_approach_US_test.iloc[0:10000,:]"
   ]
  },
  {
   "cell_type": "code",
   "execution_count": 125,
   "metadata": {},
   "outputs": [],
   "source": [
    "#user_based_approach.head()"
   ]
  },
  {
   "cell_type": "code",
   "execution_count": 126,
   "metadata": {},
   "outputs": [
    {
     "data": {
      "text/plain": [
       "(10000,)"
      ]
     },
     "execution_count": 126,
     "metadata": {},
     "output_type": "execute_result"
    }
   ],
   "source": [
    "user_based_approach['DegreeType'].shape"
   ]
  },
  {
   "cell_type": "code",
   "execution_count": 127,
   "metadata": {},
   "outputs": [
    {
     "data": {
      "text/plain": [
       "(10000,)"
      ]
     },
     "execution_count": 127,
     "metadata": {},
     "output_type": "execute_result"
    }
   ],
   "source": [
    "user_based_approach['DegreeType'].isnull().shape"
   ]
  },
  {
   "cell_type": "code",
   "execution_count": 128,
   "metadata": {},
   "outputs": [],
   "source": [
    "user_based_approach['DegreeType'] = user_based_approach['DegreeType'].fillna('')\n",
    "user_based_approach_test['DegreeType']=user_based_approach_test['DegreeType'].fillna('')\n"
   ]
  },
  {
   "cell_type": "code",
   "execution_count": 129,
   "metadata": {},
   "outputs": [
    {
     "data": {
      "text/plain": [
       "(10000,)"
      ]
     },
     "execution_count": 129,
     "metadata": {},
     "output_type": "execute_result"
    }
   ],
   "source": [
    "user_based_approach['Major'].shape"
   ]
  },
  {
   "cell_type": "code",
   "execution_count": 130,
   "metadata": {},
   "outputs": [
    {
     "data": {
      "text/plain": [
       "(10000,)"
      ]
     },
     "execution_count": 130,
     "metadata": {},
     "output_type": "execute_result"
    }
   ],
   "source": [
    "user_based_approach['Major'].isnull().shape"
   ]
  },
  {
   "cell_type": "code",
   "execution_count": 131,
   "metadata": {},
   "outputs": [],
   "source": [
    "user_based_approach['Major'] = user_based_approach['Major'].fillna('')\n",
    "user_based_approach_test['Major'] = user_based_approach_test['Major'].fillna('')\n"
   ]
  },
  {
   "cell_type": "code",
   "execution_count": 132,
   "metadata": {},
   "outputs": [
    {
     "data": {
      "text/plain": [
       "(10000,)"
      ]
     },
     "execution_count": 132,
     "metadata": {},
     "output_type": "execute_result"
    }
   ],
   "source": [
    "user_based_approach['TotalYearsExperience'].shape"
   ]
  },
  {
   "cell_type": "code",
   "execution_count": 133,
   "metadata": {},
   "outputs": [
    {
     "data": {
      "text/plain": [
       "(10000,)"
      ]
     },
     "execution_count": 133,
     "metadata": {},
     "output_type": "execute_result"
    }
   ],
   "source": [
    "user_based_approach['TotalYearsExperience'].isnull().shape"
   ]
  },
  {
   "cell_type": "code",
   "execution_count": 134,
   "metadata": {},
   "outputs": [],
   "source": [
    "user_based_approach['TotalYearsExperience'] = str(user_based_approach['TotalYearsExperience'].fillna(''))\n",
    "user_based_approach_test['TotalYearsExperience'] = str(user_based_approach_test['TotalYearsExperience'].fillna(''))"
   ]
  },
  {
   "cell_type": "code",
   "execution_count": 135,
   "metadata": {},
   "outputs": [],
   "source": [
    "user_based_approach['DegreeType'] = user_based_approach['DegreeType'] + user_based_approach['Major'] + user_based_approach['TotalYearsExperience']\n"
   ]
  },
  {
   "cell_type": "code",
   "execution_count": 136,
   "metadata": {},
   "outputs": [],
   "source": [
    "user_based_approach_test['DegreeType'] = user_based_approach_test['DegreeType'] + user_based_approach_test['Major'] + user_based_approach_test['TotalYearsExperience']\n"
   ]
  },
  {
   "cell_type": "code",
   "execution_count": 137,
   "metadata": {},
   "outputs": [],
   "source": [
    "from sklearn.feature_extraction.text import TfidfVectorizer"
   ]
  },
  {
   "cell_type": "code",
   "execution_count": 138,
   "metadata": {},
   "outputs": [
    {
     "data": {
      "text/plain": [
       "0    High School0        10\\n1         8\\n2        ...\n",
       "1    Master'sAnthropology0        10\\n1         8\\n...\n",
       "2    High SchoolNot Applicable0        10\\n1       ...\n",
       "3    Master'sJournalism0        10\\n1         8\\n2 ...\n",
       "4    Bachelor'sAgricultural Business0        10\\n1 ...\n",
       "Name: DegreeType, dtype: object"
      ]
     },
     "execution_count": 138,
     "metadata": {},
     "output_type": "execute_result"
    }
   ],
   "source": [
    "tf = TfidfVectorizer(analyzer='word',ngram_range=(1, 2),min_df=0, stop_words='english')\n",
    "tfidf_matrix = tf.fit_transform(user_based_approach['DegreeType'])\n",
    "res=user_based_approach['DegreeType']\n",
    "res.head()"
   ]
  },
  {
   "cell_type": "code",
   "execution_count": 139,
   "metadata": {},
   "outputs": [],
   "source": [
    "tfidf_matrix_test = tf.fit_transform(user_based_approach_test['DegreeType'])\n"
   ]
  },
  {
   "cell_type": "code",
   "execution_count": 140,
   "metadata": {},
   "outputs": [
    {
     "data": {
      "text/plain": [
       "(10000, 7337)"
      ]
     },
     "execution_count": 140,
     "metadata": {},
     "output_type": "execute_result"
    }
   ],
   "source": [
    "tfidf_matrix.shape"
   ]
  },
  {
   "cell_type": "code",
   "execution_count": 141,
   "metadata": {},
   "outputs": [
    {
     "data": {
      "text/plain": [
       "(10000, 7112)"
      ]
     },
     "execution_count": 141,
     "metadata": {},
     "output_type": "execute_result"
    }
   ],
   "source": [
    "tfidf_matrix_test.shape"
   ]
  },
  {
   "cell_type": "code",
   "execution_count": 142,
   "metadata": {},
   "outputs": [],
   "source": [
    "from sklearn.naive_bayes import MultinomialNB"
   ]
  },
  {
   "cell_type": "code",
   "execution_count": 143,
   "metadata": {},
   "outputs": [
    {
     "data": {
      "text/plain": [
       "(10000,)"
      ]
     },
     "execution_count": 143,
     "metadata": {},
     "output_type": "execute_result"
    }
   ],
   "source": [
    "user_based_approach['UserID'].shape"
   ]
  },
  {
   "cell_type": "code",
   "execution_count": 149,
   "metadata": {},
   "outputs": [],
   "source": [
    "clf1=MultinomialNB().fit(tfidf_matrix,user_based_approach['UserID'])"
   ]
  },
  {
   "cell_type": "code",
   "execution_count": 145,
   "metadata": {},
   "outputs": [],
   "source": [
    "pridicted=clf1.predict(tfidf_matrix)"
   ]
  },
  {
   "cell_type": "code",
   "execution_count": 146,
   "metadata": {},
   "outputs": [],
   "source": [
    "from sklearn import metrics"
   ]
  },
  {
   "cell_type": "code",
   "execution_count": 150,
   "metadata": {},
   "outputs": [],
   "source": [
    "from sklearn.metrics import accuracy_score,confusion_matrix,classification_report"
   ]
  },
  {
   "cell_type": "code",
   "execution_count": 151,
   "metadata": {},
   "outputs": [
    {
     "data": {
      "text/plain": [
       "0.2764"
      ]
     },
     "execution_count": 151,
     "metadata": {},
     "output_type": "execute_result"
    }
   ],
   "source": [
    "aucscore=accuracy_score(user_based_approach['UserID'],pridicted)\n",
    "aucscore"
   ]
  },
  {
   "cell_type": "code",
   "execution_count": 152,
   "metadata": {},
   "outputs": [],
   "source": [
    "class_report=classification_report(user_based_approach['UserID'],pridicted)"
   ]
  },
  {
   "cell_type": "code",
   "execution_count": 153,
   "metadata": {},
   "outputs": [
    {
     "data": {
      "text/plain": [
       "'              precision    recall  f1-score   support\\n\\n          47       0.00      1.00      0.01         1\\n          72       1.00      1.00      1.00         1\\n          80       0.00      1.00      0.00         1\\n          98       0.50      1.00      0.67         1\\n         123       0.50      1.00      0.67         1\\n         131       0.02      1.00      0.04         1\\n         162       1.00      1.00      1.00         1\\n         178       0.00      0.00      0.00         1\\n         203       1.00      1.00      1.00         1\\n         344       0.00      0.00      0.00         1\\n         395       0.01      1.00      0.03         1\\n         411       0.00      1.00      0.00         1\\n         415       1.00      1.00      1.00         1\\n         437       0.04      1.00      0.08         1\\n         483       0.01      1.00      0.01         1\\n         496       0.00      0.00      0.00         1\\n         501       0.01      1.00      0.01         1\\n         524       1.00      1.00      1.00         1\\n         534       0.00      0.00      0.00         1\\n         547       0.00      0.00      0.00         1\\n         553       0.00      0.00      0.00         1\\n         554       0.50      1.00      0.67         1\\n         555       1.00      1.00      1.00         1\\n         589       0.01      1.00      0.02         1\\n         640       0.00      0.00      0.00         1\\n         644       0.03      1.00      0.05         1\\n         645       0.00      0.00      0.00         1\\n         655       0.00      0.00      0.00         1\\n         682       0.00      0.00      0.00         1\\n         744       0.00      0.00      0.00         1\\n         755       0.06      1.00      0.11         1\\n         886       0.00      0.00      0.00         1\\n         908       1.00      1.00      1.00         1\\n         951       0.00      1.00      0.01         1\\n         966       1.00      1.00      1.00         1\\n        1031       0.00      0.00      0.00         1\\n        1045       0.00      0.00      0.00         1\\n        1113       0.00      0.00      0.00         1\\n        1123       1.00      1.00      1.00         1\\n        1138       0.00      0.00      0.00         1\\n        1201       0.00      0.00      0.00         1\\n        1204       0.00      0.00      0.00         1\\n        1206       0.08      1.00      0.14         1\\n        1226       1.00      1.00      1.00         1\\n        1244       0.00      0.00      0.00         1\\n        1355       1.00      1.00      1.00         1\\n        1363       1.00      1.00      1.00         1\\n        1374       0.00      0.00      0.00         1\\n        1486       0.00      0.00      0.00         1\\n        1487       1.00      1.00      1.00         1\\n        1526       1.00      1.00      1.00         1\\n        1541       0.00      0.00      0.00         1\\n        1563       1.00      1.00      1.00         1\\n        1610       0.50      1.00      0.67         1\\n        1645       0.50      1.00      0.67         1\\n        1657       0.00      0.00      0.00         1\\n        1697       0.00      0.00      0.00         1\\n        1721       0.00      0.00      0.00         1\\n        1769       0.00      0.00      0.00         1\\n        1770       0.00      0.00      0.00         1\\n        1793       0.07      1.00      0.12         1\\n        1800       0.00      0.00      0.00         1\\n        1834       0.00      0.00      0.00         1\\n        1846       0.50      1.00      0.67         1\\n        1960       0.00      0.00      0.00         1\\n        2010       0.00      0.00      0.00         1\\n        2017       1.00      1.00      1.00         1\\n        2032       0.06      1.00      0.11         1\\n        2116       0.00      0.00      0.00         1\\n        2134       0.00      0.00      0.00         1\\n        2166       0.00      0.00      0.00         1\\n        2203       0.00      0.00      0.00         1\\n        2204       0.11      1.00      0.20         1\\n        2265       0.00      0.00      0.00         1\\n        2304       0.00      0.00      0.00         1\\n        2327       0.05      1.00      0.10         1\\n        2337       0.00      0.00      0.00         1\\n        2370       0.00      0.00      0.00         1\\n        2385       0.00      0.00      0.00         1\\n        2386       0.00      0.00      0.00         1\\n        2393       0.00      0.00      0.00         1\\n        2432       0.05      1.00      0.10         1\\n        2469       0.00      0.00      0.00         1\\n        2472       0.00      0.00      0.00         1\\n        2473       0.00      0.00      0.00         1\\n        2481       1.00      1.00      1.00         1\\n        2528       0.33      1.00      0.50         1\\n        2549       0.50      1.00      0.67         1\\n        2571       0.00      0.00      0.00         1\\n        2604       0.07      1.00      0.12         1\\n        2638       0.00      0.00      0.00         1\\n        2658       0.00      0.00      0.00         1\\n        2700       0.00      0.00      0.00         1\\n        2718       0.07      1.00      0.13         1\\n        2731       1.00      1.00      1.00         1\\n        2754       1.00      1.00      1.00         1\\n        2821       0.00      0.00      0.00         1\\n        2865       0.03      1.00      0.06         1\\n        2888       0.00      0.00      0.00         1\\n        2898       0.00      0.00      0.00         1\\n        2914       0.00      0.00      0.00         1\\n        2958       0.01      1.00      0.02         1\\n        2964       1.00      1.00      1.00         1\\n        2982       0.00      0.00      0.00         1\\n        3050       0.03      1.00      0.06         1\\n        3054       0.50      1.00      0.67         1\\n        3069       0.00      0.00      0.00         1\\n        3093       0.01      1.00      0.01         1\\n        3123       1.00      1.00      1.00         1\\n        3145       0.04      1.00      0.08         1\\n        3164       0.00      0.00      0.00         1\\n        3165       0.33      1.00      0.50         1\\n        3176       0.25      1.00      0.40         1\\n        3185       0.00      0.00      0.00         1\\n        3186       0.00      0.00      0.00         1\\n        3232       0.00      0.00      0.00         1\\n        3268       0.10      1.00      0.18         1\\n        3276       0.00      0.00      0.00         1\\n        3316       1.00      1.00      1.00         1\\n        3351       0.00      0.00      0.00         1\\n        3381       0.05      1.00      0.09         1\\n        3411       0.00      0.00      0.00         1\\n        3475       1.00      1.00      1.00         1\\n        3491       0.00      0.00      0.00         1\\n        3539       1.00      1.00      1.00         1\\n        3582       0.33      1.00      0.50         1\\n        3594       0.00      0.00      0.00         1\\n        3638       0.00      0.00      0.00         1\\n        3644       0.00      0.00      0.00         1\\n        3688       0.00      0.00      0.00         1\\n        3752       1.00      1.00      1.00         1\\n        3758       0.00      0.00      0.00         1\\n        3772       0.00      0.00      0.00         1\\n        3777       0.50      1.00      0.67         1\\n        3801       0.00      0.00      0.00         1\\n        3830       1.00      1.00      1.00         1\\n        3842       0.00      0.00      0.00         1\\n        3846       0.00      0.00      0.00         1\\n        3892       0.00      0.00      0.00         1\\n        3908       0.03      1.00      0.06         1\\n        3992       0.00      0.00      0.00         1\\n        4001       0.00      0.00      0.00         1\\n        4019       0.00      0.00      0.00         1\\n        4022       0.00      0.00      0.00         1\\n        4032       0.00      0.00      0.00         1\\n        4040       0.00      0.00      0.00         1\\n        4049       0.04      1.00      0.08         1\\n        4061       0.00      0.00      0.00         1\\n        4082       1.00      1.00      1.00         1\\n        4083       0.50      1.00      0.67         1\\n        4095       0.00      0.00      0.00         1\\n        4107       0.00      0.00      0.00         1\\n        4125       0.00      0.00      0.00         1\\n        4164       0.00      0.00      0.00         1\\n        4200       0.17      1.00      0.29         1\\n        4202       0.00      0.00      0.00         1\\n        4232       0.00      0.00      0.00         1\\n        4243       0.00      0.00      0.00         1\\n        4250       0.00      0.00      0.00         1\\n        4274       0.00      0.00      0.00         1\\n        4283       0.25      1.00      0.40         1\\n        4289       0.00      0.00      0.00         1\\n        4332       0.00      0.00      0.00         1\\n        4359       0.00      0.00      0.00         1\\n        4360       1.00      1.00      1.00         1\\n        4366       0.00      0.00      0.00         1\\n        4380       0.03      1.00      0.06         1\\n        4388       0.50      1.00      0.67         1\\n        4462       0.00      0.00      0.00         1\\n        4501       0.00      0.00      0.00         1\\n        4510       1.00      1.00      1.00         1\\n        4517       0.20      1.00      0.33         1\\n        4545       0.08      1.00      0.15         1\\n        4575       0.00      0.00      0.00         1\\n        4604       1.00      1.00      1.00         1\\n        4619       0.00      0.00      0.00         1\\n        4651       1.00      1.00      1.00         1\\n        4654       0.25      1.00      0.40         1\\n        4688       0.00      0.00      0.00         1\\n        4698       0.00      0.00      0.00         1\\n        4703       0.00      0.00      0.00         1\\n        4719       0.00      0.00      0.00         1\\n        4740       0.00      0.00      0.00         1\\n        4743       0.00      0.00      0.00         1\\n        4745       0.00      0.00      0.00         1\\n        4773       0.09      1.00      0.17         1\\n        4787       0.00      0.00      0.00         1\\n        4844       0.00      0.00      0.00         1\\n        4859       1.00      1.00      1.00         1\\n        4940       0.00      0.00      0.00         1\\n        4965       1.00      1.00      1.00         1\\n        4972       0.00      0.00      0.00         1\\n        4988       1.00      1.00      1.00         1\\n        4989       0.50      1.00      0.67         1\\n        5012       0.00      0.00      0.00         1\\n        5152       0.02      1.00      0.05         1\\n        5156       1.00      1.00      1.00         1\\n        5157       0.00      0.00      0.00         1\\n        5174       0.00      0.00      0.00         1\\n        5186       0.00      0.00      0.00         1\\n        5190       0.14      1.00      0.25         1\\n        5211       0.00      0.00      0.00         1\\n        5214       0.00      0.00      0.00         1\\n        5264       1.00      1.00      1.00         1\\n        5272       0.01      1.00      0.03         1\\n        5282       1.00      1.00      1.00         1\\n        5324       0.25      1.00      0.40         1\\n        5339       1.00      1.00      1.00         1\\n        5351       0.00      0.00      0.00         1\\n        5365       0.25      1.00      0.40         1\\n        5384       0.00      0.00      0.00         1\\n        5414       0.00      0.00      0.00         1\\n        5473       0.50      1.00      0.67         1\\n        5598       0.50      1.00      0.67         1\\n        5633       1.00      1.00      1.00         1\\n        5645       1.00      1.00      1.00         1\\n        5676       0.33      1.00      0.50         1\\n        5686       0.00      0.00      0.00         1\\n        5692       0.00      0.00      0.00         1\\n        5725       1.00      1.00      1.00         1\\n        5726       0.00      0.00      0.00         1\\n        5740       1.00      1.00      1.00         1\\n        5748       0.20      1.00      0.33         1\\n        5751       1.00      1.00      1.00         1\\n        5762       0.03      1.00      0.06         1\\n        5767       0.03      1.00      0.05         1\\n        5813       0.00      0.00      0.00         1\\n        5874       0.04      1.00      0.07         1\\n        5939       0.00      0.00      0.00         1\\n        5965       1.00      1.00      1.00         1\\n        5976       0.00      0.00      0.00         1\\n        6004       0.25      1.00      0.40         1\\n        6047       0.00      0.00      0.00         1\\n        6049       0.00      0.00      0.00         1\\n        6101       0.03      1.00      0.05         1\\n        6156       0.00      0.00      0.00         1\\n        6172       0.00      0.00      0.00         1\\n        6186       0.00      0.00      0.00         1\\n        6187       0.33      1.00      0.50         1\\n        6224       0.00      0.00      0.00         1\\n        6225       0.00      0.00      0.00         1\\n        6246       0.03      1.00      0.06         1\\n        6275       0.00      0.00      0.00         1\\n        6279       1.00      1.00      1.00         1\\n        6288       0.50      1.00      0.67         1\\n        6326       0.00      0.00      0.00         1\\n        6330       0.33      1.00      0.50         1\\n        6364       1.00      1.00      1.00         1\\n        6374       0.00      0.00      0.00         1\\n        6429       1.00      1.00      1.00         1\\n        6433       0.00      0.00      0.00         1\\n        6441       0.00      0.00      0.00         1\\n        6456       0.00      0.00      0.00         1\\n        6468       0.00      0.00      0.00         1\\n        6524       0.02      1.00      0.04         1\\n        6532       0.00      0.00      0.00         1\\n        6585       0.00      0.00      0.00         1\\n        6587       0.08      1.00      0.15         1\\n        6588       0.00      0.00      0.00         1\\n        6598       0.00      0.00      0.00         1\\n        6643       0.00      0.00      0.00         1\\n        6679       0.00      0.00      0.00         1\\n        6733       0.00      0.00      0.00         1\\n        6752       1.00      1.00      1.00         1\\n        6766       0.00      0.00      0.00         1\\n        6809       1.00      1.00      1.00         1\\n        6827       0.00      0.00      0.00         1\\n        6830       0.09      1.00      0.17         1\\n        6858       0.00      0.00      0.00         1\\n        6884       0.00      0.00      0.00         1\\n        6945       1.00      1.00      1.00         1\\n        6950       0.14      1.00      0.25         1\\n        6957       1.00      1.00      1.00         1\\n        6966       1.00      1.00      1.00         1\\n        6969       1.00      1.00      1.00         1\\n        6981       0.00      0.00      0.00         1\\n        7002       1.00      1.00      1.00         1\\n        7015       0.07      1.00      0.12         1\\n        7023       0.50      1.00      0.67         1\\n        7031       0.00      0.00      0.00         1\\n        7035       1.00      1.00      1.00         1\\n        7065       1.00      1.00      1.00         1\\n        7087       0.06      1.00      0.11         1\\n        7089       0.00      0.00      0.00         1\\n        7111       0.33      1.00      0.50         1\\n        7129       1.00      1.00      1.00         1\\n        7153       1.00      1.00      1.00         1\\n        7193       0.00      0.00      0.00         1\\n        7196       0.17      1.00      0.29         1\\n        7215       0.20      1.00      0.33         1\\n        7287       0.00      0.00      0.00         1\\n        7394       0.00      0.00      0.00         1\\n        7399       0.00      0.00      0.00         1\\n        7426       0.00      0.00      0.00         1\\n        7436       0.00      0.00      0.00         1\\n        7450       0.00      0.00      0.00         1\\n        7451       0.03      1.00      0.06         1\\n        7495       0.03      1.00      0.06         1\\n        7504       1.00      1.00      1.00         1\\n        7516       0.00      0.00      0.00         1\\n        7558       1.00      1.00      1.00         1\\n        7576       0.00      0.00      0.00         1\\n        7586       0.00      0.00      0.00         1\\n        7618       0.00      0.00      0.00         1\\n        7624       0.00      0.00      0.00         1\\n        7625       0.00      0.00      0.00         1\\n        7631       1.00      1.00      1.00         1\\n        7677       0.00      0.00      0.00         1\\n        7709       1.00      1.00      1.00         1\\n        7760       0.00      0.00      0.00         1\\n        7769       1.00      1.00      1.00         1\\n        7814       1.00      1.00      1.00         1\\n        7839       0.00      0.00      0.00         1\\n        7874       0.06      1.00      0.11         1\\n        7875       0.00      0.00      0.00         1\\n        7904       1.00      1.00      1.00         1\\n        7919       0.10      1.00      0.18         1\\n        7928       1.00      1.00      1.00         1\\n        7930       0.02      1.00      0.03         1\\n        7935       0.03      1.00      0.06         1\\n        7966       1.00      1.00      1.00         1\\n        7974       0.25      1.00      0.40         1\\n        7983       1.00      1.00      1.00         1\\n        8009       0.00      0.00      0.00         1\\n        8057       1.00      1.00      1.00         1\\n        8074       0.00      0.00      0.00         1\\n        8105       0.07      1.00      0.12         1\\n        8135       1.00      1.00      1.00         1\\n        8247       0.00      0.00      0.00         1\\n        8255       1.00      1.00      1.00         1\\n        8282       0.00      0.00      0.00         1\\n        8301       0.00      0.00      0.00         1\\n        8316       0.00      0.00      0.00         1\\n        8350       0.00      0.00      0.00         1\\n        8385       0.00      0.00      0.00         1\\n        8388       0.00      0.00      0.00         1\\n        8405       1.00      1.00      1.00         1\\n        8417       1.00      1.00      1.00         1\\n        8460       0.20      1.00      0.33         1\\n        8642       0.00      0.00      0.00         1\\n        8685       0.00      0.00      0.00         1\\n        8699       1.00      1.00      1.00         1\\n        8725       0.20      1.00      0.33         1\\n        8773       0.00      0.00      0.00         1\\n        8776       0.00      0.00      0.00         1\\n        8828       0.00      0.00      0.00         1\\n        8831       1.00      1.00      1.00         1\\n        8832       0.00      0.00      0.00         1\\n        8841       0.00      0.00      0.00         1\\n        8874       1.00      1.00      1.00         1\\n        8885       0.00      0.00      0.00         1\\n        8910       0.00      0.00      0.00         1\\n        8939       0.00      0.00      0.00         1\\n        8964       0.00      0.00      0.00         1\\n        8977       0.00      0.00      0.00         1\\n        8979       0.00      0.00      0.00         1\\n        8989       0.00      0.00      0.00         1\\n        9046       0.00      0.00      0.00         1\\n        9107       0.50      1.00      0.67         1\\n        9159       0.00      0.00      0.00         1\\n        9173       0.00      0.00      0.00         1\\n        9221       0.04      1.00      0.07         1\\n        9258       0.00      0.00      0.00         1\\n        9260       0.00      0.00      0.00         1\\n        9262       1.00      1.00      1.00         1\\n        9305       0.00      0.00      0.00         1\\n        9337       0.00      0.00      0.00         1\\n        9365       0.50      1.00      0.67         1\\n        9423       0.00      0.00      0.00         1\\n        9444       1.00      1.00      1.00         1\\n        9445       0.00      0.00      0.00         1\\n        9479       0.00      0.00      0.00         1\\n        9493       0.01      1.00      0.02         1\\n        9505       1.00      1.00      1.00         1\\n        9584       0.00      0.00      0.00         1\\n        9586       1.00      1.00      1.00         1\\n        9587       0.00      0.00      0.00         1\\n        9600       0.00      0.00      0.00         1\\n        9621       0.00      0.00      0.00         1\\n        9655       0.20      1.00      0.33         1\\n        9668       1.00      1.00      1.00         1\\n        9680       0.00      0.00      0.00         1\\n        9712       0.14      1.00      0.25         1\\n        9716       0.00      0.00      0.00         1\\n        9718       0.00      0.00      0.00         1\\n        9738       1.00      1.00      1.00         1\\n        9758       0.33      1.00      0.50         1\\n        9764       0.50      1.00      0.67         1\\n        9802       0.00      0.00      0.00         1\\n        9829       0.00      0.00      0.00         1\\n        9863       0.00      0.00      0.00         1\\n        9866       0.00      0.00      0.00         1\\n        9880       0.00      0.00      0.00         1\\n        9886       0.00      0.00      0.00         1\\n        9924       0.00      0.00      0.00         1\\n        9946       0.00      0.00      0.00         1\\n        9973       0.00      0.00      0.00         1\\n       10009       0.00      0.00      0.00         1\\n       10021       0.00      0.00      0.00         1\\n       10040       0.00      0.00      0.00         1\\n       10041       0.00      0.00      0.00         1\\n       10046       1.00      1.00      1.00         1\\n       10060       1.00      1.00      1.00         1\\n       10064       0.50      1.00      0.67         1\\n       10089       0.09      1.00      0.17         1\\n       10094       0.33      1.00      0.50         1\\n       10101       0.00      0.00      0.00         1\\n       10117       0.00      0.00      0.00         1\\n       10173       0.00      0.00      0.00         1\\n       10216       1.00      1.00      1.00         1\\n       10253       0.00      0.00      0.00         1\\n       10269       0.00      0.00      0.00         1\\n       10295       1.00      1.00      1.00         1\\n       10303       0.50      1.00      0.67         1\\n       10334       0.00      0.00      0.00         1\\n       10404       0.12      1.00      0.22         1\\n       10407       0.00      0.00      0.00         1\\n       10470       1.00      1.00      1.00         1\\n       10503       1.00      1.00      1.00         1\\n       10551       0.00      0.00      0.00         1\\n       10577       0.00      0.00      0.00         1\\n       10584       0.00      0.00      0.00         1\\n       10608       1.00      1.00      1.00         1\\n       10635       0.00      0.00      0.00         1\\n       10643       0.25      1.00      0.40         1\\n       10655       1.00      1.00      1.00         1\\n       10686       0.00      0.00      0.00         1\\n       10693       0.00      0.00      0.00         1\\n       10710       0.50      1.00      0.67         1\\n       10729       0.00      0.00      0.00         1\\n       10779       1.00      1.00      1.00         1\\n       10783       1.00      1.00      1.00         1\\n       10815       1.00      1.00      1.00         1\\n       10857       0.00      0.00      0.00         1\\n       10904       0.00      0.00      0.00         1\\n       10912       0.00      0.00      0.00         1\\n       10953       0.00      0.00      0.00         1\\n       10971       0.50      1.00      0.67         1\\n       10982       0.00      0.00      0.00         1\\n       11014       0.20      1.00      0.33         1\\n       11083       0.14      1.00      0.25         1\\n       11126       0.00      0.00      0.00         1\\n       11148       0.00      0.00      0.00         1\\n       11211       0.00      0.00      0.00         1\\n       11256       0.00      0.00      0.00         1\\n       11260       0.00      0.00      0.00         1\\n       11267       0.00      0.00      0.00         1\\n       11278       0.50      1.00      0.67         1\\n       11316       0.00      0.00      0.00         1\\n       11348       1.00      1.00      1.00         1\\n       11382       0.20      1.00      0.33         1\\n       11485       0.00      0.00      0.00         1\\n       11521       0.00      0.00      0.00         1\\n       11529       0.00      0.00      0.00         1\\n       11535       0.08      1.00      0.15         1\\n       11561       0.50      1.00      0.67         1\\n       11576       0.00      0.00      0.00         1\\n       11579       0.00      0.00      0.00         1\\n       11587       0.00      0.00      0.00         1\\n       11602       1.00      1.00      1.00         1\\n       11634       0.50      1.00      0.67         1\\n       11638       0.33      1.00      0.50         1\\n       11640       0.00      0.00      0.00         1\\n       11647       0.00      0.00      0.00         1\\n       11660       0.03      1.00      0.05         1\\n       11674       0.00      0.00      0.00         1\\n       11679       0.00      0.00      0.00         1\\n       11701       0.00      0.00      0.00         1\\n       11714       0.00      0.00      0.00         1\\n       11742       0.00      0.00      0.00         1\\n       11775       0.00      0.00      0.00         1\\n       11781       0.50      1.00      0.67         1\\n       11808       1.00      1.00      1.00         1\\n       11850       0.00      0.00      0.00         1\\n       11856       0.00      0.00      0.00         1\\n       11870       1.00      1.00      1.00         1\\n       11902       1.00      1.00      1.00         1\\n       11933       1.00      1.00      1.00         1\\n       11962       0.00      0.00      0.00         1\\n       11965       1.00      1.00      1.00         1\\n       11997       1.00      1.00      1.00         1\\n       12043       0.00      0.00      0.00         1\\n       12062       0.00      0.00      0.00         1\\n       12103       0.00      0.00      0.00         1\\n       12117       1.00      1.00      1.00         1\\n       12124       0.00      0.00      0.00         1\\n       12130       0.00      0.00      0.00         1\\n       12153       0.00      0.00      0.00         1\\n       12174       1.00      1.00      1.00         1\\n       12189       1.00      1.00      1.00         1\\n       12332       0.00      0.00      0.00         1\\n       12363       0.00      0.00      0.00         1\\n       12377       1.00      1.00      1.00         1\\n       12384       0.50      1.00      0.67         1\\n       12393       0.00      0.00      0.00         1\\n       12449       1.00      1.00      1.00         1\\n       12500       0.00      0.00      0.00         1\\n       12511       0.00      0.00      0.00         1\\n       12623       0.00      0.00      0.00         1\\n       12647       0.00      0.00      0.00         1\\n       12655       0.00      0.00      0.00         1\\n       12679       0.00      0.00      0.00         1\\n       12710       0.00      0.00      0.00         1\\n       12762       0.00      0.00      0.00         1\\n       12763       0.00      0.00      0.00         1\\n       12778       0.03      1.00      0.06         1\\n       12779       0.33      1.00      0.50         1\\n       12786       0.00      0.00      0.00         1\\n       12792       1.00      1.00      1.00         1\\n       12804       0.14      1.00      0.25         1\\n       12805       1.00      1.00      1.00         1\\n       12837       1.00      1.00      1.00         1\\n       12866       0.33      1.00      0.50         1\\n       12883       0.00      0.00      0.00         1\\n       12902       0.00      0.00      0.00         1\\n       12913       0.50      1.00      0.67         1\\n       12950       0.00      0.00      0.00         1\\n       12990       0.00      0.00      0.00         1\\n       13019       1.00      1.00      1.00         1\\n       13079       0.00      0.00      0.00         1\\n       13085       0.00      0.00      0.00         1\\n       13088       0.17      1.00      0.29         1\\n       13132       1.00      1.00      1.00         1\\n       13137       0.00      0.00      0.00         1\\n       13203       0.00      0.00      0.00         1\\n       13270       0.00      0.00      0.00         1\\n       13282       0.00      0.00      0.00         1\\n       13325       0.00      0.00      0.00         1\\n       13339       0.50      1.00      0.67         1\\n       13372       1.00      1.00      1.00         1\\n       13408       0.00      0.00      0.00         1\\n       13425       0.06      1.00      0.12         1\\n       13443       0.08      1.00      0.15         1\\n       13485       0.00      0.00      0.00         1\\n       13502       0.00      0.00      0.00         1\\n       13615       0.00      0.00      0.00         1\\n       13622       0.00      0.00      0.00         1\\n       13712       1.00      1.00      1.00         1\\n       13717       0.00      0.00      0.00         1\\n       13745       0.00      0.00      0.00         1\\n       13774       1.00      1.00      1.00         1\\n       13779       0.00      0.00      0.00         1\\n       13798       1.00      1.00      1.00         1\\n       13817       0.00      0.00      0.00         1\\n       13838       0.00      0.00      0.00         1\\n       13872       0.00      0.00      0.00         1\\n       13891       0.00      0.00      0.00         1\\n       13930       1.00      1.00      1.00         1\\n       13942       0.00      0.00      0.00         1\\n       14004       0.50      1.00      0.67         1\\n       14024       0.00      0.00      0.00         1\\n       14107       0.50      1.00      0.67         1\\n       14115       0.00      0.00      0.00         1\\n       14148       0.00      0.00      0.00         1\\n       14151       1.00      1.00      1.00         1\\n       14157       0.00      0.00      0.00         1\\n       14194       0.00      0.00      0.00         1\\n       14199       1.00      1.00      1.00         1\\n       14205       0.00      0.00      0.00         1\\n       14289       0.25      1.00      0.40         1\\n       14307       1.00      1.00      1.00         1\\n       14348       0.00      0.00      0.00         1\\n       14404       0.00      0.00      0.00         1\\n       14423       0.00      0.00      0.00         1\\n       14447       0.00      0.00      0.00         1\\n       14455       0.00      0.00      0.00         1\\n       14516       0.00      0.00      0.00         1\\n       14529       0.00      0.00      0.00         1\\n       14569       0.00      0.00      0.00         1\\n       14580       1.00      1.00      1.00         1\\n       14581       1.00      1.00      1.00         1\\n       14607       1.00      1.00      1.00         1\\n       14634       0.00      0.00      0.00         1\\n       14679       0.00      0.00      0.00         1\\n       14715       0.08      1.00      0.14         1\\n       14729       0.12      1.00      0.22         1\\n       14742       0.00      0.00      0.00         1\\n       14749       0.14      1.00      0.25         1\\n       14776       0.00      0.00      0.00         1\\n       14783       0.00      0.00      0.00         1\\n       14787       0.00      0.00      0.00         1\\n       14837       0.00      0.00      0.00         1\\n       14840       0.00      0.00      0.00         1\\n       14854       0.50      1.00      0.67         1\\n       14855       1.00      1.00      1.00         1\\n       14937       0.33      1.00      0.50         1\\n       15041       0.00      0.00      0.00         1\\n       15134       0.33      1.00      0.50         1\\n       15137       1.00      1.00      1.00         1\\n       15144       0.00      0.00      0.00         1\\n       15164       0.00      0.00      0.00         1\\n       15177       1.00      1.00      1.00         1\\n       15198       0.00      0.00      0.00         1\\n       15209       0.50      1.00      0.67         1\\n       15213       0.00      0.00      0.00         1\\n       15232       1.00      1.00      1.00         1\\n       15253       0.05      1.00      0.10         1\\n       15256       0.00      0.00      0.00         1\\n       15269       1.00      1.00      1.00         1\\n       15272       0.00      0.00      0.00         1\\n       15296       0.00      0.00      0.00         1\\n       15326       1.00      1.00      1.00         1\\n       15329       0.00      0.00      0.00         1\\n       15394       0.00      0.00      0.00         1\\n       15430       0.00      0.00      0.00         1\\n       15459       0.00      0.00      0.00         1\\n       15460       0.00      0.00      0.00         1\\n       15473       0.33      1.00      0.50         1\\n       15478       1.00      1.00      1.00         1\\n       15539       0.04      1.00      0.08         1\\n       15551       0.00      0.00      0.00         1\\n       15578       0.00      0.00      0.00         1\\n       15601       1.00      1.00      1.00         1\\n       15618       0.00      0.00      0.00         1\\n       15620       0.00      0.00      0.00         1\\n       15647       1.00      1.00      1.00         1\\n       15654       0.33      1.00      0.50         1\\n       15682       1.00      1.00      1.00         1\\n       15685       1.00      1.00      1.00         1\\n       15698       0.00      0.00      0.00         1\\n       15725       0.33      1.00      0.50         1\\n       15768       0.00      0.00      0.00         1\\n       15794       0.00      0.00      0.00         1\\n       15814       0.00      0.00      0.00         1\\n       15846       0.00      0.00      0.00         1\\n       15917       0.00      0.00      0.00         1\\n       15949       0.00      0.00      0.00         1\\n       15951       0.00      0.00      0.00         1\\n       15995       0.00      0.00      0.00         1\\n       16038       1.00      1.00      1.00         1\\n       16042       0.00      0.00      0.00         1\\n       16096       0.00      0.00      0.00         1\\n       16098       0.00      0.00      0.00         1\\n       16099       0.00      0.00      0.00         1\\n       16119       0.50      1.00      0.67         1\\n       16128       0.00      0.00      0.00         1\\n       16140       0.00      0.00      0.00         1\\n       16145       0.00      0.00      0.00         1\\n       16170       0.25      1.00      0.40         1\\n       16223       0.25      1.00      0.40         1\\n       16227       1.00      1.00      1.00         1\\n       16250       0.00      0.00      0.00         1\\n       16266       0.00      0.00      0.00         1\\n       16277       0.00      0.00      0.00         1\\n       16297       0.00      0.00      0.00         1\\n       16311       0.00      0.00      0.00         1\\n       16410       0.00      0.00      0.00         1\\n       16416       0.04      1.00      0.07         1\\n       16459       0.00      0.00      0.00         1\\n       16476       0.00      0.00      0.00         1\\n       16484       0.00      0.00      0.00         1\\n       16486       0.00      0.00      0.00         1\\n       16488       1.00      1.00      1.00         1\\n       16501       0.00      0.00      0.00         1\\n       16512       0.00      0.00      0.00         1\\n       16526       0.00      0.00      0.00         1\\n       16560       0.05      1.00      0.09         1\\n       16601       1.00      1.00      1.00         1\\n       16611       0.00      0.00      0.00         1\\n       16621       0.00      0.00      0.00         1\\n       16630       0.50      1.00      0.67         1\\n       16637       1.00      1.00      1.00         1\\n       16645       0.00      0.00      0.00         1\\n       16651       0.25      1.00      0.40         1\\n       16725       0.00      0.00      0.00         1\\n       16745       0.00      0.00      0.00         1\\n       16770       0.06      1.00      0.12         1\\n       16773       0.00      0.00      0.00         1\\n       16786       0.00      0.00      0.00         1\\n       16788       0.00      0.00      0.00         1\\n       16809       0.00      0.00      0.00         1\\n       16834       0.00      0.00      0.00         1\\n       16872       0.00      0.00      0.00         1\\n       16877       0.00      0.00      0.00         1\\n       16951       0.00      0.00      0.00         1\\n       16954       1.00      1.00      1.00         1\\n       16977       0.00      0.00      0.00         1\\n       17002       0.00      0.00      0.00         1\\n       17028       0.00      0.00      0.00         1\\n       17109       1.00      1.00      1.00         1\\n       17120       0.00      0.00      0.00         1\\n       17132       0.00      0.00      0.00         1\\n       17168       0.00      0.00      0.00         1\\n       17178       0.00      0.00      0.00         1\\n       17254       0.00      0.00      0.00         1\\n       17255       0.06      1.00      0.11         1\\n       17317       0.11      1.00      0.20         1\\n       17326       0.00      0.00      0.00         1\\n       17343       0.33      1.00      0.50         1\\n       17350       1.00      1.00      1.00         1\\n       17403       0.00      0.00      0.00         1\\n       17460       1.00      1.00      1.00         1\\n       17468       1.00      1.00      1.00         1\\n       17478       0.00      0.00      0.00         1\\n       17483       0.00      0.00      0.00         1\\n       17496       0.07      1.00      0.13         1\\n       17509       0.00      0.00      0.00         1\\n       17523       0.00      0.00      0.00         1\\n       17533       0.00      0.00      0.00         1\\n       17534       0.00      0.00      0.00         1\\n       17540       0.00      0.00      0.00         1\\n       17575       1.00      1.00      1.00         1\\n       17592       0.08      1.00      0.15         1\\n       17607       0.00      0.00      0.00         1\\n       17611       0.00      0.00      0.00         1\\n       17617       0.00      0.00      0.00         1\\n       17663       0.00      0.00      0.00         1\\n       17691       1.00      1.00      1.00         1\\n       17711       0.00      0.00      0.00         1\\n       17734       0.00      0.00      0.00         1\\n       17881       0.00      0.00      0.00         1\\n       17894       0.00      0.00      0.00         1\\n       17959       0.00      0.00      0.00         1\\n       17996       1.00      1.00      1.00         1\\n       18001       1.00      1.00      1.00         1\\n       18012       0.25      1.00      0.40         1\\n       18017       0.00      0.00      0.00         1\\n       18059       0.00      0.00      0.00         1\\n       18063       0.00      0.00      0.00         1\\n       18079       0.00      0.00      0.00         1\\n       18124       0.00      0.00      0.00         1\\n       18158       0.00      0.00      0.00         1\\n       18182       0.00      0.00      0.00         1\\n       18238       1.00      1.00      1.00         1\\n       18251       1.00      1.00      1.00         1\\n       18253       1.00      1.00      1.00         1\\n       18261       0.00      0.00      0.00         1\\n       18297       0.00      0.00      0.00         1\\n       18316       0.00      0.00      0.00         1\\n       18373       1.00      1.00      1.00         1\\n       18406       0.00      0.00      0.00         1\\n       18410       0.03      1.00      0.06         1\\n       18412       1.00      1.00      1.00         1\\n       18416       0.00      0.00      0.00         1\\n       18460       0.00      0.00      0.00         1\\n       18466       0.25      1.00      0.40         1\\n       18472       0.00      0.00      0.00         1\\n       18530       0.00      0.00      0.00         1\\n       18537       0.00      0.00      0.00         1\\n       18541       0.00      0.00      0.00         1\\n       18553       1.00      1.00      1.00         1\\n       18588       1.00      1.00      1.00         1\\n       18601       0.00      0.00      0.00         1\\n       18635       0.00      0.00      0.00         1\\n       18651       0.00      0.00      0.00         1\\n       18698       0.00      0.00      0.00         1\\n       18761       0.00      0.00      0.00         1\\n       18793       0.00      0.00      0.00         1\\n       18824       0.00      0.00      0.00         1\\n       18829       0.33      1.00      0.50         1\\n       18844       0.50      1.00      0.67         1\\n       18911       0.50      1.00      0.67         1\\n       18928       0.17      1.00      0.29         1\\n       18965       0.00      0.00      0.00         1\\n       18990       0.00      0.00      0.00         1\\n       18998       1.00      1.00      1.00         1\\n       19041       0.00      0.00      0.00         1\\n       19042       0.00      0.00      0.00         1\\n       19069       0.00      0.00      0.00         1\\n       19070       0.00      0.00      0.00         1\\n       19121       1.00      1.00      1.00         1\\n       19152       0.00      0.00      0.00         1\\n       19190       0.00      0.00      0.00         1\\n       19202       0.00      0.00      0.00         1\\n       19215       0.00      0.00      0.00         1\\n       19232       1.00      1.00      1.00         1\\n       19251       0.08      1.00      0.14         1\\n       19265       0.00      0.00      0.00         1\\n       19275       0.00      0.00      0.00         1\\n       19280       1.00      1.00      1.00         1\\n       19307       0.00      0.00      0.00         1\\n       19324       0.00      0.00      0.00         1\\n       19351       0.00      0.00      0.00         1\\n       19381       0.00      0.00      0.00         1\\n       19383       0.25      1.00      0.40         1\\n       19396       0.00      0.00      0.00         1\\n       19449       0.00      0.00      0.00         1\\n       19480       0.00      0.00      0.00         1\\n       19510       0.00      0.00      0.00         1\\n       19517       1.00      1.00      1.00         1\\n       19518       0.00      0.00      0.00         1\\n       19529       0.00      0.00      0.00         1\\n       19557       1.00      1.00      1.00         1\\n       19558       1.00      1.00      1.00         1\\n       19569       0.33      1.00      0.50         1\\n       19575       0.00      0.00      0.00         1\\n       19601       0.00      0.00      0.00         1\\n       19671       0.50      1.00      0.67         1\\n       19717       0.00      0.00      0.00         1\\n       19777       1.00      1.00      1.00         1\\n       19790       1.00      1.00      1.00         1\\n       19799       0.00      0.00      0.00         1\\n       19807       0.00      0.00      0.00         1\\n       19826       0.00      0.00      0.00         1\\n       19874       0.50      1.00      0.67         1\\n       19882       0.00      0.00      0.00         1\\n       19889       1.00      1.00      1.00         1\\n       19894       0.00      0.00      0.00         1\\n       19941       1.00      1.00      1.00         1\\n       19966       0.11      1.00      0.20         1\\n       20019       0.00      0.00      0.00         1\\n       20083       0.14      1.00      0.25         1\\n       20091       0.00      0.00      0.00         1\\n       20121       0.00      0.00      0.00         1\\n       20142       0.00      0.00      0.00         1\\n       20146       1.00      1.00      1.00         1\\n       20164       0.00      0.00      0.00         1\\n       20177       0.00      0.00      0.00         1\\n       20278       0.00      0.00      0.00         1\\n       20297       0.00      0.00      0.00         1\\n       20346       1.00      1.00      1.00         1\\n       20353       0.00      0.00      0.00         1\\n       20363       0.00      0.00      0.00         1\\n       20379       0.00      0.00      0.00         1\\n       20381       0.00      0.00      0.00         1\\n       20465       0.00      0.00      0.00         1\\n       20487       0.00      0.00      0.00         1\\n       20528       0.00      0.00      0.00         1\\n       20550       0.00      0.00      0.00         1\\n       20562       0.00      0.00      0.00         1\\n       20585       0.00      0.00      0.00         1\\n       20607       1.00      1.00      1.00         1\\n       20682       0.25      1.00      0.40         1\\n       20685       0.00      0.00      0.00         1\\n       20688       0.50      1.00      0.67         1\\n       20708       0.00      0.00      0.00         1\\n       20743       0.00      0.00      0.00         1\\n       20760       0.00      0.00      0.00         1\\n       20820       0.00      0.00      0.00         1\\n       20851       0.00      0.00      0.00         1\\n       20860       0.00      0.00      0.00         1\\n       20883       1.00      1.00      1.00         1\\n       20903       0.00      0.00      0.00         1\\n       20906       0.00      0.00      0.00         1\\n       20911       0.00      0.00      0.00         1\\n       20915       0.00      0.00      0.00         1\\n       20932       1.00      1.00      1.00         1\\n       20947       0.00      0.00      0.00         1\\n       20971       0.17      1.00      0.29         1\\n       20992       1.00      1.00      1.00         1\\n       21007       0.00      0.00      0.00         1\\n       21048       1.00      1.00      1.00         1\\n       21049       0.33      1.00      0.50         1\\n       21070       0.00      0.00      0.00         1\\n       21087       1.00      1.00      1.00         1\\n       21116       0.00      0.00      0.00         1\\n       21123       0.00      0.00      0.00         1\\n       21156       1.00      1.00      1.00         1\\n       21193       0.00      0.00      0.00         1\\n       21215       0.00      0.00      0.00         1\\n       21271       0.00      0.00      0.00         1\\n       21309       0.00      0.00      0.00         1\\n       21312       0.00      0.00      0.00         1\\n       21314       0.00      0.00      0.00         1\\n       21334       1.00      1.00      1.00         1\\n       21349       0.00      0.00      0.00         1\\n       21370       0.00      0.00      0.00         1\\n       21391       0.00      0.00      0.00         1\\n       21394       0.00      0.00      0.00         1\\n       21413       1.00      1.00      1.00         1\\n       21432       0.00      0.00      0.00         1\\n       21500       1.00      1.00      1.00         1\\n       21507       0.00      0.00      0.00         1\\n       21537       0.00      0.00      0.00         1\\n       21548       0.00      0.00      0.00         1\\n       21573       0.00      0.00      0.00         1\\n       21615       0.00      0.00      0.00         1\\n       21618       0.00      0.00      0.00         1\\n       21657       0.00      0.00      0.00         1\\n       21665       0.12      1.00      0.22         1\\n       21719       0.20      1.00      0.33         1\\n       21752       1.00      1.00      1.00         1\\n       21819       0.00      0.00      0.00         1\\n       21821       0.00      0.00      0.00         1\\n       21887       0.00      0.00      0.00         1\\n       21955       0.00      0.00      0.00         1\\n       21984       0.00      0.00      0.00         1\\n       21990       0.00      0.00      0.00         1\\n       21994       0.00      0.00      0.00         1\\n       22023       0.50      1.00      0.67         1\\n       22034       0.00      0.00      0.00         1\\n       22104       0.00      0.00      0.00         1\\n       22137       0.00      0.00      0.00         1\\n       22203       0.00      0.00      0.00         1\\n       22220       0.00      0.00      0.00         1\\n       22241       0.06      1.00      0.11         1\\n       22256       1.00      1.00      1.00         1\\n       22287       1.00      1.00      1.00         1\\n       22300       0.00      0.00      0.00         1\\n       22301       0.00      0.00      0.00         1\\n       22341       1.00      1.00      1.00         1\\n       22358       0.00      0.00      0.00         1\\n       22360       0.00      0.00      0.00         1\\n       22392       0.00      0.00      0.00         1\\n       22393       0.00      0.00      0.00         1\\n       22396       0.00      0.00      0.00         1\\n       22410       0.00      0.00      0.00         1\\n       22445       0.00      0.00      0.00         1\\n       22478       0.00      0.00      0.00         1\\n       22525       0.00      0.00      0.00         1\\n       22607       0.00      0.00      0.00         1\\n       22679       0.00      0.00      0.00         1\\n       22687       0.50      1.00      0.67         1\\n       22707       1.00      1.00      1.00         1\\n       22709       0.00      0.00      0.00         1\\n       22743       0.00      0.00      0.00         1\\n       22772       1.00      1.00      1.00         1\\n       22780       0.00      0.00      0.00         1\\n       22789       0.50      1.00      0.67         1\\n       22802       0.17      1.00      0.29         1\\n       22816       1.00      1.00      1.00         1\\n       22817       0.00      0.00      0.00         1\\n       22874       0.00      0.00      0.00         1\\n       22880       0.00      0.00      0.00         1\\n       22900       0.00      0.00      0.00         1\\n       22911       0.00      0.00      0.00         1\\n       22915       0.00      0.00      0.00         1\\n       22939       0.00      0.00      0.00         1\\n       22943       0.11      1.00      0.20         1\\n       22962       0.00      0.00      0.00         1\\n       22999       0.25      1.00      0.40         1\\n       23012       0.00      0.00      0.00         1\\n       23082       0.00      0.00      0.00         1\\n       23125       0.00      0.00      0.00         1\\n       23144       0.50      1.00      0.67         1\\n       23151       1.00      1.00      1.00         1\\n       23156       1.00      1.00      1.00         1\\n       23227       0.00      0.00      0.00         1\\n       23242       1.00      1.00      1.00         1\\n       23261       0.00      0.00      0.00         1\\n       23269       0.00      0.00      0.00         1\\n       23296       0.17      1.00      0.29         1\\n       23300       0.50      1.00      0.67         1\\n       23319       0.00      0.00      0.00         1\\n       23332       0.00      0.00      0.00         1\\n       23348       1.00      1.00      1.00         1\\n       23374       0.00      0.00      0.00         1\\n       23491       1.00      1.00      1.00         1\\n       23502       0.00      0.00      0.00         1\\n       23542       0.00      0.00      0.00         1\\n       23549       0.00      0.00      0.00         1\\n       23578       0.00      0.00      0.00         1\\n       23585       0.00      0.00      0.00         1\\n       23599       0.00      0.00      0.00         1\\n       23602       0.00      0.00      0.00         1\\n       23640       0.00      0.00      0.00         1\\n       23656       0.00      0.00      0.00         1\\n       23722       0.00      0.00      0.00         1\\n       23744       0.14      1.00      0.25         1\\n       23753       1.00      1.00      1.00         1\\n       23762       0.00      0.00      0.00         1\\n       23765       0.00      0.00      0.00         1\\n       23768       0.00      0.00      0.00         1\\n       23802       0.00      0.00      0.00         1\\n       23900       0.00      0.00      0.00         1\\n       23914       0.00      0.00      0.00         1\\n       23919       0.20      1.00      0.33         1\\n       23959       1.00      1.00      1.00         1\\n       23960       0.00      0.00      0.00         1\\n       23967       0.00      0.00      0.00         1\\n       23972       0.00      0.00      0.00         1\\n       23975       0.00      0.00      0.00         1\\n       23992       0.00      0.00      0.00         1\\n       24012       1.00      1.00      1.00         1\\n       24027       1.00      1.00      1.00         1\\n       24041       0.00      0.00      0.00         1\\n       24146       0.00      0.00      0.00         1\\n       24147       1.00      1.00      1.00         1\\n       24206       0.00      0.00      0.00         1\\n       24213       0.20      1.00      0.33         1\\n       24246       0.50      1.00      0.67         1\\n       24255       0.00      0.00      0.00         1\\n       24266       0.00      0.00      0.00         1\\n       24272       0.50      1.00      0.67         1\\n       24273       1.00      1.00      1.00         1\\n       24291       0.00      0.00      0.00         1\\n       24305       0.00      0.00      0.00         1\\n       24308       0.00      0.00      0.00         1\\n       24339       0.00      0.00      0.00         1\\n       24342       0.50      1.00      0.67         1\\n       24346       0.00      0.00      0.00         1\\n       24378       0.00      0.00      0.00         1\\n       24396       0.00      0.00      0.00         1\\n       24410       0.11      1.00      0.20         1\\n       24433       1.00      1.00      1.00         1\\n       24453       1.00      1.00      1.00         1\\n       24503       0.00      0.00      0.00         1\\n       24529       0.00      0.00      0.00         1\\n       24537       0.00      0.00      0.00         1\\n       24563       0.07      1.00      0.13         1\\n       24564       0.00      0.00      0.00         1\\n       24607       0.00      0.00      0.00         1\\n       24664       1.00      1.00      1.00         1\\n       24713       0.00      0.00      0.00         1\\n       24736       0.00      0.00      0.00         1\\n       24764       0.08      1.00      0.14         1\\n       24872       0.00      0.00      0.00         1\\n       24878       0.00      0.00      0.00         1\\n       24893       0.00      0.00      0.00         1\\n       24917       0.00      0.00      0.00         1\\n       24927       0.00      0.00      0.00         1\\n       24934       0.00      0.00      0.00         1\\n       24951       0.00      0.00      0.00         1\\n       24959       0.00      0.00      0.00         1\\n       24987       1.00      1.00      1.00         1\\n       25030       0.00      0.00      0.00         1\\n       25032       0.04      1.00      0.08         1\\n       25036       0.00      0.00      0.00         1\\n       25051       1.00      1.00      1.00         1\\n       25059       0.00      0.00      0.00         1\\n       25063       0.00      0.00      0.00         1\\n       25075       0.00      0.00      0.00         1\\n       25095       0.00      0.00      0.00         1\\n       25128       0.00      0.00      0.00         1\\n       25133       1.00      1.00      1.00         1\\n       25151       0.00      0.00      0.00         1\\n       25153       1.00      1.00      1.00         1\\n       25165       0.00      0.00      0.00         1\\n       25188       0.00      0.00      0.00         1\\n       25293       1.00      1.00      1.00         1\\n       25304       0.00      0.00      0.00         1\\n       25342       0.00      0.00      0.00         1\\n       25374       1.00      1.00      1.00         1\\n       25400       0.50      1.00      0.67         1\\n       25406       0.00      0.00      0.00         1\\n       25408       0.00      0.00      0.00         1\\n       25464       0.00      0.00      0.00         1\\n       25476       0.00      0.00      0.00         1\\n       25479       0.00      0.00      0.00         1\\n       25499       1.00      1.00      1.00         1\\n       25518       0.50      1.00      0.67         1\\n       25522       1.00      1.00      1.00         1\\n       25529       0.00      0.00      0.00         1\\n       25570       1.00      1.00      1.00         1\\n       25660       0.00      0.00      0.00         1\\n       25676       0.00      0.00      0.00         1\\n       25681       0.00      0.00      0.00         1\\n       25688       0.00      0.00      0.00         1\\n       25715       0.00      0.00      0.00         1\\n       25776       0.00      0.00      0.00         1\\n       25786       0.00      0.00      0.00         1\\n       25803       1.00      1.00      1.00         1\\n       25810       0.00      0.00      0.00         1\\n       25817       0.00      0.00      0.00         1\\n       25821       0.00      0.00      0.00         1\\n       25829       1.00      1.00      1.00         1\\n       25840       0.00      0.00      0.00         1\\n       25864       1.00      1.00      1.00         1\\n       25878       1.00      1.00      1.00         1\\n       25885       0.00      0.00      0.00         1\\n       25932       0.00      0.00      0.00         1\\n       25998       0.00      0.00      0.00         1\\n       26004       0.00      0.00      0.00         1\\n       26020       0.00      0.00      0.00         1\\n       26067       0.00      0.00      0.00         1\\n       26075       0.00      0.00      0.00         1\\n       26124       0.00      0.00      0.00         1\\n       26129       0.00      0.00      0.00         1\\n       26157       0.00      0.00      0.00         1\\n       26176       1.00      1.00      1.00         1\\n       26190       0.33      1.00      0.50         1\\n       26214       1.00      1.00      1.00         1\\n       26229       1.00      1.00      1.00         1\\n       26231       0.04      1.00      0.08         1\\n       26233       0.04      1.00      0.08         1\\n       26244       0.00      0.00      0.00         1\\n       26289       0.12      1.00      0.22         1\\n       26297       0.00      0.00      0.00         1\\n       26346       0.00      0.00      0.00         1\\n       26349       0.00      0.00      0.00         1\\n       26415       0.00      0.00      0.00         1\\n       26423       0.00      0.00      0.00         1\\n       26438       0.00      0.00      0.00         1\\n       26477       0.00      0.00      0.00         1\\n       26479       0.00      0.00      0.00         1\\n       26481       1.00      1.00      1.00         1\\n       26485       1.00      1.00      1.00         1\\n       26487       0.00      0.00      0.00         1\\n       26533       1.00      1.00      1.00         1\\n       26617       0.00      0.00      0.00         1\\n       26628       0.00      0.00      0.00         1\\n       26642       0.33      1.00      0.50         1\\n       26739       0.00      0.00      0.00         1\\n       26787       0.50      1.00      0.67         1\\n       26823       1.00      1.00      1.00         1\\n       26921       0.50      1.00      0.67         1\\n       26958       0.00      0.00      0.00         1\\n       26975       0.00      0.00      0.00         1\\n       26980       0.00      0.00      0.00         1\\n       26990       1.00      1.00      1.00         1\\n       26994       1.00      1.00      1.00         1\\n       27011       0.00      0.00      0.00         1\\n       27027       0.00      0.00      0.00         1\\n       27032       0.00      0.00      0.00         1\\n       27036       0.50      1.00      0.67         1\\n       27120       0.00      0.00      0.00         1\\n       27133       0.17      1.00      0.29         1\\n       27172       0.00      0.00      0.00         1\\n       27173       1.00      1.00      1.00         1\\n       27180       0.00      0.00      0.00         1\\n       27189       0.03      1.00      0.05         1\\n       27201       0.00      0.00      0.00         1\\n       27206       0.00      0.00      0.00         1\\n       27263       1.00      1.00      1.00         1\\n       27273       1.00      1.00      1.00         1\\n       27326       0.00      0.00      0.00         1\\n       27338       0.00      0.00      0.00         1\\n       27342       1.00      1.00      1.00         1\\n       27347       0.00      0.00      0.00         1\\n       27380       0.00      0.00      0.00         1\\n       27397       0.00      0.00      0.00         1\\n       27411       0.00      0.00      0.00         1\\n       27436       0.00      0.00      0.00         1\\n       27464       0.00      0.00      0.00         1\\n       27474       0.00      0.00      0.00         1\\n       27528       0.00      0.00      0.00         1\\n       27548       1.00      1.00      1.00         1\\n       27567       0.00      0.00      0.00         1\\n       27689       0.00      0.00      0.00         1\\n       27727       0.00      0.00      0.00         1\\n       27757       1.00      1.00      1.00         1\\n       27762       0.33      1.00      0.50         1\\n       27772       0.00      0.00      0.00         1\\n       27776       0.06      1.00      0.11         1\\n       27791       0.00      0.00      0.00         1\\n       27818       0.00      0.00      0.00         1\\n       27912       0.00      0.00      0.00         1\\n       28004       0.00      0.00      0.00         1\\n       28015       1.00      1.00      1.00         1\\n       28024       0.00      0.00      0.00         1\\n       28043       1.00      1.00      1.00         1\\n       28070       0.50      1.00      0.67         1\\n       28091       0.00      0.00      0.00         1\\n       28105       0.00      0.00      0.00         1\\n       28120       0.50      1.00      0.67         1\\n       28143       0.00      0.00      0.00         1\\n       28149       0.00      0.00      0.00         1\\n       28168       1.00      1.00      1.00         1\\n       28195       0.50      1.00      0.67         1\\n       28214       0.00      0.00      0.00         1\\n       28233       0.00      0.00      0.00         1\\n       28281       0.00      0.00      0.00         1\\n       28370       0.00      0.00      0.00         1\\n       28374       0.00      0.00      0.00         1\\n       28407       1.00      1.00      1.00         1\\n       28460       1.00      1.00      1.00         1\\n       28477       0.00      0.00      0.00         1\\n       28492       0.17      1.00      0.29         1\\n       28493       0.00      0.00      0.00         1\\n       28496       1.00      1.00      1.00         1\\n       28511       0.25      1.00      0.40         1\\n       28519       0.14      1.00      0.25         1\\n       28534       0.00      0.00      0.00         1\\n       28563       0.00      0.00      0.00         1\\n       28572       0.00      0.00      0.00         1\\n       28576       0.00      0.00      0.00         1\\n       28634       0.00      0.00      0.00         1\\n       28648       0.00      0.00      0.00         1\\n       28760       0.00      0.00      0.00         1\\n       28764       1.00      1.00      1.00         1\\n       28801       1.00      1.00      1.00         1\\n       28834       0.00      0.00      0.00         1\\n       28854       1.00      1.00      1.00         1\\n       28888       1.00      1.00      1.00         1\\n       28900       0.00      0.00      0.00         1\\n       28926       0.00      0.00      0.00         1\\n       29000       0.00      0.00      0.00         1\\n       29004       1.00      1.00      1.00         1\\n       29050       0.00      0.00      0.00         1\\n       29080       1.00      1.00      1.00         1\\n       29085       1.00      1.00      1.00         1\\n       29118       1.00      1.00      1.00         1\\n       29179       0.25      1.00      0.40         1\\n       29183       0.00      0.00      0.00         1\\n       29202       0.00      0.00      0.00         1\\n       29274       1.00      1.00      1.00         1\\n       29281       1.00      1.00      1.00         1\\n       29291       0.00      0.00      0.00         1\\n       29343       0.00      0.00      0.00         1\\n       29346       0.00      0.00      0.00         1\\n       29357       0.50      1.00      0.67         1\\n       29372       0.00      0.00      0.00         1\\n       29409       0.00      0.00      0.00         1\\n       29449       0.00      0.00      0.00         1\\n       29457       0.00      0.00      0.00         1\\n       29468       0.00      0.00      0.00         1\\n       29472       1.00      1.00      1.00         1\\n       29479       0.00      0.00      0.00         1\\n       29485       0.00      0.00      0.00         1\\n       29488       1.00      1.00      1.00         1\\n       29511       0.00      0.00      0.00         1\\n       29531       1.00      1.00      1.00         1\\n       29535       0.00      0.00      0.00         1\\n       29563       0.50      1.00      0.67         1\\n       29568       0.33      1.00      0.50         1\\n       29589       0.00      0.00      0.00         1\\n       29597       0.10      1.00      0.18         1\\n       29612       0.00      0.00      0.00         1\\n       29617       0.00      0.00      0.00         1\\n       29654       1.00      1.00      1.00         1\\n       29690       0.00      0.00      0.00         1\\n       29712       1.00      1.00      1.00         1\\n       29718       0.00      0.00      0.00         1\\n       29742       0.00      0.00      0.00         1\\n       29775       0.00      0.00      0.00         1\\n       29803       0.00      0.00      0.00         1\\n       29902       0.00      0.00      0.00         1\\n       29903       0.00      0.00      0.00         1\\n       29927       0.00      0.00      0.00         1\\n       30007       0.00      0.00      0.00         1\\n       30019       0.00      0.00      0.00         1\\n       30063       0.00      0.00      0.00         1\\n       30166       0.25      1.00      0.40         1\\n       30180       0.50      1.00      0.67         1\\n       30184       1.00      1.00      1.00         1\\n       30193       0.00      0.00      0.00         1\\n       30219       0.00      0.00      0.00         1\\n       30257       0.00      0.00      0.00         1\\n       30260       0.00      0.00      0.00         1\\n       30302       0.00      0.00      0.00         1\\n       30313       1.00      1.00      1.00         1\\n       30322       0.00      0.00      0.00         1\\n       30329       1.00      1.00      1.00         1\\n       30336       0.00      0.00      0.00         1\\n       30342       0.00      0.00      0.00         1\\n       30346       1.00      1.00      1.00         1\\n       30358       0.50      1.00      0.67         1\\n       30371       0.00      0.00      0.00         1\\n       30407       0.00      0.00      0.00         1\\n       30422       0.00      0.00      0.00         1\\n       30423       1.00      1.00      1.00         1\\n       30464       0.50      1.00      0.67         1\\n       30482       0.00      0.00      0.00         1\\n       30515       0.00      0.00      0.00         1\\n       30530       1.00      1.00      1.00         1\\n       30539       1.00      1.00      1.00         1\\n       30612       0.00      0.00      0.00         1\\n       30641       0.00      0.00      0.00         1\\n       30650       1.00      1.00      1.00         1\\n       30717       0.00      0.00      0.00         1\\n       30735       1.00      1.00      1.00         1\\n       30766       1.00      1.00      1.00         1\\n       30776       0.17      1.00      0.29         1\\n       30783       0.00      0.00      0.00         1\\n       30806       0.00      0.00      0.00         1\\n       30834       1.00      1.00      1.00         1\\n       30863       0.00      0.00      0.00         1\\n       30868       0.00      0.00      0.00         1\\n       30952       0.00      0.00      0.00         1\\n       30993       0.00      0.00      0.00         1\\n       31000       0.00      0.00      0.00         1\\n       31026       0.00      0.00      0.00         1\\n       31043       0.00      0.00      0.00         1\\n       31045       0.00      0.00      0.00         1\\n       31054       1.00      1.00      1.00         1\\n       31198       0.00      0.00      0.00         1\\n       31240       1.00      1.00      1.00         1\\n       31270       0.00      0.00      0.00         1\\n       31283       0.00      0.00      0.00         1\\n       31297       0.00      0.00      0.00         1\\n       31300       0.00      0.00      0.00         1\\n       31369       1.00      1.00      1.00         1\\n       31479       0.00      0.00      0.00         1\\n       31514       1.00      1.00      1.00         1\\n       31537       0.00      0.00      0.00         1\\n       31554       0.00      0.00      0.00         1\\n       31584       0.00      0.00      0.00         1\\n       31585       0.00      0.00      0.00         1\\n       31619       0.00      0.00      0.00         1\\n       31638       0.00      0.00      0.00         1\\n       31640       0.00      0.00      0.00         1\\n       31672       0.00      0.00      0.00         1\\n       31686       1.00      1.00      1.00         1\\n       31706       0.00      0.00      0.00         1\\n       31722       0.00      0.00      0.00         1\\n       31727       0.14      1.00      0.25         1\\n       31815       0.00      0.00      0.00         1\\n       31854       0.00      0.00      0.00         1\\n       31858       1.00      1.00      1.00         1\\n       31862       0.00      0.00      0.00         1\\n       31871       0.00      0.00      0.00         1\\n       31889       0.00      0.00      0.00         1\\n       31927       0.00      0.00      0.00         1\\n       31937       0.00      0.00      0.00         1\\n       31997       0.00      0.00      0.00         1\\n       31999       1.00      1.00      1.00         1\\n       32081       1.00      1.00      1.00         1\\n       32085       0.00      0.00      0.00         1\\n       32103       0.00      0.00      0.00         1\\n       32116       0.00      0.00      0.00         1\\n       32172       0.00      0.00      0.00         1\\n       32211       0.00      0.00      0.00         1\\n       32231       0.00      0.00      0.00         1\\n       32233       0.14      1.00      0.25         1\\n       32259       0.00      0.00      0.00         1\\n       32268       0.00      0.00      0.00         1\\n       32298       0.00      0.00      0.00         1\\n       32325       1.00      1.00      1.00         1\\n       32357       0.00      0.00      0.00         1\\n       32387       0.00      0.00      0.00         1\\n       32440       0.00      0.00      0.00         1\\n       32449       0.00      0.00      0.00         1\\n       32475       0.50      1.00      0.67         1\\n       32487       0.00      0.00      0.00         1\\n       32515       0.00      0.00      0.00         1\\n       32523       1.00      1.00      1.00         1\\n       32539       1.00      1.00      1.00         1\\n       32546       1.00      1.00      1.00         1\\n       32599       0.00      0.00      0.00         1\\n       32623       0.00      0.00      0.00         1\\n       32639       0.00      0.00      0.00         1\\n       32654       0.00      0.00      0.00         1\\n       32671       0.00      0.00      0.00         1\\n       32675       0.00      0.00      0.00         1\\n       32676       0.00      0.00      0.00         1\\n       32692       0.00      0.00      0.00         1\\n       32773       0.00      0.00      0.00         1\\n       32789       0.00      0.00      0.00         1\\n       32794       1.00      1.00      1.00         1\\n       32818       0.00      0.00      0.00         1\\n       32832       0.00      0.00      0.00         1\\n       32869       0.00      0.00      0.00         1\\n       32894       0.00      0.00      0.00         1\\n       32913       0.00      0.00      0.00         1\\n       32923       0.00      0.00      0.00         1\\n       32935       0.00      0.00      0.00         1\\n       32937       1.00      1.00      1.00         1\\n       32953       1.00      1.00      1.00         1\\n       32964       0.00      0.00      0.00         1\\n       32972       1.00      1.00      1.00         1\\n       33009       0.00      0.00      0.00         1\\n       33010       0.00      0.00      0.00         1\\n       33063       0.50      1.00      0.67         1\\n       33064       0.50      1.00      0.67         1\\n       33069       1.00      1.00      1.00         1\\n       33089       0.00      0.00      0.00         1\\n       33093       1.00      1.00      1.00         1\\n       33180       1.00      1.00      1.00         1\\n       33226       0.00      0.00      0.00         1\\n       33227       0.00      0.00      0.00         1\\n       33230       1.00      1.00      1.00         1\\n       33238       0.00      0.00      0.00         1\\n       33264       0.00      0.00      0.00         1\\n       33281       1.00      1.00      1.00         1\\n       33336       0.00      0.00      0.00         1\\n       33370       0.00      0.00      0.00         1\\n       33416       0.00      0.00      0.00         1\\n       33437       0.00      0.00      0.00         1\\n       33475       1.00      1.00      1.00         1\\n       33478       0.00      0.00      0.00         1\\n       33539       1.00      1.00      1.00         1\\n       33544       0.00      0.00      0.00         1\\n       33558       0.00      0.00      0.00         1\\n       33564       0.00      0.00      0.00         1\\n       33565       0.00      0.00      0.00         1\\n       33636       0.00      0.00      0.00         1\\n       33643       1.00      1.00      1.00         1\\n       33654       0.50      1.00      0.67         1\\n       33663       0.00      0.00      0.00         1\\n       33680       1.00      1.00      1.00         1\\n       33704       0.00      0.00      0.00         1\\n       33705       1.00      1.00      1.00         1\\n       33784       0.00      0.00      0.00         1\\n       33787       0.00      0.00      0.00         1\\n       33817       0.00      0.00      0.00         1\\n       33831       1.00      1.00      1.00         1\\n       33895       1.00      1.00      1.00         1\\n       33949       0.50      1.00      0.67         1\\n       33967       0.00      0.00      0.00         1\\n       33982       0.00      0.00      0.00         1\\n       34011       0.00      0.00      0.00         1\\n       34084       0.00      0.00      0.00         1\\n       34109       1.00      1.00      1.00         1\\n       34113       0.00      0.00      0.00         1\\n       34169       0.00      0.00      0.00         1\\n       34175       0.00      0.00      0.00         1\\n       34235       0.00      0.00      0.00         1\\n       34236       0.00      0.00      0.00         1\\n       34239       1.00      1.00      1.00         1\\n       34277       0.00      0.00      0.00         1\\n       34280       0.00      0.00      0.00         1\\n       34360       0.00      0.00      0.00         1\\n       34365       1.00      1.00      1.00         1\\n       34366       1.00      1.00      1.00         1\\n       34373       1.00      1.00      1.00         1\\n       34384       0.00      0.00      0.00         1\\n       34389       0.00      0.00      0.00         1\\n       34402       0.00      0.00      0.00         1\\n       34444       0.00      0.00      0.00         1\\n       34454       0.00      0.00      0.00         1\\n       34511       0.00      0.00      0.00         1\\n       34531       0.00      0.00      0.00         1\\n       34540       0.00      0.00      0.00         1\\n       34564       0.00      0.00      0.00         1\\n       34568       0.00      0.00      0.00         1\\n       34594       0.00      0.00      0.00         1\\n       34633       1.00      1.00      1.00         1\\n       34707       0.00      0.00      0.00         1\\n       34737       0.00      0.00      0.00         1\\n       34746       0.00      0.00      0.00         1\\n       34752       0.00      0.00      0.00         1\\n       34758       0.00      0.00      0.00         1\\n       34761       0.50      1.00      0.67         1\\n       34813       1.00      1.00      1.00         1\\n       34841       0.00      0.00      0.00         1\\n       34855       0.33      1.00      0.50         1\\n       34863       0.00      0.00      0.00         1\\n       34880       0.00      0.00      0.00         1\\n       34904       1.00      1.00      1.00         1\\n       34908       0.00      0.00      0.00         1\\n       34932       1.00      1.00      1.00         1\\n       34945       0.00      0.00      0.00         1\\n       34967       1.00      1.00      1.00         1\\n       34968       0.50      1.00      0.67         1\\n       35060       0.00      0.00      0.00         1\\n       35066       0.00      0.00      0.00         1\\n       35076       1.00      1.00      1.00         1\\n       35097       0.00      0.00      0.00         1\\n       35102       1.00      1.00      1.00         1\\n       35112       0.00      0.00      0.00         1\\n       35126       0.00      0.00      0.00         1\\n       35145       0.20      1.00      0.33         1\\n       35175       1.00      1.00      1.00         1\\n       35207       1.00      1.00      1.00         1\\n       35222       0.00      0.00      0.00         1\\n       35224       0.00      0.00      0.00         1\\n       35245       0.00      0.00      0.00         1\\n       35264       0.00      0.00      0.00         1\\n       35288       0.00      0.00      0.00         1\\n       35289       0.00      0.00      0.00         1\\n       35341       0.00      0.00      0.00         1\\n       35347       0.00      0.00      0.00         1\\n       35348       1.00      1.00      1.00         1\\n       35369       0.00      0.00      0.00         1\\n       35370       0.25      1.00      0.40         1\\n       35382       0.00      0.00      0.00         1\\n       35412       0.00      0.00      0.00         1\\n       35448       0.50      1.00      0.67         1\\n       35457       0.00      0.00      0.00         1\\n       35547       1.00      1.00      1.00         1\\n       35549       1.00      1.00      1.00         1\\n       35550       0.00      0.00      0.00         1\\n       35574       0.00      0.00      0.00         1\\n       35578       1.00      1.00      1.00         1\\n       35625       1.00      1.00      1.00         1\\n       35708       0.00      0.00      0.00         1\\n       35730       0.00      0.00      0.00         1\\n       35737       0.00      0.00      0.00         1\\n       35740       0.00      0.00      0.00         1\\n       35744       0.00      0.00      0.00         1\\n       35746       0.00      0.00      0.00         1\\n       35773       1.00      1.00      1.00         1\\n       35829       0.00      0.00      0.00         1\\n       35863       0.00      0.00      0.00         1\\n       35869       1.00      1.00      1.00         1\\n       35878       0.00      0.00      0.00         1\\n       35894       0.00      0.00      0.00         1\\n       35960       1.00      1.00      1.00         1\\n       35974       1.00      1.00      1.00         1\\n       36038       0.00      0.00      0.00         1\\n       36067       0.00      0.00      0.00         1\\n       36103       0.00      0.00      0.00         1\\n       36166       0.33      1.00      0.50         1\\n       36270       0.00      0.00      0.00         1\\n       36276       0.00      0.00      0.00         1\\n       36289       1.00      1.00      1.00         1\\n       36343       0.00      0.00      0.00         1\\n       36349       0.00      0.00      0.00         1\\n       36403       0.00      0.00      0.00         1\\n       36438       0.50      1.00      0.67         1\\n       36456       0.00      0.00      0.00         1\\n       36469       0.00      0.00      0.00         1\\n       36478       1.00      1.00      1.00         1\\n       36493       0.00      0.00      0.00         1\\n       36517       0.00      0.00      0.00         1\\n       36551       0.00      0.00      0.00         1\\n       36570       0.10      1.00      0.18         1\\n       36571       0.00      0.00      0.00         1\\n       36573       0.00      0.00      0.00         1\\n       36601       0.00      0.00      0.00         1\\n       36606       0.00      0.00      0.00         1\\n       36607       0.00      0.00      0.00         1\\n       36632       1.00      1.00      1.00         1\\n       36686       1.00      1.00      1.00         1\\n       36692       0.00      0.00      0.00         1\\n       36713       0.00      0.00      0.00         1\\n       36720       0.00      0.00      0.00         1\\n       36721       0.00      0.00      0.00         1\\n       36731       0.00      0.00      0.00         1\\n       36801       0.00      0.00      0.00         1\\n       36813       0.00      0.00      0.00         1\\n       36824       0.00      0.00      0.00         1\\n       36879       1.00      1.00      1.00         1\\n       36925       0.33      1.00      0.50         1\\n       36953       0.00      0.00      0.00         1\\n       36961       0.00      0.00      0.00         1\\n       36979       0.00      0.00      0.00         1\\n       37010       0.50      1.00      0.67         1\\n       37013       0.00      0.00      0.00         1\\n       37019       0.00      0.00      0.00         1\\n       37063       1.00      1.00      1.00         1\\n       37122       1.00      1.00      1.00         1\\n       37136       1.00      1.00      1.00         1\\n       37139       0.00      0.00      0.00         1\\n       37145       0.17      1.00      0.29         1\\n       37166       0.00      0.00      0.00         1\\n       37187       0.00      0.00      0.00         1\\n       37208       1.00      1.00      1.00         1\\n       37227       0.00      0.00      0.00         1\\n       37228       1.00      1.00      1.00         1\\n       37259       0.50      1.00      0.67         1\\n       37340       0.00      0.00      0.00         1\\n       37341       0.00      0.00      0.00         1\\n       37346       0.00      0.00      0.00         1\\n       37395       1.00      1.00      1.00         1\\n       37399       0.00      0.00      0.00         1\\n       37428       0.00      0.00      0.00         1\\n       37443       0.12      1.00      0.22         1\\n       37462       0.00      0.00      0.00         1\\n       37492       0.00      0.00      0.00         1\\n       37507       0.00      0.00      0.00         1\\n       37532       0.00      0.00      0.00         1\\n       37567       0.00      0.00      0.00         1\\n       37671       0.00      0.00      0.00         1\\n       37691       1.00      1.00      1.00         1\\n       37711       0.09      1.00      0.17         1\\n       37729       0.06      1.00      0.11         1\\n       37733       0.00      0.00      0.00         1\\n       37745       0.00      0.00      0.00         1\\n       37814       0.00      0.00      0.00         1\\n       37822       0.00      0.00      0.00         1\\n       37854       0.50      1.00      0.67         1\\n       37856       0.00      0.00      0.00         1\\n       37859       0.00      0.00      0.00         1\\n       37865       0.00      0.00      0.00         1\\n       37933       0.50      1.00      0.67         1\\n       37986       1.00      1.00      1.00         1\\n       37993       1.00      1.00      1.00         1\\n       38012       1.00      1.00      1.00         1\\n       38040       0.00      0.00      0.00         1\\n       38075       0.00      0.00      0.00         1\\n       38093       1.00      1.00      1.00         1\\n       38102       1.00      1.00      1.00         1\\n       38104       0.00      0.00      0.00         1\\n       38162       0.00      0.00      0.00         1\\n       38202       1.00      1.00      1.00         1\\n       38227       0.00      0.00      0.00         1\\n       38231       0.00      0.00      0.00         1\\n       38241       0.00      0.00      0.00         1\\n       38250       0.00      0.00      0.00         1\\n       38269       0.50      1.00      0.67         1\\n       38282       0.00      0.00      0.00         1\\n       38303       0.14      1.00      0.25         1\\n       38321       1.00      1.00      1.00         1\\n       38378       0.00      0.00      0.00         1\\n       38384       0.00      0.00      0.00         1\\n       38396       1.00      1.00      1.00         1\\n       38404       0.00      0.00      0.00         1\\n       38413       0.00      0.00      0.00         1\\n       38448       0.00      0.00      0.00         1\\n       38461       0.00      0.00      0.00         1\\n       38466       1.00      1.00      1.00         1\\n       38488       0.00      0.00      0.00         1\\n       38537       1.00      1.00      1.00         1\\n       38539       0.00      0.00      0.00         1\\n       38543       0.00      0.00      0.00         1\\n       38547       1.00      1.00      1.00         1\\n       38549       1.00      1.00      1.00         1\\n       38564       1.00      1.00      1.00         1\\n       38576       0.00      0.00      0.00         1\\n       38609       1.00      1.00      1.00         1\\n       38638       0.33      1.00      0.50         1\\n       38640       1.00      1.00      1.00         1\\n       38660       0.00      0.00      0.00         1\\n       38714       0.00      0.00      0.00         1\\n       38735       0.00      0.00      0.00         1\\n       38755       0.50      1.00      0.67         1\\n       38778       0.00      0.00      0.00         1\\n       38822       1.00      1.00      1.00         1\\n       38840       1.00      1.00      1.00         1\\n       38927       1.00      1.00      1.00         1\\n       38958       0.00      0.00      0.00         1\\n       38970       0.00      0.00      0.00         1\\n       38973       0.20      1.00      0.33         1\\n       39020       0.00      0.00      0.00         1\\n       39025       0.00      0.00      0.00         1\\n       39036       0.00      0.00      0.00         1\\n       39087       0.00      0.00      0.00         1\\n       39105       0.00      0.00      0.00         1\\n       39107       0.00      0.00      0.00         1\\n       39114       1.00      1.00      1.00         1\\n       39119       0.00      0.00      0.00         1\\n       39124       0.00      0.00      0.00         1\\n       39166       1.00      1.00      1.00         1\\n       39199       1.00      1.00      1.00         1\\n       39240       0.00      0.00      0.00         1\\n       39268       0.50      1.00      0.67         1\\n       39358       0.00      0.00      0.00         1\\n       39383       0.00      0.00      0.00         1\\n       39409       0.00      0.00      0.00         1\\n       39412       0.00      0.00      0.00         1\\n       39451       0.00      0.00      0.00         1\\n       39478       0.00      0.00      0.00         1\\n       39493       0.00      0.00      0.00         1\\n       39500       0.50      1.00      0.67         1\\n       39507       1.00      1.00      1.00         1\\n       39527       0.00      0.00      0.00         1\\n       39545       0.00      0.00      0.00         1\\n       39709       0.00      0.00      0.00         1\\n       39748       0.00      0.00      0.00         1\\n       39749       1.00      1.00      1.00         1\\n       39758       0.00      0.00      0.00         1\\n       39817       1.00      1.00      1.00         1\\n       39835       1.00      1.00      1.00         1\\n       39875       1.00      1.00      1.00         1\\n       39878       0.00      0.00      0.00         1\\n       39892       0.00      0.00      0.00         1\\n       39912       0.00      0.00      0.00         1\\n       39920       0.00      0.00      0.00         1\\n       39935       1.00      1.00      1.00         1\\n       39937       0.00      0.00      0.00         1\\n       39983       0.00      0.00      0.00         1\\n       39987       0.00      0.00      0.00         1\\n       40056       0.00      0.00      0.00         1\\n       40066       0.00      0.00      0.00         1\\n       40072       0.00      0.00      0.00         1\\n       40197       0.00      0.00      0.00         1\\n       40201       1.00      1.00      1.00         1\\n       40204       0.00      0.00      0.00         1\\n       40205       0.33      1.00      0.50         1\\n       40254       1.00      1.00      1.00         1\\n       40263       0.33      1.00      0.50         1\\n       40271       0.00      0.00      0.00         1\\n       40310       1.00      1.00      1.00         1\\n       40331       0.00      0.00      0.00         1\\n       40339       0.00      0.00      0.00         1\\n       40358       0.00      0.00      0.00         1\\n       40365       0.00      0.00      0.00         1\\n       40466       0.00      0.00      0.00         1\\n       40493       1.00      1.00      1.00         1\\n       40568       0.00      0.00      0.00         1\\n       40569       1.00      1.00      1.00         1\\n       40575       0.00      0.00      0.00         1\\n       40596       0.00      0.00      0.00         1\\n       40707       0.00      0.00      0.00         1\\n       40720       0.00      0.00      0.00         1\\n       40750       0.00      0.00      0.00         1\\n       40795       1.00      1.00      1.00         1\\n       40846       1.00      1.00      1.00         1\\n       40851       1.00      1.00      1.00         1\\n       40884       0.00      0.00      0.00         1\\n       40894       1.00      1.00      1.00         1\\n       40913       0.00      0.00      0.00         1\\n       40919       0.00      0.00      0.00         1\\n       40948       1.00      1.00      1.00         1\\n       40953       1.00      1.00      1.00         1\\n       41019       1.00      1.00      1.00         1\\n       41024       1.00      1.00      1.00         1\\n       41042       0.00      0.00      0.00         1\\n       41128       0.00      0.00      0.00         1\\n       41146       0.50      1.00      0.67         1\\n       41230       1.00      1.00      1.00         1\\n       41240       1.00      1.00      1.00         1\\n       41255       1.00      1.00      1.00         1\\n       41278       0.00      0.00      0.00         1\\n       41283       0.50      1.00      0.67         1\\n       41291       0.00      0.00      0.00         1\\n       41305       0.20      1.00      0.33         1\\n       41313       0.00      0.00      0.00         1\\n       41346       0.00      0.00      0.00         1\\n       41389       0.00      0.00      0.00         1\\n       41431       0.33      1.00      0.50         1\\n       41467       0.50      1.00      0.67         1\\n       41468       1.00      1.00      1.00         1\\n       41547       1.00      1.00      1.00         1\\n       41656       0.00      0.00      0.00         1\\n       41688       0.00      0.00      0.00         1\\n       41722       1.00      1.00      1.00         1\\n       41746       0.00      0.00      0.00         1\\n       41753       1.00      1.00      1.00         1\\n       41771       0.00      0.00      0.00         1\\n       41842       1.00      1.00      1.00         1\\n       41845       0.00      0.00      0.00         1\\n       41882       0.00      0.00      0.00         1\\n       41911       0.25      1.00      0.40         1\\n       41922       0.00      0.00      0.00         1\\n       41933       1.00      1.00      1.00         1\\n       41944       0.00      0.00      0.00         1\\n       41980       0.00      0.00      0.00         1\\n       41987       0.00      0.00      0.00         1\\n       41990       0.00      0.00      0.00         1\\n       41993       0.00      0.00      0.00         1\\n       42094       1.00      1.00      1.00         1\\n       42117       0.00      0.00      0.00         1\\n       42124       0.00      0.00      0.00         1\\n       42132       0.00      0.00      0.00         1\\n       42134       0.33      1.00      0.50         1\\n       42169       0.00      0.00      0.00         1\\n       42173       0.00      0.00      0.00         1\\n       42280       1.00      1.00      1.00         1\\n       42295       0.00      0.00      0.00         1\\n       42306       0.00      0.00      0.00         1\\n       42319       1.00      1.00      1.00         1\\n       42324       0.00      0.00      0.00         1\\n       42397       0.00      0.00      0.00         1\\n       42401       0.00      0.00      0.00         1\\n       42412       0.33      1.00      0.50         1\\n       42494       0.12      1.00      0.22         1\\n       42533       0.00      0.00      0.00         1\\n       42543       0.17      1.00      0.29         1\\n       42584       0.00      0.00      0.00         1\\n       42661       1.00      1.00      1.00         1\\n       42664       0.00      0.00      0.00         1\\n       42680       0.00      0.00      0.00         1\\n       42735       1.00      1.00      1.00         1\\n       42771       0.00      0.00      0.00         1\\n       42777       1.00      1.00      1.00         1\\n       42783       0.00      0.00      0.00         1\\n       42849       1.00      1.00      1.00         1\\n       42870       0.00      0.00      0.00         1\\n       42894       0.00      0.00      0.00         1\\n       42924       0.00      0.00      0.00         1\\n       42956       0.00      0.00      0.00         1\\n       42986       0.00      0.00      0.00         1\\n       42987       0.00      0.00      0.00         1\\n       43098       1.00      1.00      1.00         1\\n       43145       1.00      1.00      1.00         1\\n       43158       0.00      0.00      0.00         1\\n       43251       1.00      1.00      1.00         1\\n       43303       0.00      0.00      0.00         1\\n       43309       0.00      0.00      0.00         1\\n       43322       0.00      0.00      0.00         1\\n       43340       1.00      1.00      1.00         1\\n       43343       0.00      0.00      0.00         1\\n       43351       1.00      1.00      1.00         1\\n       43400       0.00      0.00      0.00         1\\n       43411       0.00      0.00      0.00         1\\n       43419       0.00      0.00      0.00         1\\n       43477       0.00      0.00      0.00         1\\n       43506       0.00      0.00      0.00         1\\n       43508       0.00      0.00      0.00         1\\n       43513       0.00      0.00      0.00         1\\n       43534       0.00      0.00      0.00         1\\n       43538       0.00      0.00      0.00         1\\n       43546       0.00      0.00      0.00         1\\n       43552       0.10      1.00      0.18         1\\n       43588       0.25      1.00      0.40         1\\n       43600       0.50      1.00      0.67         1\\n       43647       0.33      1.00      0.50         1\\n       43657       0.00      0.00      0.00         1\\n       43678       0.00      0.00      0.00         1\\n       43684       1.00      1.00      1.00         1\\n       43721       0.00      0.00      0.00         1\\n       43723       0.00      0.00      0.00         1\\n       43779       1.00      1.00      1.00         1\\n       43795       0.00      0.00      0.00         1\\n       43800       1.00      1.00      1.00         1\\n       43804       0.00      0.00      0.00         1\\n       43813       0.00      0.00      0.00         1\\n       43840       0.00      0.00      0.00         1\\n       43886       0.00      0.00      0.00         1\\n       43897       0.00      0.00      0.00         1\\n       43956       1.00      1.00      1.00         1\\n       43957       0.00      0.00      0.00         1\\n       43963       0.00      0.00      0.00         1\\n       43986       0.00      0.00      0.00         1\\n       44003       1.00      1.00      1.00         1\\n       44006       0.00      0.00      0.00         1\\n       44012       1.00      1.00      1.00         1\\n       44025       0.00      0.00      0.00         1\\n       44074       0.00      0.00      0.00         1\\n       44097       0.00      0.00      0.00         1\\n       44131       0.00      0.00      0.00         1\\n       44138       0.06      1.00      0.11         1\\n       44185       0.00      0.00      0.00         1\\n       44214       1.00      1.00      1.00         1\\n       44289       1.00      1.00      1.00         1\\n       44303       0.00      0.00      0.00         1\\n       44312       1.00      1.00      1.00         1\\n       44315       0.05      1.00      0.09         1\\n       44324       0.00      0.00      0.00         1\\n       44344       1.00      1.00      1.00         1\\n       44368       0.00      0.00      0.00         1\\n       44405       0.00      0.00      0.00         1\\n       44420       1.00      1.00      1.00         1\\n       44422       0.00      0.00      0.00         1\\n       44453       0.00      0.00      0.00         1\\n       44454       0.00      0.00      0.00         1\\n       44464       0.00      0.00      0.00         1\\n       44492       0.00      0.00      0.00         1\\n       44515       1.00      1.00      1.00         1\\n       44574       0.00      0.00      0.00         1\\n       44620       0.00      0.00      0.00         1\\n       44629       0.00      0.00      0.00         1\\n       44645       0.00      0.00      0.00         1\\n       44691       0.00      0.00      0.00         1\\n       44698       0.50      1.00      0.67         1\\n       44711       0.00      0.00      0.00         1\\n       44720       1.00      1.00      1.00         1\\n       44756       0.00      0.00      0.00         1\\n       44778       0.00      0.00      0.00         1\\n       44790       0.00      0.00      0.00         1\\n       44798       0.00      0.00      0.00         1\\n       44807       0.00      0.00      0.00         1\\n       44825       0.00      0.00      0.00         1\\n       44855       0.00      0.00      0.00         1\\n       44895       0.00      0.00      0.00         1\\n       44923       1.00      1.00      1.00         1\\n       44939       0.00      0.00      0.00         1\\n       44942       0.00      0.00      0.00         1\\n       44983       0.17      1.00      0.29         1\\n       45000       0.00      0.00      0.00         1\\n       45020       0.00      0.00      0.00         1\\n       45024       0.00      0.00      0.00         1\\n       45060       1.00      1.00      1.00         1\\n       45082       0.00      0.00      0.00         1\\n       45102       0.00      0.00      0.00         1\\n       45122       0.00      0.00      0.00         1\\n       45129       0.00      0.00      0.00         1\\n       45221       0.00      0.00      0.00         1\\n       45249       1.00      1.00      1.00         1\\n       45267       0.00      0.00      0.00         1\\n       45279       0.00      0.00      0.00         1\\n       45280       0.00      0.00      0.00         1\\n       45289       0.00      0.00      0.00         1\\n       45345       1.00      1.00      1.00         1\\n       45378       0.00      0.00      0.00         1\\n       45539       1.00      1.00      1.00         1\\n       45559       0.00      0.00      0.00         1\\n       45575       1.00      1.00      1.00         1\\n       45588       0.00      0.00      0.00         1\\n       45590       0.00      0.00      0.00         1\\n       45605       1.00      1.00      1.00         1\\n       45617       0.00      0.00      0.00         1\\n       45641       0.00      0.00      0.00         1\\n       45643       0.00      0.00      0.00         1\\n       45646       0.00      0.00      0.00         1\\n       45650       1.00      1.00      1.00         1\\n       45708       0.00      0.00      0.00         1\\n       45734       0.00      0.00      0.00         1\\n       45786       1.00      1.00      1.00         1\\n       45833       0.00      0.00      0.00         1\\n       45864       0.00      0.00      0.00         1\\n       45871       1.00      1.00      1.00         1\\n       45874       0.00      0.00      0.00         1\\n       45889       0.00      0.00      0.00         1\\n       45890       0.00      0.00      0.00         1\\n       45919       0.00      0.00      0.00         1\\n       45923       0.50      1.00      0.67         1\\n       45929       1.00      1.00      1.00         1\\n       45937       1.00      1.00      1.00         1\\n       45955       1.00      1.00      1.00         1\\n       45958       0.00      0.00      0.00         1\\n       45965       1.00      1.00      1.00         1\\n       45988       1.00      1.00      1.00         1\\n       46031       0.00      0.00      0.00         1\\n       46064       0.00      0.00      0.00         1\\n       46077       0.00      0.00      0.00         1\\n       46100       0.00      0.00      0.00         1\\n       46106       0.00      0.00      0.00         1\\n       46107       0.00      0.00      0.00         1\\n       46119       0.00      0.00      0.00         1\\n       46153       0.50      1.00      0.67         1\\n       46161       0.00      0.00      0.00         1\\n       46180       0.00      0.00      0.00         1\\n       46209       0.00      0.00      0.00         1\\n       46210       1.00      1.00      1.00         1\\n       46226       0.00      0.00      0.00         1\\n       46260       1.00      1.00      1.00         1\\n       46263       0.00      0.00      0.00         1\\n       46327       0.33      1.00      0.50         1\\n       46412       0.00      0.00      0.00         1\\n       46440       1.00      1.00      1.00         1\\n       46523       0.00      0.00      0.00         1\\n       46544       0.00      0.00      0.00         1\\n       46609       0.00      0.00      0.00         1\\n       46622       0.00      0.00      0.00         1\\n       46628       0.00      0.00      0.00         1\\n       46705       0.00      0.00      0.00         1\\n       46724       1.00      1.00      1.00         1\\n       46758       0.00      0.00      0.00         1\\n       46779       0.00      0.00      0.00         1\\n       46939       1.00      1.00      1.00         1\\n       46962       0.00      0.00      0.00         1\\n       46975       0.00      0.00      0.00         1\\n       47064       0.00      0.00      0.00         1\\n       47073       0.00      0.00      0.00         1\\n       47119       0.00      0.00      0.00         1\\n       47207       0.00      0.00      0.00         1\\n       47215       0.00      0.00      0.00         1\\n       47257       0.00      0.00      0.00         1\\n       47268       0.00      0.00      0.00         1\\n       47320       1.00      1.00      1.00         1\\n       47333       0.00      0.00      0.00         1\\n       47382       0.00      0.00      0.00         1\\n       47390       0.00      0.00      0.00         1\\n       47395       0.00      0.00      0.00         1\\n       47402       0.00      0.00      0.00         1\\n       47417       0.00      0.00      0.00         1\\n       47528       0.00      0.00      0.00         1\\n       47530       0.00      0.00      0.00         1\\n       47589       0.00      0.00      0.00         1\\n       47623       0.00      0.00      0.00         1\\n       47634       0.00      0.00      0.00         1\\n       47657       0.00      0.00      0.00         1\\n       47670       0.00      0.00      0.00         1\\n       47673       0.00      0.00      0.00         1\\n       47679       0.00      0.00      0.00         1\\n       47698       0.11      1.00      0.20         1\\n       47784       0.00      0.00      0.00         1\\n       47849       0.00      0.00      0.00         1\\n       47884       0.00      0.00      0.00         1\\n       47893       0.00      0.00      0.00         1\\n       47907       0.00      0.00      0.00         1\\n       47936       1.00      1.00      1.00         1\\n       47941       1.00      1.00      1.00         1\\n       47997       1.00      1.00      1.00         1\\n       48056       0.00      0.00      0.00         1\\n       48059       0.00      0.00      0.00         1\\n       48088       0.00      0.00      0.00         1\\n       48112       0.00      0.00      0.00         1\\n       48128       0.00      0.00      0.00         1\\n       48134       0.00      0.00      0.00         1\\n       48137       0.00      0.00      0.00         1\\n       48139       0.00      0.00      0.00         1\\n       48141       1.00      1.00      1.00         1\\n       48150       1.00      1.00      1.00         1\\n       48219       0.00      0.00      0.00         1\\n       48392       0.00      0.00      0.00         1\\n       48394       0.00      0.00      0.00         1\\n       48395       1.00      1.00      1.00         1\\n       48410       0.00      0.00      0.00         1\\n       48423       0.00      0.00      0.00         1\\n       48480       0.00      0.00      0.00         1\\n       48499       1.00      1.00      1.00         1\\n       48512       0.00      0.00      0.00         1\\n       48538       0.00      0.00      0.00         1\\n       48555       0.00      0.00      0.00         1\\n       48581       0.00      0.00      0.00         1\\n       48600       1.00      1.00      1.00         1\\n       48604       1.00      1.00      1.00         1\\n       48617       0.00      0.00      0.00         1\\n       48639       0.00      0.00      0.00         1\\n       48750       0.00      0.00      0.00         1\\n       48755       0.00      0.00      0.00         1\\n       48766       0.00      0.00      0.00         1\\n       48787       0.10      1.00      0.18         1\\n       48883       1.00      1.00      1.00         1\\n       48905       0.00      0.00      0.00         1\\n       48918       1.00      1.00      1.00         1\\n       48922       0.00      0.00      0.00         1\\n       48937       0.25      1.00      0.40         1\\n       49003       0.00      0.00      0.00         1\\n       49023       0.00      0.00      0.00         1\\n       49046       0.00      0.00      0.00         1\\n       49058       0.00      0.00      0.00         1\\n       49066       0.00      0.00      0.00         1\\n       49178       0.00      0.00      0.00         1\\n       49209       0.00      0.00      0.00         1\\n       49211       0.00      0.00      0.00         1\\n       49215       0.00      0.00      0.00         1\\n       49226       0.00      0.00      0.00         1\\n       49274       0.50      1.00      0.67         1\\n       49278       0.33      1.00      0.50         1\\n       49294       0.00      0.00      0.00         1\\n       49314       0.00      0.00      0.00         1\\n       49355       0.00      0.00      0.00         1\\n       49404       0.00      0.00      0.00         1\\n       49468       0.00      0.00      0.00         1\\n       49475       0.00      0.00      0.00         1\\n       49487       0.00      0.00      0.00         1\\n       49491       0.00      0.00      0.00         1\\n       49502       0.00      0.00      0.00         1\\n       49513       0.00      0.00      0.00         1\\n       49534       0.00      0.00      0.00         1\\n       49535       0.00      0.00      0.00         1\\n       49587       0.00      0.00      0.00         1\\n       49703       1.00      1.00      1.00         1\\n       49718       0.00      0.00      0.00         1\\n       49781       0.00      0.00      0.00         1\\n       49792       0.00      0.00      0.00         1\\n       49818       0.00      0.00      0.00         1\\n       49872       0.00      0.00      0.00         1\\n       49902       0.00      0.00      0.00         1\\n       49984       0.00      0.00      0.00         1\\n       50005       1.00      1.00      1.00         1\\n       50006       0.00      0.00      0.00         1\\n       50010       0.00      0.00      0.00         1\\n       50024       0.50      1.00      0.67         1\\n       50028       1.00      1.00      1.00         1\\n       50045       0.00      0.00      0.00         1\\n       50080       1.00      1.00      1.00         1\\n       50173       0.00      0.00      0.00         1\\n       50176       0.00      0.00      0.00         1\\n       50202       0.00      0.00      0.00         1\\n       50251       0.00      0.00      0.00         1\\n       50285       0.00      0.00      0.00         1\\n       50306       0.50      1.00      0.67         1\\n       50321       1.00      1.00      1.00         1\\n       50336       0.00      0.00      0.00         1\\n       50362       0.00      0.00      0.00         1\\n       50369       0.00      0.00      0.00         1\\n       50379       0.00      0.00      0.00         1\\n       50389       0.00      0.00      0.00         1\\n       50458       0.00      0.00      0.00         1\\n       50488       0.00      0.00      0.00         1\\n       50510       0.00      0.00      0.00         1\\n       50511       1.00      1.00      1.00         1\\n       50542       0.00      0.00      0.00         1\\n       50552       0.00      0.00      0.00         1\\n       50576       1.00      1.00      1.00         1\\n       50590       0.00      0.00      0.00         1\\n       50601       0.00      0.00      0.00         1\\n       50661       1.00      1.00      1.00         1\\n       50735       0.00      0.00      0.00         1\\n       50746       0.00      0.00      0.00         1\\n       50750       0.00      0.00      0.00         1\\n       50760       0.00      0.00      0.00         1\\n       50785       1.00      1.00      1.00         1\\n       50809       0.00      0.00      0.00         1\\n       50819       1.00      1.00      1.00         1\\n       50899       0.00      0.00      0.00         1\\n       50933       1.00      1.00      1.00         1\\n       50968       0.00      0.00      0.00         1\\n       50994       1.00      1.00      1.00         1\\n       51023       0.00      0.00      0.00         1\\n       51090       0.00      0.00      0.00         1\\n       51116       0.00      0.00      0.00         1\\n       51145       1.00      1.00      1.00         1\\n       51224       0.00      0.00      0.00         1\\n       51238       0.00      0.00      0.00         1\\n       51286       0.00      0.00      0.00         1\\n       51298       0.00      0.00      0.00         1\\n       51354       0.00      0.00      0.00         1\\n       51358       0.00      0.00      0.00         1\\n       51424       0.00      0.00      0.00         1\\n       51440       0.00      0.00      0.00         1\\n       51478       0.33      1.00      0.50         1\\n       51482       1.00      1.00      1.00         1\\n       51484       0.00      0.00      0.00         1\\n       51512       0.00      0.00      0.00         1\\n       51513       0.50      1.00      0.67         1\\n       51556       0.00      0.00      0.00         1\\n       51563       0.00      0.00      0.00         1\\n       51593       0.00      0.00      0.00         1\\n       51621       0.00      0.00      0.00         1\\n       51624       0.00      0.00      0.00         1\\n       51630       0.00      0.00      0.00         1\\n       51685       0.00      0.00      0.00         1\\n       51707       0.00      0.00      0.00         1\\n       51737       0.00      0.00      0.00         1\\n       51753       0.00      0.00      0.00         1\\n       51764       0.00      0.00      0.00         1\\n       51809       0.00      0.00      0.00         1\\n       51816       1.00      1.00      1.00         1\\n       51828       0.00      0.00      0.00         1\\n       51869       1.00      1.00      1.00         1\\n       51879       0.00      0.00      0.00         1\\n       51922       0.00      0.00      0.00         1\\n       52013       0.00      0.00      0.00         1\\n       52026       1.00      1.00      1.00         1\\n       52075       0.00      0.00      0.00         1\\n       52094       0.00      0.00      0.00         1\\n       52140       0.50      1.00      0.67         1\\n       52200       0.00      0.00      0.00         1\\n       52226       0.00      0.00      0.00         1\\n       52267       0.00      0.00      0.00         1\\n       52291       0.00      0.00      0.00         1\\n       52351       0.00      0.00      0.00         1\\n       52364       0.33      1.00      0.50         1\\n       52380       1.00      1.00      1.00         1\\n       52381       0.00      0.00      0.00         1\\n       52391       0.00      0.00      0.00         1\\n       52394       0.20      1.00      0.33         1\\n       52431       1.00      1.00      1.00         1\\n       52442       0.00      0.00      0.00         1\\n       52463       0.50      1.00      0.67         1\\n       52468       0.00      0.00      0.00         1\\n       52585       1.00      1.00      1.00         1\\n       52632       0.00      0.00      0.00         1\\n       52722       1.00      1.00      1.00         1\\n       52731       0.00      0.00      0.00         1\\n       52733       0.00      0.00      0.00         1\\n       52761       0.00      0.00      0.00         1\\n       52780       0.00      0.00      0.00         1\\n       52788       0.00      0.00      0.00         1\\n       52791       0.00      0.00      0.00         1\\n       52814       0.00      0.00      0.00         1\\n       52856       0.00      0.00      0.00         1\\n       52876       0.00      0.00      0.00         1\\n       52885       0.00      0.00      0.00         1\\n       52946       0.00      0.00      0.00         1\\n       52962       0.00      0.00      0.00         1\\n       52980       0.00      0.00      0.00         1\\n       52984       1.00      1.00      1.00         1\\n       53044       0.00      0.00      0.00         1\\n       53064       0.00      0.00      0.00         1\\n       53092       0.00      0.00      0.00         1\\n       53102       0.00      0.00      0.00         1\\n       53131       0.00      0.00      0.00         1\\n       53187       0.00      0.00      0.00         1\\n       53188       0.00      0.00      0.00         1\\n       53230       0.00      0.00      0.00         1\\n       53238       0.00      0.00      0.00         1\\n       53291       1.00      1.00      1.00         1\\n       53333       1.00      1.00      1.00         1\\n       53393       0.00      0.00      0.00         1\\n       53395       1.00      1.00      1.00         1\\n       53397       0.00      0.00      0.00         1\\n       53420       1.00      1.00      1.00         1\\n       53456       0.00      0.00      0.00         1\\n       53485       1.00      1.00      1.00         1\\n       53494       0.00      0.00      0.00         1\\n       53560       1.00      1.00      1.00         1\\n       53592       0.00      0.00      0.00         1\\n       53595       0.00      0.00      0.00         1\\n       53598       0.00      0.00      0.00         1\\n       53617       0.00      0.00      0.00         1\\n       53634       0.00      0.00      0.00         1\\n       53672       0.00      0.00      0.00         1\\n       53703       0.00      0.00      0.00         1\\n       53722       0.00      0.00      0.00         1\\n       53789       0.00      0.00      0.00         1\\n       53801       0.00      0.00      0.00         1\\n       53823       1.00      1.00      1.00         1\\n       53863       0.04      1.00      0.08         1\\n       53979       0.00      0.00      0.00         1\\n       54038       0.00      0.00      0.00         1\\n       54064       0.00      0.00      0.00         1\\n       54075       0.00      0.00      0.00         1\\n       54077       0.00      0.00      0.00         1\\n       54136       0.00      0.00      0.00         1\\n       54208       1.00      1.00      1.00         1\\n       54214       0.00      0.00      0.00         1\\n       54332       1.00      1.00      1.00         1\\n       54377       0.00      0.00      0.00         1\\n       54420       1.00      1.00      1.00         1\\n       54425       0.00      0.00      0.00         1\\n       54442       0.00      0.00      0.00         1\\n       54447       0.00      0.00      0.00         1\\n       54467       0.00      0.00      0.00         1\\n       54489       0.00      0.00      0.00         1\\n       54494       0.50      1.00      0.67         1\\n       54509       1.00      1.00      1.00         1\\n       54515       0.00      0.00      0.00         1\\n       54566       0.00      0.00      0.00         1\\n       54580       0.00      0.00      0.00         1\\n       54712       0.00      0.00      0.00         1\\n       54724       0.00      0.00      0.00         1\\n       54752       0.00      0.00      0.00         1\\n       54763       1.00      1.00      1.00         1\\n       54778       0.00      0.00      0.00         1\\n       54813       0.00      0.00      0.00         1\\n       54833       1.00      1.00      1.00         1\\n       54859       0.00      0.00      0.00         1\\n       54874       0.00      0.00      0.00         1\\n       54938       1.00      1.00      1.00         1\\n       54940       1.00      1.00      1.00         1\\n       54988       0.00      0.00      0.00         1\\n       54990       0.00      0.00      0.00         1\\n       55009       0.33      1.00      0.50         1\\n       55018       0.00      0.00      0.00         1\\n       55072       0.00      0.00      0.00         1\\n       55119       1.00      1.00      1.00         1\\n       55153       0.00      0.00      0.00         1\\n       55169       0.00      0.00      0.00         1\\n       55186       0.00      0.00      0.00         1\\n       55192       0.00      0.00      0.00         1\\n       55230       0.00      0.00      0.00         1\\n       55237       0.20      1.00      0.33         1\\n       55275       0.00      0.00      0.00         1\\n       55322       0.00      0.00      0.00         1\\n       55329       0.00      0.00      0.00         1\\n       55346       1.00      1.00      1.00         1\\n       55350       0.33      1.00      0.50         1\\n       55399       0.33      1.00      0.50         1\\n       55413       0.00      0.00      0.00         1\\n       55459       0.00      0.00      0.00         1\\n       55500       0.00      0.00      0.00         1\\n       55522       0.00      0.00      0.00         1\\n       55540       1.00      1.00      1.00         1\\n       55566       1.00      1.00      1.00         1\\n       55606       1.00      1.00      1.00         1\\n       55623       1.00      1.00      1.00         1\\n       55650       0.00      0.00      0.00         1\\n       55662       0.50      1.00      0.67         1\\n       55681       0.00      0.00      0.00         1\\n       55685       0.00      0.00      0.00         1\\n       55703       0.00      0.00      0.00         1\\n       55735       0.00      0.00      0.00         1\\n       55749       0.00      0.00      0.00         1\\n       55796       1.00      1.00      1.00         1\\n       55832       0.00      0.00      0.00         1\\n       55868       0.00      0.00      0.00         1\\n       55909       0.00      0.00      0.00         1\\n       55912       1.00      1.00      1.00         1\\n       55916       0.00      0.00      0.00         1\\n       55917       0.00      0.00      0.00         1\\n       55958       0.00      0.00      0.00         1\\n       55991       0.00      0.00      0.00         1\\n       55999       0.00      0.00      0.00         1\\n       56005       0.00      0.00      0.00         1\\n       56020       0.00      0.00      0.00         1\\n       56021       1.00      1.00      1.00         1\\n       56107       1.00      1.00      1.00         1\\n       56109       0.00      0.00      0.00         1\\n       56132       1.00      1.00      1.00         1\\n       56142       0.00      0.00      0.00         1\\n       56164       0.00      0.00      0.00         1\\n       56177       1.00      1.00      1.00         1\\n       56208       0.00      0.00      0.00         1\\n       56209       0.00      0.00      0.00         1\\n       56212       0.20      1.00      0.33         1\\n       56225       0.00      0.00      0.00         1\\n       56248       0.00      0.00      0.00         1\\n       56300       1.00      1.00      1.00         1\\n       56336       1.00      1.00      1.00         1\\n       56355       1.00      1.00      1.00         1\\n       56369       0.00      0.00      0.00         1\\n       56389       0.00      0.00      0.00         1\\n       56418       1.00      1.00      1.00         1\\n       56438       0.00      0.00      0.00         1\\n       56459       0.00      0.00      0.00         1\\n       56483       0.00      0.00      0.00         1\\n       56490       1.00      1.00      1.00         1\\n       56505       0.00      0.00      0.00         1\\n       56564       0.00      0.00      0.00         1\\n       56580       0.00      0.00      0.00         1\\n       56592       0.50      1.00      0.67         1\\n       56597       0.00      0.00      0.00         1\\n       56621       0.00      0.00      0.00         1\\n       56632       0.00      0.00      0.00         1\\n       56703       0.00      0.00      0.00         1\\n       56740       0.33      1.00      0.50         1\\n       56749       0.00      0.00      0.00         1\\n       56780       1.00      1.00      1.00         1\\n       56814       0.00      0.00      0.00         1\\n       56826       0.00      0.00      0.00         1\\n       56828       0.00      0.00      0.00         1\\n       56838       1.00      1.00      1.00         1\\n       56903       0.00      0.00      0.00         1\\n       56945       0.00      0.00      0.00         1\\n       56980       0.50      1.00      0.67         1\\n       56983       0.00      0.00      0.00         1\\n       56989       1.00      1.00      1.00         1\\n       57007       0.00      0.00      0.00         1\\n       57025       0.00      0.00      0.00         1\\n       57053       1.00      1.00      1.00         1\\n       57092       0.00      0.00      0.00         1\\n       57124       0.00      0.00      0.00         1\\n       57136       0.00      0.00      0.00         1\\n       57154       0.00      0.00      0.00         1\\n       57198       0.00      0.00      0.00         1\\n       57231       0.00      0.00      0.00         1\\n       57269       0.00      0.00      0.00         1\\n       57276       0.00      0.00      0.00         1\\n       57294       0.00      0.00      0.00         1\\n       57305       0.00      0.00      0.00         1\\n       57318       0.00      0.00      0.00         1\\n       57370       0.00      0.00      0.00         1\\n       57389       0.00      0.00      0.00         1\\n       57416       1.00      1.00      1.00         1\\n       57440       0.00      0.00      0.00         1\\n       57480       0.00      0.00      0.00         1\\n       57482       0.00      0.00      0.00         1\\n       57500       0.00      0.00      0.00         1\\n       57532       0.50      1.00      0.67         1\\n       57638       1.00      1.00      1.00         1\\n       57648       0.00      0.00      0.00         1\\n       57658       0.00      0.00      0.00         1\\n       57663       0.33      1.00      0.50         1\\n       57677       0.00      0.00      0.00         1\\n       57679       0.00      0.00      0.00         1\\n       57689       0.00      0.00      0.00         1\\n       57699       1.00      1.00      1.00         1\\n       57703       1.00      1.00      1.00         1\\n       57707       0.00      0.00      0.00         1\\n       57714       1.00      1.00      1.00         1\\n       57735       0.00      0.00      0.00         1\\n       57752       0.00      0.00      0.00         1\\n       57785       0.00      0.00      0.00         1\\n       57789       0.11      1.00      0.20         1\\n       57795       1.00      1.00      1.00         1\\n       57805       1.00      1.00      1.00         1\\n       57820       0.00      0.00      0.00         1\\n       57821       0.00      0.00      0.00         1\\n       57824       0.00      0.00      0.00         1\\n       57834       0.00      0.00      0.00         1\\n       57841       0.00      0.00      0.00         1\\n       57846       0.00      0.00      0.00         1\\n       57860       0.00      0.00      0.00         1\\n       57889       1.00      1.00      1.00         1\\n       57898       1.00      1.00      1.00         1\\n       57925       0.00      0.00      0.00         1\\n       57939       0.50      1.00      0.67         1\\n       57942       0.00      0.00      0.00         1\\n       57977       0.00      0.00      0.00         1\\n       57979       0.00      0.00      0.00         1\\n       58098       0.00      0.00      0.00         1\\n       58204       0.00      0.00      0.00         1\\n       58248       0.00      0.00      0.00         1\\n       58251       0.00      0.00      0.00         1\\n       58253       0.00      0.00      0.00         1\\n       58276       0.00      0.00      0.00         1\\n       58294       0.00      0.00      0.00         1\\n       58374       1.00      1.00      1.00         1\\n       58389       0.00      0.00      0.00         1\\n       58395       0.00      0.00      0.00         1\\n       58404       0.00      0.00      0.00         1\\n       58424       1.00      1.00      1.00         1\\n       58434       0.00      0.00      0.00         1\\n       58465       0.00      0.00      0.00         1\\n       58469       1.00      1.00      1.00         1\\n       58500       1.00      1.00      1.00         1\\n       58573       0.00      0.00      0.00         1\\n       58693       0.50      1.00      0.67         1\\n       58702       1.00      1.00      1.00         1\\n       58754       0.00      0.00      0.00         1\\n       58806       0.00      0.00      0.00         1\\n       58834       0.00      0.00      0.00         1\\n       58858       0.00      0.00      0.00         1\\n       58900       0.00      0.00      0.00         1\\n       58905       0.00      0.00      0.00         1\\n       58919       0.00      0.00      0.00         1\\n       58939       0.00      0.00      0.00         1\\n       58957       0.00      0.00      0.00         1\\n       58960       0.00      0.00      0.00         1\\n       58984       0.00      0.00      0.00         1\\n       58986       0.00      0.00      0.00         1\\n       59043       0.00      0.00      0.00         1\\n       59066       0.00      0.00      0.00         1\\n       59074       0.00      0.00      0.00         1\\n       59075       0.00      0.00      0.00         1\\n       59087       0.00      0.00      0.00         1\\n       59100       0.00      0.00      0.00         1\\n       59121       0.00      0.00      0.00         1\\n       59150       0.00      0.00      0.00         1\\n       59181       0.00      0.00      0.00         1\\n       59215       0.00      0.00      0.00         1\\n       59224       1.00      1.00      1.00         1\\n       59238       0.00      0.00      0.00         1\\n       59254       0.00      0.00      0.00         1\\n       59309       1.00      1.00      1.00         1\\n       59336       0.00      0.00      0.00         1\\n       59353       0.00      0.00      0.00         1\\n       59364       0.25      1.00      0.40         1\\n       59367       1.00      1.00      1.00         1\\n       59376       1.00      1.00      1.00         1\\n       59384       0.00      0.00      0.00         1\\n       59385       0.00      0.00      0.00         1\\n       59413       0.00      0.00      0.00         1\\n       59420       0.00      0.00      0.00         1\\n       59450       0.00      0.00      0.00         1\\n       59476       1.00      1.00      1.00         1\\n       59485       0.00      0.00      0.00         1\\n       59496       0.00      0.00      0.00         1\\n       59508       1.00      1.00      1.00         1\\n       59565       0.00      0.00      0.00         1\\n       59584       0.00      0.00      0.00         1\\n       59623       0.17      1.00      0.29         1\\n       59625       0.00      0.00      0.00         1\\n       59640       0.00      0.00      0.00         1\\n       59642       0.10      1.00      0.18         1\\n       59652       0.00      0.00      0.00         1\\n       59805       0.00      0.00      0.00         1\\n       59813       1.00      1.00      1.00         1\\n       59830       0.00      0.00      0.00         1\\n       59833       1.00      1.00      1.00         1\\n       59889       0.00      0.00      0.00         1\\n       59904       0.00      0.00      0.00         1\\n       59905       1.00      1.00      1.00         1\\n       59906       0.00      0.00      0.00         1\\n       59908       0.00      0.00      0.00         1\\n       59918       0.00      0.00      0.00         1\\n       59921       0.00      0.00      0.00         1\\n       59940       0.00      0.00      0.00         1\\n       59954       0.00      0.00      0.00         1\\n       59965       0.00      0.00      0.00         1\\n       60009       0.00      0.00      0.00         1\\n       60011       0.00      0.00      0.00         1\\n       60023       0.00      0.00      0.00         1\\n       60027       0.00      0.00      0.00         1\\n       60030       0.00      0.00      0.00         1\\n       60129       0.00      0.00      0.00         1\\n       60132       0.00      0.00      0.00         1\\n       60151       1.00      1.00      1.00         1\\n       60160       0.20      1.00      0.33         1\\n       60186       1.00      1.00      1.00         1\\n       60213       0.00      0.00      0.00         1\\n       60220       1.00      1.00      1.00         1\\n       60221       0.00      0.00      0.00         1\\n       60222       0.00      0.00      0.00         1\\n       60227       1.00      1.00      1.00         1\\n       60235       0.00      0.00      0.00         1\\n       60247       0.00      0.00      0.00         1\\n       60279       0.00      0.00      0.00         1\\n       60297       1.00      1.00      1.00         1\\n       60326       0.00      0.00      0.00         1\\n       60332       0.00      0.00      0.00         1\\n       60345       0.00      0.00      0.00         1\\n       60376       1.00      1.00      1.00         1\\n       60395       0.00      0.00      0.00         1\\n       60402       0.00      0.00      0.00         1\\n       60431       0.00      0.00      0.00         1\\n       60462       0.00      0.00      0.00         1\\n       60473       0.50      1.00      0.67         1\\n       60487       0.00      0.00      0.00         1\\n       60542       0.00      0.00      0.00         1\\n       60546       0.00      0.00      0.00         1\\n       60558       0.00      0.00      0.00         1\\n       60597       1.00      1.00      1.00         1\\n       60601       0.00      0.00      0.00         1\\n       60610       0.50      1.00      0.67         1\\n       60629       0.00      0.00      0.00         1\\n       60653       0.00      0.00      0.00         1\\n       60719       0.00      0.00      0.00         1\\n       60742       0.00      0.00      0.00         1\\n       60751       1.00      1.00      1.00         1\\n       60767       0.10      1.00      0.18         1\\n       60788       0.00      0.00      0.00         1\\n       60858       0.00      0.00      0.00         1\\n       60862       1.00      1.00      1.00         1\\n       60891       0.00      0.00      0.00         1\\n       60899       1.00      1.00      1.00         1\\n       60939       0.00      0.00      0.00         1\\n       60945       0.00      0.00      0.00         1\\n       60989       0.00      0.00      0.00         1\\n       60991       1.00      1.00      1.00         1\\n       61027       0.00      0.00      0.00         1\\n       61043       1.00      1.00      1.00         1\\n       61053       0.00      0.00      0.00         1\\n       61105       0.00      0.00      0.00         1\\n       61110       0.00      0.00      0.00         1\\n       61129       0.00      0.00      0.00         1\\n       61160       1.00      1.00      1.00         1\\n       61162       1.00      1.00      1.00         1\\n       61182       0.00      0.00      0.00         1\\n       61208       0.25      1.00      0.40         1\\n       61219       0.00      0.00      0.00         1\\n       61220       0.00      0.00      0.00         1\\n       61224       1.00      1.00      1.00         1\\n       61260       1.00      1.00      1.00         1\\n       61301       0.00      0.00      0.00         1\\n       61310       0.00      0.00      0.00         1\\n       61324       0.00      0.00      0.00         1\\n       61328       1.00      1.00      1.00         1\\n       61335       1.00      1.00      1.00         1\\n       61439       0.00      0.00      0.00         1\\n       61462       1.00      1.00      1.00         1\\n       61491       1.00      1.00      1.00         1\\n       61494       0.00      0.00      0.00         1\\n       61524       0.00      0.00      0.00         1\\n       61553       0.00      0.00      0.00         1\\n       61587       0.50      1.00      0.67         1\\n       61619       0.00      0.00      0.00         1\\n       61631       0.00      0.00      0.00         1\\n       61633       0.00      0.00      0.00         1\\n       61651       0.00      0.00      0.00         1\\n       61682       0.00      0.00      0.00         1\\n       61686       0.00      0.00      0.00         1\\n       61699       0.00      0.00      0.00         1\\n       61710       0.00      0.00      0.00         1\\n       61808       0.00      0.00      0.00         1\\n       61840       0.00      0.00      0.00         1\\n       61859       0.25      1.00      0.40         1\\n       61861       0.00      0.00      0.00         1\\n       61868       0.25      1.00      0.40         1\\n       61925       0.00      0.00      0.00         1\\n       61937       0.00      0.00      0.00         1\\n       61942       1.00      1.00      1.00         1\\n       61948       0.00      0.00      0.00         1\\n       61998       0.50      1.00      0.67         1\\n       62026       0.00      0.00      0.00         1\\n       62027       0.17      1.00      0.29         1\\n       62051       1.00      1.00      1.00         1\\n       62065       0.00      0.00      0.00         1\\n       62078       1.00      1.00      1.00         1\\n       62100       1.00      1.00      1.00         1\\n       62132       0.00      0.00      0.00         1\\n       62137       0.00      0.00      0.00         1\\n       62160       0.33      1.00      0.50         1\\n       62171       0.17      1.00      0.29         1\\n       62176       0.00      0.00      0.00         1\\n       62197       1.00      1.00      1.00         1\\n       62208       0.33      1.00      0.50         1\\n       62214       0.00      0.00      0.00         1\\n       62265       1.00      1.00      1.00         1\\n       62268       0.50      1.00      0.67         1\\n       62293       1.00      1.00      1.00         1\\n       62297       1.00      1.00      1.00         1\\n       62342       1.00      1.00      1.00         1\\n       62353       0.00      0.00      0.00         1\\n       62380       1.00      1.00      1.00         1\\n       62415       1.00      1.00      1.00         1\\n       62430       0.00      0.00      0.00         1\\n       62444       0.00      0.00      0.00         1\\n       62455       0.00      0.00      0.00         1\\n       62458       1.00      1.00      1.00         1\\n       62492       0.00      0.00      0.00         1\\n       62517       1.00      1.00      1.00         1\\n       62548       0.00      0.00      0.00         1\\n       62566       0.00      0.00      0.00         1\\n       62578       0.00      0.00      0.00         1\\n       62645       0.00      0.00      0.00         1\\n       62672       1.00      1.00      1.00         1\\n       62689       0.00      0.00      0.00         1\\n       62705       1.00      1.00      1.00         1\\n       62735       0.00      0.00      0.00         1\\n       62860       0.00      0.00      0.00         1\\n       62862       0.00      0.00      0.00         1\\n       62865       0.00      0.00      0.00         1\\n       62902       0.50      1.00      0.67         1\\n       62968       0.00      0.00      0.00         1\\n       62986       0.00      0.00      0.00         1\\n       63051       0.00      0.00      0.00         1\\n       63054       1.00      1.00      1.00         1\\n       63076       0.00      0.00      0.00         1\\n       63077       0.00      0.00      0.00         1\\n       63091       0.00      0.00      0.00         1\\n       63153       0.00      0.00      0.00         1\\n       63160       0.00      0.00      0.00         1\\n       63164       0.50      1.00      0.67         1\\n       63182       0.00      0.00      0.00         1\\n       63198       0.50      1.00      0.67         1\\n       63225       0.00      0.00      0.00         1\\n       63238       0.00      0.00      0.00         1\\n       63278       0.00      0.00      0.00         1\\n       63286       0.00      0.00      0.00         1\\n       63299       0.00      0.00      0.00         1\\n       63301       0.00      0.00      0.00         1\\n       63429       0.00      0.00      0.00         1\\n       63437       0.00      0.00      0.00         1\\n       63452       1.00      1.00      1.00         1\\n       63468       0.00      0.00      0.00         1\\n       63477       0.00      0.00      0.00         1\\n       63498       0.00      0.00      0.00         1\\n       63552       0.00      0.00      0.00         1\\n       63556       0.00      0.00      0.00         1\\n       63585       0.00      0.00      0.00         1\\n       63591       0.00      0.00      0.00         1\\n       63618       1.00      1.00      1.00         1\\n       63636       0.00      0.00      0.00         1\\n       63645       0.00      0.00      0.00         1\\n       63668       0.00      0.00      0.00         1\\n       63672       0.00      0.00      0.00         1\\n       63682       0.00      0.00      0.00         1\\n       63701       0.00      0.00      0.00         1\\n       63705       0.00      0.00      0.00         1\\n       63706       0.00      0.00      0.00         1\\n       63713       0.00      0.00      0.00         1\\n       63717       0.00      0.00      0.00         1\\n       63731       0.00      0.00      0.00         1\\n       63742       0.00      0.00      0.00         1\\n       63776       0.25      1.00      0.40         1\\n       63797       0.00      0.00      0.00         1\\n       63908       1.00      1.00      1.00         1\\n       63919       0.00      0.00      0.00         1\\n       63920       0.00      0.00      0.00         1\\n       63937       0.00      0.00      0.00         1\\n       63962       0.00      0.00      0.00         1\\n       64014       0.00      0.00      0.00         1\\n       64015       0.00      0.00      0.00         1\\n       64026       0.00      0.00      0.00         1\\n       64049       0.00      0.00      0.00         1\\n       64105       1.00      1.00      1.00         1\\n       64109       0.00      0.00      0.00         1\\n       64178       0.00      0.00      0.00         1\\n       64182       1.00      1.00      1.00         1\\n       64222       0.00      0.00      0.00         1\\n       64234       0.00      0.00      0.00         1\\n       64271       0.00      0.00      0.00         1\\n       64294       0.00      0.00      0.00         1\\n       64316       0.00      0.00      0.00         1\\n       64320       1.00      1.00      1.00         1\\n       64321       0.00      0.00      0.00         1\\n       64325       1.00      1.00      1.00         1\\n       64326       0.00      0.00      0.00         1\\n       64336       1.00      1.00      1.00         1\\n       64371       0.00      0.00      0.00         1\\n       64411       0.00      0.00      0.00         1\\n       64418       0.00      0.00      0.00         1\\n       64435       0.00      0.00      0.00         1\\n       64469       0.00      0.00      0.00         1\\n       64471       0.00      0.00      0.00         1\\n       64485       1.00      1.00      1.00         1\\n       64489       0.00      0.00      0.00         1\\n       64504       1.00      1.00      1.00         1\\n       64579       1.00      1.00      1.00         1\\n       64614       0.00      0.00      0.00         1\\n       64633       0.00      0.00      0.00         1\\n       64649       0.00      0.00      0.00         1\\n       64690       1.00      1.00      1.00         1\\n       64722       0.00      0.00      0.00         1\\n       64751       0.00      0.00      0.00         1\\n       64810       0.00      0.00      0.00         1\\n       64830       1.00      1.00      1.00         1\\n       64836       0.00      0.00      0.00         1\\n       64877       0.00      0.00      0.00         1\\n       64955       0.00      0.00      0.00         1\\n       64967       1.00      1.00      1.00         1\\n       64968       0.00      0.00      0.00         1\\n       64969       0.00      0.00      0.00         1\\n       64990       0.00      0.00      0.00         1\\n       65007       0.00      0.00      0.00         1\\n       65049       0.00      0.00      0.00         1\\n       65092       0.50      1.00      0.67         1\\n       65094       0.00      0.00      0.00         1\\n       65102       0.00      0.00      0.00         1\\n       65110       0.00      0.00      0.00         1\\n       65149       0.00      0.00      0.00         1\\n       65211       0.00      0.00      0.00         1\\n       65222       0.00      0.00      0.00         1\\n       65287       1.00      1.00      1.00         1\\n       65293       0.00      0.00      0.00         1\\n       65309       0.00      0.00      0.00         1\\n       65323       0.00      0.00      0.00         1\\n       65355       0.00      0.00      0.00         1\\n       65361       0.00      0.00      0.00         1\\n       65399       0.00      0.00      0.00         1\\n       65452       0.00      0.00      0.00         1\\n       65461       0.00      0.00      0.00         1\\n       65466       0.00      0.00      0.00         1\\n       65473       0.00      0.00      0.00         1\\n       65498       1.00      1.00      1.00         1\\n       65546       0.00      0.00      0.00         1\\n       65547       0.50      1.00      0.67         1\\n       65568       0.00      0.00      0.00         1\\n       65600       0.00      0.00      0.00         1\\n       65641       1.00      1.00      1.00         1\\n       65695       0.50      1.00      0.67         1\\n       65700       0.00      0.00      0.00         1\\n       65705       0.00      0.00      0.00         1\\n       65764       0.00      0.00      0.00         1\\n       65783       0.00      0.00      0.00         1\\n       65799       0.00      0.00      0.00         1\\n       65807       1.00      1.00      1.00         1\\n       65813       0.00      0.00      0.00         1\\n       65906       0.00      0.00      0.00         1\\n       65989       1.00      1.00      1.00         1\\n       66047       0.00      0.00      0.00         1\\n       66073       0.00      0.00      0.00         1\\n       66111       1.00      1.00      1.00         1\\n       66114       0.00      0.00      0.00         1\\n       66118       0.00      0.00      0.00         1\\n       66119       0.00      0.00      0.00         1\\n       66136       0.50      1.00      0.67         1\\n       66153       0.00      0.00      0.00         1\\n       66229       0.00      0.00      0.00         1\\n       66234       0.00      0.00      0.00         1\\n       66255       0.00      0.00      0.00         1\\n       66269       1.00      1.00      1.00         1\\n       66275       0.00      0.00      0.00         1\\n       66286       0.00      0.00      0.00         1\\n       66320       0.00      0.00      0.00         1\\n       66376       0.00      0.00      0.00         1\\n       66394       0.00      0.00      0.00         1\\n       66408       0.00      0.00      0.00         1\\n       66423       0.00      0.00      0.00         1\\n       66450       1.00      1.00      1.00         1\\n       66498       1.00      1.00      1.00         1\\n       66518       0.00      0.00      0.00         1\\n       66563       0.00      0.00      0.00         1\\n       66565       1.00      1.00      1.00         1\\n       66580       0.00      0.00      0.00         1\\n       66589       0.00      0.00      0.00         1\\n       66615       0.00      0.00      0.00         1\\n       66659       0.50      1.00      0.67         1\\n       66668       0.00      0.00      0.00         1\\n       66671       0.00      0.00      0.00         1\\n       66743       0.00      0.00      0.00         1\\n       66789       0.00      0.00      0.00         1\\n       66858       0.00      0.00      0.00         1\\n       66863       0.00      0.00      0.00         1\\n       66867       0.00      0.00      0.00         1\\n       66901       0.00      0.00      0.00         1\\n       66979       0.00      0.00      0.00         1\\n       67044       0.00      0.00      0.00         1\\n       67112       0.00      0.00      0.00         1\\n       67120       0.00      0.00      0.00         1\\n       67139       0.00      0.00      0.00         1\\n       67149       0.00      0.00      0.00         1\\n       67151       1.00      1.00      1.00         1\\n       67156       0.12      1.00      0.22         1\\n       67159       0.00      0.00      0.00         1\\n       67166       0.00      0.00      0.00         1\\n       67191       0.00      0.00      0.00         1\\n       67208       0.00      0.00      0.00         1\\n       67239       0.50      1.00      0.67         1\\n       67266       1.00      1.00      1.00         1\\n       67326       0.00      0.00      0.00         1\\n       67372       0.00      0.00      0.00         1\\n       67396       0.00      0.00      0.00         1\\n       67417       0.50      1.00      0.67         1\\n       67476       1.00      1.00      1.00         1\\n       67507       0.00      0.00      0.00         1\\n       67513       0.00      0.00      0.00         1\\n       67559       0.00      0.00      0.00         1\\n       67571       0.00      0.00      0.00         1\\n       67584       0.00      0.00      0.00         1\\n       67632       1.00      1.00      1.00         1\\n       67647       0.00      0.00      0.00         1\\n       67653       0.00      0.00      0.00         1\\n       67713       1.00      1.00      1.00         1\\n       67757       1.00      1.00      1.00         1\\n       67764       0.00      0.00      0.00         1\\n       67774       0.00      0.00      0.00         1\\n       67779       0.50      1.00      0.67         1\\n       67812       0.00      0.00      0.00         1\\n       67838       0.00      0.00      0.00         1\\n       67841       0.00      0.00      0.00         1\\n       67853       0.00      0.00      0.00         1\\n       67863       0.00      0.00      0.00         1\\n       67868       1.00      1.00      1.00         1\\n       67897       0.00      0.00      0.00         1\\n       67904       1.00      1.00      1.00         1\\n       67945       1.00      1.00      1.00         1\\n       67985       0.00      0.00      0.00         1\\n       68036       0.00      0.00      0.00         1\\n       68042       1.00      1.00      1.00         1\\n       68078       0.00      0.00      0.00         1\\n       68097       0.00      0.00      0.00         1\\n       68147       0.00      0.00      0.00         1\\n       68157       0.00      0.00      0.00         1\\n       68194       1.00      1.00      1.00         1\\n       68223       0.00      0.00      0.00         1\\n       68308       0.00      0.00      0.00         1\\n       68430       0.00      0.00      0.00         1\\n       68450       0.00      0.00      0.00         1\\n       68491       1.00      1.00      1.00         1\\n       68596       0.00      0.00      0.00         1\\n       68598       1.00      1.00      1.00         1\\n       68633       0.00      0.00      0.00         1\\n       68637       0.00      0.00      0.00         1\\n       68642       0.50      1.00      0.67         1\\n       68653       1.00      1.00      1.00         1\\n       68672       1.00      1.00      1.00         1\\n       68673       1.00      1.00      1.00         1\\n       68736       1.00      1.00      1.00         1\\n       68759       0.50      1.00      0.67         1\\n       68767       0.00      0.00      0.00         1\\n       68776       0.00      0.00      0.00         1\\n       68781       0.50      1.00      0.67         1\\n       68837       0.00      0.00      0.00         1\\n       68860       0.00      0.00      0.00         1\\n       68874       1.00      1.00      1.00         1\\n       68886       0.00      0.00      0.00         1\\n       68888       0.00      0.00      0.00         1\\n       68904       0.00      0.00      0.00         1\\n       68912       0.00      0.00      0.00         1\\n       68915       0.00      0.00      0.00         1\\n       69013       0.00      0.00      0.00         1\\n       69016       0.00      0.00      0.00         1\\n       69019       0.00      0.00      0.00         1\\n       69051       0.00      0.00      0.00         1\\n       69067       0.00      0.00      0.00         1\\n       69078       1.00      1.00      1.00         1\\n       69082       1.00      1.00      1.00         1\\n       69121       0.00      0.00      0.00         1\\n       69197       0.00      0.00      0.00         1\\n       69261       0.00      0.00      0.00         1\\n       69277       1.00      1.00      1.00         1\\n       69317       0.00      0.00      0.00         1\\n       69328       0.00      0.00      0.00         1\\n       69426       0.00      0.00      0.00         1\\n       69441       0.00      0.00      0.00         1\\n       69442       0.00      0.00      0.00         1\\n       69480       0.00      0.00      0.00         1\\n       69487       0.00      0.00      0.00         1\\n       69505       1.00      1.00      1.00         1\\n       69509       0.00      0.00      0.00         1\\n       69549       1.00      1.00      1.00         1\\n       69555       1.00      1.00      1.00         1\\n       69576       0.00      0.00      0.00         1\\n       69586       1.00      1.00      1.00         1\\n       69587       0.00      0.00      0.00         1\\n       69601       0.00      0.00      0.00         1\\n       69629       0.00      0.00      0.00         1\\n       69640       0.00      0.00      0.00         1\\n       69671       0.00      0.00      0.00         1\\n       69684       0.00      0.00      0.00         1\\n       69744       1.00      1.00      1.00         1\\n       69764       0.00      0.00      0.00         1\\n       69802       1.00      1.00      1.00         1\\n       69831       0.00      0.00      0.00         1\\n       69834       1.00      1.00      1.00         1\\n       69878       1.00      1.00      1.00         1\\n       69901       0.00      0.00      0.00         1\\n       69943       0.00      0.00      0.00         1\\n       69945       0.00      0.00      0.00         1\\n       69948       0.00      0.00      0.00         1\\n       69985       0.00      0.00      0.00         1\\n       70000       0.00      0.00      0.00         1\\n       70007       0.00      0.00      0.00         1\\n       70015       0.00      0.00      0.00         1\\n       70052       0.00      0.00      0.00         1\\n       70122       0.00      0.00      0.00         1\\n       70177       0.00      0.00      0.00         1\\n       70219       1.00      1.00      1.00         1\\n       70229       0.00      0.00      0.00         1\\n       70238       0.00      0.00      0.00         1\\n       70258       0.00      0.00      0.00         1\\n       70307       1.00      1.00      1.00         1\\n       70332       0.00      0.00      0.00         1\\n       70386       0.00      0.00      0.00         1\\n       70398       0.50      1.00      0.67         1\\n       70401       0.00      0.00      0.00         1\\n       70420       1.00      1.00      1.00         1\\n       70466       0.00      0.00      0.00         1\\n       70554       0.50      1.00      0.67         1\\n       70623       0.00      0.00      0.00         1\\n       70635       1.00      1.00      1.00         1\\n       70636       0.00      0.00      0.00         1\\n       70670       0.00      0.00      0.00         1\\n       70685       0.00      0.00      0.00         1\\n       70694       0.00      0.00      0.00         1\\n       70705       1.00      1.00      1.00         1\\n       70707       0.00      0.00      0.00         1\\n       70730       0.00      0.00      0.00         1\\n       70734       0.00      0.00      0.00         1\\n       70892       0.00      0.00      0.00         1\\n       70896       1.00      1.00      1.00         1\\n       70904       0.00      0.00      0.00         1\\n       70913       0.00      0.00      0.00         1\\n       70981       0.00      0.00      0.00         1\\n       71003       1.00      1.00      1.00         1\\n       71004       0.00      0.00      0.00         1\\n       71028       0.50      1.00      0.67         1\\n       71036       0.00      0.00      0.00         1\\n       71134       0.00      0.00      0.00         1\\n       71176       0.00      0.00      0.00         1\\n       71195       1.00      1.00      1.00         1\\n       71246       0.00      0.00      0.00         1\\n       71265       0.00      0.00      0.00         1\\n       71270       0.00      0.00      0.00         1\\n       71343       0.00      0.00      0.00         1\\n       71361       1.00      1.00      1.00         1\\n       71423       0.00      0.00      0.00         1\\n       71474       0.00      0.00      0.00         1\\n       71507       0.00      0.00      0.00         1\\n       71523       1.00      1.00      1.00         1\\n       71572       0.50      1.00      0.67         1\\n       71626       0.00      0.00      0.00         1\\n       71644       1.00      1.00      1.00         1\\n       71701       0.00      0.00      0.00         1\\n       71717       0.00      0.00      0.00         1\\n       71728       0.00      0.00      0.00         1\\n       71735       0.00      0.00      0.00         1\\n       71771       0.00      0.00      0.00         1\\n       71776       0.00      0.00      0.00         1\\n       71807       0.33      1.00      0.50         1\\n       71808       0.00      0.00      0.00         1\\n       71837       0.00      0.00      0.00         1\\n       71839       0.00      0.00      0.00         1\\n       71846       0.00      0.00      0.00         1\\n       71853       1.00      1.00      1.00         1\\n       71891       0.00      0.00      0.00         1\\n       71897       0.00      0.00      0.00         1\\n       71904       0.00      0.00      0.00         1\\n       71932       0.00      0.00      0.00         1\\n       71969       1.00      1.00      1.00         1\\n       71989       1.00      1.00      1.00         1\\n       72026       1.00      1.00      1.00         1\\n       72065       1.00      1.00      1.00         1\\n       72101       0.00      0.00      0.00         1\\n       72143       0.00      0.00      0.00         1\\n       72186       0.00      0.00      0.00         1\\n       72194       0.00      0.00      0.00         1\\n       72227       0.00      0.00      0.00         1\\n       72229       0.00      0.00      0.00         1\\n       72231       0.00      0.00      0.00         1\\n       72255       0.00      0.00      0.00         1\\n       72263       0.00      0.00      0.00         1\\n       72292       0.00      0.00      0.00         1\\n       72325       0.00      0.00      0.00         1\\n       72343       0.00      0.00      0.00         1\\n       72346       1.00      1.00      1.00         1\\n       72407       0.50      1.00      0.67         1\\n       72424       0.00      0.00      0.00         1\\n       72435       0.00      0.00      0.00         1\\n       72443       0.00      0.00      0.00         1\\n       72459       0.00      0.00      0.00         1\\n       72482       0.00      0.00      0.00         1\\n       72490       0.00      0.00      0.00         1\\n       72499       0.00      0.00      0.00         1\\n       72553       0.00      0.00      0.00         1\\n       72568       0.00      0.00      0.00         1\\n       72595       0.00      0.00      0.00         1\\n       72635       0.00      0.00      0.00         1\\n       72684       0.00      0.00      0.00         1\\n       72725       1.00      1.00      1.00         1\\n       72748       0.50      1.00      0.67         1\\n       72750       0.00      0.00      0.00         1\\n       72758       0.00      0.00      0.00         1\\n       72765       0.33      1.00      0.50         1\\n       72769       0.00      0.00      0.00         1\\n       72781       0.50      1.00      0.67         1\\n       72787       0.00      0.00      0.00         1\\n       72827       0.00      0.00      0.00         1\\n       72866       0.00      0.00      0.00         1\\n       72962       1.00      1.00      1.00         1\\n       72983       1.00      1.00      1.00         1\\n       72986       0.00      0.00      0.00         1\\n       73051       0.00      0.00      0.00         1\\n       73084       0.00      0.00      0.00         1\\n       73097       0.00      0.00      0.00         1\\n       73165       1.00      1.00      1.00         1\\n       73184       0.14      1.00      0.25         1\\n       73197       0.00      0.00      0.00         1\\n       73268       1.00      1.00      1.00         1\\n       73281       0.00      0.00      0.00         1\\n       73290       0.00      0.00      0.00         1\\n       73309       0.00      0.00      0.00         1\\n       73344       0.00      0.00      0.00         1\\n       73360       0.00      0.00      0.00         1\\n       73413       0.00      0.00      0.00         1\\n       73432       1.00      1.00      1.00         1\\n       73488       0.00      0.00      0.00         1\\n       73491       0.00      0.00      0.00         1\\n       73495       0.00      0.00      0.00         1\\n       73539       1.00      1.00      1.00         1\\n       73541       0.00      0.00      0.00         1\\n       73560       1.00      1.00      1.00         1\\n       73562       0.00      0.00      0.00         1\\n       73565       0.00      0.00      0.00         1\\n       73592       0.00      0.00      0.00         1\\n       73601       0.00      0.00      0.00         1\\n       73612       0.00      0.00      0.00         1\\n       73676       0.00      0.00      0.00         1\\n       73688       0.00      0.00      0.00         1\\n       73693       0.50      1.00      0.67         1\\n       73742       1.00      1.00      1.00         1\\n       73764       0.00      0.00      0.00         1\\n       73789       0.00      0.00      0.00         1\\n       73800       0.00      0.00      0.00         1\\n       73801       0.00      0.00      0.00         1\\n       73816       0.00      0.00      0.00         1\\n       73818       0.00      0.00      0.00         1\\n       73839       0.00      0.00      0.00         1\\n       73844       0.00      0.00      0.00         1\\n       73849       1.00      1.00      1.00         1\\n       73866       0.00      0.00      0.00         1\\n       73876       0.00      0.00      0.00         1\\n       73888       1.00      1.00      1.00         1\\n       73937       0.00      0.00      0.00         1\\n       73959       0.00      0.00      0.00         1\\n       73960       1.00      1.00      1.00         1\\n       73970       1.00      1.00      1.00         1\\n       73981       0.00      0.00      0.00         1\\n       73988       1.00      1.00      1.00         1\\n       74014       1.00      1.00      1.00         1\\n       74056       0.00      0.00      0.00         1\\n       74091       0.50      1.00      0.67         1\\n       74094       1.00      1.00      1.00         1\\n       74132       0.00      0.00      0.00         1\\n       74133       0.00      0.00      0.00         1\\n       74140       0.00      0.00      0.00         1\\n       74143       0.00      0.00      0.00         1\\n       74166       0.00      0.00      0.00         1\\n       74173       0.00      0.00      0.00         1\\n       74175       0.00      0.00      0.00         1\\n       74179       0.00      0.00      0.00         1\\n       74180       1.00      1.00      1.00         1\\n       74196       0.00      0.00      0.00         1\\n       74250       0.00      0.00      0.00         1\\n       74275       0.00      0.00      0.00         1\\n       74276       0.00      0.00      0.00         1\\n       74278       0.33      1.00      0.50         1\\n       74336       0.25      1.00      0.40         1\\n       74366       1.00      1.00      1.00         1\\n       74384       0.00      0.00      0.00         1\\n       74399       0.00      0.00      0.00         1\\n       74419       0.00      0.00      0.00         1\\n       74420       0.00      0.00      0.00         1\\n       74435       0.00      0.00      0.00         1\\n       74436       1.00      1.00      1.00         1\\n       74446       0.00      0.00      0.00         1\\n       74451       0.50      1.00      0.67         1\\n       74464       0.00      0.00      0.00         1\\n       74465       0.00      0.00      0.00         1\\n       74491       0.00      0.00      0.00         1\\n       74512       0.00      0.00      0.00         1\\n       74517       0.00      0.00      0.00         1\\n       74570       0.00      0.00      0.00         1\\n       74575       0.00      0.00      0.00         1\\n       74605       0.00      0.00      0.00         1\\n       74609       0.33      1.00      0.50         1\\n       74637       0.00      0.00      0.00         1\\n       74668       0.00      0.00      0.00         1\\n       74730       1.00      1.00      1.00         1\\n       74743       0.00      0.00      0.00         1\\n       74748       0.00      0.00      0.00         1\\n       74750       0.00      0.00      0.00         1\\n       74759       1.00      1.00      1.00         1\\n       74812       0.00      0.00      0.00         1\\n       74831       0.00      0.00      0.00         1\\n       74834       1.00      1.00      1.00         1\\n       74930       0.00      0.00      0.00         1\\n       74963       0.00      0.00      0.00         1\\n       74971       0.00      0.00      0.00         1\\n       74972       0.00      0.00      0.00         1\\n       74995       0.33      1.00      0.50         1\\n       75011       0.00      0.00      0.00         1\\n       75026       0.00      0.00      0.00         1\\n       75060       0.00      0.00      0.00         1\\n       75066       0.00      0.00      0.00         1\\n       75096       0.00      0.00      0.00         1\\n       75129       1.00      1.00      1.00         1\\n       75158       0.00      0.00      0.00         1\\n       75225       0.00      0.00      0.00         1\\n       75226       0.00      0.00      0.00         1\\n       75228       0.00      0.00      0.00         1\\n       75257       0.00      0.00      0.00         1\\n       75265       1.00      1.00      1.00         1\\n       75294       1.00      1.00      1.00         1\\n       75333       0.00      0.00      0.00         1\\n       75370       0.00      0.00      0.00         1\\n       75397       1.00      1.00      1.00         1\\n       75399       1.00      1.00      1.00         1\\n       75401       0.00      0.00      0.00         1\\n       75403       0.00      0.00      0.00         1\\n       75477       0.00      0.00      0.00         1\\n       75496       0.00      0.00      0.00         1\\n       75564       0.00      0.00      0.00         1\\n       75582       0.00      0.00      0.00         1\\n       75583       0.00      0.00      0.00         1\\n       75618       0.00      0.00      0.00         1\\n       75619       0.50      1.00      0.67         1\\n       75633       0.00      0.00      0.00         1\\n       75657       0.00      0.00      0.00         1\\n       75687       0.50      1.00      0.67         1\\n       75691       0.00      0.00      0.00         1\\n       75739       0.25      1.00      0.40         1\\n       75753       0.00      0.00      0.00         1\\n       75781       1.00      1.00      1.00         1\\n       75787       0.00      0.00      0.00         1\\n       75822       0.00      0.00      0.00         1\\n       75825       1.00      1.00      1.00         1\\n       75849       0.00      0.00      0.00         1\\n       75869       0.50      1.00      0.67         1\\n       75879       0.00      0.00      0.00         1\\n       75890       0.00      0.00      0.00         1\\n       75909       0.00      0.00      0.00         1\\n       75913       0.25      1.00      0.40         1\\n       75914       1.00      1.00      1.00         1\\n       75918       0.00      0.00      0.00         1\\n       75937       0.00      0.00      0.00         1\\n       75941       1.00      1.00      1.00         1\\n       75967       0.00      0.00      0.00         1\\n       75994       0.00      0.00      0.00         1\\n       76023       0.00      0.00      0.00         1\\n       76044       0.00      0.00      0.00         1\\n       76092       0.00      0.00      0.00         1\\n       76101       0.00      0.00      0.00         1\\n       76133       1.00      1.00      1.00         1\\n       76146       0.00      0.00      0.00         1\\n       76148       0.00      0.00      0.00         1\\n       76149       0.00      0.00      0.00         1\\n       76173       1.00      1.00      1.00         1\\n       76186       0.00      0.00      0.00         1\\n       76203       0.50      1.00      0.67         1\\n       76225       1.00      1.00      1.00         1\\n       76265       1.00      1.00      1.00         1\\n       76273       0.50      1.00      0.67         1\\n       76277       0.00      0.00      0.00         1\\n       76341       0.00      0.00      0.00         1\\n       76402       0.00      0.00      0.00         1\\n       76451       0.50      1.00      0.67         1\\n       76468       0.00      0.00      0.00         1\\n       76480       1.00      1.00      1.00         1\\n       76484       0.00      0.00      0.00         1\\n       76498       0.00      0.00      0.00         1\\n       76524       0.00      0.00      0.00         1\\n       76618       0.00      0.00      0.00         1\\n       76622       1.00      1.00      1.00         1\\n       76626       0.00      0.00      0.00         1\\n       76633       0.00      0.00      0.00         1\\n       76679       0.00      0.00      0.00         1\\n       76721       0.33      1.00      0.50         1\\n       76742       0.00      0.00      0.00         1\\n       76758       0.00      0.00      0.00         1\\n       76812       0.00      0.00      0.00         1\\n       76832       1.00      1.00      1.00         1\\n       76835       1.00      1.00      1.00         1\\n       76839       0.00      0.00      0.00         1\\n       76869       0.00      0.00      0.00         1\\n       76965       1.00      1.00      1.00         1\\n       77011       0.00      0.00      0.00         1\\n       77035       0.00      0.00      0.00         1\\n       77057       0.00      0.00      0.00         1\\n       77081       0.00      0.00      0.00         1\\n       77119       1.00      1.00      1.00         1\\n       77136       0.00      0.00      0.00         1\\n       77172       0.00      0.00      0.00         1\\n       77194       1.00      1.00      1.00         1\\n       77278       0.00      0.00      0.00         1\\n       77288       0.00      0.00      0.00         1\\n       77293       0.00      0.00      0.00         1\\n       77324       0.00      0.00      0.00         1\\n       77354       1.00      1.00      1.00         1\\n       77387       0.00      0.00      0.00         1\\n       77404       0.00      0.00      0.00         1\\n       77421       1.00      1.00      1.00         1\\n       77468       0.00      0.00      0.00         1\\n       77485       1.00      1.00      1.00         1\\n       77487       0.00      0.00      0.00         1\\n       77513       0.00      0.00      0.00         1\\n       77526       0.00      0.00      0.00         1\\n       77533       0.00      0.00      0.00         1\\n       77534       1.00      1.00      1.00         1\\n       77555       0.00      0.00      0.00         1\\n       77579       0.00      0.00      0.00         1\\n       77586       1.00      1.00      1.00         1\\n       77640       1.00      1.00      1.00         1\\n       77672       0.00      0.00      0.00         1\\n       77677       0.00      0.00      0.00         1\\n       77738       0.00      0.00      0.00         1\\n       77761       0.50      1.00      0.67         1\\n       77842       0.00      0.00      0.00         1\\n       77856       0.00      0.00      0.00         1\\n       77911       0.00      0.00      0.00         1\\n       77945       0.00      0.00      0.00         1\\n       77970       0.00      0.00      0.00         1\\n       77988       0.00      0.00      0.00         1\\n       77990       0.00      0.00      0.00         1\\n       77999       0.00      0.00      0.00         1\\n       78012       0.00      0.00      0.00         1\\n       78035       0.00      0.00      0.00         1\\n       78037       0.00      0.00      0.00         1\\n       78062       0.00      0.00      0.00         1\\n       78090       0.00      0.00      0.00         1\\n       78106       0.00      0.00      0.00         1\\n       78131       0.00      0.00      0.00         1\\n       78136       0.33      1.00      0.50         1\\n       78182       0.00      0.00      0.00         1\\n       78247       0.00      0.00      0.00         1\\n       78248       0.00      0.00      0.00         1\\n       78252       0.00      0.00      0.00         1\\n       78260       0.00      0.00      0.00         1\\n       78265       0.50      1.00      0.67         1\\n       78283       0.00      0.00      0.00         1\\n       78285       0.00      0.00      0.00         1\\n       78301       0.00      0.00      0.00         1\\n       78324       0.00      0.00      0.00         1\\n       78326       1.00      1.00      1.00         1\\n       78339       1.00      1.00      1.00         1\\n       78415       1.00      1.00      1.00         1\\n       78418       0.00      0.00      0.00         1\\n       78449       0.00      0.00      0.00         1\\n       78454       0.00      0.00      0.00         1\\n       78477       0.00      0.00      0.00         1\\n       78479       1.00      1.00      1.00         1\\n       78508       0.00      0.00      0.00         1\\n       78511       1.00      1.00      1.00         1\\n       78547       1.00      1.00      1.00         1\\n       78567       0.00      0.00      0.00         1\\n       78578       1.00      1.00      1.00         1\\n       78593       0.00      0.00      0.00         1\\n       78629       0.00      0.00      0.00         1\\n       78704       0.25      1.00      0.40         1\\n       78711       0.00      0.00      0.00         1\\n       78724       0.00      0.00      0.00         1\\n       78725       0.00      0.00      0.00         1\\n       78731       0.00      0.00      0.00         1\\n       78737       1.00      1.00      1.00         1\\n       78777       0.00      0.00      0.00         1\\n       78818       0.00      0.00      0.00         1\\n       78940       0.00      0.00      0.00         1\\n       78955       0.00      0.00      0.00         1\\n       78967       1.00      1.00      1.00         1\\n       78993       0.00      0.00      0.00         1\\n       79011       0.00      0.00      0.00         1\\n       79017       1.00      1.00      1.00         1\\n       79071       1.00      1.00      1.00         1\\n       79093       0.00      0.00      0.00         1\\n       79105       0.00      0.00      0.00         1\\n       79136       0.00      0.00      0.00         1\\n       79168       0.00      0.00      0.00         1\\n       79197       0.50      1.00      0.67         1\\n       79310       0.00      0.00      0.00         1\\n       79343       0.00      0.00      0.00         1\\n       79421       1.00      1.00      1.00         1\\n       79430       0.00      0.00      0.00         1\\n       79431       0.00      0.00      0.00         1\\n       79440       0.50      1.00      0.67         1\\n       79540       0.00      0.00      0.00         1\\n       79546       0.00      0.00      0.00         1\\n       79586       0.00      0.00      0.00         1\\n       79600       0.33      1.00      0.50         1\\n       79651       1.00      1.00      1.00         1\\n       79720       0.00      0.00      0.00         1\\n       79785       1.00      1.00      1.00         1\\n       79844       1.00      1.00      1.00         1\\n       79916       0.00      0.00      0.00         1\\n       79940       1.00      1.00      1.00         1\\n       79942       0.00      0.00      0.00         1\\n       79943       0.00      0.00      0.00         1\\n       79977       0.50      1.00      0.67         1\\n       79994       0.00      0.00      0.00         1\\n       80017       0.00      0.00      0.00         1\\n       80024       0.00      0.00      0.00         1\\n       80046       0.00      0.00      0.00         1\\n       80078       0.20      1.00      0.33         1\\n       80083       1.00      1.00      1.00         1\\n       80092       0.00      0.00      0.00         1\\n       80137       0.00      0.00      0.00         1\\n       80168       1.00      1.00      1.00         1\\n       80184       0.00      0.00      0.00         1\\n       80200       1.00      1.00      1.00         1\\n       80212       0.00      0.00      0.00         1\\n       80215       0.00      0.00      0.00         1\\n       80241       1.00      1.00      1.00         1\\n       80257       0.00      0.00      0.00         1\\n       80262       1.00      1.00      1.00         1\\n       80313       1.00      1.00      1.00         1\\n       80336       0.00      0.00      0.00         1\\n       80387       0.00      0.00      0.00         1\\n       80456       1.00      1.00      1.00         1\\n       80471       0.00      0.00      0.00         1\\n       80520       0.00      0.00      0.00         1\\n       80561       0.00      0.00      0.00         1\\n       80598       0.00      0.00      0.00         1\\n       80607       0.00      0.00      0.00         1\\n       80617       0.00      0.00      0.00         1\\n       80620       0.00      0.00      0.00         1\\n       80623       0.00      0.00      0.00         1\\n       80694       0.00      0.00      0.00         1\\n       80717       0.00      0.00      0.00         1\\n       80722       1.00      1.00      1.00         1\\n       80742       0.50      1.00      0.67         1\\n       80776       0.00      0.00      0.00         1\\n       80781       0.00      0.00      0.00         1\\n       80787       0.00      0.00      0.00         1\\n       80795       1.00      1.00      1.00         1\\n       80838       0.00      0.00      0.00         1\\n       80866       1.00      1.00      1.00         1\\n       80876       0.00      0.00      0.00         1\\n       80891       0.00      0.00      0.00         1\\n       80920       1.00      1.00      1.00         1\\n       80932       0.00      0.00      0.00         1\\n       80939       0.00      0.00      0.00         1\\n       80948       0.00      0.00      0.00         1\\n       80978       0.00      0.00      0.00         1\\n       81052       0.00      0.00      0.00         1\\n       81082       0.00      0.00      0.00         1\\n       81106       1.00      1.00      1.00         1\\n       81151       0.00      0.00      0.00         1\\n       81159       0.00      0.00      0.00         1\\n       81160       0.00      0.00      0.00         1\\n       81165       0.00      0.00      0.00         1\\n       81197       0.00      0.00      0.00         1\\n       81208       0.00      0.00      0.00         1\\n       81243       0.00      0.00      0.00         1\\n       81276       0.00      0.00      0.00         1\\n       81284       0.00      0.00      0.00         1\\n       81339       1.00      1.00      1.00         1\\n       81342       0.00      0.00      0.00         1\\n       81388       0.50      1.00      0.67         1\\n       81405       1.00      1.00      1.00         1\\n       81418       0.00      0.00      0.00         1\\n       81432       0.00      0.00      0.00         1\\n       81441       0.00      0.00      0.00         1\\n       81458       0.00      0.00      0.00         1\\n       81483       1.00      1.00      1.00         1\\n       81516       0.00      0.00      0.00         1\\n       81563       1.00      1.00      1.00         1\\n       81595       0.00      0.00      0.00         1\\n       81598       0.00      0.00      0.00         1\\n       81621       1.00      1.00      1.00         1\\n       81642       0.20      1.00      0.33         1\\n       81740       1.00      1.00      1.00         1\\n       81805       0.00      0.00      0.00         1\\n       81814       1.00      1.00      1.00         1\\n       81816       0.00      0.00      0.00         1\\n       81824       0.00      0.00      0.00         1\\n       81848       0.00      0.00      0.00         1\\n       81869       0.00      0.00      0.00         1\\n       81884       0.00      0.00      0.00         1\\n       81892       0.50      1.00      0.67         1\\n       81915       0.00      0.00      0.00         1\\n       81936       1.00      1.00      1.00         1\\n       81951       0.00      0.00      0.00         1\\n       81962       0.00      0.00      0.00         1\\n       81994       0.00      0.00      0.00         1\\n       81998       0.17      1.00      0.29         1\\n       82037       0.00      0.00      0.00         1\\n       82061       0.00      0.00      0.00         1\\n       82097       0.00      0.00      0.00         1\\n       82100       0.00      0.00      0.00         1\\n       82101       0.00      0.00      0.00         1\\n       82126       1.00      1.00      1.00         1\\n       82199       0.00      0.00      0.00         1\\n       82216       0.00      0.00      0.00         1\\n       82243       1.00      1.00      1.00         1\\n       82247       0.00      0.00      0.00         1\\n       82260       1.00      1.00      1.00         1\\n       82291       0.00      0.00      0.00         1\\n       82327       0.00      0.00      0.00         1\\n       82330       0.50      1.00      0.67         1\\n       82336       0.00      0.00      0.00         1\\n       82386       0.00      0.00      0.00         1\\n       82419       0.00      0.00      0.00         1\\n       82430       0.00      0.00      0.00         1\\n       82481       0.00      0.00      0.00         1\\n       82522       1.00      1.00      1.00         1\\n       82557       0.00      0.00      0.00         1\\n       82572       1.00      1.00      1.00         1\\n       82597       0.00      0.00      0.00         1\\n       82610       0.00      0.00      0.00         1\\n       82644       0.00      0.00      0.00         1\\n       82739       0.00      0.00      0.00         1\\n       82743       0.00      0.00      0.00         1\\n       82750       0.00      0.00      0.00         1\\n       82787       0.00      0.00      0.00         1\\n       82803       0.00      0.00      0.00         1\\n       82846       0.00      0.00      0.00         1\\n       82851       0.50      1.00      0.67         1\\n       82852       0.00      0.00      0.00         1\\n       82856       0.00      0.00      0.00         1\\n       82888       0.00      0.00      0.00         1\\n       82890       1.00      1.00      1.00         1\\n       82893       1.00      1.00      1.00         1\\n       82903       0.00      0.00      0.00         1\\n       82908       0.00      0.00      0.00         1\\n       82973       0.00      0.00      0.00         1\\n       82980       0.00      0.00      0.00         1\\n       83048       0.00      0.00      0.00         1\\n       83068       1.00      1.00      1.00         1\\n       83092       0.00      0.00      0.00         1\\n       83105       0.00      0.00      0.00         1\\n       83148       0.00      0.00      0.00         1\\n       83181       0.50      1.00      0.67         1\\n       83243       0.00      0.00      0.00         1\\n       83258       0.00      0.00      0.00         1\\n       83260       0.00      0.00      0.00         1\\n       83287       1.00      1.00      1.00         1\\n       83300       1.00      1.00      1.00         1\\n       83328       0.00      0.00      0.00         1\\n       83336       0.00      0.00      0.00         1\\n       83341       0.00      0.00      0.00         1\\n       83350       0.00      0.00      0.00         1\\n       83358       0.00      0.00      0.00         1\\n       83383       0.50      1.00      0.67         1\\n       83389       1.00      1.00      1.00         1\\n       83422       1.00      1.00      1.00         1\\n       83445       0.50      1.00      0.67         1\\n       83457       0.00      0.00      0.00         1\\n       83466       0.00      0.00      0.00         1\\n       83495       0.00      0.00      0.00         1\\n       83548       0.00      0.00      0.00         1\\n       83581       0.00      0.00      0.00         1\\n       83587       0.00      0.00      0.00         1\\n       83595       0.00      0.00      0.00         1\\n       83617       0.00      0.00      0.00         1\\n       83620       0.00      0.00      0.00         1\\n       83653       0.00      0.00      0.00         1\\n       83687       0.00      0.00      0.00         1\\n       83693       1.00      1.00      1.00         1\\n       83697       1.00      1.00      1.00         1\\n       83737       1.00      1.00      1.00         1\\n       83741       1.00      1.00      1.00         1\\n       83750       0.00      0.00      0.00         1\\n       83762       1.00      1.00      1.00         1\\n       83806       0.00      0.00      0.00         1\\n       83874       1.00      1.00      1.00         1\\n       83903       0.00      0.00      0.00         1\\n       83907       0.00      0.00      0.00         1\\n       83911       0.00      0.00      0.00         1\\n       83913       0.00      0.00      0.00         1\\n       83915       0.00      0.00      0.00         1\\n       83925       0.00      0.00      0.00         1\\n       83936       0.00      0.00      0.00         1\\n       83948       1.00      1.00      1.00         1\\n       83958       1.00      1.00      1.00         1\\n       84026       0.00      0.00      0.00         1\\n       84208       0.00      0.00      0.00         1\\n       84227       1.00      1.00      1.00         1\\n       84234       0.50      1.00      0.67         1\\n       84267       1.00      1.00      1.00         1\\n       84321       1.00      1.00      1.00         1\\n       84350       0.00      0.00      0.00         1\\n       84360       0.00      0.00      0.00         1\\n       84378       1.00      1.00      1.00         1\\n       84386       0.00      0.00      0.00         1\\n       84403       0.00      0.00      0.00         1\\n       84493       0.00      0.00      0.00         1\\n       84507       0.00      0.00      0.00         1\\n       84541       0.00      0.00      0.00         1\\n       84545       0.50      1.00      0.67         1\\n       84600       0.00      0.00      0.00         1\\n       84605       0.00      0.00      0.00         1\\n       84653       0.00      0.00      0.00         1\\n       84671       0.00      0.00      0.00         1\\n       84686       1.00      1.00      1.00         1\\n       84694       0.00      0.00      0.00         1\\n       84704       1.00      1.00      1.00         1\\n       84706       0.50      1.00      0.67         1\\n       84730       0.00      0.00      0.00         1\\n       84764       1.00      1.00      1.00         1\\n       84780       1.00      1.00      1.00         1\\n       84790       0.00      0.00      0.00         1\\n       84813       0.00      0.00      0.00         1\\n       84818       1.00      1.00      1.00         1\\n       84843       1.00      1.00      1.00         1\\n       84871       0.00      0.00      0.00         1\\n       84885       0.00      0.00      0.00         1\\n       84912       0.00      0.00      0.00         1\\n       84925       1.00      1.00      1.00         1\\n       84946       1.00      1.00      1.00         1\\n       84953       0.00      0.00      0.00         1\\n       85015       1.00      1.00      1.00         1\\n       85021       0.00      0.00      0.00         1\\n       85075       0.00      0.00      0.00         1\\n       85140       0.00      0.00      0.00         1\\n       85146       0.00      0.00      0.00         1\\n       85234       0.00      0.00      0.00         1\\n       85255       0.00      0.00      0.00         1\\n       85264       0.00      0.00      0.00         1\\n       85276       0.00      0.00      0.00         1\\n       85287       0.00      0.00      0.00         1\\n       85301       1.00      1.00      1.00         1\\n       85305       0.00      0.00      0.00         1\\n       85316       0.00      0.00      0.00         1\\n       85324       1.00      1.00      1.00         1\\n       85353       1.00      1.00      1.00         1\\n       85400       0.00      0.00      0.00         1\\n       85432       1.00      1.00      1.00         1\\n       85436       1.00      1.00      1.00         1\\n       85465       0.00      0.00      0.00         1\\n       85466       0.00      0.00      0.00         1\\n       85511       0.00      0.00      0.00         1\\n       85523       0.00      0.00      0.00         1\\n       85531       0.00      0.00      0.00         1\\n       85548       0.00      0.00      0.00         1\\n       85562       0.00      0.00      0.00         1\\n       85569       0.00      0.00      0.00         1\\n       85658       1.00      1.00      1.00         1\\n       85686       0.00      0.00      0.00         1\\n       85730       0.00      0.00      0.00         1\\n       85793       1.00      1.00      1.00         1\\n       85843       0.00      0.00      0.00         1\\n       85844       1.00      1.00      1.00         1\\n       85846       0.00      0.00      0.00         1\\n       85853       1.00      1.00      1.00         1\\n       85863       0.00      0.00      0.00         1\\n       85864       0.00      0.00      0.00         1\\n       85870       0.00      0.00      0.00         1\\n       85904       1.00      1.00      1.00         1\\n       85946       0.00      0.00      0.00         1\\n       85985       0.00      0.00      0.00         1\\n       85986       0.00      0.00      0.00         1\\n       86001       0.00      0.00      0.00         1\\n       86012       1.00      1.00      1.00         1\\n       86013       0.00      0.00      0.00         1\\n       86034       0.00      0.00      0.00         1\\n       86085       0.00      0.00      0.00         1\\n       86154       0.33      1.00      0.50         1\\n       86188       0.00      0.00      0.00         1\\n       86205       1.00      1.00      1.00         1\\n       86206       1.00      1.00      1.00         1\\n       86214       0.00      0.00      0.00         1\\n       86225       1.00      1.00      1.00         1\\n       86241       1.00      1.00      1.00         1\\n       86253       0.00      0.00      0.00         1\\n       86297       0.00      0.00      0.00         1\\n       86316       0.00      0.00      0.00         1\\n       86356       0.00      0.00      0.00         1\\n       86385       0.00      0.00      0.00         1\\n       86388       1.00      1.00      1.00         1\\n       86411       0.33      1.00      0.50         1\\n       86419       0.00      0.00      0.00         1\\n       86441       0.00      0.00      0.00         1\\n       86476       1.00      1.00      1.00         1\\n       86491       0.00      0.00      0.00         1\\n       86497       0.00      0.00      0.00         1\\n       86551       0.00      0.00      0.00         1\\n       86552       0.00      0.00      0.00         1\\n       86633       0.00      0.00      0.00         1\\n       86652       0.00      0.00      0.00         1\\n       86759       0.00      0.00      0.00         1\\n       86769       0.50      1.00      0.67         1\\n       86807       0.00      0.00      0.00         1\\n       86879       0.00      0.00      0.00         1\\n       86886       0.00      0.00      0.00         1\\n       86897       0.00      0.00      0.00         1\\n       86951       0.33      1.00      0.50         1\\n       86999       0.00      0.00      0.00         1\\n       87011       0.50      1.00      0.67         1\\n       87072       0.00      0.00      0.00         1\\n       87074       0.00      0.00      0.00         1\\n       87080       0.00      0.00      0.00         1\\n       87157       0.00      0.00      0.00         1\\n       87164       0.00      0.00      0.00         1\\n       87168       0.00      0.00      0.00         1\\n       87175       0.00      0.00      0.00         1\\n       87182       0.00      0.00      0.00         1\\n       87212       0.00      0.00      0.00         1\\n       87227       0.00      0.00      0.00         1\\n       87237       0.00      0.00      0.00         1\\n       87246       0.00      0.00      0.00         1\\n       87266       0.00      0.00      0.00         1\\n       87291       0.00      0.00      0.00         1\\n       87299       1.00      1.00      1.00         1\\n       87311       0.00      0.00      0.00         1\\n       87342       1.00      1.00      1.00         1\\n       87346       1.00      1.00      1.00         1\\n       87380       0.00      0.00      0.00         1\\n       87397       0.00      0.00      0.00         1\\n       87410       0.00      0.00      0.00         1\\n       87444       0.17      1.00      0.29         1\\n       87519       0.00      0.00      0.00         1\\n       87580       0.00      0.00      0.00         1\\n       87586       0.00      0.00      0.00         1\\n       87637       1.00      1.00      1.00         1\\n       87663       0.00      0.00      0.00         1\\n       87672       0.00      0.00      0.00         1\\n       87684       0.00      0.00      0.00         1\\n       87685       0.00      0.00      0.00         1\\n       87693       1.00      1.00      1.00         1\\n       87694       0.50      1.00      0.67         1\\n       87698       0.00      0.00      0.00         1\\n       87738       0.50      1.00      0.67         1\\n       87745       0.00      0.00      0.00         1\\n       87755       0.00      0.00      0.00         1\\n       87801       0.00      0.00      0.00         1\\n       87803       0.00      0.00      0.00         1\\n       87856       1.00      1.00      1.00         1\\n       87923       0.00      0.00      0.00         1\\n       87931       1.00      1.00      1.00         1\\n       87952       0.00      0.00      0.00         1\\n       87953       1.00      1.00      1.00         1\\n       87990       0.00      0.00      0.00         1\\n       88027       1.00      1.00      1.00         1\\n       88040       0.00      0.00      0.00         1\\n       88043       0.33      1.00      0.50         1\\n       88089       0.00      0.00      0.00         1\\n       88109       0.00      0.00      0.00         1\\n       88140       0.00      0.00      0.00         1\\n       88148       0.00      0.00      0.00         1\\n       88168       0.00      0.00      0.00         1\\n       88197       0.00      0.00      0.00         1\\n       88200       0.00      0.00      0.00         1\\n       88248       0.00      0.00      0.00         1\\n       88260       1.00      1.00      1.00         1\\n       88299       0.00      0.00      0.00         1\\n       88381       0.00      0.00      0.00         1\\n       88383       0.00      0.00      0.00         1\\n       88453       0.25      1.00      0.40         1\\n       88464       0.50      1.00      0.67         1\\n       88502       0.00      0.00      0.00         1\\n       88509       0.00      0.00      0.00         1\\n       88524       0.00      0.00      0.00         1\\n       88527       0.00      0.00      0.00         1\\n       88552       1.00      1.00      1.00         1\\n       88592       0.00      0.00      0.00         1\\n       88626       0.00      0.00      0.00         1\\n       88627       0.00      0.00      0.00         1\\n       88646       1.00      1.00      1.00         1\\n       88688       0.00      0.00      0.00         1\\n       88770       0.00      0.00      0.00         1\\n       88792       0.00      0.00      0.00         1\\n       88798       0.00      0.00      0.00         1\\n       88807       1.00      1.00      1.00         1\\n       88865       0.00      0.00      0.00         1\\n       88871       0.00      0.00      0.00         1\\n       88920       0.00      0.00      0.00         1\\n       88931       1.00      1.00      1.00         1\\n       88938       0.00      0.00      0.00         1\\n       88946       1.00      1.00      1.00         1\\n       88981       0.00      0.00      0.00         1\\n       89001       0.00      0.00      0.00         1\\n       89066       0.00      0.00      0.00         1\\n       89094       0.00      0.00      0.00         1\\n       89119       0.00      0.00      0.00         1\\n       89149       0.00      0.00      0.00         1\\n       89186       0.00      0.00      0.00         1\\n       89204       0.50      1.00      0.67         1\\n       89215       0.00      0.00      0.00         1\\n       89253       0.00      0.00      0.00         1\\n       89284       0.50      1.00      0.67         1\\n       89296       0.00      0.00      0.00         1\\n       89307       0.00      0.00      0.00         1\\n       89343       0.00      0.00      0.00         1\\n       89354       0.00      0.00      0.00         1\\n       89397       0.00      0.00      0.00         1\\n       89422       0.00      0.00      0.00         1\\n       89430       0.00      0.00      0.00         1\\n       89449       0.00      0.00      0.00         1\\n       89465       0.00      0.00      0.00         1\\n       89470       0.00      0.00      0.00         1\\n       89493       0.00      0.00      0.00         1\\n       89496       0.00      0.00      0.00         1\\n       89528       0.00      0.00      0.00         1\\n       89565       0.00      0.00      0.00         1\\n       89582       0.00      0.00      0.00         1\\n       89584       0.00      0.00      0.00         1\\n       89590       0.00      0.00      0.00         1\\n       89598       0.00      0.00      0.00         1\\n       89610       1.00      1.00      1.00         1\\n       89616       0.00      0.00      0.00         1\\n       89668       0.00      0.00      0.00         1\\n       89723       0.50      1.00      0.67         1\\n       89727       0.00      0.00      0.00         1\\n       89742       0.00      0.00      0.00         1\\n       89767       0.00      0.00      0.00         1\\n       89811       0.00      0.00      0.00         1\\n       89814       0.00      0.00      0.00         1\\n       89853       0.00      0.00      0.00         1\\n       89858       0.00      0.00      0.00         1\\n       89876       0.00      0.00      0.00         1\\n       89882       0.00      0.00      0.00         1\\n       89897       1.00      1.00      1.00         1\\n       89923       0.00      0.00      0.00         1\\n       89928       0.00      0.00      0.00         1\\n       89937       0.20      1.00      0.33         1\\n       90002       0.00      0.00      0.00         1\\n       90004       0.00      0.00      0.00         1\\n       90018       0.00      0.00      0.00         1\\n       90022       0.00      0.00      0.00         1\\n       90036       0.00      0.00      0.00         1\\n       90083       1.00      1.00      1.00         1\\n       90150       1.00      1.00      1.00         1\\n       90151       0.00      0.00      0.00         1\\n       90163       0.00      0.00      0.00         1\\n       90183       0.00      0.00      0.00         1\\n       90273       0.00      0.00      0.00         1\\n       90277       1.00      1.00      1.00         1\\n       90352       0.00      0.00      0.00         1\\n       90402       0.00      0.00      0.00         1\\n       90427       0.00      0.00      0.00         1\\n       90534       0.00      0.00      0.00         1\\n       90561       0.00      0.00      0.00         1\\n       90648       0.00      0.00      0.00         1\\n       90649       1.00      1.00      1.00         1\\n       90651       0.00      0.00      0.00         1\\n       90685       0.00      0.00      0.00         1\\n       90687       1.00      1.00      1.00         1\\n       90688       0.00      0.00      0.00         1\\n       90703       0.00      0.00      0.00         1\\n       90716       0.00      0.00      0.00         1\\n       90717       1.00      1.00      1.00         1\\n       90720       0.00      0.00      0.00         1\\n       90723       1.00      1.00      1.00         1\\n       90823       0.00      0.00      0.00         1\\n       90837       1.00      1.00      1.00         1\\n       90858       0.00      0.00      0.00         1\\n       90891       0.00      0.00      0.00         1\\n       90894       0.00      0.00      0.00         1\\n       90923       1.00      1.00      1.00         1\\n       90991       0.00      0.00      0.00         1\\n       91010       0.00      0.00      0.00         1\\n       91016       1.00      1.00      1.00         1\\n       91020       0.50      1.00      0.67         1\\n       91047       0.00      0.00      0.00         1\\n       91055       1.00      1.00      1.00         1\\n       91104       1.00      1.00      1.00         1\\n       91133       0.00      0.00      0.00         1\\n       91157       0.00      0.00      0.00         1\\n       91188       0.00      0.00      0.00         1\\n       91317       0.00      0.00      0.00         1\\n       91329       0.00      0.00      0.00         1\\n       91358       0.00      0.00      0.00         1\\n       91362       0.00      0.00      0.00         1\\n       91372       0.00      0.00      0.00         1\\n       91395       0.00      0.00      0.00         1\\n       91401       0.00      0.00      0.00         1\\n       91458       0.00      0.00      0.00         1\\n       91500       1.00      1.00      1.00         1\\n       91532       0.00      0.00      0.00         1\\n       91538       0.00      0.00      0.00         1\\n       91583       1.00      1.00      1.00         1\\n       91694       0.50      1.00      0.67         1\\n       91706       1.00      1.00      1.00         1\\n       91742       1.00      1.00      1.00         1\\n       91758       0.50      1.00      0.67         1\\n       91761       1.00      1.00      1.00         1\\n       91800       0.50      1.00      0.67         1\\n       91837       0.00      0.00      0.00         1\\n       91845       1.00      1.00      1.00         1\\n       91858       0.33      1.00      0.50         1\\n       91862       0.00      0.00      0.00         1\\n       91898       0.00      0.00      0.00         1\\n       91905       0.00      0.00      0.00         1\\n       91937       0.00      0.00      0.00         1\\n       91939       0.00      0.00      0.00         1\\n       92016       0.00      0.00      0.00         1\\n       92035       0.00      0.00      0.00         1\\n       92069       0.00      0.00      0.00         1\\n       92087       0.17      1.00      0.29         1\\n       92097       0.00      0.00      0.00         1\\n       92121       0.00      0.00      0.00         1\\n       92141       0.33      1.00      0.50         1\\n       92171       1.00      1.00      1.00         1\\n       92189       0.00      0.00      0.00         1\\n       92193       0.25      1.00      0.40         1\\n       92223       0.00      0.00      0.00         1\\n       92242       0.00      0.00      0.00         1\\n       92302       0.00      0.00      0.00         1\\n       92314       0.00      0.00      0.00         1\\n       92319       0.00      0.00      0.00         1\\n       92326       0.00      0.00      0.00         1\\n       92377       0.00      0.00      0.00         1\\n       92404       0.00      0.00      0.00         1\\n       92442       0.00      0.00      0.00         1\\n       92445       0.00      0.00      0.00         1\\n       92468       0.00      0.00      0.00         1\\n       92484       0.00      0.00      0.00         1\\n       92489       1.00      1.00      1.00         1\\n       92509       1.00      1.00      1.00         1\\n       92516       1.00      1.00      1.00         1\\n       92548       0.00      0.00      0.00         1\\n       92603       0.00      0.00      0.00         1\\n       92630       0.00      0.00      0.00         1\\n       92633       0.00      0.00      0.00         1\\n       92666       0.00      0.00      0.00         1\\n       92675       0.00      0.00      0.00         1\\n       92702       0.00      0.00      0.00         1\\n       92737       0.00      0.00      0.00         1\\n       92753       1.00      1.00      1.00         1\\n       92788       0.00      0.00      0.00         1\\n       92802       0.00      0.00      0.00         1\\n       92839       0.00      0.00      0.00         1\\n       92865       0.00      0.00      0.00         1\\n       92869       0.00      0.00      0.00         1\\n       92877       0.00      0.00      0.00         1\\n       92884       1.00      1.00      1.00         1\\n       92897       0.00      0.00      0.00         1\\n       92898       0.00      0.00      0.00         1\\n       92943       0.00      0.00      0.00         1\\n       92988       0.00      0.00      0.00         1\\n       92995       0.00      0.00      0.00         1\\n       93008       1.00      1.00      1.00         1\\n       93079       0.00      0.00      0.00         1\\n       93132       0.00      0.00      0.00         1\\n       93136       0.00      0.00      0.00         1\\n       93172       0.00      0.00      0.00         1\\n       93191       0.00      0.00      0.00         1\\n       93299       0.00      0.00      0.00         1\\n       93311       1.00      1.00      1.00         1\\n       93316       0.00      0.00      0.00         1\\n       93400       0.00      0.00      0.00         1\\n       93421       1.00      1.00      1.00         1\\n       93440       0.00      0.00      0.00         1\\n       93460       1.00      1.00      1.00         1\\n       93464       0.00      0.00      0.00         1\\n       93514       0.50      1.00      0.67         1\\n       93516       1.00      1.00      1.00         1\\n       93538       0.00      0.00      0.00         1\\n       93541       0.00      0.00      0.00         1\\n       93545       0.00      0.00      0.00         1\\n       93552       0.00      0.00      0.00         1\\n       93563       0.00      0.00      0.00         1\\n       93564       0.00      0.00      0.00         1\\n       93566       0.00      0.00      0.00         1\\n       93618       0.00      0.00      0.00         1\\n       93688       1.00      1.00      1.00         1\\n       93690       0.00      0.00      0.00         1\\n       93691       0.00      0.00      0.00         1\\n       93694       0.00      0.00      0.00         1\\n       93707       0.00      0.00      0.00         1\\n       93736       1.00      1.00      1.00         1\\n       93743       0.00      0.00      0.00         1\\n       93759       0.00      0.00      0.00         1\\n       93802       0.00      0.00      0.00         1\\n       93807       0.00      0.00      0.00         1\\n       93831       0.00      0.00      0.00         1\\n       93833       0.00      0.00      0.00         1\\n       93838       0.33      1.00      0.50         1\\n       93855       0.00      0.00      0.00         1\\n       93856       0.00      0.00      0.00         1\\n       93880       0.00      0.00      0.00         1\\n       93897       0.00      0.00      0.00         1\\n       93933       0.00      0.00      0.00         1\\n       93969       1.00      1.00      1.00         1\\n       93974       0.00      0.00      0.00         1\\n       94013       0.00      0.00      0.00         1\\n       94034       1.00      1.00      1.00         1\\n       94063       0.00      0.00      0.00         1\\n       94079       0.00      0.00      0.00         1\\n       94095       0.00      0.00      0.00         1\\n       94097       0.00      0.00      0.00         1\\n       94113       0.00      0.00      0.00         1\\n       94206       1.00      1.00      1.00         1\\n       94232       1.00      1.00      1.00         1\\n       94310       0.00      0.00      0.00         1\\n       94314       0.00      0.00      0.00         1\\n       94395       0.00      0.00      0.00         1\\n       94400       0.00      0.00      0.00         1\\n       94530       1.00      1.00      1.00         1\\n       94534       0.00      0.00      0.00         1\\n       94684       0.00      0.00      0.00         1\\n       94692       0.00      0.00      0.00         1\\n       94700       0.00      0.00      0.00         1\\n       94733       0.00      0.00      0.00         1\\n       94761       0.00      0.00      0.00         1\\n       94764       0.00      0.00      0.00         1\\n       94772       0.00      0.00      0.00         1\\n       94773       0.33      1.00      0.50         1\\n       94774       0.00      0.00      0.00         1\\n       94777       0.00      0.00      0.00         1\\n       94780       0.00      0.00      0.00         1\\n       94781       0.00      0.00      0.00         1\\n       94794       0.00      0.00      0.00         1\\n       94830       0.00      0.00      0.00         1\\n       94843       0.00      0.00      0.00         1\\n       94887       0.00      0.00      0.00         1\\n       94903       1.00      1.00      1.00         1\\n       94995       0.00      0.00      0.00         1\\n       95063       0.00      0.00      0.00         1\\n       95069       0.00      0.00      0.00         1\\n       95070       0.00      0.00      0.00         1\\n       95087       0.00      0.00      0.00         1\\n       95110       0.00      0.00      0.00         1\\n       95139       0.00      0.00      0.00         1\\n       95214       1.00      1.00      1.00         1\\n       95239       0.00      0.00      0.00         1\\n       95256       1.00      1.00      1.00         1\\n       95280       0.00      0.00      0.00         1\\n       95282       0.25      1.00      0.40         1\\n       95285       0.00      0.00      0.00         1\\n       95313       0.00      0.00      0.00         1\\n       95344       0.00      0.00      0.00         1\\n       95397       0.00      0.00      0.00         1\\n       95413       0.00      0.00      0.00         1\\n       95419       1.00      1.00      1.00         1\\n       95469       1.00      1.00      1.00         1\\n       95500       0.00      0.00      0.00         1\\n       95567       0.00      0.00      0.00         1\\n       95587       0.00      0.00      0.00         1\\n       95589       0.00      0.00      0.00         1\\n       95642       1.00      1.00      1.00         1\\n       95663       0.00      0.00      0.00         1\\n       95712       0.00      0.00      0.00         1\\n       95724       0.00      0.00      0.00         1\\n       95768       0.00      0.00      0.00         1\\n       95774       1.00      1.00      1.00         1\\n       95803       0.00      0.00      0.00         1\\n       95849       0.00      0.00      0.00         1\\n       95854       0.00      0.00      0.00         1\\n       95876       0.00      0.00      0.00         1\\n       95887       0.00      0.00      0.00         1\\n       95900       0.00      0.00      0.00         1\\n       95983       0.00      0.00      0.00         1\\n       96033       1.00      1.00      1.00         1\\n       96077       0.00      0.00      0.00         1\\n       96093       0.00      0.00      0.00         1\\n       96101       0.00      0.00      0.00         1\\n       96157       1.00      1.00      1.00         1\\n       96193       0.50      1.00      0.67         1\\n       96205       1.00      1.00      1.00         1\\n       96235       1.00      1.00      1.00         1\\n       96261       0.00      0.00      0.00         1\\n       96268       0.00      0.00      0.00         1\\n       96277       0.00      0.00      0.00         1\\n       96305       0.00      0.00      0.00         1\\n       96313       0.00      0.00      0.00         1\\n       96399       1.00      1.00      1.00         1\\n       96458       0.00      0.00      0.00         1\\n       96488       1.00      1.00      1.00         1\\n       96491       0.00      0.00      0.00         1\\n       96542       0.25      1.00      0.40         1\\n       96548       0.00      0.00      0.00         1\\n       96575       0.00      0.00      0.00         1\\n       96653       0.00      0.00      0.00         1\\n       96708       0.00      0.00      0.00         1\\n       96729       0.00      0.00      0.00         1\\n       96731       0.00      0.00      0.00         1\\n       96736       0.00      0.00      0.00         1\\n       96799       0.00      0.00      0.00         1\\n       96802       0.00      0.00      0.00         1\\n       96807       0.00      0.00      0.00         1\\n       96854       0.00      0.00      0.00         1\\n       96866       0.00      0.00      0.00         1\\n       96888       1.00      1.00      1.00         1\\n       96894       0.00      0.00      0.00         1\\n       96919       0.00      0.00      0.00         1\\n       96938       0.00      0.00      0.00         1\\n       96957       0.00      0.00      0.00         1\\n       97007       0.00      0.00      0.00         1\\n       97013       1.00      1.00      1.00         1\\n       97038       1.00      1.00      1.00         1\\n       97053       1.00      1.00      1.00         1\\n       97059       0.00      0.00      0.00         1\\n       97084       0.00      0.00      0.00         1\\n       97092       0.00      0.00      0.00         1\\n       97124       0.00      0.00      0.00         1\\n       97135       0.00      0.00      0.00         1\\n       97182       0.00      0.00      0.00         1\\n       97209       0.00      0.00      0.00         1\\n       97215       0.00      0.00      0.00         1\\n       97221       0.00      0.00      0.00         1\\n       97297       0.00      0.00      0.00         1\\n       97300       0.00      0.00      0.00         1\\n       97355       0.00      0.00      0.00         1\\n       97356       0.00      0.00      0.00         1\\n       97377       0.33      1.00      0.50         1\\n       97391       1.00      1.00      1.00         1\\n       97435       1.00      1.00      1.00         1\\n       97462       1.00      1.00      1.00         1\\n       97506       0.00      0.00      0.00         1\\n       97519       1.00      1.00      1.00         1\\n       97522       0.50      1.00      0.67         1\\n       97580       0.00      0.00      0.00         1\\n       97606       1.00      1.00      1.00         1\\n       97623       0.00      0.00      0.00         1\\n       97634       0.00      0.00      0.00         1\\n       97649       0.00      0.00      0.00         1\\n       97737       0.50      1.00      0.67         1\\n       97806       1.00      1.00      1.00         1\\n       97829       0.00      0.00      0.00         1\\n       97843       0.50      1.00      0.67         1\\n       97867       0.00      0.00      0.00         1\\n       97886       0.00      0.00      0.00         1\\n       97938       0.00      0.00      0.00         1\\n       97954       1.00      1.00      1.00         1\\n       98003       0.00      0.00      0.00         1\\n       98043       1.00      1.00      1.00         1\\n       98052       0.00      0.00      0.00         1\\n       98092       1.00      1.00      1.00         1\\n       98093       0.20      1.00      0.33         1\\n       98116       0.00      0.00      0.00         1\\n       98117       0.00      0.00      0.00         1\\n       98125       1.00      1.00      1.00         1\\n       98196       0.00      0.00      0.00         1\\n       98269       0.00      0.00      0.00         1\\n       98281       0.00      0.00      0.00         1\\n       98300       0.50      1.00      0.67         1\\n       98319       0.00      0.00      0.00         1\\n       98389       0.00      0.00      0.00         1\\n       98442       1.00      1.00      1.00         1\\n       98470       0.00      0.00      0.00         1\\n       98474       1.00      1.00      1.00         1\\n       98494       0.00      0.00      0.00         1\\n       98560       0.00      0.00      0.00         1\\n       98566       1.00      1.00      1.00         1\\n       98568       0.00      0.00      0.00         1\\n       98610       0.00      0.00      0.00         1\\n       98623       1.00      1.00      1.00         1\\n       98628       0.00      0.00      0.00         1\\n       98697       0.00      0.00      0.00         1\\n       98716       0.00      0.00      0.00         1\\n       98726       0.00      0.00      0.00         1\\n       98735       0.00      0.00      0.00         1\\n       98744       0.00      0.00      0.00         1\\n       98768       0.00      0.00      0.00         1\\n       98817       0.00      0.00      0.00         1\\n       98824       1.00      1.00      1.00         1\\n       98867       0.00      0.00      0.00         1\\n       98976       0.00      0.00      0.00         1\\n       99019       0.00      0.00      0.00         1\\n       99064       0.00      0.00      0.00         1\\n       99082       0.00      0.00      0.00         1\\n       99124       0.00      0.00      0.00         1\\n       99146       0.00      0.00      0.00         1\\n       99170       0.00      0.00      0.00         1\\n       99173       0.00      0.00      0.00         1\\n       99178       0.00      0.00      0.00         1\\n       99189       0.00      0.00      0.00         1\\n       99233       0.00      0.00      0.00         1\\n       99235       0.00      0.00      0.00         1\\n       99288       0.00      0.00      0.00         1\\n       99306       0.00      0.00      0.00         1\\n       99307       0.00      0.00      0.00         1\\n       99325       0.00      0.00      0.00         1\\n       99330       0.00      0.00      0.00         1\\n       99365       0.00      0.00      0.00         1\\n       99398       0.00      0.00      0.00         1\\n       99406       1.00      1.00      1.00         1\\n       99422       0.00      0.00      0.00         1\\n       99436       0.00      0.00      0.00         1\\n       99482       0.00      0.00      0.00         1\\n       99497       0.00      0.00      0.00         1\\n       99518       0.00      0.00      0.00         1\\n       99530       0.00      0.00      0.00         1\\n       99543       1.00      1.00      1.00         1\\n       99578       0.00      0.00      0.00         1\\n       99617       0.00      0.00      0.00         1\\n       99619       0.00      0.00      0.00         1\\n       99642       0.00      0.00      0.00         1\\n       99765       0.50      1.00      0.67         1\\n       99799       0.00      0.00      0.00         1\\n       99857       0.00      0.00      0.00         1\\n       99864       0.00      0.00      0.00         1\\n       99866       1.00      1.00      1.00         1\\n       99867       0.33      1.00      0.50         1\\n       99876       0.00      0.00      0.00         1\\n       99886       1.00      1.00      1.00         1\\n       99894       0.00      0.00      0.00         1\\n       99973       0.00      0.00      0.00         1\\n      100005       1.00      1.00      1.00         1\\n      100067       0.00      0.00      0.00         1\\n      100091       0.00      0.00      0.00         1\\n      100096       1.00      1.00      1.00         1\\n      100115       0.00      0.00      0.00         1\\n      100131       1.00      1.00      1.00         1\\n      100161       0.00      0.00      0.00         1\\n      100169       0.00      0.00      0.00         1\\n      100191       0.00      0.00      0.00         1\\n      100217       0.00      0.00      0.00         1\\n      100226       0.50      1.00      0.67         1\\n      100257       0.00      0.00      0.00         1\\n      100290       0.00      0.00      0.00         1\\n      100372       0.00      0.00      0.00         1\\n      100383       0.00      0.00      0.00         1\\n      100434       0.00      0.00      0.00         1\\n      100450       0.00      0.00      0.00         1\\n      100457       1.00      1.00      1.00         1\\n      100465       0.00      0.00      0.00         1\\n      100490       1.00      1.00      1.00         1\\n      100516       0.00      0.00      0.00         1\\n      100540       0.00      0.00      0.00         1\\n      100548       1.00      1.00      1.00         1\\n      100594       0.00      0.00      0.00         1\\n      100603       0.00      0.00      0.00         1\\n      100642       0.00      0.00      0.00         1\\n      100644       0.00      0.00      0.00         1\\n      100657       1.00      1.00      1.00         1\\n      100669       0.00      0.00      0.00         1\\n      100757       0.00      0.00      0.00         1\\n      100792       0.00      0.00      0.00         1\\n      100821       0.00      0.00      0.00         1\\n      100852       1.00      1.00      1.00         1\\n      100900       0.00      0.00      0.00         1\\n      100916       1.00      1.00      1.00         1\\n      100972       0.00      0.00      0.00         1\\n      100991       0.00      0.00      0.00         1\\n      101060       1.00      1.00      1.00         1\\n      101076       0.00      0.00      0.00         1\\n      101099       1.00      1.00      1.00         1\\n      101166       0.00      0.00      0.00         1\\n      101188       0.00      0.00      0.00         1\\n      101225       0.00      0.00      0.00         1\\n      101268       0.00      0.00      0.00         1\\n      101339       0.00      0.00      0.00         1\\n      101356       0.00      0.00      0.00         1\\n      101392       0.00      0.00      0.00         1\\n      101406       0.00      0.00      0.00         1\\n      101417       0.00      0.00      0.00         1\\n      101420       0.00      0.00      0.00         1\\n      101434       0.00      0.00      0.00         1\\n      101511       0.00      0.00      0.00         1\\n      101525       0.00      0.00      0.00         1\\n      101573       0.00      0.00      0.00         1\\n      101614       0.00      0.00      0.00         1\\n      101655       0.00      0.00      0.00         1\\n      101661       0.00      0.00      0.00         1\\n      101668       0.00      0.00      0.00         1\\n      101690       0.00      0.00      0.00         1\\n      101733       1.00      1.00      1.00         1\\n      101760       0.00      0.00      0.00         1\\n      101828       0.00      0.00      0.00         1\\n      101833       0.50      1.00      0.67         1\\n      101834       1.00      1.00      1.00         1\\n      101882       0.00      0.00      0.00         1\\n      101890       0.00      0.00      0.00         1\\n      101946       0.00      0.00      0.00         1\\n      101961       0.50      1.00      0.67         1\\n      101973       0.00      0.00      0.00         1\\n      102000       0.00      0.00      0.00         1\\n      102002       0.00      0.00      0.00         1\\n      102012       0.00      0.00      0.00         1\\n      102031       0.00      0.00      0.00         1\\n      102054       0.00      0.00      0.00         1\\n      102055       0.00      0.00      0.00         1\\n      102058       1.00      1.00      1.00         1\\n      102088       1.00      1.00      1.00         1\\n      102142       0.00      0.00      0.00         1\\n      102201       0.00      0.00      0.00         1\\n      102250       0.00      0.00      0.00         1\\n      102260       1.00      1.00      1.00         1\\n      102272       0.00      0.00      0.00         1\\n      102309       0.00      0.00      0.00         1\\n      102326       0.00      0.00      0.00         1\\n      102331       0.00      0.00      0.00         1\\n      102357       0.00      0.00      0.00         1\\n      102396       1.00      1.00      1.00         1\\n      102407       0.00      0.00      0.00         1\\n      102417       0.00      0.00      0.00         1\\n      102421       0.00      0.00      0.00         1\\n      102505       1.00      1.00      1.00         1\\n      102533       0.00      0.00      0.00         1\\n      102541       1.00      1.00      1.00         1\\n      102549       1.00      1.00      1.00         1\\n      102571       1.00      1.00      1.00         1\\n      102649       0.00      0.00      0.00         1\\n      102670       1.00      1.00      1.00         1\\n      102701       0.00      0.00      0.00         1\\n      102709       0.00      0.00      0.00         1\\n      102747       0.00      0.00      0.00         1\\n      102798       1.00      1.00      1.00         1\\n      102815       0.00      0.00      0.00         1\\n      102835       0.00      0.00      0.00         1\\n      102853       0.33      1.00      0.50         1\\n      102876       0.00      0.00      0.00         1\\n      102877       0.00      0.00      0.00         1\\n      102907       0.00      0.00      0.00         1\\n      102970       1.00      1.00      1.00         1\\n      102973       0.00      0.00      0.00         1\\n      102990       1.00      1.00      1.00         1\\n      102992       0.00      0.00      0.00         1\\n      103020       0.00      0.00      0.00         1\\n      103075       0.00      0.00      0.00         1\\n      103079       0.00      0.00      0.00         1\\n      103119       0.00      0.00      0.00         1\\n      103147       0.00      0.00      0.00         1\\n      103157       0.00      0.00      0.00         1\\n      103165       0.00      0.00      0.00         1\\n      103269       0.00      0.00      0.00         1\\n      103291       0.00      0.00      0.00         1\\n      103327       0.00      0.00      0.00         1\\n      103340       1.00      1.00      1.00         1\\n      103342       0.00      0.00      0.00         1\\n      103347       0.00      0.00      0.00         1\\n      103415       0.00      0.00      0.00         1\\n      103426       0.00      0.00      0.00         1\\n      103454       0.00      0.00      0.00         1\\n      103458       0.00      0.00      0.00         1\\n      103500       0.00      0.00      0.00         1\\n      103524       0.50      1.00      0.67         1\\n      103527       1.00      1.00      1.00         1\\n      103553       0.00      0.00      0.00         1\\n      103561       0.00      0.00      0.00         1\\n      103622       0.00      0.00      0.00         1\\n      103636       0.00      0.00      0.00         1\\n      103651       1.00      1.00      1.00         1\\n      103661       0.00      0.00      0.00         1\\n      103669       1.00      1.00      1.00         1\\n      103748       0.00      0.00      0.00         1\\n      103775       0.00      0.00      0.00         1\\n      103781       1.00      1.00      1.00         1\\n      103829       1.00      1.00      1.00         1\\n      103862       0.00      0.00      0.00         1\\n      103898       0.00      0.00      0.00         1\\n      103980       0.00      0.00      0.00         1\\n      104020       1.00      1.00      1.00         1\\n      104042       1.00      1.00      1.00         1\\n      104047       0.00      0.00      0.00         1\\n      104078       0.00      0.00      0.00         1\\n      104095       1.00      1.00      1.00         1\\n      104123       0.00      0.00      0.00         1\\n      104130       0.00      0.00      0.00         1\\n      104133       0.00      0.00      0.00         1\\n      104168       0.00      0.00      0.00         1\\n      104173       1.00      1.00      1.00         1\\n      104178       0.00      0.00      0.00         1\\n      104201       0.00      0.00      0.00         1\\n      104259       0.25      1.00      0.40         1\\n      104323       0.00      0.00      0.00         1\\n      104352       0.00      0.00      0.00         1\\n      104357       1.00      1.00      1.00         1\\n      104358       1.00      1.00      1.00         1\\n      104397       0.00      0.00      0.00         1\\n      104441       0.00      0.00      0.00         1\\n      104451       0.00      0.00      0.00         1\\n      104519       0.00      0.00      0.00         1\\n      104530       0.00      0.00      0.00         1\\n      104552       0.00      0.00      0.00         1\\n      104554       0.00      0.00      0.00         1\\n      104569       0.00      0.00      0.00         1\\n      104573       1.00      1.00      1.00         1\\n      104576       1.00      1.00      1.00         1\\n      104711       0.00      0.00      0.00         1\\n      104721       0.00      0.00      0.00         1\\n      104747       0.00      0.00      0.00         1\\n      104750       0.00      0.00      0.00         1\\n      104825       0.00      0.00      0.00         1\\n      104878       0.00      0.00      0.00         1\\n      104880       0.00      0.00      0.00         1\\n      104921       0.00      0.00      0.00         1\\n      104927       0.00      0.00      0.00         1\\n      104937       0.00      0.00      0.00         1\\n      104942       0.00      0.00      0.00         1\\n      104983       1.00      1.00      1.00         1\\n      104998       0.00      0.00      0.00         1\\n      105035       0.00      0.00      0.00         1\\n      105155       0.00      0.00      0.00         1\\n      105270       0.00      0.00      0.00         1\\n      105307       0.00      0.00      0.00         1\\n      105342       0.00      0.00      0.00         1\\n      105364       0.00      0.00      0.00         1\\n      105401       0.00      0.00      0.00         1\\n      105412       0.00      0.00      0.00         1\\n      105457       0.00      0.00      0.00         1\\n      105459       0.00      0.00      0.00         1\\n      105541       0.00      0.00      0.00         1\\n      105565       0.00      0.00      0.00         1\\n      105574       1.00      1.00      1.00         1\\n      105617       0.00      0.00      0.00         1\\n      105647       0.00      0.00      0.00         1\\n      105648       1.00      1.00      1.00         1\\n      105652       0.00      0.00      0.00         1\\n      105668       0.00      0.00      0.00         1\\n      105671       0.00      0.00      0.00         1\\n      105711       1.00      1.00      1.00         1\\n      105712       0.00      0.00      0.00         1\\n      105718       0.00      0.00      0.00         1\\n      105731       0.00      0.00      0.00         1\\n      105800       0.00      0.00      0.00         1\\n      105825       0.00      0.00      0.00         1\\n      105832       0.33      1.00      0.50         1\\n      105874       0.00      0.00      0.00         1\\n      105908       0.00      0.00      0.00         1\\n      105941       0.00      0.00      0.00         1\\n      105952       0.00      0.00      0.00         1\\n      105964       0.00      0.00      0.00         1\\n      106036       0.00      0.00      0.00         1\\n      106051       0.00      0.00      0.00         1\\n      106062       0.00      0.00      0.00         1\\n      106116       0.00      0.00      0.00         1\\n      106137       0.00      0.00      0.00         1\\n      106176       0.00      0.00      0.00         1\\n      106208       0.00      0.00      0.00         1\\n      106227       0.00      0.00      0.00         1\\n      106241       0.00      0.00      0.00         1\\n      106244       1.00      1.00      1.00         1\\n      106246       1.00      1.00      1.00         1\\n      106267       1.00      1.00      1.00         1\\n      106276       0.00      0.00      0.00         1\\n      106306       0.00      0.00      0.00         1\\n      106320       1.00      1.00      1.00         1\\n      106360       0.00      0.00      0.00         1\\n      106371       0.00      0.00      0.00         1\\n      106404       0.00      0.00      0.00         1\\n      106482       1.00      1.00      1.00         1\\n      106484       1.00      1.00      1.00         1\\n      106485       0.00      0.00      0.00         1\\n      106493       1.00      1.00      1.00         1\\n      106520       0.00      0.00      0.00         1\\n      106546       0.00      0.00      0.00         1\\n      106590       0.00      0.00      0.00         1\\n      106602       0.00      0.00      0.00         1\\n      106686       0.00      0.00      0.00         1\\n      106691       0.00      0.00      0.00         1\\n      106694       0.00      0.00      0.00         1\\n      106732       0.00      0.00      0.00         1\\n      106743       0.00      0.00      0.00         1\\n      106843       0.00      0.00      0.00         1\\n      106861       1.00      1.00      1.00         1\\n      106905       1.00      1.00      1.00         1\\n      106923       0.00      0.00      0.00         1\\n      106929       0.00      0.00      0.00         1\\n      106935       0.00      0.00      0.00         1\\n      106940       0.00      0.00      0.00         1\\n      106972       0.00      0.00      0.00         1\\n      107005       1.00      1.00      1.00         1\\n      107017       0.00      0.00      0.00         1\\n      107021       1.00      1.00      1.00         1\\n      107048       0.00      0.00      0.00         1\\n      107051       0.00      0.00      0.00         1\\n      107077       0.00      0.00      0.00         1\\n      107088       0.00      0.00      0.00         1\\n      107114       0.00      0.00      0.00         1\\n      107126       0.00      0.00      0.00         1\\n      107215       0.00      0.00      0.00         1\\n      107231       0.00      0.00      0.00         1\\n      107243       0.00      0.00      0.00         1\\n      107245       0.00      0.00      0.00         1\\n      107262       0.00      0.00      0.00         1\\n      107288       0.00      0.00      0.00         1\\n      107327       0.00      0.00      0.00         1\\n      107384       0.00      0.00      0.00         1\\n      107388       0.00      0.00      0.00         1\\n      107425       0.00      0.00      0.00         1\\n      107440       0.00      0.00      0.00         1\\n      107470       0.00      0.00      0.00         1\\n      107525       0.00      0.00      0.00         1\\n      107535       0.00      0.00      0.00         1\\n      107548       0.00      0.00      0.00         1\\n      107549       0.00      0.00      0.00         1\\n      107587       0.00      0.00      0.00         1\\n      107620       0.00      0.00      0.00         1\\n      107627       0.00      0.00      0.00         1\\n      107630       0.00      0.00      0.00         1\\n      107692       0.00      0.00      0.00         1\\n      107694       0.00      0.00      0.00         1\\n      107697       0.00      0.00      0.00         1\\n      107708       0.00      0.00      0.00         1\\n      107715       0.00      0.00      0.00         1\\n      107720       0.00      0.00      0.00         1\\n      107741       1.00      1.00      1.00         1\\n      107745       0.00      0.00      0.00         1\\n      107747       0.00      0.00      0.00         1\\n      107756       0.00      0.00      0.00         1\\n      107757       0.00      0.00      0.00         1\\n      107762       0.00      0.00      0.00         1\\n      107766       0.00      0.00      0.00         1\\n      107768       0.00      0.00      0.00         1\\n      107830       1.00      1.00      1.00         1\\n      107852       1.00      1.00      1.00         1\\n      107864       0.00      0.00      0.00         1\\n      107868       0.00      0.00      0.00         1\\n      107872       0.00      0.00      0.00         1\\n      107921       0.00      0.00      0.00         1\\n      107961       1.00      1.00      1.00         1\\n      108034       0.00      0.00      0.00         1\\n      108045       0.00      0.00      0.00         1\\n      108060       0.00      0.00      0.00         1\\n      108190       0.00      0.00      0.00         1\\n      108240       0.00      0.00      0.00         1\\n      108259       1.00      1.00      1.00         1\\n      108266       0.00      0.00      0.00         1\\n      108298       0.00      0.00      0.00         1\\n      108302       1.00      1.00      1.00         1\\n      108318       0.00      0.00      0.00         1\\n      108350       0.00      0.00      0.00         1\\n      108380       0.00      0.00      0.00         1\\n      108437       0.00      0.00      0.00         1\\n      108447       0.00      0.00      0.00         1\\n      108461       1.00      1.00      1.00         1\\n      108488       1.00      1.00      1.00         1\\n      108528       0.00      0.00      0.00         1\\n      108538       0.00      0.00      0.00         1\\n      108541       0.00      0.00      0.00         1\\n      108570       0.00      0.00      0.00         1\\n      108589       0.00      0.00      0.00         1\\n      108595       0.00      0.00      0.00         1\\n      108598       1.00      1.00      1.00         1\\n      108607       0.00      0.00      0.00         1\\n      108610       0.00      0.00      0.00         1\\n      108659       0.00      0.00      0.00         1\\n      108752       1.00      1.00      1.00         1\\n      108792       0.00      0.00      0.00         1\\n      108835       0.00      0.00      0.00         1\\n      108843       0.00      0.00      0.00         1\\n      108879       0.00      0.00      0.00         1\\n      108884       0.00      0.00      0.00         1\\n      108898       1.00      1.00      1.00         1\\n      108986       0.00      0.00      0.00         1\\n      108988       1.00      1.00      1.00         1\\n      109000       0.00      0.00      0.00         1\\n      109009       1.00      1.00      1.00         1\\n      109093       0.00      0.00      0.00         1\\n      109094       0.00      0.00      0.00         1\\n      109130       0.00      0.00      0.00         1\\n      109188       0.00      0.00      0.00         1\\n      109204       1.00      1.00      1.00         1\\n      109216       0.00      0.00      0.00         1\\n      109243       1.00      1.00      1.00         1\\n      109314       0.00      0.00      0.00         1\\n      109378       0.00      0.00      0.00         1\\n      109383       0.00      0.00      0.00         1\\n      109409       0.00      0.00      0.00         1\\n      109413       0.00      0.00      0.00         1\\n      109415       1.00      1.00      1.00         1\\n      109543       0.00      0.00      0.00         1\\n      109640       0.00      0.00      0.00         1\\n      109663       1.00      1.00      1.00         1\\n      109729       0.00      0.00      0.00         1\\n      109740       0.00      0.00      0.00         1\\n      109766       0.00      0.00      0.00         1\\n      109786       0.00      0.00      0.00         1\\n      109794       0.00      0.00      0.00         1\\n      109825       0.00      0.00      0.00         1\\n      109828       0.00      0.00      0.00         1\\n      109868       0.00      0.00      0.00         1\\n      109873       0.00      0.00      0.00         1\\n      109952       0.00      0.00      0.00         1\\n      110010       0.00      0.00      0.00         1\\n      110018       0.00      0.00      0.00         1\\n      110088       0.00      0.00      0.00         1\\n      110177       0.00      0.00      0.00         1\\n      110200       0.00      0.00      0.00         1\\n      110218       0.00      0.00      0.00         1\\n      110277       0.00      0.00      0.00         1\\n      110287       0.00      0.00      0.00         1\\n      110293       1.00      1.00      1.00         1\\n      110338       1.00      1.00      1.00         1\\n      110365       0.00      0.00      0.00         1\\n      110457       1.00      1.00      1.00         1\\n      110459       1.00      1.00      1.00         1\\n      110482       0.00      0.00      0.00         1\\n      110496       0.00      0.00      0.00         1\\n      110559       1.00      1.00      1.00         1\\n      110572       1.00      1.00      1.00         1\\n      110600       0.00      0.00      0.00         1\\n      110611       0.00      0.00      0.00         1\\n      110625       0.00      0.00      0.00         1\\n      110642       0.00      0.00      0.00         1\\n      110643       0.00      0.00      0.00         1\\n      110654       0.00      0.00      0.00         1\\n      110658       0.20      1.00      0.33         1\\n      110668       0.00      0.00      0.00         1\\n      110686       0.00      0.00      0.00         1\\n      110692       0.00      0.00      0.00         1\\n      110699       0.00      0.00      0.00         1\\n      110717       1.00      1.00      1.00         1\\n      110730       0.00      0.00      0.00         1\\n      110742       0.00      0.00      0.00         1\\n      110757       0.50      1.00      0.67         1\\n      110760       0.00      0.00      0.00         1\\n      110776       0.00      0.00      0.00         1\\n      110790       1.00      1.00      1.00         1\\n      110855       0.50      1.00      0.67         1\\n      110858       0.00      0.00      0.00         1\\n      110892       0.00      0.00      0.00         1\\n      110898       0.00      0.00      0.00         1\\n      110899       0.00      0.00      0.00         1\\n      110906       0.00      0.00      0.00         1\\n      110920       0.00      0.00      0.00         1\\n      110930       0.00      0.00      0.00         1\\n      110943       0.00      0.00      0.00         1\\n      110952       0.00      0.00      0.00         1\\n      110964       0.33      1.00      0.50         1\\n      110977       0.00      0.00      0.00         1\\n      110987       0.00      0.00      0.00         1\\n      111033       1.00      1.00      1.00         1\\n      111045       0.00      0.00      0.00         1\\n      111052       0.00      0.00      0.00         1\\n      111055       0.00      0.00      0.00         1\\n      111072       0.00      0.00      0.00         1\\n      111092       0.00      0.00      0.00         1\\n      111130       0.00      0.00      0.00         1\\n      111154       0.00      0.00      0.00         1\\n      111174       1.00      1.00      1.00         1\\n      111200       0.00      0.00      0.00         1\\n      111240       0.00      0.00      0.00         1\\n      111255       0.00      0.00      0.00         1\\n      111317       0.00      0.00      0.00         1\\n      111318       0.00      0.00      0.00         1\\n      111323       0.00      0.00      0.00         1\\n      111370       0.00      0.00      0.00         1\\n      111376       0.00      0.00      0.00         1\\n      111382       1.00      1.00      1.00         1\\n      111395       0.00      0.00      0.00         1\\n      111405       0.00      0.00      0.00         1\\n      111417       0.00      0.00      0.00         1\\n      111430       0.00      0.00      0.00         1\\n      111473       0.00      0.00      0.00         1\\n      111541       1.00      1.00      1.00         1\\n      111545       0.00      0.00      0.00         1\\n      111549       0.00      0.00      0.00         1\\n      111566       1.00      1.00      1.00         1\\n      111580       0.00      0.00      0.00         1\\n      111596       1.00      1.00      1.00         1\\n      111619       0.00      0.00      0.00         1\\n      111632       0.00      0.00      0.00         1\\n      111634       0.50      1.00      0.67         1\\n      111641       0.00      0.00      0.00         1\\n      111669       0.00      0.00      0.00         1\\n      111675       0.00      0.00      0.00         1\\n      111706       1.00      1.00      1.00         1\\n      111711       0.00      0.00      0.00         1\\n      111721       0.00      0.00      0.00         1\\n      111777       0.00      0.00      0.00         1\\n      111801       0.00      0.00      0.00         1\\n      111819       0.00      0.00      0.00         1\\n      111835       0.00      0.00      0.00         1\\n      111859       1.00      1.00      1.00         1\\n      111866       0.00      0.00      0.00         1\\n      111874       0.00      0.00      0.00         1\\n      111920       0.50      1.00      0.67         1\\n      111925       0.00      0.00      0.00         1\\n      111942       1.00      1.00      1.00         1\\n      111952       0.33      1.00      0.50         1\\n      111954       1.00      1.00      1.00         1\\n      111976       0.50      1.00      0.67         1\\n      111984       1.00      1.00      1.00         1\\n      111985       0.00      0.00      0.00         1\\n      111987       0.00      0.00      0.00         1\\n      112029       0.00      0.00      0.00         1\\n      112040       0.00      0.00      0.00         1\\n      112062       0.00      0.00      0.00         1\\n      112081       1.00      1.00      1.00         1\\n      112110       0.00      0.00      0.00         1\\n      112140       1.00      1.00      1.00         1\\n      112181       0.00      0.00      0.00         1\\n      112188       0.00      0.00      0.00         1\\n      112217       1.00      1.00      1.00         1\\n      112237       1.00      1.00      1.00         1\\n      112257       0.00      0.00      0.00         1\\n      112273       0.00      0.00      0.00         1\\n      112351       0.00      0.00      0.00         1\\n      112356       0.00      0.00      0.00         1\\n      112373       0.00      0.00      0.00         1\\n      112374       1.00      1.00      1.00         1\\n      112394       1.00      1.00      1.00         1\\n      112405       0.17      1.00      0.29         1\\n      112414       0.00      0.00      0.00         1\\n      112418       0.00      0.00      0.00         1\\n      112426       0.00      0.00      0.00         1\\n      112477       0.00      0.00      0.00         1\\n      112486       0.00      0.00      0.00         1\\n      112490       0.00      0.00      0.00         1\\n      112512       1.00      1.00      1.00         1\\n      112522       0.00      0.00      0.00         1\\n      112540       0.00      0.00      0.00         1\\n      112552       0.00      0.00      0.00         1\\n      112587       0.00      0.00      0.00         1\\n      112593       0.33      1.00      0.50         1\\n      112616       0.00      0.00      0.00         1\\n      112617       0.00      0.00      0.00         1\\n      112618       0.00      0.00      0.00         1\\n      112709       0.00      0.00      0.00         1\\n      112736       0.00      0.00      0.00         1\\n      112750       1.00      1.00      1.00         1\\n      112760       1.00      1.00      1.00         1\\n      112772       0.00      0.00      0.00         1\\n      112778       0.00      0.00      0.00         1\\n      112781       0.00      0.00      0.00         1\\n      112787       1.00      1.00      1.00         1\\n      112840       0.00      0.00      0.00         1\\n      112893       0.00      0.00      0.00         1\\n      112896       0.00      0.00      0.00         1\\n      112920       1.00      1.00      1.00         1\\n      112924       1.00      1.00      1.00         1\\n      112940       0.00      0.00      0.00         1\\n      112944       0.00      0.00      0.00         1\\n      112975       0.00      0.00      0.00         1\\n      112979       0.00      0.00      0.00         1\\n      113002       1.00      1.00      1.00         1\\n      113016       0.00      0.00      0.00         1\\n      113021       1.00      1.00      1.00         1\\n      113044       0.00      0.00      0.00         1\\n      113079       1.00      1.00      1.00         1\\n      113100       0.50      1.00      0.67         1\\n      113143       0.00      0.00      0.00         1\\n      113157       0.00      0.00      0.00         1\\n      113184       1.00      1.00      1.00         1\\n      113185       1.00      1.00      1.00         1\\n      113189       0.00      0.00      0.00         1\\n      113211       1.00      1.00      1.00         1\\n      113215       1.00      1.00      1.00         1\\n      113224       1.00      1.00      1.00         1\\n      113225       0.00      0.00      0.00         1\\n      113237       0.00      0.00      0.00         1\\n      113249       0.00      0.00      0.00         1\\n      113256       1.00      1.00      1.00         1\\n      113265       0.00      0.00      0.00         1\\n      113266       0.08      1.00      0.15         1\\n      113267       1.00      1.00      1.00         1\\n      113274       1.00      1.00      1.00         1\\n      113296       0.00      0.00      0.00         1\\n      113297       1.00      1.00      1.00         1\\n      113305       0.00      0.00      0.00         1\\n      113361       0.00      0.00      0.00         1\\n      113371       0.00      0.00      0.00         1\\n      113373       0.00      0.00      0.00         1\\n      113385       0.00      0.00      0.00         1\\n      113395       0.00      0.00      0.00         1\\n      113400       0.00      0.00      0.00         1\\n      113418       1.00      1.00      1.00         1\\n      113419       0.00      0.00      0.00         1\\n      113426       1.00      1.00      1.00         1\\n      113429       0.00      0.00      0.00         1\\n      113454       0.00      0.00      0.00         1\\n      113462       0.00      0.00      0.00         1\\n      113507       0.00      0.00      0.00         1\\n      113508       0.00      0.00      0.00         1\\n      113511       0.00      0.00      0.00         1\\n      113529       0.17      1.00      0.29         1\\n      113536       0.00      0.00      0.00         1\\n      113550       0.00      0.00      0.00         1\\n      113575       0.00      0.00      0.00         1\\n      113584       0.00      0.00      0.00         1\\n      113601       1.00      1.00      1.00         1\\n      113614       1.00      1.00      1.00         1\\n      113615       0.00      0.00      0.00         1\\n      113626       0.00      0.00      0.00         1\\n      113675       0.00      0.00      0.00         1\\n      113706       0.00      0.00      0.00         1\\n      113711       1.00      1.00      1.00         1\\n      113723       1.00      1.00      1.00         1\\n      113739       0.00      0.00      0.00         1\\n      113749       0.00      0.00      0.00         1\\n      113754       0.00      0.00      0.00         1\\n      113769       0.00      0.00      0.00         1\\n      113778       0.00      0.00      0.00         1\\n      113786       0.00      0.00      0.00         1\\n      113803       1.00      1.00      1.00         1\\n      113816       0.00      0.00      0.00         1\\n      113830       0.00      0.00      0.00         1\\n      113864       0.50      1.00      0.67         1\\n      113870       0.00      0.00      0.00         1\\n      113896       0.00      0.00      0.00         1\\n      113903       0.00      0.00      0.00         1\\n      113918       0.00      0.00      0.00         1\\n      113991       1.00      1.00      1.00         1\\n      114017       0.00      0.00      0.00         1\\n      114024       0.00      0.00      0.00         1\\n      114040       0.00      0.00      0.00         1\\n      114045       1.00      1.00      1.00         1\\n      114050       0.00      0.00      0.00         1\\n      114064       0.00      0.00      0.00         1\\n      114067       0.00      0.00      0.00         1\\n      114087       1.00      1.00      1.00         1\\n      114096       1.00      1.00      1.00         1\\n      114174       0.00      0.00      0.00         1\\n      114188       0.00      0.00      0.00         1\\n      114216       1.00      1.00      1.00         1\\n      114232       0.00      0.00      0.00         1\\n      114252       0.00      0.00      0.00         1\\n      114273       1.00      1.00      1.00         1\\n      114285       0.00      0.00      0.00         1\\n      114292       0.00      0.00      0.00         1\\n      114307       0.00      0.00      0.00         1\\n      114322       0.00      0.00      0.00         1\\n      114326       0.00      0.00      0.00         1\\n      114329       0.00      0.00      0.00         1\\n      114345       0.00      0.00      0.00         1\\n      114350       0.00      0.00      0.00         1\\n      114363       0.00      0.00      0.00         1\\n      114428       0.00      0.00      0.00         1\\n      114487       0.25      1.00      0.40         1\\n      114550       0.00      0.00      0.00         1\\n      114557       0.00      0.00      0.00         1\\n      114612       0.00      0.00      0.00         1\\n      114614       0.00      0.00      0.00         1\\n      114625       1.00      1.00      1.00         1\\n      114626       0.00      0.00      0.00         1\\n      114669       0.00      0.00      0.00         1\\n      114677       0.00      0.00      0.00         1\\n      114707       1.00      1.00      1.00         1\\n      114717       0.00      0.00      0.00         1\\n      114790       0.00      0.00      0.00         1\\n      114791       0.50      1.00      0.67         1\\n      114792       0.00      0.00      0.00         1\\n      114800       1.00      1.00      1.00         1\\n      114812       0.00      0.00      0.00         1\\n      114882       1.00      1.00      1.00         1\\n      114909       0.00      0.00      0.00         1\\n      114922       0.00      0.00      0.00         1\\n      114931       0.00      0.00      0.00         1\\n      114951       1.00      1.00      1.00         1\\n      114964       0.00      0.00      0.00         1\\n      115044       0.00      0.00      0.00         1\\n      115057       1.00      1.00      1.00         1\\n      115063       0.00      0.00      0.00         1\\n      115083       0.00      0.00      0.00         1\\n      115089       0.00      0.00      0.00         1\\n      115099       1.00      1.00      1.00         1\\n      115118       0.00      0.00      0.00         1\\n      115131       0.00      0.00      0.00         1\\n      115151       0.50      1.00      0.67         1\\n      115156       1.00      1.00      1.00         1\\n      115174       1.00      1.00      1.00         1\\n      115175       1.00      1.00      1.00         1\\n      115191       0.00      0.00      0.00         1\\n      115194       0.00      0.00      0.00         1\\n      115205       0.00      0.00      0.00         1\\n      115230       0.00      0.00      0.00         1\\n      115259       1.00      1.00      1.00         1\\n      115276       0.00      0.00      0.00         1\\n      115315       0.00      0.00      0.00         1\\n      115351       0.00      0.00      0.00         1\\n      115359       0.00      0.00      0.00         1\\n      115392       1.00      1.00      1.00         1\\n      115402       0.00      0.00      0.00         1\\n      115406       1.00      1.00      1.00         1\\n      115446       0.00      0.00      0.00         1\\n      115517       1.00      1.00      1.00         1\\n      115518       0.00      0.00      0.00         1\\n      115529       0.00      0.00      0.00         1\\n      115559       0.00      0.00      0.00         1\\n      115577       0.00      0.00      0.00         1\\n      115580       0.00      0.00      0.00         1\\n      115588       0.00      0.00      0.00         1\\n      115604       0.00      0.00      0.00         1\\n      115610       1.00      1.00      1.00         1\\n      115623       0.00      0.00      0.00         1\\n      115625       1.00      1.00      1.00         1\\n      115636       0.00      0.00      0.00         1\\n      115646       0.00      0.00      0.00         1\\n      115679       0.00      0.00      0.00         1\\n      115682       0.00      0.00      0.00         1\\n      115710       0.00      0.00      0.00         1\\n      115737       0.00      0.00      0.00         1\\n      115815       0.00      0.00      0.00         1\\n      115828       0.00      0.00      0.00         1\\n      115835       0.00      0.00      0.00         1\\n      115837       0.00      0.00      0.00         1\\n      115841       1.00      1.00      1.00         1\\n      115847       1.00      1.00      1.00         1\\n      115866       0.00      0.00      0.00         1\\n      115936       0.00      0.00      0.00         1\\n      115946       0.00      0.00      0.00         1\\n      115951       1.00      1.00      1.00         1\\n      115959       1.00      1.00      1.00         1\\n      115966       1.00      1.00      1.00         1\\n      115969       0.00      0.00      0.00         1\\n      115981       0.00      0.00      0.00         1\\n      116018       1.00      1.00      1.00         1\\n      116020       1.00      1.00      1.00         1\\n      116029       0.50      1.00      0.67         1\\n      116061       1.00      1.00      1.00         1\\n      116067       0.00      0.00      0.00         1\\n      116076       1.00      1.00      1.00         1\\n      116081       0.00      0.00      0.00         1\\n      116114       0.00      0.00      0.00         1\\n      116117       0.00      0.00      0.00         1\\n      116124       0.00      0.00      0.00         1\\n      116142       0.00      0.00      0.00         1\\n      116164       0.00      0.00      0.00         1\\n      116193       0.00      0.00      0.00         1\\n      116196       0.00      0.00      0.00         1\\n      116212       0.00      0.00      0.00         1\\n      116269       0.00      0.00      0.00         1\\n      116306       0.33      1.00      0.50         1\\n      116307       0.00      0.00      0.00         1\\n      116332       0.00      0.00      0.00         1\\n      116372       0.00      0.00      0.00         1\\n      116379       0.00      0.00      0.00         1\\n      116389       0.00      0.00      0.00         1\\n      116391       0.00      0.00      0.00         1\\n      116405       0.00      0.00      0.00         1\\n      116418       0.00      0.00      0.00         1\\n      116444       0.00      0.00      0.00         1\\n      116465       1.00      1.00      1.00         1\\n      116472       0.00      0.00      0.00         1\\n      116483       1.00      1.00      1.00         1\\n      116509       1.00      1.00      1.00         1\\n      116528       0.00      0.00      0.00         1\\n      116530       1.00      1.00      1.00         1\\n      116542       1.00      1.00      1.00         1\\n      116552       1.00      1.00      1.00         1\\n      116565       0.00      0.00      0.00         1\\n      116582       1.00      1.00      1.00         1\\n      116584       0.00      0.00      0.00         1\\n      116601       0.50      1.00      0.67         1\\n      116612       0.00      0.00      0.00         1\\n      116629       0.00      0.00      0.00         1\\n      116631       0.00      0.00      0.00         1\\n      116656       0.00      0.00      0.00         1\\n      116664       1.00      1.00      1.00         1\\n      116695       0.00      0.00      0.00         1\\n      116716       0.33      1.00      0.50         1\\n      116727       0.00      0.00      0.00         1\\n      116768       0.00      0.00      0.00         1\\n      116799       0.00      0.00      0.00         1\\n      116816       0.00      0.00      0.00         1\\n      116860       0.00      0.00      0.00         1\\n      116864       0.00      0.00      0.00         1\\n      116888       0.00      0.00      0.00         1\\n      116909       0.00      0.00      0.00         1\\n      116912       0.00      0.00      0.00         1\\n      116914       1.00      1.00      1.00         1\\n      116923       1.00      1.00      1.00         1\\n      116942       0.00      0.00      0.00         1\\n      116943       0.00      0.00      0.00         1\\n      116952       0.00      0.00      0.00         1\\n      116989       0.00      0.00      0.00         1\\n      116999       1.00      1.00      1.00         1\\n      117002       0.00      0.00      0.00         1\\n      117009       0.00      0.00      0.00         1\\n      117063       0.00      0.00      0.00         1\\n      117092       1.00      1.00      1.00         1\\n      117098       1.00      1.00      1.00         1\\n      117138       0.00      0.00      0.00         1\\n      117145       0.00      0.00      0.00         1\\n      117180       1.00      1.00      1.00         1\\n      117181       0.00      0.00      0.00         1\\n      117205       1.00      1.00      1.00         1\\n      117233       0.00      0.00      0.00         1\\n      117281       0.33      1.00      0.50         1\\n      117284       0.00      0.00      0.00         1\\n      117287       0.00      0.00      0.00         1\\n      117329       0.00      0.00      0.00         1\\n      117341       1.00      1.00      1.00         1\\n      117343       0.33      1.00      0.50         1\\n      117358       0.00      0.00      0.00         1\\n      117366       0.00      0.00      0.00         1\\n      117372       1.00      1.00      1.00         1\\n      117374       0.00      0.00      0.00         1\\n      117375       0.00      0.00      0.00         1\\n      117378       1.00      1.00      1.00         1\\n      117390       0.00      0.00      0.00         1\\n      117392       0.00      0.00      0.00         1\\n      117404       0.00      0.00      0.00         1\\n      117435       0.00      0.00      0.00         1\\n      117440       0.00      0.00      0.00         1\\n      117483       1.00      1.00      1.00         1\\n      117489       1.00      1.00      1.00         1\\n      117495       1.00      1.00      1.00         1\\n      117498       0.00      0.00      0.00         1\\n      117507       1.00      1.00      1.00         1\\n      117522       0.00      0.00      0.00         1\\n      117524       0.00      0.00      0.00         1\\n      117571       0.00      0.00      0.00         1\\n      117582       0.00      0.00      0.00         1\\n      117592       0.00      0.00      0.00         1\\n      117599       0.00      0.00      0.00         1\\n      117605       1.00      1.00      1.00         1\\n      117612       0.00      0.00      0.00         1\\n      117639       0.00      0.00      0.00         1\\n      117646       1.00      1.00      1.00         1\\n      117655       1.00      1.00      1.00         1\\n      117666       1.00      1.00      1.00         1\\n      117704       0.00      0.00      0.00         1\\n      117770       0.00      0.00      0.00         1\\n      117773       1.00      1.00      1.00         1\\n      117794       0.00      0.00      0.00         1\\n      117796       1.00      1.00      1.00         1\\n      117804       0.00      0.00      0.00         1\\n      117805       0.00      0.00      0.00         1\\n      117870       0.00      0.00      0.00         1\\n      117885       0.00      0.00      0.00         1\\n      117904       0.00      0.00      0.00         1\\n      117932       0.00      0.00      0.00         1\\n      117968       0.00      0.00      0.00         1\\n      117977       0.00      0.00      0.00         1\\n      118041       0.00      0.00      0.00         1\\n      118043       0.00      0.00      0.00         1\\n      118065       0.00      0.00      0.00         1\\n      118089       0.00      0.00      0.00         1\\n      118095       0.00      0.00      0.00         1\\n      118137       0.00      0.00      0.00         1\\n      118165       0.00      0.00      0.00         1\\n      118168       0.00      0.00      0.00         1\\n      118239       0.00      0.00      0.00         1\\n      118246       0.00      0.00      0.00         1\\n      118267       0.00      0.00      0.00         1\\n      118281       1.00      1.00      1.00         1\\n      118333       1.00      1.00      1.00         1\\n      118343       1.00      1.00      1.00         1\\n      118355       0.33      1.00      0.50         1\\n      118358       0.00      0.00      0.00         1\\n      118367       0.00      0.00      0.00         1\\n      118458       0.00      0.00      0.00         1\\n      118467       1.00      1.00      1.00         1\\n      118491       1.00      1.00      1.00         1\\n      118493       0.00      0.00      0.00         1\\n      118511       0.00      0.00      0.00         1\\n      118515       0.00      0.00      0.00         1\\n      118534       0.00      0.00      0.00         1\\n      118584       0.00      0.00      0.00         1\\n      118592       0.00      0.00      0.00         1\\n      118601       1.00      1.00      1.00         1\\n      118614       0.00      0.00      0.00         1\\n      118616       0.00      0.00      0.00         1\\n      118642       1.00      1.00      1.00         1\\n      118663       1.00      1.00      1.00         1\\n      118722       0.00      0.00      0.00         1\\n      118729       0.00      0.00      0.00         1\\n      118749       0.00      0.00      0.00         1\\n      118766       0.00      0.00      0.00         1\\n      118777       0.00      0.00      0.00         1\\n      118778       1.00      1.00      1.00         1\\n      118788       0.00      0.00      0.00         1\\n      118793       1.00      1.00      1.00         1\\n      118795       0.00      0.00      0.00         1\\n      118844       0.00      0.00      0.00         1\\n      118850       0.00      0.00      0.00         1\\n      118877       1.00      1.00      1.00         1\\n      118882       0.00      0.00      0.00         1\\n      118923       1.00      1.00      1.00         1\\n      118933       0.00      0.00      0.00         1\\n      118949       0.00      0.00      0.00         1\\n      118955       0.00      0.00      0.00         1\\n      118994       0.00      0.00      0.00         1\\n      119002       1.00      1.00      1.00         1\\n      119003       0.00      0.00      0.00         1\\n      119043       1.00      1.00      1.00         1\\n      119058       1.00      1.00      1.00         1\\n      119073       1.00      1.00      1.00         1\\n      119076       1.00      1.00      1.00         1\\n      119101       0.00      0.00      0.00         1\\n      119124       0.00      0.00      0.00         1\\n      119144       0.00      0.00      0.00         1\\n      119179       1.00      1.00      1.00         1\\n      119188       0.00      0.00      0.00         1\\n      119214       0.00      0.00      0.00         1\\n      119218       0.00      0.00      0.00         1\\n      119224       1.00      1.00      1.00         1\\n      119229       0.00      0.00      0.00         1\\n      119246       0.00      0.00      0.00         1\\n      119286       0.00      0.00      0.00         1\\n      119301       0.33      1.00      0.50         1\\n      119313       1.00      1.00      1.00         1\\n      119339       0.00      0.00      0.00         1\\n      119346       0.00      0.00      0.00         1\\n      119382       0.00      0.00      0.00         1\\n      119386       0.00      0.00      0.00         1\\n      119403       0.00      0.00      0.00         1\\n      119432       0.00      0.00      0.00         1\\n      119436       0.00      0.00      0.00         1\\n      119446       0.00      0.00      0.00         1\\n      119451       0.50      1.00      0.67         1\\n      119466       0.00      0.00      0.00         1\\n      119482       0.00      0.00      0.00         1\\n      119512       1.00      1.00      1.00         1\\n      119514       0.00      0.00      0.00         1\\n      119582       0.00      0.00      0.00         1\\n      119596       0.00      0.00      0.00         1\\n      119677       1.00      1.00      1.00         1\\n      119775       1.00      1.00      1.00         1\\n      119788       1.00      1.00      1.00         1\\n      119857       0.00      0.00      0.00         1\\n      119859       0.00      0.00      0.00         1\\n      119878       0.00      0.00      0.00         1\\n      119899       0.00      0.00      0.00         1\\n      119914       0.00      0.00      0.00         1\\n      119956       0.00      0.00      0.00         1\\n      120016       1.00      1.00      1.00         1\\n      120023       0.00      0.00      0.00         1\\n      120050       0.00      0.00      0.00         1\\n      120054       0.00      0.00      0.00         1\\n      120066       0.33      1.00      0.50         1\\n      120105       0.00      0.00      0.00         1\\n      120108       0.00      0.00      0.00         1\\n      120111       0.00      0.00      0.00         1\\n      120136       1.00      1.00      1.00         1\\n      120154       0.00      0.00      0.00         1\\n      120161       1.00      1.00      1.00         1\\n      120221       0.00      0.00      0.00         1\\n      120234       0.00      0.00      0.00         1\\n      120283       0.00      0.00      0.00         1\\n      120309       1.00      1.00      1.00         1\\n      120355       0.00      0.00      0.00         1\\n      120416       0.00      0.00      0.00         1\\n      120453       0.00      0.00      0.00         1\\n      120485       0.00      0.00      0.00         1\\n      120514       1.00      1.00      1.00         1\\n      120524       1.00      1.00      1.00         1\\n      120529       0.50      1.00      0.67         1\\n      120530       0.00      0.00      0.00         1\\n      120586       1.00      1.00      1.00         1\\n      120601       0.00      0.00      0.00         1\\n      120671       0.33      1.00      0.50         1\\n      120674       0.00      0.00      0.00         1\\n      120678       0.00      0.00      0.00         1\\n      120698       0.00      0.00      0.00         1\\n      120720       1.00      1.00      1.00         1\\n      120768       0.00      0.00      0.00         1\\n      120773       0.00      0.00      0.00         1\\n      120786       0.00      0.00      0.00         1\\n      120810       0.00      0.00      0.00         1\\n      120821       0.00      0.00      0.00         1\\n      120823       0.00      0.00      0.00         1\\n      120829       0.00      0.00      0.00         1\\n      120836       0.00      0.00      0.00         1\\n      120860       1.00      1.00      1.00         1\\n      120884       0.00      0.00      0.00         1\\n      120945       1.00      1.00      1.00         1\\n      120956       1.00      1.00      1.00         1\\n      120961       1.00      1.00      1.00         1\\n      120992       0.00      0.00      0.00         1\\n      121010       0.00      0.00      0.00         1\\n      121030       0.00      0.00      0.00         1\\n      121046       1.00      1.00      1.00         1\\n      121067       0.00      0.00      0.00         1\\n      121079       0.00      0.00      0.00         1\\n      121083       1.00      1.00      1.00         1\\n      121090       0.00      0.00      0.00         1\\n      121110       1.00      1.00      1.00         1\\n      121117       0.00      0.00      0.00         1\\n      121122       0.00      0.00      0.00         1\\n      121141       1.00      1.00      1.00         1\\n      121174       0.00      0.00      0.00         1\\n      121204       1.00      1.00      1.00         1\\n      121216       0.00      0.00      0.00         1\\n      121224       0.00      0.00      0.00         1\\n      121240       0.00      0.00      0.00         1\\n      121249       0.33      1.00      0.50         1\\n      121264       1.00      1.00      1.00         1\\n      121267       1.00      1.00      1.00         1\\n      121269       0.00      0.00      0.00         1\\n      121305       0.00      0.00      0.00         1\\n      121339       0.00      0.00      0.00         1\\n      121414       0.00      0.00      0.00         1\\n      121452       0.00      0.00      0.00         1\\n      121465       0.00      0.00      0.00         1\\n      121467       0.00      0.00      0.00         1\\n      121524       0.00      0.00      0.00         1\\n      121592       1.00      1.00      1.00         1\\n      121599       0.00      0.00      0.00         1\\n      121609       1.00      1.00      1.00         1\\n      121616       0.00      0.00      0.00         1\\n      121623       0.00      0.00      0.00         1\\n      121643       0.00      0.00      0.00         1\\n      121657       1.00      1.00      1.00         1\\n      121687       0.00      0.00      0.00         1\\n      121713       1.00      1.00      1.00         1\\n      121769       1.00      1.00      1.00         1\\n      121774       0.00      0.00      0.00         1\\n      121796       0.00      0.00      0.00         1\\n      121809       0.00      0.00      0.00         1\\n      121836       0.00      0.00      0.00         1\\n      121848       1.00      1.00      1.00         1\\n      121874       0.00      0.00      0.00         1\\n      121882       0.00      0.00      0.00         1\\n      121883       0.00      0.00      0.00         1\\n      121891       0.00      0.00      0.00         1\\n      121906       0.00      0.00      0.00         1\\n      121912       0.00      0.00      0.00         1\\n      121929       1.00      1.00      1.00         1\\n      121973       0.00      0.00      0.00         1\\n      121995       0.00      0.00      0.00         1\\n      121996       0.00      0.00      0.00         1\\n      122014       0.00      0.00      0.00         1\\n      122024       0.00      0.00      0.00         1\\n      122039       0.20      1.00      0.33         1\\n      122052       0.00      0.00      0.00         1\\n      122098       0.00      0.00      0.00         1\\n      122107       0.00      0.00      0.00         1\\n      122145       1.00      1.00      1.00         1\\n      122234       0.50      1.00      0.67         1\\n      122274       0.00      0.00      0.00         1\\n      122339       0.00      0.00      0.00         1\\n      122391       0.00      0.00      0.00         1\\n      122405       0.00      0.00      0.00         1\\n      122438       0.00      0.00      0.00         1\\n      122460       1.00      1.00      1.00         1\\n      122488       1.00      1.00      1.00         1\\n      122525       1.00      1.00      1.00         1\\n      122532       1.00      1.00      1.00         1\\n      122535       0.00      0.00      0.00         1\\n      122540       0.00      0.00      0.00         1\\n      122613       1.00      1.00      1.00         1\\n      122621       0.25      1.00      0.40         1\\n      122623       0.00      0.00      0.00         1\\n      122647       0.00      0.00      0.00         1\\n      122666       1.00      1.00      1.00         1\\n      122707       0.00      0.00      0.00         1\\n      122709       0.00      0.00      0.00         1\\n      122730       0.00      0.00      0.00         1\\n      122732       0.00      0.00      0.00         1\\n      122753       0.00      0.00      0.00         1\\n      122790       0.50      1.00      0.67         1\\n      122870       0.00      0.00      0.00         1\\n      122907       1.00      1.00      1.00         1\\n      122920       0.00      0.00      0.00         1\\n      122941       1.00      1.00      1.00         1\\n      122967       0.00      0.00      0.00         1\\n      123010       0.00      0.00      0.00         1\\n      123013       1.00      1.00      1.00         1\\n      123021       0.00      0.00      0.00         1\\n      123027       1.00      1.00      1.00         1\\n      123041       1.00      1.00      1.00         1\\n      123050       0.00      0.00      0.00         1\\n      123052       0.00      0.00      0.00         1\\n      123067       1.00      1.00      1.00         1\\n      123110       0.00      0.00      0.00         1\\n      123114       1.00      1.00      1.00         1\\n      123146       1.00      1.00      1.00         1\\n      123173       1.00      1.00      1.00         1\\n      123212       1.00      1.00      1.00         1\\n      123233       0.00      0.00      0.00         1\\n      123241       0.00      0.00      0.00         1\\n      123244       0.00      0.00      0.00         1\\n      123254       0.00      0.00      0.00         1\\n      123272       0.00      0.00      0.00         1\\n      123279       1.00      1.00      1.00         1\\n      123290       0.00      0.00      0.00         1\\n      123298       0.50      1.00      0.67         1\\n      123310       0.50      1.00      0.67         1\\n      123325       0.00      0.00      0.00         1\\n      123332       0.00      0.00      0.00         1\\n      123344       0.50      1.00      0.67         1\\n      123399       0.00      0.00      0.00         1\\n      123401       1.00      1.00      1.00         1\\n      123407       0.00      0.00      0.00         1\\n      123427       0.00      0.00      0.00         1\\n      123433       0.00      0.00      0.00         1\\n      123438       1.00      1.00      1.00         1\\n      123451       0.00      0.00      0.00         1\\n      123464       0.33      1.00      0.50         1\\n      123471       1.00      1.00      1.00         1\\n      123487       0.00      0.00      0.00         1\\n      123493       0.00      0.00      0.00         1\\n      123496       0.33      1.00      0.50         1\\n      123519       1.00      1.00      1.00         1\\n      123546       0.00      0.00      0.00         1\\n      123559       0.00      0.00      0.00         1\\n      123575       0.00      0.00      0.00         1\\n      123589       1.00      1.00      1.00         1\\n      123643       1.00      1.00      1.00         1\\n      123647       0.00      0.00      0.00         1\\n      123648       0.00      0.00      0.00         1\\n      123688       1.00      1.00      1.00         1\\n      123711       1.00      1.00      1.00         1\\n      123727       1.00      1.00      1.00         1\\n      123767       1.00      1.00      1.00         1\\n      123778       0.00      0.00      0.00         1\\n      123787       0.00      0.00      0.00         1\\n      123791       1.00      1.00      1.00         1\\n      123822       0.00      0.00      0.00         1\\n      123825       0.00      0.00      0.00         1\\n      123864       1.00      1.00      1.00         1\\n      123870       0.00      0.00      0.00         1\\n      123902       0.00      0.00      0.00         1\\n      123923       0.00      0.00      0.00         1\\n      123933       0.00      0.00      0.00         1\\n      123935       0.00      0.00      0.00         1\\n      123942       0.33      1.00      0.50         1\\n      123980       0.00      0.00      0.00         1\\n      124011       0.00      0.00      0.00         1\\n      124026       1.00      1.00      1.00         1\\n      124039       0.00      0.00      0.00         1\\n      124061       0.00      0.00      0.00         1\\n      124067       0.00      0.00      0.00         1\\n      124084       0.00      0.00      0.00         1\\n      124114       0.00      0.00      0.00         1\\n      124116       0.00      0.00      0.00         1\\n      124170       1.00      1.00      1.00         1\\n      124184       0.50      1.00      0.67         1\\n      124195       1.00      1.00      1.00         1\\n      124271       0.00      0.00      0.00         1\\n      124287       0.00      0.00      0.00         1\\n      124298       1.00      1.00      1.00         1\\n      124303       1.00      1.00      1.00         1\\n      124338       0.00      0.00      0.00         1\\n      124353       1.00      1.00      1.00         1\\n      124358       0.00      0.00      0.00         1\\n      124363       0.00      0.00      0.00         1\\n      124373       0.33      1.00      0.50         1\\n      124404       1.00      1.00      1.00         1\\n      124436       0.00      0.00      0.00         1\\n      124441       1.00      1.00      1.00         1\\n      124467       0.00      0.00      0.00         1\\n      124497       1.00      1.00      1.00         1\\n      124541       0.00      0.00      0.00         1\\n      124553       0.00      0.00      0.00         1\\n      124588       0.00      0.00      0.00         1\\n      124595       0.00      0.00      0.00         1\\n      124599       1.00      1.00      1.00         1\\n      124616       0.00      0.00      0.00         1\\n      124674       0.00      0.00      0.00         1\\n      124696       0.00      0.00      0.00         1\\n      124726       1.00      1.00      1.00         1\\n      124747       0.00      0.00      0.00         1\\n      124753       0.00      0.00      0.00         1\\n      124797       0.00      0.00      0.00         1\\n      124798       0.00      0.00      0.00         1\\n      124847       1.00      1.00      1.00         1\\n      124874       1.00      1.00      1.00         1\\n      124881       0.33      1.00      0.50         1\\n      124903       0.00      0.00      0.00         1\\n      124917       0.00      0.00      0.00         1\\n      124932       1.00      1.00      1.00         1\\n      124962       0.00      0.00      0.00         1\\n      124964       0.00      0.00      0.00         1\\n      124973       0.00      0.00      0.00         1\\n      125000       1.00      1.00      1.00         1\\n      125065       0.00      0.00      0.00         1\\n      125071       0.00      0.00      0.00         1\\n      125087       0.00      0.00      0.00         1\\n      125134       1.00      1.00      1.00         1\\n      125189       0.00      0.00      0.00         1\\n      125210       0.00      0.00      0.00         1\\n      125212       0.00      0.00      0.00         1\\n      125218       0.00      0.00      0.00         1\\n      125219       0.00      0.00      0.00         1\\n      125245       0.25      1.00      0.40         1\\n      125262       0.20      1.00      0.33         1\\n      125282       1.00      1.00      1.00         1\\n      125303       0.00      0.00      0.00         1\\n      125317       0.00      0.00      0.00         1\\n      125342       0.00      0.00      0.00         1\\n      125365       0.00      0.00      0.00         1\\n      125368       1.00      1.00      1.00         1\\n      125373       1.00      1.00      1.00         1\\n      125383       0.00      0.00      0.00         1\\n      125392       0.00      0.00      0.00         1\\n      125408       0.00      0.00      0.00         1\\n      125424       0.00      0.00      0.00         1\\n      125455       1.00      1.00      1.00         1\\n      125459       0.00      0.00      0.00         1\\n      125464       0.00      0.00      0.00         1\\n      125488       0.00      0.00      0.00         1\\n      125495       0.00      0.00      0.00         1\\n      125511       0.50      1.00      0.67         1\\n      125527       1.00      1.00      1.00         1\\n      125557       0.00      0.00      0.00         1\\n      125589       1.00      1.00      1.00         1\\n      125622       0.00      0.00      0.00         1\\n      125662       0.00      0.00      0.00         1\\n      125670       0.00      0.00      0.00         1\\n      125672       0.00      0.00      0.00         1\\n      125677       1.00      1.00      1.00         1\\n      125716       0.00      0.00      0.00         1\\n      125737       0.00      0.00      0.00         1\\n      125740       0.00      0.00      0.00         1\\n      125759       0.00      0.00      0.00         1\\n      125837       0.00      0.00      0.00         1\\n      125879       1.00      1.00      1.00         1\\n      125893       0.00      0.00      0.00         1\\n      125923       0.00      0.00      0.00         1\\n      125942       0.00      0.00      0.00         1\\n      125953       0.00      0.00      0.00         1\\n      125979       1.00      1.00      1.00         1\\n      125987       0.00      0.00      0.00         1\\n      125993       0.00      0.00      0.00         1\\n      126007       0.33      1.00      0.50         1\\n      126025       1.00      1.00      1.00         1\\n      126029       1.00      1.00      1.00         1\\n      126036       0.00      0.00      0.00         1\\n      126052       0.00      0.00      0.00         1\\n      126054       0.00      0.00      0.00         1\\n      126056       0.00      0.00      0.00         1\\n      126069       0.00      0.00      0.00         1\\n      126082       0.00      0.00      0.00         1\\n      126114       0.00      0.00      0.00         1\\n      126159       1.00      1.00      1.00         1\\n      126160       0.00      0.00      0.00         1\\n      126168       0.00      0.00      0.00         1\\n      126244       0.00      0.00      0.00         1\\n      126269       1.00      1.00      1.00         1\\n      126295       0.00      0.00      0.00         1\\n      126306       0.00      0.00      0.00         1\\n      126315       1.00      1.00      1.00         1\\n      126320       0.00      0.00      0.00         1\\n      126387       1.00      1.00      1.00         1\\n      126401       1.00      1.00      1.00         1\\n      126447       0.00      0.00      0.00         1\\n      126458       0.00      0.00      0.00         1\\n      126481       1.00      1.00      1.00         1\\n      126488       0.00      0.00      0.00         1\\n      126503       1.00      1.00      1.00         1\\n      126515       0.00      0.00      0.00         1\\n      126525       1.00      1.00      1.00         1\\n      126573       0.00      0.00      0.00         1\\n      126616       1.00      1.00      1.00         1\\n      126645       1.00      1.00      1.00         1\\n      126647       0.50      1.00      0.67         1\\n      126653       0.00      0.00      0.00         1\\n      126682       1.00      1.00      1.00         1\\n      126688       0.00      0.00      0.00         1\\n      126689       0.00      0.00      0.00         1\\n      126690       0.00      0.00      0.00         1\\n      126720       0.00      0.00      0.00         1\\n      126733       1.00      1.00      1.00         1\\n      126776       0.00      0.00      0.00         1\\n      126780       1.00      1.00      1.00         1\\n      126790       0.00      0.00      0.00         1\\n      126802       0.00      0.00      0.00         1\\n      126805       0.00      0.00      0.00         1\\n      126806       0.50      1.00      0.67         1\\n      126821       0.00      0.00      0.00         1\\n      126831       1.00      1.00      1.00         1\\n      126832       1.00      1.00      1.00         1\\n      126840       0.00      0.00      0.00         1\\n      126853       0.00      0.00      0.00         1\\n      126856       0.00      0.00      0.00         1\\n      126861       0.00      0.00      0.00         1\\n      126874       0.00      0.00      0.00         1\\n      126892       1.00      1.00      1.00         1\\n      126907       0.00      0.00      0.00         1\\n      126959       1.00      1.00      1.00         1\\n      126973       1.00      1.00      1.00         1\\n      127006       0.00      0.00      0.00         1\\n      127007       0.00      0.00      0.00         1\\n      127020       1.00      1.00      1.00         1\\n      127026       0.00      0.00      0.00         1\\n      127030       1.00      1.00      1.00         1\\n      127040       0.00      0.00      0.00         1\\n      127050       0.00      0.00      0.00         1\\n      127077       0.00      0.00      0.00         1\\n      127109       1.00      1.00      1.00         1\\n      127115       0.00      0.00      0.00         1\\n      127129       1.00      1.00      1.00         1\\n      127131       1.00      1.00      1.00         1\\n      127141       0.00      0.00      0.00         1\\n      127144       1.00      1.00      1.00         1\\n      127183       0.00      0.00      0.00         1\\n      127203       1.00      1.00      1.00         1\\n      127211       0.00      0.00      0.00         1\\n      127212       0.33      1.00      0.50         1\\n      127230       0.00      0.00      0.00         1\\n      127241       0.00      0.00      0.00         1\\n      127249       0.00      0.00      0.00         1\\n      127253       0.00      0.00      0.00         1\\n      127275       0.00      0.00      0.00         1\\n      127279       0.00      0.00      0.00         1\\n      127332       0.00      0.00      0.00         1\\n      127362       1.00      1.00      1.00         1\\n      127364       0.00      0.00      0.00         1\\n      127366       1.00      1.00      1.00         1\\n      127374       1.00      1.00      1.00         1\\n      127384       0.00      0.00      0.00         1\\n      127405       1.00      1.00      1.00         1\\n      127409       0.00      0.00      0.00         1\\n      127420       0.00      0.00      0.00         1\\n      127442       0.00      0.00      0.00         1\\n      127453       0.00      0.00      0.00         1\\n      127479       1.00      1.00      1.00         1\\n      127494       0.00      0.00      0.00         1\\n      127501       0.00      0.00      0.00         1\\n      127505       0.00      0.00      0.00         1\\n      127557       0.00      0.00      0.00         1\\n      127576       0.00      0.00      0.00         1\\n      127581       0.00      0.00      0.00         1\\n      127582       0.00      0.00      0.00         1\\n      127634       0.00      0.00      0.00         1\\n      127642       1.00      1.00      1.00         1\\n      127712       0.00      0.00      0.00         1\\n      127727       0.00      0.00      0.00         1\\n      127731       1.00      1.00      1.00         1\\n      127787       1.00      1.00      1.00         1\\n      127806       0.00      0.00      0.00         1\\n      127812       0.00      0.00      0.00         1\\n      127859       0.00      0.00      0.00         1\\n      127876       0.00      0.00      0.00         1\\n      127937       0.00      0.00      0.00         1\\n      127955       0.00      0.00      0.00         1\\n      127956       0.00      0.00      0.00         1\\n      127989       0.00      0.00      0.00         1\\n      127990       0.00      0.00      0.00         1\\n      128004       1.00      1.00      1.00         1\\n      128009       1.00      1.00      1.00         1\\n      128036       1.00      1.00      1.00         1\\n      128043       1.00      1.00      1.00         1\\n      128063       1.00      1.00      1.00         1\\n      128079       0.00      0.00      0.00         1\\n      128083       0.00      0.00      0.00         1\\n      128153       1.00      1.00      1.00         1\\n      128177       0.00      0.00      0.00         1\\n      128187       0.00      0.00      0.00         1\\n      128257       0.00      0.00      0.00         1\\n      128264       0.00      0.00      0.00         1\\n      128267       1.00      1.00      1.00         1\\n      128292       0.00      0.00      0.00         1\\n      128298       0.00      0.00      0.00         1\\n      128356       0.00      0.00      0.00         1\\n      128364       1.00      1.00      1.00         1\\n      128401       0.00      0.00      0.00         1\\n      128419       0.00      0.00      0.00         1\\n      128431       0.00      0.00      0.00         1\\n      128447       1.00      1.00      1.00         1\\n      128455       0.00      0.00      0.00         1\\n      128480       0.00      0.00      0.00         1\\n      128514       0.00      0.00      0.00         1\\n      128532       0.00      0.00      0.00         1\\n      128552       0.00      0.00      0.00         1\\n      128559       0.00      0.00      0.00         1\\n      128561       0.00      0.00      0.00         1\\n      128565       0.00      0.00      0.00         1\\n      128583       0.00      0.00      0.00         1\\n      128622       0.00      0.00      0.00         1\\n      128630       0.00      0.00      0.00         1\\n      128699       0.00      0.00      0.00         1\\n      128704       0.00      0.00      0.00         1\\n      128706       1.00      1.00      1.00         1\\n      128708       0.00      0.00      0.00         1\\n      128747       1.00      1.00      1.00         1\\n      128748       0.00      0.00      0.00         1\\n      128756       0.00      0.00      0.00         1\\n      128761       0.00      0.00      0.00         1\\n      128777       0.00      0.00      0.00         1\\n      128778       0.00      0.00      0.00         1\\n      128816       0.00      0.00      0.00         1\\n      128840       0.00      0.00      0.00         1\\n      128844       1.00      1.00      1.00         1\\n      128846       1.00      1.00      1.00         1\\n      128866       0.00      0.00      0.00         1\\n      128869       0.00      0.00      0.00         1\\n      128905       0.00      0.00      0.00         1\\n      128923       0.00      0.00      0.00         1\\n      128928       1.00      1.00      1.00         1\\n      128943       0.00      0.00      0.00         1\\n      128945       0.00      0.00      0.00         1\\n      129015       0.00      0.00      0.00         1\\n      129017       0.00      0.00      0.00         1\\n      129035       0.00      0.00      0.00         1\\n      129048       0.00      0.00      0.00         1\\n      129067       1.00      1.00      1.00         1\\n      129097       0.00      0.00      0.00         1\\n      129106       0.00      0.00      0.00         1\\n      129113       0.00      0.00      0.00         1\\n      129116       1.00      1.00      1.00         1\\n      129124       0.00      0.00      0.00         1\\n      129143       0.00      0.00      0.00         1\\n      129184       0.00      0.00      0.00         1\\n      129207       1.00      1.00      1.00         1\\n      129222       1.00      1.00      1.00         1\\n      129252       0.00      0.00      0.00         1\\n      129269       0.00      0.00      0.00         1\\n      129275       0.00      0.00      0.00         1\\n      129283       0.00      0.00      0.00         1\\n      129286       0.00      0.00      0.00         1\\n      129306       0.00      0.00      0.00         1\\n      129358       0.00      0.00      0.00         1\\n      129375       0.00      0.00      0.00         1\\n      129376       1.00      1.00      1.00         1\\n      129384       0.00      0.00      0.00         1\\n      129407       0.00      0.00      0.00         1\\n      129459       1.00      1.00      1.00         1\\n      129500       0.00      0.00      0.00         1\\n      129522       0.00      0.00      0.00         1\\n      129531       0.33      1.00      0.50         1\\n      129574       0.00      0.00      0.00         1\\n      129615       0.00      0.00      0.00         1\\n      129626       0.00      0.00      0.00         1\\n      129653       0.00      0.00      0.00         1\\n      129668       0.00      0.00      0.00         1\\n      129681       0.00      0.00      0.00         1\\n      129696       0.00      0.00      0.00         1\\n      129703       0.00      0.00      0.00         1\\n      129719       0.00      0.00      0.00         1\\n      129735       0.00      0.00      0.00         1\\n      129739       0.00      0.00      0.00         1\\n      129757       1.00      1.00      1.00         1\\n      129772       0.00      0.00      0.00         1\\n      129821       0.00      0.00      0.00         1\\n      129831       0.00      0.00      0.00         1\\n      129851       0.00      0.00      0.00         1\\n      129926       0.00      0.00      0.00         1\\n      129947       1.00      1.00      1.00         1\\n      129989       0.00      0.00      0.00         1\\n      130005       0.00      0.00      0.00         1\\n      130034       0.00      0.00      0.00         1\\n      130068       0.00      0.00      0.00         1\\n      130094       0.00      0.00      0.00         1\\n      130098       0.00      0.00      0.00         1\\n      130107       0.00      0.00      0.00         1\\n      130123       0.00      0.00      0.00         1\\n      130126       0.00      0.00      0.00         1\\n      130152       0.00      0.00      0.00         1\\n      130179       0.00      0.00      0.00         1\\n      130209       0.00      0.00      0.00         1\\n      130222       0.00      0.00      0.00         1\\n      130240       0.12      1.00      0.22         1\\n      130292       0.00      0.00      0.00         1\\n      130329       0.00      0.00      0.00         1\\n      130336       0.00      0.00      0.00         1\\n      130344       0.00      0.00      0.00         1\\n      130355       0.00      0.00      0.00         1\\n      130370       1.00      1.00      1.00         1\\n      130376       0.00      0.00      0.00         1\\n      130464       0.00      0.00      0.00         1\\n      130469       0.00      0.00      0.00         1\\n      130482       0.00      0.00      0.00         1\\n      130575       1.00      1.00      1.00         1\\n      130579       0.00      0.00      0.00         1\\n      130592       0.00      0.00      0.00         1\\n      130602       1.00      1.00      1.00         1\\n      130605       0.00      0.00      0.00         1\\n      130637       0.00      0.00      0.00         1\\n      130676       0.00      0.00      0.00         1\\n      130678       0.50      1.00      0.67         1\\n      130688       0.00      0.00      0.00         1\\n      130704       1.00      1.00      1.00         1\\n      130727       1.00      1.00      1.00         1\\n      130730       0.00      0.00      0.00         1\\n      130758       0.00      0.00      0.00         1\\n      130767       0.00      0.00      0.00         1\\n      130775       0.00      0.00      0.00         1\\n      130788       0.00      0.00      0.00         1\\n      130797       0.00      0.00      0.00         1\\n      130800       0.00      0.00      0.00         1\\n      130866       0.00      0.00      0.00         1\\n      130870       0.00      0.00      0.00         1\\n      130901       0.00      0.00      0.00         1\\n      130907       0.00      0.00      0.00         1\\n      130917       0.00      0.00      0.00         1\\n      130919       0.00      0.00      0.00         1\\n      130925       0.00      0.00      0.00         1\\n      130927       0.00      0.00      0.00         1\\n      130984       0.00      0.00      0.00         1\\n      130987       0.50      1.00      0.67         1\\n      131005       0.00      0.00      0.00         1\\n      131069       0.00      0.00      0.00         1\\n      131073       0.00      0.00      0.00         1\\n      131077       1.00      1.00      1.00         1\\n      131086       1.00      1.00      1.00         1\\n      131095       0.00      0.00      0.00         1\\n      131119       1.00      1.00      1.00         1\\n      131126       1.00      1.00      1.00         1\\n      131207       0.00      0.00      0.00         1\\n      131235       0.00      0.00      0.00         1\\n      131246       0.00      0.00      0.00         1\\n      131258       1.00      1.00      1.00         1\\n      131265       0.00      0.00      0.00         1\\n      131294       0.00      0.00      0.00         1\\n      131301       0.00      0.00      0.00         1\\n      131328       0.00      0.00      0.00         1\\n      131338       0.00      0.00      0.00         1\\n      131342       1.00      1.00      1.00         1\\n      131352       0.00      0.00      0.00         1\\n      131360       0.00      0.00      0.00         1\\n      131373       0.00      0.00      0.00         1\\n      131388       1.00      1.00      1.00         1\\n      131406       1.00      1.00      1.00         1\\n      131413       0.00      0.00      0.00         1\\n      131430       0.00      0.00      0.00         1\\n      131475       0.00      0.00      0.00         1\\n      131580       1.00      1.00      1.00         1\\n      131584       1.00      1.00      1.00         1\\n      131586       0.00      0.00      0.00         1\\n      131588       0.00      0.00      0.00         1\\n      131600       1.00      1.00      1.00         1\\n      131644       0.00      0.00      0.00         1\\n      131712       0.00      0.00      0.00         1\\n      131716       0.00      0.00      0.00         1\\n      131732       0.00      0.00      0.00         1\\n      131754       1.00      1.00      1.00         1\\n      131803       0.00      0.00      0.00         1\\n      131837       0.00      0.00      0.00         1\\n      131845       0.00      0.00      0.00         1\\n      131869       0.33      1.00      0.50         1\\n      131911       0.00      0.00      0.00         1\\n      131918       0.00      0.00      0.00         1\\n      131957       1.00      1.00      1.00         1\\n      131962       0.00      0.00      0.00         1\\n      131993       0.00      0.00      0.00         1\\n      131997       0.00      0.00      0.00         1\\n      132055       0.00      0.00      0.00         1\\n      132068       0.00      0.00      0.00         1\\n      132087       0.00      0.00      0.00         1\\n      132098       0.00      0.00      0.00         1\\n      132111       0.00      0.00      0.00         1\\n      132113       1.00      1.00      1.00         1\\n      132125       0.00      0.00      0.00         1\\n      132129       0.00      0.00      0.00         1\\n      132163       0.00      0.00      0.00         1\\n      132176       0.00      0.00      0.00         1\\n      132177       0.00      0.00      0.00         1\\n      132188       0.00      0.00      0.00         1\\n      132198       0.00      0.00      0.00         1\\n      132215       0.00      0.00      0.00         1\\n      132223       0.00      0.00      0.00         1\\n      132279       0.00      0.00      0.00         1\\n      132295       0.00      0.00      0.00         1\\n      132361       0.00      0.00      0.00         1\\n      132387       1.00      1.00      1.00         1\\n      132398       0.00      0.00      0.00         1\\n      132407       0.00      0.00      0.00         1\\n      132409       1.00      1.00      1.00         1\\n      132410       0.00      0.00      0.00         1\\n      132426       0.00      0.00      0.00         1\\n      132440       1.00      1.00      1.00         1\\n      132456       0.00      0.00      0.00         1\\n      132463       0.00      0.00      0.00         1\\n      132484       0.00      0.00      0.00         1\\n      132489       0.00      0.00      0.00         1\\n      132499       0.00      0.00      0.00         1\\n      132503       0.00      0.00      0.00         1\\n      132520       0.00      0.00      0.00         1\\n      132530       0.00      0.00      0.00         1\\n      132591       0.00      0.00      0.00         1\\n      132615       0.00      0.00      0.00         1\\n      132643       1.00      1.00      1.00         1\\n      132657       0.50      1.00      0.67         1\\n      132660       0.50      1.00      0.67         1\\n      132711       0.00      0.00      0.00         1\\n      132750       1.00      1.00      1.00         1\\n      132768       1.00      1.00      1.00         1\\n      132815       0.00      0.00      0.00         1\\n      132822       0.00      0.00      0.00         1\\n      132851       1.00      1.00      1.00         1\\n      132857       0.00      0.00      0.00         1\\n      132868       0.00      0.00      0.00         1\\n      132869       0.00      0.00      0.00         1\\n      132884       0.00      0.00      0.00         1\\n      132890       0.00      0.00      0.00         1\\n      132992       1.00      1.00      1.00         1\\n      132998       1.00      1.00      1.00         1\\n      133005       1.00      1.00      1.00         1\\n      133006       0.00      0.00      0.00         1\\n      133014       0.00      0.00      0.00         1\\n      133055       1.00      1.00      1.00         1\\n      133066       0.00      0.00      0.00         1\\n      133067       1.00      1.00      1.00         1\\n      133068       1.00      1.00      1.00         1\\n      133089       0.00      0.00      0.00         1\\n      133094       1.00      1.00      1.00         1\\n      133100       0.00      0.00      0.00         1\\n      133103       0.00      0.00      0.00         1\\n      133116       0.00      0.00      0.00         1\\n      133124       0.00      0.00      0.00         1\\n      133127       0.00      0.00      0.00         1\\n      133131       0.00      0.00      0.00         1\\n      133147       1.00      1.00      1.00         1\\n      133161       1.00      1.00      1.00         1\\n      133165       0.00      0.00      0.00         1\\n      133168       0.50      1.00      0.67         1\\n      133173       0.00      0.00      0.00         1\\n      133185       0.00      0.00      0.00         1\\n      133191       0.00      0.00      0.00         1\\n      133194       0.00      0.00      0.00         1\\n      133202       1.00      1.00      1.00         1\\n      133228       0.00      0.00      0.00         1\\n      133274       0.00      0.00      0.00         1\\n      133280       0.00      0.00      0.00         1\\n      133281       0.00      0.00      0.00         1\\n      133287       0.00      0.00      0.00         1\\n      133308       0.00      0.00      0.00         1\\n      133348       0.00      0.00      0.00         1\\n      133405       0.00      0.00      0.00         1\\n      133419       0.00      0.00      0.00         1\\n      133434       0.33      1.00      0.50         1\\n      133437       1.00      1.00      1.00         1\\n      133443       0.50      1.00      0.67         1\\n      133467       0.00      0.00      0.00         1\\n      133479       0.00      0.00      0.00         1\\n      133486       0.00      0.00      0.00         1\\n      133499       1.00      1.00      1.00         1\\n      133517       0.00      0.00      0.00         1\\n      133525       0.00      0.00      0.00         1\\n      133528       0.00      0.00      0.00         1\\n      133551       1.00      1.00      1.00         1\\n      133570       0.00      0.00      0.00         1\\n      133575       1.00      1.00      1.00         1\\n      133654       0.00      0.00      0.00         1\\n      133663       1.00      1.00      1.00         1\\n      133674       0.00      0.00      0.00         1\\n      133680       0.25      1.00      0.40         1\\n      133691       0.00      0.00      0.00         1\\n      133699       1.00      1.00      1.00         1\\n      133721       1.00      1.00      1.00         1\\n      133742       0.00      0.00      0.00         1\\n      133747       0.00      0.00      0.00         1\\n      133806       1.00      1.00      1.00         1\\n      133808       1.00      1.00      1.00         1\\n      133817       0.00      0.00      0.00         1\\n      133832       0.00      0.00      0.00         1\\n      133860       0.00      0.00      0.00         1\\n      133874       1.00      1.00      1.00         1\\n      133890       0.00      0.00      0.00         1\\n      133930       0.00      0.00      0.00         1\\n      133940       0.00      0.00      0.00         1\\n      133954       0.00      0.00      0.00         1\\n      133966       0.00      0.00      0.00         1\\n      133974       0.00      0.00      0.00         1\\n      134005       0.00      0.00      0.00         1\\n      134008       0.00      0.00      0.00         1\\n      134014       0.00      0.00      0.00         1\\n      134020       0.00      0.00      0.00         1\\n      134024       0.00      0.00      0.00         1\\n      134080       0.00      0.00      0.00         1\\n      134082       0.00      0.00      0.00         1\\n      134103       0.00      0.00      0.00         1\\n      134142       1.00      1.00      1.00         1\\n      134161       0.00      0.00      0.00         1\\n      134165       0.00      0.00      0.00         1\\n      134179       0.00      0.00      0.00         1\\n      134197       0.00      0.00      0.00         1\\n      134251       1.00      1.00      1.00         1\\n      134256       0.50      1.00      0.67         1\\n      134268       1.00      1.00      1.00         1\\n      134296       0.00      0.00      0.00         1\\n      134309       1.00      1.00      1.00         1\\n      134318       1.00      1.00      1.00         1\\n      134320       0.00      0.00      0.00         1\\n      134357       0.00      0.00      0.00         1\\n      134364       0.00      0.00      0.00         1\\n      134379       0.00      0.00      0.00         1\\n      134387       1.00      1.00      1.00         1\\n      134409       0.00      0.00      0.00         1\\n      134474       0.00      0.00      0.00         1\\n      134482       0.00      0.00      0.00         1\\n      134488       0.00      0.00      0.00         1\\n      134494       0.00      0.00      0.00         1\\n      134501       0.00      0.00      0.00         1\\n      134508       1.00      1.00      1.00         1\\n      134524       1.00      1.00      1.00         1\\n      134528       0.00      0.00      0.00         1\\n      134531       1.00      1.00      1.00         1\\n      134586       0.00      0.00      0.00         1\\n      134597       1.00      1.00      1.00         1\\n      134618       1.00      1.00      1.00         1\\n      134649       0.00      0.00      0.00         1\\n      134678       0.00      0.00      0.00         1\\n      134684       0.00      0.00      0.00         1\\n      134689       0.00      0.00      0.00         1\\n      134696       0.00      0.00      0.00         1\\n      134736       0.00      0.00      0.00         1\\n      134764       0.00      0.00      0.00         1\\n      134767       0.00      0.00      0.00         1\\n      134781       0.00      0.00      0.00         1\\n      134812       1.00      1.00      1.00         1\\n      134887       1.00      1.00      1.00         1\\n      134929       1.00      1.00      1.00         1\\n      134942       0.00      0.00      0.00         1\\n      134959       0.00      0.00      0.00         1\\n      135006       0.00      0.00      0.00         1\\n      135049       0.00      0.00      0.00         1\\n      135075       1.00      1.00      1.00         1\\n      135081       0.00      0.00      0.00         1\\n      135097       1.00      1.00      1.00         1\\n      135105       0.00      0.00      0.00         1\\n      135136       0.00      0.00      0.00         1\\n      135139       0.00      0.00      0.00         1\\n      135140       0.00      0.00      0.00         1\\n      135146       0.00      0.00      0.00         1\\n      135150       0.00      0.00      0.00         1\\n      135252       1.00      1.00      1.00         1\\n      135278       0.00      0.00      0.00         1\\n      135306       1.00      1.00      1.00         1\\n      135374       0.00      0.00      0.00         1\\n      135408       0.00      0.00      0.00         1\\n      135428       0.00      0.00      0.00         1\\n      135461       0.00      0.00      0.00         1\\n      135468       1.00      1.00      1.00         1\\n      135469       0.00      0.00      0.00         1\\n      135510       0.00      0.00      0.00         1\\n      135514       0.00      0.00      0.00         1\\n      135515       0.00      0.00      0.00         1\\n      135532       0.00      0.00      0.00         1\\n      135538       0.00      0.00      0.00         1\\n      135601       1.00      1.00      1.00         1\\n      135633       0.00      0.00      0.00         1\\n      135650       0.00      0.00      0.00         1\\n      135677       0.00      0.00      0.00         1\\n      135709       0.00      0.00      0.00         1\\n      135712       0.00      0.00      0.00         1\\n      135731       0.00      0.00      0.00         1\\n      135737       0.00      0.00      0.00         1\\n      135749       0.00      0.00      0.00         1\\n      135754       0.00      0.00      0.00         1\\n      135783       1.00      1.00      1.00         1\\n      135804       1.00      1.00      1.00         1\\n      135829       1.00      1.00      1.00         1\\n      135845       0.00      0.00      0.00         1\\n      135895       1.00      1.00      1.00         1\\n      135906       1.00      1.00      1.00         1\\n      135908       0.00      0.00      0.00         1\\n      135936       0.00      0.00      0.00         1\\n      135937       1.00      1.00      1.00         1\\n      135938       1.00      1.00      1.00         1\\n      135947       1.00      1.00      1.00         1\\n      135952       0.00      0.00      0.00         1\\n      136013       0.00      0.00      0.00         1\\n      136032       0.00      0.00      0.00         1\\n      136034       1.00      1.00      1.00         1\\n      136066       0.00      0.00      0.00         1\\n      136076       0.00      0.00      0.00         1\\n      136080       1.00      1.00      1.00         1\\n      136104       0.00      0.00      0.00         1\\n      136129       0.00      0.00      0.00         1\\n      136135       1.00      1.00      1.00         1\\n      136159       0.00      0.00      0.00         1\\n      136178       1.00      1.00      1.00         1\\n      136197       0.00      0.00      0.00         1\\n      136198       0.00      0.00      0.00         1\\n      136214       0.00      0.00      0.00         1\\n      136258       1.00      1.00      1.00         1\\n      136281       0.00      0.00      0.00         1\\n      136329       0.00      0.00      0.00         1\\n      136340       0.00      0.00      0.00         1\\n      136349       0.00      0.00      0.00         1\\n      136373       0.00      0.00      0.00         1\\n      136377       0.00      0.00      0.00         1\\n      136405       0.00      0.00      0.00         1\\n      136412       0.00      0.00      0.00         1\\n      136416       0.00      0.00      0.00         1\\n      136489       0.50      1.00      0.67         1\\n      136492       0.00      0.00      0.00         1\\n      136537       0.00      0.00      0.00         1\\n      136555       1.00      1.00      1.00         1\\n      136556       0.00      0.00      0.00         1\\n      136574       0.00      0.00      0.00         1\\n      136578       1.00      1.00      1.00         1\\n      136584       0.00      0.00      0.00         1\\n      136588       1.00      1.00      1.00         1\\n      136589       0.00      0.00      0.00         1\\n      136597       0.00      0.00      0.00         1\\n      136612       1.00      1.00      1.00         1\\n      136626       1.00      1.00      1.00         1\\n      136631       1.00      1.00      1.00         1\\n      136661       0.00      0.00      0.00         1\\n      136687       0.00      0.00      0.00         1\\n      136710       0.00      0.00      0.00         1\\n      136815       0.00      0.00      0.00         1\\n      136818       0.00      0.00      0.00         1\\n      136868       1.00      1.00      1.00         1\\n      136899       0.00      0.00      0.00         1\\n      136905       0.50      1.00      0.67         1\\n      136910       0.00      0.00      0.00         1\\n      136913       1.00      1.00      1.00         1\\n      136918       0.00      0.00      0.00         1\\n      136941       1.00      1.00      1.00         1\\n      136954       0.00      0.00      0.00         1\\n      136979       0.00      0.00      0.00         1\\n      136990       0.00      0.00      0.00         1\\n      137027       0.00      0.00      0.00         1\\n      137038       1.00      1.00      1.00         1\\n      137041       0.00      0.00      0.00         1\\n      137057       1.00      1.00      1.00         1\\n      137090       1.00      1.00      1.00         1\\n      137104       0.00      0.00      0.00         1\\n      137123       0.00      0.00      0.00         1\\n      137125       0.00      0.00      0.00         1\\n      137147       0.00      0.00      0.00         1\\n      137154       0.00      0.00      0.00         1\\n      137160       0.00      0.00      0.00         1\\n      137176       1.00      1.00      1.00         1\\n      137179       0.00      0.00      0.00         1\\n      137221       0.00      0.00      0.00         1\\n      137241       0.00      0.00      0.00         1\\n      137249       1.00      1.00      1.00         1\\n      137252       0.00      0.00      0.00         1\\n      137299       1.00      1.00      1.00         1\\n      137367       0.00      0.00      0.00         1\\n      137377       0.00      0.00      0.00         1\\n      137378       0.00      0.00      0.00         1\\n      137383       0.00      0.00      0.00         1\\n      137413       0.00      0.00      0.00         1\\n      137416       0.00      0.00      0.00         1\\n      137417       0.00      0.00      0.00         1\\n      137422       0.00      0.00      0.00         1\\n      137426       0.00      0.00      0.00         1\\n      137439       1.00      1.00      1.00         1\\n      137458       1.00      1.00      1.00         1\\n      137487       0.00      0.00      0.00         1\\n      137501       0.00      0.00      0.00         1\\n      137504       0.00      0.00      0.00         1\\n      137562       0.00      0.00      0.00         1\\n      137604       0.00      0.00      0.00         1\\n      137618       0.00      0.00      0.00         1\\n      137628       0.00      0.00      0.00         1\\n      137653       0.00      0.00      0.00         1\\n      137657       0.00      0.00      0.00         1\\n      137669       0.00      0.00      0.00         1\\n      137690       0.00      0.00      0.00         1\\n      137699       0.00      0.00      0.00         1\\n      137711       0.00      0.00      0.00         1\\n      137713       0.00      0.00      0.00         1\\n      137720       0.00      0.00      0.00         1\\n      137727       1.00      1.00      1.00         1\\n      137782       0.00      0.00      0.00         1\\n      137788       1.00      1.00      1.00         1\\n      137821       0.00      0.00      0.00         1\\n      137834       0.00      0.00      0.00         1\\n      137855       0.00      0.00      0.00         1\\n      137865       0.00      0.00      0.00         1\\n      137885       1.00      1.00      1.00         1\\n      137894       0.00      0.00      0.00         1\\n      137898       0.00      0.00      0.00         1\\n      137922       0.00      0.00      0.00         1\\n      137933       1.00      1.00      1.00         1\\n      137949       0.00      0.00      0.00         1\\n      137959       1.00      1.00      1.00         1\\n      137998       0.00      0.00      0.00         1\\n      138028       0.00      0.00      0.00         1\\n      138070       1.00      1.00      1.00         1\\n      138116       0.00      0.00      0.00         1\\n      138175       1.00      1.00      1.00         1\\n      138177       1.00      1.00      1.00         1\\n      138180       0.00      0.00      0.00         1\\n      138182       0.00      0.00      0.00         1\\n      138246       0.00      0.00      0.00         1\\n      138262       1.00      1.00      1.00         1\\n      138282       0.00      0.00      0.00         1\\n      138293       0.00      0.00      0.00         1\\n      138327       0.00      0.00      0.00         1\\n      138348       0.00      0.00      0.00         1\\n      138356       1.00      1.00      1.00         1\\n      138408       0.00      0.00      0.00         1\\n      138413       0.00      0.00      0.00         1\\n      138459       1.00      1.00      1.00         1\\n      138465       0.00      0.00      0.00         1\\n      138479       0.50      1.00      0.67         1\\n      138491       0.00      0.00      0.00         1\\n      138516       0.00      0.00      0.00         1\\n      138540       0.00      0.00      0.00         1\\n      138543       0.00      0.00      0.00         1\\n      138603       0.00      0.00      0.00         1\\n      138639       0.00      0.00      0.00         1\\n      138682       0.00      0.00      0.00         1\\n      138698       0.00      0.00      0.00         1\\n      138733       0.00      0.00      0.00         1\\n      138743       0.00      0.00      0.00         1\\n      138777       0.00      0.00      0.00         1\\n      138803       0.00      0.00      0.00         1\\n      138826       0.00      0.00      0.00         1\\n      138833       0.00      0.00      0.00         1\\n      138880       1.00      1.00      1.00         1\\n      138925       0.00      0.00      0.00         1\\n      138977       1.00      1.00      1.00         1\\n      139019       1.00      1.00      1.00         1\\n      139052       0.00      0.00      0.00         1\\n      139056       0.00      0.00      0.00         1\\n      139078       1.00      1.00      1.00         1\\n      139096       1.00      1.00      1.00         1\\n      139098       0.00      0.00      0.00         1\\n      139099       0.00      0.00      0.00         1\\n      139108       0.50      1.00      0.67         1\\n      139110       0.00      0.00      0.00         1\\n      139112       0.00      0.00      0.00         1\\n      139142       0.00      0.00      0.00         1\\n      139152       0.00      0.00      0.00         1\\n      139154       0.50      1.00      0.67         1\\n      139162       0.00      0.00      0.00         1\\n      139172       0.00      0.00      0.00         1\\n      139207       0.00      0.00      0.00         1\\n      139221       0.50      1.00      0.67         1\\n      139244       0.00      0.00      0.00         1\\n      139278       0.00      0.00      0.00         1\\n      139288       0.00      0.00      0.00         1\\n      139348       0.00      0.00      0.00         1\\n      139357       0.00      0.00      0.00         1\\n      139368       0.00      0.00      0.00         1\\n      139385       0.00      0.00      0.00         1\\n      139386       1.00      1.00      1.00         1\\n      139391       1.00      1.00      1.00         1\\n      139413       0.00      0.00      0.00         1\\n      139426       0.00      0.00      0.00         1\\n      139434       0.00      0.00      0.00         1\\n      139440       1.00      1.00      1.00         1\\n      139453       0.00      0.00      0.00         1\\n      139455       0.00      0.00      0.00         1\\n      139464       0.00      0.00      0.00         1\\n      139471       0.50      1.00      0.67         1\\n      139472       1.00      1.00      1.00         1\\n      139493       0.00      0.00      0.00         1\\n      139504       0.00      0.00      0.00         1\\n      139539       0.00      0.00      0.00         1\\n      139580       0.00      0.00      0.00         1\\n      139584       1.00      1.00      1.00         1\\n      139585       0.00      0.00      0.00         1\\n      139587       0.00      0.00      0.00         1\\n      139614       1.00      1.00      1.00         1\\n      139656       0.00      0.00      0.00         1\\n      139718       0.00      0.00      0.00         1\\n      139727       0.00      0.00      0.00         1\\n      139729       0.00      0.00      0.00         1\\n      139737       0.00      0.00      0.00         1\\n      139782       1.00      1.00      1.00         1\\n      139819       0.00      0.00      0.00         1\\n      139854       1.00      1.00      1.00         1\\n      139860       0.00      0.00      0.00         1\\n      139864       1.00      1.00      1.00         1\\n      139865       0.00      0.00      0.00         1\\n      139870       0.00      0.00      0.00         1\\n      139888       0.00      0.00      0.00         1\\n      139906       0.00      0.00      0.00         1\\n      139930       0.50      1.00      0.67         1\\n      139950       0.00      0.00      0.00         1\\n      139951       0.00      0.00      0.00         1\\n      139952       0.00      0.00      0.00         1\\n      139956       0.00      0.00      0.00         1\\n      139973       0.00      0.00      0.00         1\\n      140004       0.00      0.00      0.00         1\\n      140019       0.00      0.00      0.00         1\\n      140109       0.00      0.00      0.00         1\\n      140110       0.00      0.00      0.00         1\\n      140226       0.00      0.00      0.00         1\\n      140231       0.00      0.00      0.00         1\\n      140264       0.00      0.00      0.00         1\\n      140288       0.00      0.00      0.00         1\\n      140295       0.00      0.00      0.00         1\\n      140320       0.00      0.00      0.00         1\\n      140323       1.00      1.00      1.00         1\\n      140367       0.50      1.00      0.67         1\\n      140393       0.50      1.00      0.67         1\\n      140407       0.00      0.00      0.00         1\\n      140423       0.00      0.00      0.00         1\\n      140448       0.00      0.00      0.00         1\\n      140450       0.00      0.00      0.00         1\\n      140465       0.00      0.00      0.00         1\\n      140490       1.00      1.00      1.00         1\\n      140525       1.00      1.00      1.00         1\\n      140527       0.00      0.00      0.00         1\\n      140602       0.00      0.00      0.00         1\\n      140606       0.00      0.00      0.00         1\\n      140612       0.00      0.00      0.00         1\\n      140641       0.00      0.00      0.00         1\\n      140643       0.00      0.00      0.00         1\\n      140653       0.00      0.00      0.00         1\\n      140719       0.00      0.00      0.00         1\\n      140725       0.00      0.00      0.00         1\\n      140743       1.00      1.00      1.00         1\\n      140746       0.00      0.00      0.00         1\\n      140748       0.00      0.00      0.00         1\\n      140791       0.00      0.00      0.00         1\\n      140809       0.00      0.00      0.00         1\\n      140818       0.00      0.00      0.00         1\\n      140844       0.00      0.00      0.00         1\\n      140846       0.00      0.00      0.00         1\\n      140854       0.00      0.00      0.00         1\\n      140862       0.00      0.00      0.00         1\\n      140931       0.00      0.00      0.00         1\\n      141003       0.00      0.00      0.00         1\\n      141027       1.00      1.00      1.00         1\\n      141036       0.00      0.00      0.00         1\\n      141037       0.00      0.00      0.00         1\\n      141038       0.00      0.00      0.00         1\\n      141072       0.00      0.00      0.00         1\\n      141079       0.00      0.00      0.00         1\\n      141113       0.00      0.00      0.00         1\\n      141179       0.00      0.00      0.00         1\\n      141186       0.00      0.00      0.00         1\\n      141204       0.00      0.00      0.00         1\\n      141212       1.00      1.00      1.00         1\\n      141217       0.00      0.00      0.00         1\\n      141225       0.00      0.00      0.00         1\\n      141228       0.00      0.00      0.00         1\\n      141241       0.00      0.00      0.00         1\\n      141305       0.00      0.00      0.00         1\\n      141312       0.00      0.00      0.00         1\\n      141322       0.00      0.00      0.00         1\\n      141342       1.00      1.00      1.00         1\\n      141367       0.00      0.00      0.00         1\\n      141379       0.00      0.00      0.00         1\\n      141403       0.00      0.00      0.00         1\\n      141419       1.00      1.00      1.00         1\\n      141524       0.00      0.00      0.00         1\\n      141549       0.00      0.00      0.00         1\\n      141568       0.00      0.00      0.00         1\\n      141576       0.00      0.00      0.00         1\\n      141579       0.50      1.00      0.67         1\\n      141625       1.00      1.00      1.00         1\\n      141651       0.00      0.00      0.00         1\\n      141657       0.00      0.00      0.00         1\\n      141663       0.00      0.00      0.00         1\\n      141670       1.00      1.00      1.00         1\\n      141686       0.00      0.00      0.00         1\\n      141721       1.00      1.00      1.00         1\\n      141730       0.00      0.00      0.00         1\\n      141808       0.00      0.00      0.00         1\\n      141845       1.00      1.00      1.00         1\\n      141853       1.00      1.00      1.00         1\\n      141891       0.00      0.00      0.00         1\\n      141895       0.00      0.00      0.00         1\\n      141932       1.00      1.00      1.00         1\\n      141941       1.00      1.00      1.00         1\\n      141944       0.00      0.00      0.00         1\\n      141948       0.00      0.00      0.00         1\\n      141973       1.00      1.00      1.00         1\\n      141989       0.00      0.00      0.00         1\\n      142006       1.00      1.00      1.00         1\\n      142016       0.00      0.00      0.00         1\\n      142050       0.00      0.00      0.00         1\\n      142051       0.00      0.00      0.00         1\\n      142124       0.00      0.00      0.00         1\\n      142132       0.00      0.00      0.00         1\\n      142152       1.00      1.00      1.00         1\\n      142162       0.00      0.00      0.00         1\\n      142184       0.00      0.00      0.00         1\\n      142219       0.00      0.00      0.00         1\\n      142260       0.00      0.00      0.00         1\\n      142280       0.00      0.00      0.00         1\\n      142298       0.00      0.00      0.00         1\\n      142302       1.00      1.00      1.00         1\\n      142311       0.00      0.00      0.00         1\\n      142326       0.00      0.00      0.00         1\\n      142344       0.00      0.00      0.00         1\\n      142378       1.00      1.00      1.00         1\\n      142382       0.00      0.00      0.00         1\\n      142394       0.00      0.00      0.00         1\\n      142408       0.00      0.00      0.00         1\\n      142436       0.00      0.00      0.00         1\\n      142437       0.00      0.00      0.00         1\\n      142451       1.00      1.00      1.00         1\\n      142454       0.00      0.00      0.00         1\\n      142466       1.00      1.00      1.00         1\\n      142470       1.00      1.00      1.00         1\\n      142472       0.00      0.00      0.00         1\\n      142473       0.00      0.00      0.00         1\\n      142514       0.00      0.00      0.00         1\\n      142530       0.00      0.00      0.00         1\\n      142548       0.00      0.00      0.00         1\\n      142565       0.00      0.00      0.00         1\\n      142568       0.00      0.00      0.00         1\\n      142573       0.00      0.00      0.00         1\\n      142612       0.00      0.00      0.00         1\\n      142614       0.00      0.00      0.00         1\\n      142639       0.00      0.00      0.00         1\\n      142643       0.00      0.00      0.00         1\\n      142669       0.00      0.00      0.00         1\\n      142692       0.00      0.00      0.00         1\\n      142733       0.00      0.00      0.00         1\\n      142773       0.00      0.00      0.00         1\\n      142781       0.00      0.00      0.00         1\\n      142786       0.00      0.00      0.00         1\\n      142788       0.00      0.00      0.00         1\\n      142832       0.00      0.00      0.00         1\\n      142835       0.00      0.00      0.00         1\\n      142857       0.00      0.00      0.00         1\\n      142859       0.00      0.00      0.00         1\\n      142872       0.00      0.00      0.00         1\\n      142914       0.00      0.00      0.00         1\\n      142944       1.00      1.00      1.00         1\\n      142949       0.00      0.00      0.00         1\\n      142981       0.00      0.00      0.00         1\\n      142995       0.00      0.00      0.00         1\\n      143003       0.00      0.00      0.00         1\\n      143014       0.00      0.00      0.00         1\\n      143021       0.00      0.00      0.00         1\\n      143028       0.00      0.00      0.00         1\\n      143090       1.00      1.00      1.00         1\\n      143120       0.00      0.00      0.00         1\\n      143126       1.00      1.00      1.00         1\\n      143179       0.00      0.00      0.00         1\\n      143186       0.50      1.00      0.67         1\\n      143199       0.00      0.00      0.00         1\\n      143204       0.00      0.00      0.00         1\\n      143235       0.00      0.00      0.00         1\\n      143290       0.00      0.00      0.00         1\\n      143291       1.00      1.00      1.00         1\\n      143306       1.00      1.00      1.00         1\\n      143331       0.00      0.00      0.00         1\\n      143347       1.00      1.00      1.00         1\\n      143357       1.00      1.00      1.00         1\\n      143359       0.00      0.00      0.00         1\\n      143422       0.00      0.00      0.00         1\\n      143476       0.00      0.00      0.00         1\\n      143490       0.00      0.00      0.00         1\\n      143514       0.00      0.00      0.00         1\\n      143570       0.00      0.00      0.00         1\\n      143576       0.00      0.00      0.00         1\\n      143585       0.00      0.00      0.00         1\\n      143599       1.00      1.00      1.00         1\\n      143615       0.00      0.00      0.00         1\\n      143616       0.00      0.00      0.00         1\\n      143629       0.00      0.00      0.00         1\\n      143633       1.00      1.00      1.00         1\\n      143652       1.00      1.00      1.00         1\\n      143658       1.00      1.00      1.00         1\\n      143674       0.00      0.00      0.00         1\\n      143685       0.00      0.00      0.00         1\\n      143688       0.00      0.00      0.00         1\\n      143751       1.00      1.00      1.00         1\\n      143770       1.00      1.00      1.00         1\\n      143775       0.00      0.00      0.00         1\\n      143817       0.00      0.00      0.00         1\\n      143855       1.00      1.00      1.00         1\\n      143881       0.00      0.00      0.00         1\\n      143901       0.00      0.00      0.00         1\\n      143933       0.00      0.00      0.00         1\\n      143941       0.00      0.00      0.00         1\\n      143977       0.00      0.00      0.00         1\\n      144038       1.00      1.00      1.00         1\\n      144104       0.00      0.00      0.00         1\\n      144125       1.00      1.00      1.00         1\\n      144153       0.00      0.00      0.00         1\\n      144218       0.00      0.00      0.00         1\\n      144221       0.00      0.00      0.00         1\\n      144226       1.00      1.00      1.00         1\\n      144227       1.00      1.00      1.00         1\\n      144283       0.00      0.00      0.00         1\\n      144311       0.00      0.00      0.00         1\\n      144349       1.00      1.00      1.00         1\\n      144357       1.00      1.00      1.00         1\\n      144368       0.00      0.00      0.00         1\\n      144369       0.00      0.00      0.00         1\\n      144373       0.00      0.00      0.00         1\\n      144406       1.00      1.00      1.00         1\\n      144424       1.00      1.00      1.00         1\\n      144509       0.00      0.00      0.00         1\\n      144513       0.00      0.00      0.00         1\\n      144524       1.00      1.00      1.00         1\\n      144529       0.00      0.00      0.00         1\\n      144530       0.00      0.00      0.00         1\\n      144533       0.00      0.00      0.00         1\\n      144548       0.00      0.00      0.00         1\\n      144576       0.00      0.00      0.00         1\\n      144590       0.00      0.00      0.00         1\\n      144623       1.00      1.00      1.00         1\\n      144648       0.00      0.00      0.00         1\\n      144656       0.00      0.00      0.00         1\\n      144802       0.00      0.00      0.00         1\\n      144835       0.00      0.00      0.00         1\\n      144840       0.00      0.00      0.00         1\\n      144845       1.00      1.00      1.00         1\\n      144889       1.00      1.00      1.00         1\\n      144910       0.00      0.00      0.00         1\\n      144945       0.00      0.00      0.00         1\\n      144958       0.00      0.00      0.00         1\\n      144993       0.00      0.00      0.00         1\\n      144996       0.00      0.00      0.00         1\\n      145012       0.00      0.00      0.00         1\\n      145088       1.00      1.00      1.00         1\\n      145111       1.00      1.00      1.00         1\\n      145127       0.00      0.00      0.00         1\\n      145136       0.00      0.00      0.00         1\\n      145156       0.00      0.00      0.00         1\\n      145191       0.00      0.00      0.00         1\\n      145205       1.00      1.00      1.00         1\\n      145216       0.00      0.00      0.00         1\\n      145274       0.00      0.00      0.00         1\\n      145280       0.00      0.00      0.00         1\\n      145285       0.00      0.00      0.00         1\\n      145386       1.00      1.00      1.00         1\\n      145391       0.00      0.00      0.00         1\\n      145408       0.00      0.00      0.00         1\\n      145430       0.00      0.00      0.00         1\\n      145476       1.00      1.00      1.00         1\\n      145477       0.00      0.00      0.00         1\\n      145492       0.00      0.00      0.00         1\\n      145497       0.00      0.00      0.00         1\\n      145522       0.00      0.00      0.00         1\\n      145552       0.00      0.00      0.00         1\\n      145554       0.00      0.00      0.00         1\\n      145572       0.00      0.00      0.00         1\\n      145579       1.00      1.00      1.00         1\\n      145583       0.00      0.00      0.00         1\\n      145656       1.00      1.00      1.00         1\\n      145681       1.00      1.00      1.00         1\\n      145713       1.00      1.00      1.00         1\\n      145745       0.00      0.00      0.00         1\\n      145772       1.00      1.00      1.00         1\\n      145774       0.00      0.00      0.00         1\\n      145794       0.00      0.00      0.00         1\\n      145811       0.00      0.00      0.00         1\\n      145813       0.00      0.00      0.00         1\\n      145868       1.00      1.00      1.00         1\\n      145875       0.00      0.00      0.00         1\\n      145893       0.00      0.00      0.00         1\\n      145914       0.00      0.00      0.00         1\\n      145930       0.00      0.00      0.00         1\\n      145937       0.00      0.00      0.00         1\\n      145977       1.00      1.00      1.00         1\\n      145998       0.00      0.00      0.00         1\\n      146003       0.00      0.00      0.00         1\\n      146012       0.00      0.00      0.00         1\\n      146039       0.00      0.00      0.00         1\\n      146063       1.00      1.00      1.00         1\\n      146091       1.00      1.00      1.00         1\\n      146097       0.00      0.00      0.00         1\\n      146098       1.00      1.00      1.00         1\\n      146118       0.00      0.00      0.00         1\\n      146136       0.00      0.00      0.00         1\\n      146191       0.00      0.00      0.00         1\\n      146192       0.00      0.00      0.00         1\\n      146193       0.00      0.00      0.00         1\\n      146271       0.50      1.00      0.67         1\\n      146274       0.00      0.00      0.00         1\\n      146283       0.00      0.00      0.00         1\\n      146304       0.00      0.00      0.00         1\\n      146309       0.50      1.00      0.67         1\\n      146364       0.00      0.00      0.00         1\\n      146371       1.00      1.00      1.00         1\\n      146401       1.00      1.00      1.00         1\\n      146415       0.00      0.00      0.00         1\\n      146475       0.00      0.00      0.00         1\\n      146476       1.00      1.00      1.00         1\\n      146480       0.00      0.00      0.00         1\\n      146490       0.00      0.00      0.00         1\\n      146494       0.00      0.00      0.00         1\\n      146512       0.00      0.00      0.00         1\\n      146517       1.00      1.00      1.00         1\\n      146531       0.50      1.00      0.67         1\\n      146532       0.00      0.00      0.00         1\\n      146539       0.00      0.00      0.00         1\\n      146545       0.00      0.00      0.00         1\\n      146554       1.00      1.00      1.00         1\\n      146558       0.00      0.00      0.00         1\\n      146593       0.00      0.00      0.00         1\\n      146628       1.00      1.00      1.00         1\\n      146630       0.00      0.00      0.00         1\\n      146641       0.00      0.00      0.00         1\\n      146659       0.00      0.00      0.00         1\\n      146672       0.00      0.00      0.00         1\\n      146677       0.00      0.00      0.00         1\\n      146734       0.00      0.00      0.00         1\\n      146739       1.00      1.00      1.00         1\\n      146773       0.00      0.00      0.00         1\\n      146802       0.00      0.00      0.00         1\\n      146809       0.00      0.00      0.00         1\\n      146833       0.00      0.00      0.00         1\\n      146872       1.00      1.00      1.00         1\\n      146897       0.00      0.00      0.00         1\\n      146902       0.00      0.00      0.00         1\\n      146932       0.00      0.00      0.00         1\\n      146950       0.00      0.00      0.00         1\\n      146968       0.00      0.00      0.00         1\\n      146982       0.00      0.00      0.00         1\\n      146990       0.00      0.00      0.00         1\\n      146993       0.00      0.00      0.00         1\\n      146997       0.00      0.00      0.00         1\\n      147009       0.00      0.00      0.00         1\\n      147094       1.00      1.00      1.00         1\\n      147124       0.00      0.00      0.00         1\\n      147127       0.00      0.00      0.00         1\\n      147135       1.00      1.00      1.00         1\\n      147166       0.00      0.00      0.00         1\\n      147178       1.00      1.00      1.00         1\\n      147189       1.00      1.00      1.00         1\\n      147231       0.00      0.00      0.00         1\\n      147232       0.00      0.00      0.00         1\\n      147233       0.00      0.00      0.00         1\\n      147257       0.00      0.00      0.00         1\\n      147284       0.00      0.00      0.00         1\\n      147294       0.00      0.00      0.00         1\\n      147352       0.00      0.00      0.00         1\\n      147354       0.00      0.00      0.00         1\\n      147386       0.00      0.00      0.00         1\\n      147396       0.00      0.00      0.00         1\\n      147407       0.00      0.00      0.00         1\\n      147408       0.00      0.00      0.00         1\\n      147426       0.00      0.00      0.00         1\\n      147441       0.00      0.00      0.00         1\\n      147442       0.00      0.00      0.00         1\\n      147445       0.00      0.00      0.00         1\\n      147457       1.00      1.00      1.00         1\\n      147468       0.50      1.00      0.67         1\\n      147471       0.00      0.00      0.00         1\\n      147477       0.00      0.00      0.00         1\\n      147490       0.00      0.00      0.00         1\\n      147541       0.00      0.00      0.00         1\\n      147547       0.00      0.00      0.00         1\\n      147567       0.00      0.00      0.00         1\\n      147579       0.00      0.00      0.00         1\\n      147663       1.00      1.00      1.00         1\\n      147670       0.00      0.00      0.00         1\\n      147761       0.00      0.00      0.00         1\\n      147796       1.00      1.00      1.00         1\\n      147805       1.00      1.00      1.00         1\\n      147940       0.00      0.00      0.00         1\\n      147970       0.50      1.00      0.67         1\\n      147985       0.00      0.00      0.00         1\\n      148029       0.00      0.00      0.00         1\\n      148049       1.00      1.00      1.00         1\\n      148065       0.00      0.00      0.00         1\\n      148093       0.00      0.00      0.00         1\\n      148127       0.00      0.00      0.00         1\\n      148153       0.00      0.00      0.00         1\\n      148196       0.00      0.00      0.00         1\\n      148209       1.00      1.00      1.00         1\\n      148210       0.00      0.00      0.00         1\\n      148216       0.00      0.00      0.00         1\\n      148224       1.00      1.00      1.00         1\\n      148246       0.00      0.00      0.00         1\\n      148252       0.00      0.00      0.00         1\\n      148258       0.50      1.00      0.67         1\\n      148266       0.00      0.00      0.00         1\\n      148280       0.00      0.00      0.00         1\\n      148284       0.00      0.00      0.00         1\\n      148328       0.33      1.00      0.50         1\\n      148331       1.00      1.00      1.00         1\\n      148334       0.00      0.00      0.00         1\\n      148336       0.00      0.00      0.00         1\\n      148382       0.00      0.00      0.00         1\\n      148392       0.00      0.00      0.00         1\\n      148464       0.00      0.00      0.00         1\\n      148465       0.00      0.00      0.00         1\\n      148467       1.00      1.00      1.00         1\\n      148490       1.00      1.00      1.00         1\\n      148526       0.00      0.00      0.00         1\\n      148528       0.00      0.00      0.00         1\\n      148533       0.00      0.00      0.00         1\\n      148591       0.00      0.00      0.00         1\\n      148605       0.00      0.00      0.00         1\\n      148618       0.00      0.00      0.00         1\\n      148665       0.00      0.00      0.00         1\\n      148723       1.00      1.00      1.00         1\\n      148743       0.00      0.00      0.00         1\\n      148748       0.00      0.00      0.00         1\\n      148762       0.00      0.00      0.00         1\\n      148768       1.00      1.00      1.00         1\\n      148790       1.00      1.00      1.00         1\\n      148817       0.00      0.00      0.00         1\\n      148831       0.17      1.00      0.29         1\\n      148854       0.00      0.00      0.00         1\\n      148856       0.00      0.00      0.00         1\\n      148857       1.00      1.00      1.00         1\\n      148864       1.00      1.00      1.00         1\\n      148875       0.00      0.00      0.00         1\\n      148912       0.00      0.00      0.00         1\\n      148913       0.00      0.00      0.00         1\\n      148974       1.00      1.00      1.00         1\\n      148992       1.00      1.00      1.00         1\\n      149001       0.00      0.00      0.00         1\\n      149030       0.00      0.00      0.00         1\\n      149031       0.00      0.00      0.00         1\\n      149038       0.00      0.00      0.00         1\\n      149047       0.00      0.00      0.00         1\\n      149064       0.00      0.00      0.00         1\\n      149080       0.00      0.00      0.00         1\\n      149128       0.00      0.00      0.00         1\\n      149156       0.00      0.00      0.00         1\\n      149159       1.00      1.00      1.00         1\\n      149166       0.00      0.00      0.00         1\\n      149186       0.00      0.00      0.00         1\\n      149200       0.50      1.00      0.67         1\\n      149214       0.00      0.00      0.00         1\\n      149228       0.00      0.00      0.00         1\\n      149267       0.00      0.00      0.00         1\\n      149268       1.00      1.00      1.00         1\\n      149280       0.00      0.00      0.00         1\\n      149283       0.00      0.00      0.00         1\\n      149284       0.00      0.00      0.00         1\\n      149300       0.00      0.00      0.00         1\\n      149328       0.00      0.00      0.00         1\\n      149343       0.00      0.00      0.00         1\\n      149352       1.00      1.00      1.00         1\\n      149379       0.00      0.00      0.00         1\\n      149382       1.00      1.00      1.00         1\\n      149386       1.00      1.00      1.00         1\\n      149405       0.00      0.00      0.00         1\\n      149426       1.00      1.00      1.00         1\\n      149428       0.00      0.00      0.00         1\\n      149466       0.00      0.00      0.00         1\\n      149474       0.50      1.00      0.67         1\\n      149475       0.50      1.00      0.67         1\\n      149487       0.00      0.00      0.00         1\\n      149495       1.00      1.00      1.00         1\\n      149507       0.00      0.00      0.00         1\\n      149559       1.00      1.00      1.00         1\\n      149602       0.00      0.00      0.00         1\\n      149613       1.00      1.00      1.00         1\\n      149626       0.00      0.00      0.00         1\\n      149633       0.00      0.00      0.00         1\\n      149641       1.00      1.00      1.00         1\\n      149657       0.00      0.00      0.00         1\\n      149693       1.00      1.00      1.00         1\\n      149707       0.00      0.00      0.00         1\\n      149711       0.50      1.00      0.67         1\\n      149737       0.00      0.00      0.00         1\\n      149754       0.00      0.00      0.00         1\\n      149757       0.00      0.00      0.00         1\\n      149760       1.00      1.00      1.00         1\\n      149770       1.00      1.00      1.00         1\\n      149828       0.00      0.00      0.00         1\\n      149870       0.00      0.00      0.00         1\\n      149876       0.00      0.00      0.00         1\\n      149914       0.00      0.00      0.00         1\\n      149964       1.00      1.00      1.00         1\\n      149968       1.00      1.00      1.00         1\\n      150026       0.00      0.00      0.00         1\\n      150036       0.00      0.00      0.00         1\\n      150043       0.00      0.00      0.00         1\\n      150047       0.00      0.00      0.00         1\\n      150058       0.00      0.00      0.00         1\\n      150076       1.00      1.00      1.00         1\\n      150128       0.00      0.00      0.00         1\\n      150153       0.00      0.00      0.00         1\\n      150171       1.00      1.00      1.00         1\\n      150202       0.00      0.00      0.00         1\\n      150204       0.00      0.00      0.00         1\\n      150225       0.00      0.00      0.00         1\\n      150229       0.00      0.00      0.00         1\\n      150268       1.00      1.00      1.00         1\\n      150310       0.00      0.00      0.00         1\\n      150315       1.00      1.00      1.00         1\\n      150337       0.00      0.00      0.00         1\\n      150351       0.00      0.00      0.00         1\\n      150388       1.00      1.00      1.00         1\\n      150438       0.00      0.00      0.00         1\\n      150440       0.00      0.00      0.00         1\\n      150441       0.00      0.00      0.00         1\\n      150473       0.00      0.00      0.00         1\\n      150483       0.00      0.00      0.00         1\\n      150496       0.00      0.00      0.00         1\\n      150502       0.00      0.00      0.00         1\\n      150522       0.00      0.00      0.00         1\\n      150530       0.00      0.00      0.00         1\\n      150532       0.00      0.00      0.00         1\\n      150558       0.00      0.00      0.00         1\\n      150564       0.00      0.00      0.00         1\\n      150569       0.00      0.00      0.00         1\\n      150599       0.00      0.00      0.00         1\\n      150603       0.00      0.00      0.00         1\\n      150604       0.00      0.00      0.00         1\\n      150613       0.00      0.00      0.00         1\\n      150618       0.50      1.00      0.67         1\\n      150634       1.00      1.00      1.00         1\\n      150642       1.00      1.00      1.00         1\\n      150665       0.00      0.00      0.00         1\\n      150666       1.00      1.00      1.00         1\\n      150670       0.00      0.00      0.00         1\\n      150684       0.00      0.00      0.00         1\\n      150685       1.00      1.00      1.00         1\\n      150700       1.00      1.00      1.00         1\\n      150726       0.00      0.00      0.00         1\\n      150730       0.50      1.00      0.67         1\\n      150732       0.00      0.00      0.00         1\\n      150747       0.00      0.00      0.00         1\\n      150758       0.00      0.00      0.00         1\\n      150776       0.00      0.00      0.00         1\\n      150805       0.00      0.00      0.00         1\\n      150812       0.00      0.00      0.00         1\\n      150854       0.00      0.00      0.00         1\\n      150864       0.00      0.00      0.00         1\\n      150931       0.00      0.00      0.00         1\\n      150949       0.00      0.00      0.00         1\\n      151012       0.00      0.00      0.00         1\\n      151019       0.00      0.00      0.00         1\\n      151060       0.00      0.00      0.00         1\\n      151065       0.00      0.00      0.00         1\\n      151071       0.00      0.00      0.00         1\\n      151080       0.00      0.00      0.00         1\\n      151087       1.00      1.00      1.00         1\\n      151126       1.00      1.00      1.00         1\\n      151140       1.00      1.00      1.00         1\\n      151193       0.00      0.00      0.00         1\\n      151197       0.00      0.00      0.00         1\\n      151207       0.00      0.00      0.00         1\\n      151231       0.00      0.00      0.00         1\\n      151270       1.00      1.00      1.00         1\\n      151274       0.00      0.00      0.00         1\\n      151284       0.00      0.00      0.00         1\\n      151301       0.00      0.00      0.00         1\\n      151308       0.00      0.00      0.00         1\\n      151309       0.00      0.00      0.00         1\\n      151311       1.00      1.00      1.00         1\\n      151383       0.00      0.00      0.00         1\\n      151419       0.00      0.00      0.00         1\\n      151436       0.00      0.00      0.00         1\\n      151446       1.00      1.00      1.00         1\\n      151481       0.00      0.00      0.00         1\\n      151489       0.00      0.00      0.00         1\\n      151503       0.00      0.00      0.00         1\\n      151525       1.00      1.00      1.00         1\\n      151551       1.00      1.00      1.00         1\\n      151555       1.00      1.00      1.00         1\\n      151569       0.00      0.00      0.00         1\\n      151570       0.00      0.00      0.00         1\\n      151582       0.00      0.00      0.00         1\\n      151583       0.00      0.00      0.00         1\\n      151586       1.00      1.00      1.00         1\\n      151612       0.00      0.00      0.00         1\\n      151617       0.00      0.00      0.00         1\\n      151621       1.00      1.00      1.00         1\\n      151671       1.00      1.00      1.00         1\\n      151681       0.00      0.00      0.00         1\\n      151732       0.00      0.00      0.00         1\\n      151771       0.00      0.00      0.00         1\\n      151788       0.00      0.00      0.00         1\\n      151817       0.00      0.00      0.00         1\\n      151827       0.00      0.00      0.00         1\\n      151828       0.00      0.00      0.00         1\\n      151844       0.00      0.00      0.00         1\\n      151847       0.00      0.00      0.00         1\\n      151858       0.00      0.00      0.00         1\\n      151888       1.00      1.00      1.00         1\\n      151919       0.00      0.00      0.00         1\\n      151920       1.00      1.00      1.00         1\\n      151921       0.00      0.00      0.00         1\\n      151923       1.00      1.00      1.00         1\\n      151952       0.00      0.00      0.00         1\\n      151963       0.00      0.00      0.00         1\\n      151974       0.00      0.00      0.00         1\\n      151980       0.00      0.00      0.00         1\\n      152031       0.00      0.00      0.00         1\\n      152066       0.00      0.00      0.00         1\\n      152072       0.00      0.00      0.00         1\\n      152091       0.00      0.00      0.00         1\\n      152116       1.00      1.00      1.00         1\\n      152141       0.00      0.00      0.00         1\\n      152148       0.00      0.00      0.00         1\\n      152160       0.00      0.00      0.00         1\\n      152179       0.00      0.00      0.00         1\\n      152193       0.00      0.00      0.00         1\\n      152207       0.00      0.00      0.00         1\\n      152251       0.00      0.00      0.00         1\\n      152254       1.00      1.00      1.00         1\\n      152300       1.00      1.00      1.00         1\\n      152349       1.00      1.00      1.00         1\\n      152371       0.00      0.00      0.00         1\\n      152378       0.00      0.00      0.00         1\\n      152386       0.00      0.00      0.00         1\\n      152387       0.00      0.00      0.00         1\\n      152388       1.00      1.00      1.00         1\\n      152392       0.00      0.00      0.00         1\\n      152393       0.00      0.00      0.00         1\\n      152398       0.00      0.00      0.00         1\\n      152406       0.00      0.00      0.00         1\\n      152438       1.00      1.00      1.00         1\\n      152442       0.33      1.00      0.50         1\\n      152478       0.00      0.00      0.00         1\\n      152505       0.00      0.00      0.00         1\\n      152528       1.00      1.00      1.00         1\\n      152529       1.00      1.00      1.00         1\\n      152541       0.00      0.00      0.00         1\\n      152546       0.00      0.00      0.00         1\\n      152561       0.00      0.00      0.00         1\\n      152578       0.00      0.00      0.00         1\\n      152594       0.00      0.00      0.00         1\\n      152607       0.00      0.00      0.00         1\\n      152611       0.00      0.00      0.00         1\\n      152663       0.00      0.00      0.00         1\\n      152692       0.00      0.00      0.00         1\\n      152699       0.00      0.00      0.00         1\\n      152707       0.50      1.00      0.67         1\\n      152735       0.00      0.00      0.00         1\\n      152764       0.00      0.00      0.00         1\\n      152767       0.00      0.00      0.00         1\\n      152779       1.00      1.00      1.00         1\\n      152801       0.00      0.00      0.00         1\\n      152807       0.00      0.00      0.00         1\\n      152810       0.00      0.00      0.00         1\\n      152814       0.00      0.00      0.00         1\\n      152821       1.00      1.00      1.00         1\\n      152824       0.00      0.00      0.00         1\\n      152828       0.00      0.00      0.00         1\\n      152890       0.00      0.00      0.00         1\\n      152894       1.00      1.00      1.00         1\\n      152901       0.00      0.00      0.00         1\\n      152909       0.00      0.00      0.00         1\\n      152952       1.00      1.00      1.00         1\\n      152956       0.00      0.00      0.00         1\\n      152977       0.00      0.00      0.00         1\\n      153003       0.00      0.00      0.00         1\\n      153051       0.00      0.00      0.00         1\\n      153065       0.00      0.00      0.00         1\\n      153096       0.00      0.00      0.00         1\\n      153103       1.00      1.00      1.00         1\\n      153118       0.00      0.00      0.00         1\\n      153150       0.00      0.00      0.00         1\\n      153154       0.00      0.00      0.00         1\\n      153182       1.00      1.00      1.00         1\\n      153185       0.33      1.00      0.50         1\\n      153191       1.00      1.00      1.00         1\\n      153241       0.00      0.00      0.00         1\\n      153265       1.00      1.00      1.00         1\\n      153291       1.00      1.00      1.00         1\\n      153298       1.00      1.00      1.00         1\\n      153328       0.00      0.00      0.00         1\\n      153354       0.00      0.00      0.00         1\\n      153368       0.00      0.00      0.00         1\\n      153376       0.25      1.00      0.40         1\\n      153399       0.00      0.00      0.00         1\\n      153406       0.00      0.00      0.00         1\\n      153419       0.00      0.00      0.00         1\\n      153420       0.00      0.00      0.00         1\\n      153429       0.00      0.00      0.00         1\\n      153475       0.00      0.00      0.00         1\\n      153493       0.00      0.00      0.00         1\\n      153499       0.00      0.00      0.00         1\\n      153558       1.00      1.00      1.00         1\\n      153561       0.00      0.00      0.00         1\\n      153609       0.00      0.00      0.00         1\\n      153654       0.00      0.00      0.00         1\\n      153667       0.00      0.00      0.00         1\\n      153693       0.00      0.00      0.00         1\\n      153701       1.00      1.00      1.00         1\\n      153702       0.00      0.00      0.00         1\\n      153706       1.00      1.00      1.00         1\\n      153760       0.00      0.00      0.00         1\\n      153780       0.00      0.00      0.00         1\\n      153820       1.00      1.00      1.00         1\\n      153849       0.00      0.00      0.00         1\\n      153851       0.00      0.00      0.00         1\\n      153866       0.00      0.00      0.00         1\\n      153878       1.00      1.00      1.00         1\\n      153879       0.00      0.00      0.00         1\\n      153880       0.00      0.00      0.00         1\\n      153900       0.00      0.00      0.00         1\\n      153914       0.00      0.00      0.00         1\\n      153931       0.00      0.00      0.00         1\\n      153977       0.50      1.00      0.67         1\\n      153986       1.00      1.00      1.00         1\\n      153992       1.00      1.00      1.00         1\\n      154040       1.00      1.00      1.00         1\\n      154095       0.00      0.00      0.00         1\\n      154096       0.00      0.00      0.00         1\\n      154110       0.00      0.00      0.00         1\\n      154130       0.00      0.00      0.00         1\\n      154162       0.00      0.00      0.00         1\\n      154163       0.00      0.00      0.00         1\\n      154190       0.00      0.00      0.00         1\\n      154201       1.00      1.00      1.00         1\\n      154233       0.00      0.00      0.00         1\\n      154258       0.00      0.00      0.00         1\\n      154263       1.00      1.00      1.00         1\\n      154307       0.00      0.00      0.00         1\\n      154316       0.00      0.00      0.00         1\\n      154376       0.00      0.00      0.00         1\\n      154399       0.00      0.00      0.00         1\\n      154404       0.00      0.00      0.00         1\\n      154408       1.00      1.00      1.00         1\\n      154470       0.00      0.00      0.00         1\\n      154485       1.00      1.00      1.00         1\\n      154503       0.00      0.00      0.00         1\\n      154524       0.00      0.00      0.00         1\\n      154549       0.00      0.00      0.00         1\\n      154567       0.00      0.00      0.00         1\\n      154571       0.00      0.00      0.00         1\\n      154616       0.00      0.00      0.00         1\\n      154619       0.00      0.00      0.00         1\\n      154656       0.00      0.00      0.00         1\\n      154687       0.00      0.00      0.00         1\\n      154711       0.00      0.00      0.00         1\\n      154790       0.00      0.00      0.00         1\\n      154809       0.00      0.00      0.00         1\\n      154827       0.50      1.00      0.67         1\\n      154832       0.00      0.00      0.00         1\\n      154846       1.00      1.00      1.00         1\\n      154862       0.00      0.00      0.00         1\\n      154863       1.00      1.00      1.00         1\\n      154865       0.00      0.00      0.00         1\\n      154896       0.00      0.00      0.00         1\\n      154923       0.00      0.00      0.00         1\\n      154929       1.00      1.00      1.00         1\\n      154938       1.00      1.00      1.00         1\\n      154939       1.00      1.00      1.00         1\\n      154958       1.00      1.00      1.00         1\\n      154989       0.00      0.00      0.00         1\\n      155012       1.00      1.00      1.00         1\\n      155018       0.00      0.00      0.00         1\\n      155029       1.00      1.00      1.00         1\\n      155038       0.00      0.00      0.00         1\\n      155044       0.00      0.00      0.00         1\\n      155059       1.00      1.00      1.00         1\\n      155067       0.00      0.00      0.00         1\\n      155096       0.00      0.00      0.00         1\\n      155114       0.00      0.00      0.00         1\\n      155117       0.00      0.00      0.00         1\\n      155175       1.00      1.00      1.00         1\\n      155211       0.00      0.00      0.00         1\\n      155245       1.00      1.00      1.00         1\\n      155255       1.00      1.00      1.00         1\\n      155259       0.00      0.00      0.00         1\\n      155291       0.00      0.00      0.00         1\\n      155314       0.00      0.00      0.00         1\\n      155361       0.00      0.00      0.00         1\\n      155366       1.00      1.00      1.00         1\\n      155385       0.00      0.00      0.00         1\\n      155391       0.00      0.00      0.00         1\\n      155409       0.00      0.00      0.00         1\\n      155416       1.00      1.00      1.00         1\\n      155429       0.00      0.00      0.00         1\\n      155445       0.00      0.00      0.00         1\\n      155449       0.00      0.00      0.00         1\\n      155481       0.00      0.00      0.00         1\\n      155491       0.00      0.00      0.00         1\\n      155501       0.00      0.00      0.00         1\\n      155507       0.00      0.00      0.00         1\\n      155511       0.00      0.00      0.00         1\\n      155527       1.00      1.00      1.00         1\\n      155529       0.00      0.00      0.00         1\\n      155553       0.00      0.00      0.00         1\\n      155565       0.00      0.00      0.00         1\\n      155573       1.00      1.00      1.00         1\\n      155584       0.00      0.00      0.00         1\\n      155587       0.00      0.00      0.00         1\\n      155637       0.00      0.00      0.00         1\\n      155642       0.00      0.00      0.00         1\\n      155647       0.00      0.00      0.00         1\\n      155657       0.00      0.00      0.00         1\\n      155661       1.00      1.00      1.00         1\\n      155669       0.00      0.00      0.00         1\\n      155689       1.00      1.00      1.00         1\\n      155701       0.00      0.00      0.00         1\\n      155706       1.00      1.00      1.00         1\\n      155745       0.50      1.00      0.67         1\\n      155772       0.00      0.00      0.00         1\\n      155777       1.00      1.00      1.00         1\\n      155851       0.00      0.00      0.00         1\\n      155883       0.00      0.00      0.00         1\\n      155900       1.00      1.00      1.00         1\\n      155917       0.00      0.00      0.00         1\\n      155936       1.00      1.00      1.00         1\\n      155956       0.00      0.00      0.00         1\\n      155964       0.00      0.00      0.00         1\\n      155993       0.00      0.00      0.00         1\\n      156035       0.00      0.00      0.00         1\\n      156038       0.00      0.00      0.00         1\\n      156057       0.00      0.00      0.00         1\\n      156059       0.00      0.00      0.00         1\\n      156144       0.00      0.00      0.00         1\\n      156182       0.00      0.00      0.00         1\\n      156186       0.00      0.00      0.00         1\\n      156193       0.00      0.00      0.00         1\\n      156203       0.00      0.00      0.00         1\\n      156215       0.00      0.00      0.00         1\\n      156245       0.00      0.00      0.00         1\\n      156287       0.00      0.00      0.00         1\\n      156296       0.00      0.00      0.00         1\\n      156313       1.00      1.00      1.00         1\\n      156326       0.00      0.00      0.00         1\\n      156370       0.50      1.00      0.67         1\\n      156378       1.00      1.00      1.00         1\\n      156399       1.00      1.00      1.00         1\\n      156414       0.00      0.00      0.00         1\\n      156426       0.00      0.00      0.00         1\\n      156428       0.33      1.00      0.50         1\\n      156431       0.00      0.00      0.00         1\\n      156441       1.00      1.00      1.00         1\\n      156453       0.00      0.00      0.00         1\\n      156466       0.00      0.00      0.00         1\\n      156496       0.00      0.00      0.00         1\\n      156513       1.00      1.00      1.00         1\\n      156524       0.00      0.00      0.00         1\\n      156533       0.00      0.00      0.00         1\\n      156557       1.00      1.00      1.00         1\\n      156562       0.00      0.00      0.00         1\\n      156563       0.00      0.00      0.00         1\\n      156582       0.00      0.00      0.00         1\\n      156590       0.00      0.00      0.00         1\\n      156620       1.00      1.00      1.00         1\\n      156639       0.00      0.00      0.00         1\\n      156645       0.00      0.00      0.00         1\\n      156650       0.00      0.00      0.00         1\\n      156656       0.00      0.00      0.00         1\\n      156660       0.00      0.00      0.00         1\\n      156680       0.00      0.00      0.00         1\\n      156703       1.00      1.00      1.00         1\\n      156744       0.00      0.00      0.00         1\\n      156840       0.00      0.00      0.00         1\\n      156846       0.00      0.00      0.00         1\\n      156853       1.00      1.00      1.00         1\\n      156878       0.00      0.00      0.00         1\\n      156948       0.00      0.00      0.00         1\\n      156963       0.00      0.00      0.00         1\\n      156966       0.00      0.00      0.00         1\\n      156976       0.00      0.00      0.00         1\\n      157026       0.00      0.00      0.00         1\\n      157027       1.00      1.00      1.00         1\\n      157034       0.00      0.00      0.00         1\\n      157083       1.00      1.00      1.00         1\\n      157087       1.00      1.00      1.00         1\\n      157088       0.00      0.00      0.00         1\\n      157145       1.00      1.00      1.00         1\\n      157180       0.00      0.00      0.00         1\\n      157215       0.00      0.00      0.00         1\\n      157231       0.50      1.00      0.67         1\\n      157232       0.00      0.00      0.00         1\\n      157246       0.00      0.00      0.00         1\\n      157255       1.00      1.00      1.00         1\\n      157300       0.00      0.00      0.00         1\\n      157303       0.00      0.00      0.00         1\\n      157328       1.00      1.00      1.00         1\\n      157391       0.00      0.00      0.00         1\\n      157451       0.00      0.00      0.00         1\\n      157471       0.00      0.00      0.00         1\\n      157481       0.00      0.00      0.00         1\\n      157490       0.00      0.00      0.00         1\\n      157538       0.00      0.00      0.00         1\\n      157589       1.00      1.00      1.00         1\\n      157626       0.00      0.00      0.00         1\\n      157633       0.50      1.00      0.67         1\\n      157659       1.00      1.00      1.00         1\\n      157676       0.00      0.00      0.00         1\\n      157679       0.00      0.00      0.00         1\\n      157690       0.00      0.00      0.00         1\\n      157694       0.00      0.00      0.00         1\\n      157697       0.00      0.00      0.00         1\\n      157707       0.00      0.00      0.00         1\\n      157720       1.00      1.00      1.00         1\\n      157727       1.00      1.00      1.00         1\\n      157734       1.00      1.00      1.00         1\\n      157736       1.00      1.00      1.00         1\\n      157738       0.00      0.00      0.00         1\\n      157755       0.00      0.00      0.00         1\\n      157772       0.00      0.00      0.00         1\\n      157785       0.00      0.00      0.00         1\\n      157792       0.00      0.00      0.00         1\\n      157800       0.00      0.00      0.00         1\\n      157815       0.00      0.00      0.00         1\\n      157841       0.00      0.00      0.00         1\\n      157846       0.00      0.00      0.00         1\\n      157849       1.00      1.00      1.00         1\\n      157870       0.00      0.00      0.00         1\\n      157911       0.50      1.00      0.67         1\\n      157914       0.00      0.00      0.00         1\\n      157921       0.00      0.00      0.00         1\\n      157963       0.00      0.00      0.00         1\\n      158042       0.00      0.00      0.00         1\\n      158068       0.00      0.00      0.00         1\\n      158078       0.00      0.00      0.00         1\\n      158091       0.00      0.00      0.00         1\\n      158094       0.00      0.00      0.00         1\\n      158100       0.00      0.00      0.00         1\\n      158118       0.00      0.00      0.00         1\\n      158148       0.00      0.00      0.00         1\\n      158152       1.00      1.00      1.00         1\\n      158171       0.00      0.00      0.00         1\\n      158208       0.00      0.00      0.00         1\\n      158211       0.00      0.00      0.00         1\\n      158227       1.00      1.00      1.00         1\\n      158252       0.00      0.00      0.00         1\\n      158253       0.00      0.00      0.00         1\\n      158257       0.00      0.00      0.00         1\\n      158261       0.00      0.00      0.00         1\\n      158307       0.00      0.00      0.00         1\\n      158333       0.00      0.00      0.00         1\\n      158338       0.00      0.00      0.00         1\\n      158341       0.00      0.00      0.00         1\\n      158364       0.00      0.00      0.00         1\\n      158386       1.00      1.00      1.00         1\\n      158418       1.00      1.00      1.00         1\\n      158461       0.00      0.00      0.00         1\\n      158462       0.00      0.00      0.00         1\\n      158512       0.00      0.00      0.00         1\\n      158526       0.00      0.00      0.00         1\\n      158530       0.25      1.00      0.40         1\\n      158544       0.00      0.00      0.00         1\\n      158545       0.00      0.00      0.00         1\\n      158554       1.00      1.00      1.00         1\\n      158578       0.00      0.00      0.00         1\\n      158584       1.00      1.00      1.00         1\\n      158594       0.00      0.00      0.00         1\\n      158622       1.00      1.00      1.00         1\\n      158628       0.50      1.00      0.67         1\\n      158654       0.00      0.00      0.00         1\\n      158677       0.00      0.00      0.00         1\\n      158720       0.00      0.00      0.00         1\\n      158785       0.00      0.00      0.00         1\\n      158800       0.00      0.00      0.00         1\\n      158804       1.00      1.00      1.00         1\\n      158862       0.00      0.00      0.00         1\\n      158873       0.00      0.00      0.00         1\\n      158899       0.00      0.00      0.00         1\\n      158918       0.00      0.00      0.00         1\\n      158937       0.00      0.00      0.00         1\\n      158947       0.00      0.00      0.00         1\\n      158950       1.00      1.00      1.00         1\\n      158956       0.00      0.00      0.00         1\\n      158958       0.50      1.00      0.67         1\\n      158960       0.00      0.00      0.00         1\\n      158963       0.00      0.00      0.00         1\\n      158979       1.00      1.00      1.00         1\\n      158993       0.00      0.00      0.00         1\\n      159015       1.00      1.00      1.00         1\\n      159036       0.00      0.00      0.00         1\\n      159039       0.00      0.00      0.00         1\\n      159069       1.00      1.00      1.00         1\\n      159079       1.00      1.00      1.00         1\\n      159080       0.00      0.00      0.00         1\\n      159087       0.00      0.00      0.00         1\\n      159154       1.00      1.00      1.00         1\\n      159186       0.00      0.00      0.00         1\\n      159193       0.00      0.00      0.00         1\\n      159220       0.00      0.00      0.00         1\\n      159250       0.00      0.00      0.00         1\\n      159259       0.00      0.00      0.00         1\\n      159269       1.00      1.00      1.00         1\\n      159271       0.00      0.00      0.00         1\\n      159273       0.00      0.00      0.00         1\\n      159276       0.00      0.00      0.00         1\\n      159316       0.00      0.00      0.00         1\\n      159399       0.00      0.00      0.00         1\\n      159415       0.00      0.00      0.00         1\\n      159418       0.00      0.00      0.00         1\\n      159420       0.00      0.00      0.00         1\\n      159440       0.00      0.00      0.00         1\\n      159499       1.00      1.00      1.00         1\\n      159510       0.00      0.00      0.00         1\\n      159519       0.00      0.00      0.00         1\\n      159591       0.00      0.00      0.00         1\\n      159626       1.00      1.00      1.00         1\\n      159627       0.00      0.00      0.00         1\\n      159628       0.00      0.00      0.00         1\\n      159669       0.00      0.00      0.00         1\\n      159679       0.00      0.00      0.00         1\\n      159691       0.00      0.00      0.00         1\\n      159754       0.00      0.00      0.00         1\\n      159770       1.00      1.00      1.00         1\\n      159773       0.00      0.00      0.00         1\\n      159779       1.00      1.00      1.00         1\\n      159792       0.00      0.00      0.00         1\\n      159828       0.00      0.00      0.00         1\\n      159842       0.00      0.00      0.00         1\\n      159845       0.00      0.00      0.00         1\\n      159856       0.00      0.00      0.00         1\\n      159921       0.00      0.00      0.00         1\\n      159937       0.50      1.00      0.67         1\\n      159946       0.00      0.00      0.00         1\\n      159950       1.00      1.00      1.00         1\\n      159970       0.00      0.00      0.00         1\\n      159993       0.00      0.00      0.00         1\\n      160003       0.00      0.00      0.00         1\\n      160020       0.00      0.00      0.00         1\\n      160021       1.00      1.00      1.00         1\\n      160024       0.00      0.00      0.00         1\\n      160032       1.00      1.00      1.00         1\\n      160035       0.00      0.00      0.00         1\\n      160039       0.00      0.00      0.00         1\\n      160069       0.00      0.00      0.00         1\\n      160075       0.00      0.00      0.00         1\\n      160085       0.00      0.00      0.00         1\\n      160110       0.00      0.00      0.00         1\\n      160151       1.00      1.00      1.00         1\\n      160155       0.50      1.00      0.67         1\\n      160156       0.00      0.00      0.00         1\\n      160159       0.00      0.00      0.00         1\\n      160187       0.00      0.00      0.00         1\\n      160194       1.00      1.00      1.00         1\\n      160203       0.00      0.00      0.00         1\\n      160231       0.00      0.00      0.00         1\\n      160278       1.00      1.00      1.00         1\\n      160301       0.00      0.00      0.00         1\\n      160302       0.00      0.00      0.00         1\\n      160332       1.00      1.00      1.00         1\\n      160339       1.00      1.00      1.00         1\\n      160370       0.00      0.00      0.00         1\\n      160393       0.00      0.00      0.00         1\\n      160414       0.00      0.00      0.00         1\\n      160494       0.00      0.00      0.00         1\\n      160496       1.00      1.00      1.00         1\\n      160498       1.00      1.00      1.00         1\\n      160500       0.00      0.00      0.00         1\\n      160538       0.00      0.00      0.00         1\\n      160550       0.00      0.00      0.00         1\\n      160557       0.00      0.00      0.00         1\\n      160568       0.00      0.00      0.00         1\\n      160579       0.00      0.00      0.00         1\\n      160608       0.00      0.00      0.00         1\\n      160652       1.00      1.00      1.00         1\\n      160666       0.00      0.00      0.00         1\\n      160722       0.00      0.00      0.00         1\\n      160738       0.00      0.00      0.00         1\\n      160769       0.00      0.00      0.00         1\\n      160781       0.00      0.00      0.00         1\\n      160800       1.00      1.00      1.00         1\\n      160810       0.00      0.00      0.00         1\\n      160815       0.00      0.00      0.00         1\\n      160843       0.00      0.00      0.00         1\\n      160848       0.00      0.00      0.00         1\\n      160884       0.00      0.00      0.00         1\\n      160886       1.00      1.00      1.00         1\\n      160896       1.00      1.00      1.00         1\\n      160911       0.00      0.00      0.00         1\\n      160929       0.00      0.00      0.00         1\\n      160953       0.00      0.00      0.00         1\\n      160986       0.00      0.00      0.00         1\\n      160988       0.00      0.00      0.00         1\\n      160996       1.00      1.00      1.00         1\\n      161004       1.00      1.00      1.00         1\\n      161020       0.00      0.00      0.00         1\\n      161045       0.00      0.00      0.00         1\\n      161099       0.00      0.00      0.00         1\\n      161111       0.00      0.00      0.00         1\\n      161132       1.00      1.00      1.00         1\\n      161149       0.00      0.00      0.00         1\\n      161199       0.00      0.00      0.00         1\\n      161209       0.00      0.00      0.00         1\\n      161235       0.00      0.00      0.00         1\\n      161244       0.00      0.00      0.00         1\\n      161253       0.00      0.00      0.00         1\\n      161258       0.00      0.00      0.00         1\\n      161293       1.00      1.00      1.00         1\\n      161310       0.00      0.00      0.00         1\\n      161311       1.00      1.00      1.00         1\\n      161316       0.00      0.00      0.00         1\\n      161345       1.00      1.00      1.00         1\\n      161366       0.00      0.00      0.00         1\\n      161368       0.00      0.00      0.00         1\\n      161412       0.00      0.00      0.00         1\\n      161444       0.00      0.00      0.00         1\\n      161455       0.00      0.00      0.00         1\\n      161460       0.00      0.00      0.00         1\\n      161464       0.00      0.00      0.00         1\\n      161478       1.00      1.00      1.00         1\\n      161489       0.00      0.00      0.00         1\\n      161497       0.00      0.00      0.00         1\\n      161507       0.00      0.00      0.00         1\\n      161512       0.00      0.00      0.00         1\\n      161525       0.00      0.00      0.00         1\\n      161548       0.00      0.00      0.00         1\\n      161569       0.00      0.00      0.00         1\\n      161599       0.00      0.00      0.00         1\\n      161624       0.00      0.00      0.00         1\\n      161628       0.00      0.00      0.00         1\\n      161643       0.00      0.00      0.00         1\\n      161651       1.00      1.00      1.00         1\\n      161655       0.00      0.00      0.00         1\\n      161657       0.00      0.00      0.00         1\\n      161658       0.00      0.00      0.00         1\\n      161698       0.00      0.00      0.00         1\\n      161702       0.00      0.00      0.00         1\\n      161749       1.00      1.00      1.00         1\\n      161753       0.00      0.00      0.00         1\\n      161757       1.00      1.00      1.00         1\\n      161786       1.00      1.00      1.00         1\\n      161824       0.00      0.00      0.00         1\\n      161828       0.00      0.00      0.00         1\\n      161851       0.00      0.00      0.00         1\\n      161854       0.00      0.00      0.00         1\\n      161875       0.00      0.00      0.00         1\\n      161883       0.00      0.00      0.00         1\\n      161890       0.00      0.00      0.00         1\\n      161893       0.00      0.00      0.00         1\\n      161918       0.00      0.00      0.00         1\\n      161924       0.00      0.00      0.00         1\\n      162028       0.00      0.00      0.00         1\\n      162057       1.00      1.00      1.00         1\\n      162065       0.00      0.00      0.00         1\\n      162073       0.00      0.00      0.00         1\\n      162075       0.00      0.00      0.00         1\\n      162103       0.33      1.00      0.50         1\\n      162104       0.00      0.00      0.00         1\\n      162114       1.00      1.00      1.00         1\\n      162121       1.00      1.00      1.00         1\\n      162146       0.00      0.00      0.00         1\\n      162152       0.00      0.00      0.00         1\\n      162173       0.00      0.00      0.00         1\\n      162176       0.00      0.00      0.00         1\\n      162195       0.00      0.00      0.00         1\\n      162205       0.00      0.00      0.00         1\\n      162228       1.00      1.00      1.00         1\\n      162237       1.00      1.00      1.00         1\\n      162238       1.00      1.00      1.00         1\\n      162248       1.00      1.00      1.00         1\\n      162253       0.00      0.00      0.00         1\\n      162266       0.00      0.00      0.00         1\\n      162268       1.00      1.00      1.00         1\\n      162270       0.00      0.00      0.00         1\\n      162271       0.00      0.00      0.00         1\\n      162323       1.00      1.00      1.00         1\\n      162330       0.00      0.00      0.00         1\\n      162331       1.00      1.00      1.00         1\\n      162343       1.00      1.00      1.00         1\\n      162348       0.00      0.00      0.00         1\\n      162357       0.00      0.00      0.00         1\\n      162364       0.00      0.00      0.00         1\\n      162392       0.00      0.00      0.00         1\\n      162393       0.00      0.00      0.00         1\\n      162428       0.00      0.00      0.00         1\\n      162433       0.00      0.00      0.00         1\\n      162449       0.00      0.00      0.00         1\\n      162483       1.00      1.00      1.00         1\\n      162510       0.00      0.00      0.00         1\\n      162524       0.00      0.00      0.00         1\\n      162562       1.00      1.00      1.00         1\\n      162591       1.00      1.00      1.00         1\\n      162625       0.00      0.00      0.00         1\\n      162671       0.00      0.00      0.00         1\\n      162712       0.50      1.00      0.67         1\\n      162743       0.50      1.00      0.67         1\\n      162767       0.00      0.00      0.00         1\\n      162768       0.00      0.00      0.00         1\\n      162769       1.00      1.00      1.00         1\\n      162771       1.00      1.00      1.00         1\\n      162808       1.00      1.00      1.00         1\\n      162812       0.00      0.00      0.00         1\\n      162834       0.00      0.00      0.00         1\\n      162842       0.25      1.00      0.40         1\\n      162959       0.00      0.00      0.00         1\\n      162962       0.00      0.00      0.00         1\\n      163001       0.00      0.00      0.00         1\\n      163031       0.00      0.00      0.00         1\\n      163058       0.00      0.00      0.00         1\\n      163095       1.00      1.00      1.00         1\\n      163099       0.00      0.00      0.00         1\\n      163101       1.00      1.00      1.00         1\\n      163124       0.00      0.00      0.00         1\\n      163132       0.00      0.00      0.00         1\\n      163174       0.00      0.00      0.00         1\\n      163180       1.00      1.00      1.00         1\\n      163211       0.00      0.00      0.00         1\\n      163220       0.00      0.00      0.00         1\\n      163221       1.00      1.00      1.00         1\\n      163231       0.00      0.00      0.00         1\\n      163307       0.00      0.00      0.00         1\\n      163355       0.00      0.00      0.00         1\\n      163455       0.00      0.00      0.00         1\\n      163537       0.00      0.00      0.00         1\\n      163542       0.00      0.00      0.00         1\\n      163545       0.00      0.00      0.00         1\\n      163549       0.00      0.00      0.00         1\\n      163569       0.00      0.00      0.00         1\\n      163608       0.00      0.00      0.00         1\\n      163623       0.00      0.00      0.00         1\\n      163651       1.00      1.00      1.00         1\\n      163668       0.00      0.00      0.00         1\\n      163669       0.00      0.00      0.00         1\\n      163677       0.00      0.00      0.00         1\\n      163687       1.00      1.00      1.00         1\\n      163697       0.00      0.00      0.00         1\\n      163722       0.00      0.00      0.00         1\\n      163736       0.00      0.00      0.00         1\\n      163737       0.00      0.00      0.00         1\\n      163747       0.00      0.00      0.00         1\\n      163789       0.00      0.00      0.00         1\\n      163801       0.00      0.00      0.00         1\\n      163803       0.00      0.00      0.00         1\\n      163812       0.00      0.00      0.00         1\\n      163852       0.00      0.00      0.00         1\\n      163858       1.00      1.00      1.00         1\\n      163873       0.00      0.00      0.00         1\\n      163874       0.00      0.00      0.00         1\\n      163886       1.00      1.00      1.00         1\\n      163890       0.00      0.00      0.00         1\\n      163895       1.00      1.00      1.00         1\\n      163921       0.00      0.00      0.00         1\\n      163956       0.00      0.00      0.00         1\\n      163980       1.00      1.00      1.00         1\\n      163984       1.00      1.00      1.00         1\\n      164003       1.00      1.00      1.00         1\\n      164025       0.00      0.00      0.00         1\\n      164035       0.00      0.00      0.00         1\\n      164039       0.00      0.00      0.00         1\\n      164046       0.00      0.00      0.00         1\\n      164049       1.00      1.00      1.00         1\\n      164083       0.00      0.00      0.00         1\\n      164100       0.00      0.00      0.00         1\\n      164109       1.00      1.00      1.00         1\\n      164110       0.00      0.00      0.00         1\\n      164116       1.00      1.00      1.00         1\\n      164139       0.00      0.00      0.00         1\\n      164145       0.00      0.00      0.00         1\\n      164168       0.00      0.00      0.00         1\\n      164211       0.00      0.00      0.00         1\\n      164249       0.00      0.00      0.00         1\\n      164253       0.00      0.00      0.00         1\\n      164268       0.00      0.00      0.00         1\\n      164277       0.00      0.00      0.00         1\\n      164301       0.00      0.00      0.00         1\\n      164318       0.00      0.00      0.00         1\\n      164319       0.00      0.00      0.00         1\\n      164321       1.00      1.00      1.00         1\\n      164338       1.00      1.00      1.00         1\\n      164348       0.00      0.00      0.00         1\\n      164364       0.00      0.00      0.00         1\\n      164409       0.00      0.00      0.00         1\\n      164415       0.00      0.00      0.00         1\\n      164436       0.00      0.00      0.00         1\\n      164445       0.00      0.00      0.00         1\\n      164459       0.00      0.00      0.00         1\\n      164479       1.00      1.00      1.00         1\\n      164494       0.00      0.00      0.00         1\\n      164499       0.00      0.00      0.00         1\\n      164506       0.00      0.00      0.00         1\\n      164523       0.00      0.00      0.00         1\\n      164537       0.00      0.00      0.00         1\\n      164553       0.00      0.00      0.00         1\\n      164558       0.00      0.00      0.00         1\\n      164597       1.00      1.00      1.00         1\\n      164598       0.00      0.00      0.00         1\\n      164677       1.00      1.00      1.00         1\\n      164694       0.00      0.00      0.00         1\\n      164728       0.00      0.00      0.00         1\\n      164730       0.00      0.00      0.00         1\\n      164763       1.00      1.00      1.00         1\\n      164777       0.00      0.00      0.00         1\\n      164797       0.00      0.00      0.00         1\\n      164800       0.00      0.00      0.00         1\\n      164801       0.00      0.00      0.00         1\\n      164803       0.00      0.00      0.00         1\\n      164806       0.00      0.00      0.00         1\\n      164847       0.00      0.00      0.00         1\\n      164862       0.00      0.00      0.00         1\\n      164886       0.00      0.00      0.00         1\\n      164933       0.00      0.00      0.00         1\\n      164944       1.00      1.00      1.00         1\\n      164947       0.00      0.00      0.00         1\\n      164952       0.00      0.00      0.00         1\\n      164960       0.00      0.00      0.00         1\\n      165018       0.00      0.00      0.00         1\\n      165024       0.00      0.00      0.00         1\\n      165032       0.00      0.00      0.00         1\\n      165054       0.00      0.00      0.00         1\\n      165067       0.00      0.00      0.00         1\\n      165076       1.00      1.00      1.00         1\\n      165083       0.00      0.00      0.00         1\\n      165086       1.00      1.00      1.00         1\\n      165117       0.50      1.00      0.67         1\\n      165123       0.00      0.00      0.00         1\\n      165164       0.00      0.00      0.00         1\\n      165166       0.00      0.00      0.00         1\\n      165180       0.00      0.00      0.00         1\\n      165182       0.00      0.00      0.00         1\\n      165185       0.00      0.00      0.00         1\\n      165209       0.50      1.00      0.67         1\\n      165215       0.00      0.00      0.00         1\\n      165289       0.00      0.00      0.00         1\\n      165309       1.00      1.00      1.00         1\\n      165313       0.00      0.00      0.00         1\\n      165321       0.00      0.00      0.00         1\\n      165329       0.00      0.00      0.00         1\\n      165343       0.00      0.00      0.00         1\\n      165359       0.00      0.00      0.00         1\\n      165429       0.00      0.00      0.00         1\\n      165453       0.00      0.00      0.00         1\\n      165458       1.00      1.00      1.00         1\\n      165473       0.00      0.00      0.00         1\\n      165489       0.00      0.00      0.00         1\\n      165533       0.00      0.00      0.00         1\\n      165536       0.00      0.00      0.00         1\\n      165564       1.00      1.00      1.00         1\\n      165588       0.00      0.00      0.00         1\\n      165623       0.00      0.00      0.00         1\\n      165625       0.00      0.00      0.00         1\\n      165644       1.00      1.00      1.00         1\\n      165664       1.00      1.00      1.00         1\\n      165705       0.00      0.00      0.00         1\\n      165730       0.00      0.00      0.00         1\\n      165759       0.00      0.00      0.00         1\\n      165777       1.00      1.00      1.00         1\\n      165806       1.00      1.00      1.00         1\\n      165812       0.00      0.00      0.00         1\\n      165827       0.00      0.00      0.00         1\\n      165898       0.00      0.00      0.00         1\\n      165903       0.00      0.00      0.00         1\\n      165929       0.00      0.00      0.00         1\\n      165935       1.00      1.00      1.00         1\\n      165982       0.00      0.00      0.00         1\\n      166006       1.00      1.00      1.00         1\\n      166031       0.00      0.00      0.00         1\\n      166050       0.00      0.00      0.00         1\\n      166067       1.00      1.00      1.00         1\\n      166080       0.00      0.00      0.00         1\\n      166089       0.00      0.00      0.00         1\\n      166097       0.00      0.00      0.00         1\\n      166103       0.00      0.00      0.00         1\\n      166128       1.00      1.00      1.00         1\\n      166133       0.00      0.00      0.00         1\\n      166151       0.00      0.00      0.00         1\\n      166237       1.00      1.00      1.00         1\\n      166279       0.00      0.00      0.00         1\\n      166280       0.00      0.00      0.00         1\\n      166322       0.00      0.00      0.00         1\\n      166332       0.00      0.00      0.00         1\\n      166343       0.00      0.00      0.00         1\\n      166357       0.00      0.00      0.00         1\\n      166369       0.00      0.00      0.00         1\\n      166374       0.00      0.00      0.00         1\\n      166392       1.00      1.00      1.00         1\\n      166397       0.00      0.00      0.00         1\\n      166404       0.00      0.00      0.00         1\\n      166420       0.00      0.00      0.00         1\\n      166423       0.00      0.00      0.00         1\\n      166434       0.00      0.00      0.00         1\\n      166506       0.00      0.00      0.00         1\\n      166547       0.00      0.00      0.00         1\\n      166574       0.00      0.00      0.00         1\\n      166616       0.00      0.00      0.00         1\\n      166628       1.00      1.00      1.00         1\\n      166710       0.00      0.00      0.00         1\\n      166790       0.50      1.00      0.67         1\\n      166803       0.00      0.00      0.00         1\\n      166820       1.00      1.00      1.00         1\\n      166857       0.00      0.00      0.00         1\\n      166885       0.00      0.00      0.00         1\\n      166903       0.00      0.00      0.00         1\\n      166917       0.00      0.00      0.00         1\\n      166944       0.00      0.00      0.00         1\\n      166955       0.00      0.00      0.00         1\\n      166961       0.00      0.00      0.00         1\\n      166993       0.00      0.00      0.00         1\\n      167015       0.00      0.00      0.00         1\\n      167030       0.00      0.00      0.00         1\\n      167044       0.00      0.00      0.00         1\\n      167055       0.00      0.00      0.00         1\\n      167066       0.00      0.00      0.00         1\\n      167081       1.00      1.00      1.00         1\\n      167117       0.00      0.00      0.00         1\\n      167125       0.00      0.00      0.00         1\\n      167137       0.00      0.00      0.00         1\\n      167144       0.00      0.00      0.00         1\\n      167161       0.00      0.00      0.00         1\\n      167180       0.00      0.00      0.00         1\\n      167201       0.00      0.00      0.00         1\\n      167202       0.00      0.00      0.00         1\\n      167227       0.00      0.00      0.00         1\\n      167303       0.00      0.00      0.00         1\\n      167333       0.00      0.00      0.00         1\\n      167336       0.00      0.00      0.00         1\\n      167353       0.00      0.00      0.00         1\\n      167357       0.00      0.00      0.00         1\\n      167387       0.00      0.00      0.00         1\\n      167414       1.00      1.00      1.00         1\\n      167433       1.00      1.00      1.00         1\\n      167442       0.00      0.00      0.00         1\\n      167451       1.00      1.00      1.00         1\\n      167477       0.00      0.00      0.00         1\\n      167502       0.00      0.00      0.00         1\\n      167532       1.00      1.00      1.00         1\\n      167533       0.00      0.00      0.00         1\\n      167549       0.00      0.00      0.00         1\\n      167581       0.00      0.00      0.00         1\\n      167593       0.00      0.00      0.00         1\\n      167639       0.50      1.00      0.67         1\\n      167648       1.00      1.00      1.00         1\\n      167693       0.00      0.00      0.00         1\\n      167694       0.00      0.00      0.00         1\\n      167698       1.00      1.00      1.00         1\\n      167712       1.00      1.00      1.00         1\\n      167746       0.00      0.00      0.00         1\\n      167754       1.00      1.00      1.00         1\\n      167760       0.00      0.00      0.00         1\\n      167773       0.00      0.00      0.00         1\\n      167781       1.00      1.00      1.00         1\\n      167808       0.00      0.00      0.00         1\\n      167821       0.00      0.00      0.00         1\\n      167830       1.00      1.00      1.00         1\\n      167874       0.00      0.00      0.00         1\\n      167908       0.00      0.00      0.00         1\\n      167919       1.00      1.00      1.00         1\\n      167931       0.00      0.00      0.00         1\\n      167951       0.00      0.00      0.00         1\\n      167962       0.00      0.00      0.00         1\\n      167963       0.00      0.00      0.00         1\\n      167982       0.00      0.00      0.00         1\\n      167985       0.00      0.00      0.00         1\\n      168057       0.00      0.00      0.00         1\\n      168062       0.00      0.00      0.00         1\\n      168078       1.00      1.00      1.00         1\\n      168122       0.00      0.00      0.00         1\\n      168123       0.00      0.00      0.00         1\\n      168129       1.00      1.00      1.00         1\\n      168135       1.00      1.00      1.00         1\\n      168136       0.00      0.00      0.00         1\\n      168162       0.00      0.00      0.00         1\\n      168211       0.00      0.00      0.00         1\\n      168230       1.00      1.00      1.00         1\\n      168262       0.00      0.00      0.00         1\\n      168278       1.00      1.00      1.00         1\\n      168295       0.00      0.00      0.00         1\\n      168322       1.00      1.00      1.00         1\\n      168332       1.00      1.00      1.00         1\\n      168342       0.00      0.00      0.00         1\\n      168411       1.00      1.00      1.00         1\\n      168448       0.00      0.00      0.00         1\\n      168449       0.00      0.00      0.00         1\\n      168464       0.00      0.00      0.00         1\\n      168495       0.00      0.00      0.00         1\\n      168501       0.00      0.00      0.00         1\\n      168504       0.00      0.00      0.00         1\\n      168512       0.00      0.00      0.00         1\\n      168529       0.00      0.00      0.00         1\\n      168542       0.00      0.00      0.00         1\\n      168577       0.00      0.00      0.00         1\\n      168593       0.00      0.00      0.00         1\\n      168671       0.00      0.00      0.00         1\\n      168720       0.00      0.00      0.00         1\\n      168725       1.00      1.00      1.00         1\\n      168732       0.00      0.00      0.00         1\\n      168736       0.00      0.00      0.00         1\\n      168740       0.00      0.00      0.00         1\\n      168752       0.00      0.00      0.00         1\\n      168756       0.00      0.00      0.00         1\\n      168762       0.00      0.00      0.00         1\\n      168788       0.00      0.00      0.00         1\\n      168801       1.00      1.00      1.00         1\\n      168805       0.00      0.00      0.00         1\\n      168820       0.00      0.00      0.00         1\\n      168824       0.00      0.00      0.00         1\\n      168901       0.00      0.00      0.00         1\\n      168906       0.00      0.00      0.00         1\\n      168922       0.00      0.00      0.00         1\\n      168948       0.00      0.00      0.00         1\\n      168957       1.00      1.00      1.00         1\\n      169000       0.00      0.00      0.00         1\\n      169021       0.00      0.00      0.00         1\\n      169034       0.00      0.00      0.00         1\\n      169065       1.00      1.00      1.00         1\\n      169130       0.00      0.00      0.00         1\\n      169175       0.00      0.00      0.00         1\\n      169235       0.00      0.00      0.00         1\\n      169238       0.00      0.00      0.00         1\\n      169241       0.00      0.00      0.00         1\\n      169247       0.00      0.00      0.00         1\\n      169248       1.00      1.00      1.00         1\\n      169254       1.00      1.00      1.00         1\\n      169267       0.00      0.00      0.00         1\\n      169272       0.00      0.00      0.00         1\\n      169293       0.00      0.00      0.00         1\\n      169307       1.00      1.00      1.00         1\\n      169310       1.00      1.00      1.00         1\\n      169344       0.00      0.00      0.00         1\\n      169377       0.00      0.00      0.00         1\\n      169386       1.00      1.00      1.00         1\\n      169406       0.00      0.00      0.00         1\\n      169432       0.00      0.00      0.00         1\\n      169454       0.00      0.00      0.00         1\\n      169503       0.50      1.00      0.67         1\\n      169508       0.00      0.00      0.00         1\\n      169575       0.00      0.00      0.00         1\\n      169583       0.00      0.00      0.00         1\\n      169649       0.00      0.00      0.00         1\\n      169676       0.00      0.00      0.00         1\\n      169684       0.00      0.00      0.00         1\\n      169722       1.00      1.00      1.00         1\\n      169770       0.00      0.00      0.00         1\\n      169788       1.00      1.00      1.00         1\\n      169799       1.00      1.00      1.00         1\\n      169815       0.00      0.00      0.00         1\\n      169816       0.00      0.00      0.00         1\\n      169843       0.00      0.00      0.00         1\\n      169849       0.00      0.00      0.00         1\\n      169884       0.00      0.00      0.00         1\\n      169894       1.00      1.00      1.00         1\\n      169899       0.00      0.00      0.00         1\\n      169927       0.00      0.00      0.00         1\\n      169958       1.00      1.00      1.00         1\\n      169988       0.50      1.00      0.67         1\\n      169992       0.00      0.00      0.00         1\\n      170013       0.00      0.00      0.00         1\\n      170028       0.00      0.00      0.00         1\\n      170033       1.00      1.00      1.00         1\\n      170043       0.00      0.00      0.00         1\\n      170052       1.00      1.00      1.00         1\\n      170073       1.00      1.00      1.00         1\\n      170079       0.00      0.00      0.00         1\\n      170094       1.00      1.00      1.00         1\\n      170111       0.00      0.00      0.00         1\\n      170129       0.00      0.00      0.00         1\\n      170164       0.00      0.00      0.00         1\\n      170176       0.00      0.00      0.00         1\\n      170196       0.00      0.00      0.00         1\\n      170223       0.00      0.00      0.00         1\\n      170264       1.00      1.00      1.00         1\\n      170268       0.00      0.00      0.00         1\\n      170303       1.00      1.00      1.00         1\\n      170315       0.00      0.00      0.00         1\\n      170351       0.00      0.00      0.00         1\\n      170377       0.00      0.00      0.00         1\\n      170382       0.00      0.00      0.00         1\\n      170408       0.00      0.00      0.00         1\\n      170426       0.00      0.00      0.00         1\\n      170427       0.00      0.00      0.00         1\\n      170429       1.00      1.00      1.00         1\\n      170470       1.00      1.00      1.00         1\\n      170478       0.00      0.00      0.00         1\\n      170498       0.00      0.00      0.00         1\\n      170531       0.00      0.00      0.00         1\\n      170534       0.00      0.00      0.00         1\\n      170559       0.00      0.00      0.00         1\\n      170575       0.00      0.00      0.00         1\\n      170608       1.00      1.00      1.00         1\\n      170620       0.00      0.00      0.00         1\\n      170628       0.00      0.00      0.00         1\\n      170687       0.00      0.00      0.00         1\\n      170688       0.00      0.00      0.00         1\\n      170705       0.00      0.00      0.00         1\\n      170724       1.00      1.00      1.00         1\\n      170742       0.00      0.00      0.00         1\\n      170778       1.00      1.00      1.00         1\\n      170798       0.00      0.00      0.00         1\\n      170800       0.50      1.00      0.67         1\\n      170803       0.00      0.00      0.00         1\\n      170834       0.00      0.00      0.00         1\\n      170837       1.00      1.00      1.00         1\\n      170846       0.00      0.00      0.00         1\\n      170852       0.00      0.00      0.00         1\\n      170896       1.00      1.00      1.00         1\\n      170962       0.00      0.00      0.00         1\\n      171002       1.00      1.00      1.00         1\\n      171008       1.00      1.00      1.00         1\\n      171026       0.00      0.00      0.00         1\\n      171040       0.00      0.00      0.00         1\\n      171056       0.00      0.00      0.00         1\\n      171060       0.00      0.00      0.00         1\\n      171078       0.00      0.00      0.00         1\\n      171102       0.00      0.00      0.00         1\\n      171124       1.00      1.00      1.00         1\\n      171171       0.00      0.00      0.00         1\\n      171185       0.00      0.00      0.00         1\\n      171212       0.00      0.00      0.00         1\\n      171229       0.00      0.00      0.00         1\\n      171244       1.00      1.00      1.00         1\\n      171245       0.00      0.00      0.00         1\\n      171252       0.00      0.00      0.00         1\\n      171254       0.00      0.00      0.00         1\\n      171265       0.00      0.00      0.00         1\\n      171293       0.00      0.00      0.00         1\\n      171296       1.00      1.00      1.00         1\\n      171329       1.00      1.00      1.00         1\\n      171338       0.00      0.00      0.00         1\\n      171339       0.00      0.00      0.00         1\\n      171353       0.00      0.00      0.00         1\\n      171365       0.00      0.00      0.00         1\\n      171372       0.00      0.00      0.00         1\\n      171384       0.00      0.00      0.00         1\\n      171393       0.00      0.00      0.00         1\\n      171398       0.00      0.00      0.00         1\\n      171425       0.00      0.00      0.00         1\\n      171443       1.00      1.00      1.00         1\\n      171460       0.00      0.00      0.00         1\\n      171468       0.00      0.00      0.00         1\\n      171471       0.00      0.00      0.00         1\\n      171477       0.00      0.00      0.00         1\\n      171517       0.00      0.00      0.00         1\\n      171532       1.00      1.00      1.00         1\\n      171539       1.00      1.00      1.00         1\\n      171544       0.00      0.00      0.00         1\\n      171585       0.00      0.00      0.00         1\\n      171627       1.00      1.00      1.00         1\\n      171629       1.00      1.00      1.00         1\\n      171653       0.00      0.00      0.00         1\\n      171672       0.00      0.00      0.00         1\\n      171678       0.00      0.00      0.00         1\\n      171680       1.00      1.00      1.00         1\\n      171682       0.00      0.00      0.00         1\\n      171719       1.00      1.00      1.00         1\\n      171720       0.00      0.00      0.00         1\\n      171742       0.00      0.00      0.00         1\\n      171757       1.00      1.00      1.00         1\\n      171785       0.00      0.00      0.00         1\\n      171787       0.00      0.00      0.00         1\\n      171825       0.00      0.00      0.00         1\\n      171867       0.00      0.00      0.00         1\\n      171873       1.00      1.00      1.00         1\\n      171877       0.00      0.00      0.00         1\\n      171892       0.00      0.00      0.00         1\\n      171893       0.00      0.00      0.00         1\\n      171913       0.00      0.00      0.00         1\\n      171925       0.00      0.00      0.00         1\\n      171931       0.00      0.00      0.00         1\\n      171990       0.00      0.00      0.00         1\\n      172039       1.00      1.00      1.00         1\\n      172047       0.00      0.00      0.00         1\\n      172065       0.00      0.00      0.00         1\\n      172075       0.00      0.00      0.00         1\\n      172091       0.00      0.00      0.00         1\\n      172118       0.00      0.00      0.00         1\\n      172132       0.00      0.00      0.00         1\\n      172173       0.00      0.00      0.00         1\\n      172182       0.00      0.00      0.00         1\\n      172203       0.00      0.00      0.00         1\\n      172301       0.00      0.00      0.00         1\\n      172317       0.00      0.00      0.00         1\\n      172332       0.00      0.00      0.00         1\\n      172345       0.00      0.00      0.00         1\\n      172361       0.00      0.00      0.00         1\\n      172384       0.00      0.00      0.00         1\\n      172417       0.00      0.00      0.00         1\\n      172480       0.00      0.00      0.00         1\\n      172497       0.00      0.00      0.00         1\\n      172536       1.00      1.00      1.00         1\\n      172543       1.00      1.00      1.00         1\\n      172546       0.00      0.00      0.00         1\\n      172561       0.00      0.00      0.00         1\\n      172579       1.00      1.00      1.00         1\\n      172584       0.00      0.00      0.00         1\\n      172592       0.00      0.00      0.00         1\\n      172607       0.00      0.00      0.00         1\\n      172611       0.00      0.00      0.00         1\\n      172628       0.00      0.00      0.00         1\\n      172636       0.00      0.00      0.00         1\\n      172646       1.00      1.00      1.00         1\\n      172654       1.00      1.00      1.00         1\\n      172665       1.00      1.00      1.00         1\\n      172702       0.00      0.00      0.00         1\\n      172738       0.00      0.00      0.00         1\\n      172755       1.00      1.00      1.00         1\\n      172783       1.00      1.00      1.00         1\\n      172784       0.00      0.00      0.00         1\\n      172862       0.00      0.00      0.00         1\\n      172876       0.00      0.00      0.00         1\\n      172886       1.00      1.00      1.00         1\\n      172928       0.00      0.00      0.00         1\\n      172934       0.00      0.00      0.00         1\\n      172935       0.00      0.00      0.00         1\\n      172988       0.00      0.00      0.00         1\\n      172998       0.00      0.00      0.00         1\\n      173022       0.00      0.00      0.00         1\\n      173024       0.00      0.00      0.00         1\\n      173034       1.00      1.00      1.00         1\\n      173078       1.00      1.00      1.00         1\\n      173088       0.00      0.00      0.00         1\\n      173089       0.00      0.00      0.00         1\\n      173096       1.00      1.00      1.00         1\\n      173145       1.00      1.00      1.00         1\\n      173149       0.00      0.00      0.00         1\\n      173169       0.00      0.00      0.00         1\\n      173171       0.00      0.00      0.00         1\\n      173179       0.00      0.00      0.00         1\\n      173200       0.00      0.00      0.00         1\\n      173221       0.00      0.00      0.00         1\\n      173222       0.00      0.00      0.00         1\\n      173237       0.00      0.00      0.00         1\\n      173238       0.00      0.00      0.00         1\\n      173247       0.00      0.00      0.00         1\\n      173266       1.00      1.00      1.00         1\\n      173306       0.00      0.00      0.00         1\\n      173311       0.00      0.00      0.00         1\\n      173333       0.00      0.00      0.00         1\\n      173344       0.00      0.00      0.00         1\\n      173373       0.00      0.00      0.00         1\\n      173453       0.00      0.00      0.00         1\\n      173456       0.00      0.00      0.00         1\\n      173466       0.00      0.00      0.00         1\\n      173473       0.00      0.00      0.00         1\\n      173551       0.00      0.00      0.00         1\\n      173567       0.00      0.00      0.00         1\\n      173575       0.00      0.00      0.00         1\\n      173578       0.00      0.00      0.00         1\\n      173603       1.00      1.00      1.00         1\\n      173647       0.33      1.00      0.50         1\\n      173650       0.00      0.00      0.00         1\\n      173707       0.50      1.00      0.67         1\\n      173733       1.00      1.00      1.00         1\\n      173757       1.00      1.00      1.00         1\\n      173774       0.00      0.00      0.00         1\\n      173800       0.00      0.00      0.00         1\\n      173803       0.00      0.00      0.00         1\\n      173836       1.00      1.00      1.00         1\\n      173887       1.00      1.00      1.00         1\\n      173889       0.00      0.00      0.00         1\\n      173940       0.00      0.00      0.00         1\\n      173955       0.00      0.00      0.00         1\\n      173963       0.00      0.00      0.00         1\\n      174012       1.00      1.00      1.00         1\\n      174023       1.00      1.00      1.00         1\\n      174042       0.00      0.00      0.00         1\\n      174050       1.00      1.00      1.00         1\\n      174119       0.00      0.00      0.00         1\\n      174153       0.00      0.00      0.00         1\\n      174198       0.00      0.00      0.00         1\\n      174227       1.00      1.00      1.00         1\\n      174232       0.00      0.00      0.00         1\\n      174254       0.00      0.00      0.00         1\\n      174284       0.00      0.00      0.00         1\\n      174285       0.00      0.00      0.00         1\\n      174286       0.00      0.00      0.00         1\\n      174293       0.00      0.00      0.00         1\\n      174308       0.00      0.00      0.00         1\\n      174312       1.00      1.00      1.00         1\\n      174357       0.00      0.00      0.00         1\\n      174392       0.00      0.00      0.00         1\\n      174395       0.00      0.00      0.00         1\\n      174398       0.00      0.00      0.00         1\\n      174424       0.00      0.00      0.00         1\\n      174534       0.00      0.00      0.00         1\\n      174544       1.00      1.00      1.00         1\\n      174567       1.00      1.00      1.00         1\\n      174616       0.00      0.00      0.00         1\\n      174617       0.00      0.00      0.00         1\\n      174620       1.00      1.00      1.00         1\\n      174630       0.00      0.00      0.00         1\\n      174661       0.00      0.00      0.00         1\\n      174663       0.00      0.00      0.00         1\\n      174665       0.00      0.00      0.00         1\\n      174667       0.00      0.00      0.00         1\\n      174669       1.00      1.00      1.00         1\\n      174677       1.00      1.00      1.00         1\\n      174696       0.00      0.00      0.00         1\\n      174727       0.00      0.00      0.00         1\\n      174731       0.00      0.00      0.00         1\\n      174746       0.00      0.00      0.00         1\\n      174749       1.00      1.00      1.00         1\\n      174759       0.00      0.00      0.00         1\\n      174789       0.00      0.00      0.00         1\\n      174811       0.00      0.00      0.00         1\\n      174825       0.00      0.00      0.00         1\\n      174828       0.00      0.00      0.00         1\\n      174887       0.00      0.00      0.00         1\\n      174895       1.00      1.00      1.00         1\\n      174950       0.00      0.00      0.00         1\\n      174985       0.00      0.00      0.00         1\\n      174993       1.00      1.00      1.00         1\\n      175000       1.00      1.00      1.00         1\\n      175083       0.00      0.00      0.00         1\\n      175092       1.00      1.00      1.00         1\\n      175101       1.00      1.00      1.00         1\\n      175108       1.00      1.00      1.00         1\\n      175110       0.00      0.00      0.00         1\\n      175122       0.00      0.00      0.00         1\\n      175158       1.00      1.00      1.00         1\\n      175188       0.00      0.00      0.00         1\\n      175214       0.00      0.00      0.00         1\\n      175240       1.00      1.00      1.00         1\\n      175251       0.00      0.00      0.00         1\\n      175259       0.00      0.00      0.00         1\\n      175261       0.00      0.00      0.00         1\\n      175265       0.00      0.00      0.00         1\\n      175272       0.00      0.00      0.00         1\\n      175294       0.00      0.00      0.00         1\\n      175323       1.00      1.00      1.00         1\\n      175325       1.00      1.00      1.00         1\\n      175326       0.00      0.00      0.00         1\\n      175387       0.00      0.00      0.00         1\\n      175421       0.00      0.00      0.00         1\\n      175452       0.00      0.00      0.00         1\\n      175465       1.00      1.00      1.00         1\\n      175467       0.00      0.00      0.00         1\\n      175575       0.00      0.00      0.00         1\\n      175640       1.00      1.00      1.00         1\\n      175675       0.00      0.00      0.00         1\\n      175696       0.00      0.00      0.00         1\\n      175769       1.00      1.00      1.00         1\\n      175776       1.00      1.00      1.00         1\\n      175779       0.00      0.00      0.00         1\\n      175788       0.00      0.00      0.00         1\\n      175801       1.00      1.00      1.00         1\\n      175843       0.00      0.00      0.00         1\\n      175876       0.00      0.00      0.00         1\\n      175942       0.00      0.00      0.00         1\\n      175948       1.00      1.00      1.00         1\\n      175958       0.00      0.00      0.00         1\\n      175967       1.00      1.00      1.00         1\\n      175968       0.00      0.00      0.00         1\\n      175996       0.00      0.00      0.00         1\\n      176004       0.00      0.00      0.00         1\\n      176039       0.00      0.00      0.00         1\\n      176054       0.00      0.00      0.00         1\\n      176083       0.00      0.00      0.00         1\\n      176096       0.00      0.00      0.00         1\\n      176132       1.00      1.00      1.00         1\\n      176144       0.00      0.00      0.00         1\\n      176147       0.00      0.00      0.00         1\\n      176196       0.00      0.00      0.00         1\\n      176223       0.00      0.00      0.00         1\\n      176225       0.00      0.00      0.00         1\\n      176265       0.00      0.00      0.00         1\\n      176278       1.00      1.00      1.00         1\\n      176335       1.00      1.00      1.00         1\\n      176361       1.00      1.00      1.00         1\\n      176384       1.00      1.00      1.00         1\\n      176396       1.00      1.00      1.00         1\\n      176415       0.50      1.00      0.67         1\\n      176425       0.00      0.00      0.00         1\\n      176472       1.00      1.00      1.00         1\\n      176476       1.00      1.00      1.00         1\\n      176480       0.00      0.00      0.00         1\\n      176486       0.00      0.00      0.00         1\\n      176501       0.00      0.00      0.00         1\\n      176506       0.00      0.00      0.00         1\\n      176528       0.00      0.00      0.00         1\\n      176549       1.00      1.00      1.00         1\\n      176557       0.00      0.00      0.00         1\\n      176560       0.00      0.00      0.00         1\\n      176576       0.00      0.00      0.00         1\\n      176588       0.00      0.00      0.00         1\\n      176632       0.50      1.00      0.67         1\\n      176649       0.00      0.00      0.00         1\\n      176692       0.00      0.00      0.00         1\\n      176698       0.00      0.00      0.00         1\\n      176770       0.00      0.00      0.00         1\\n      176782       1.00      1.00      1.00         1\\n      176805       1.00      1.00      1.00         1\\n      176813       0.00      0.00      0.00         1\\n      176819       0.00      0.00      0.00         1\\n      176890       1.00      1.00      1.00         1\\n      176907       0.00      0.00      0.00         1\\n      176919       0.00      0.00      0.00         1\\n      176921       1.00      1.00      1.00         1\\n      177002       1.00      1.00      1.00         1\\n      177037       0.00      0.00      0.00         1\\n      177059       0.00      0.00      0.00         1\\n      177116       0.00      0.00      0.00         1\\n      177118       0.00      0.00      0.00         1\\n      177120       0.00      0.00      0.00         1\\n      177126       0.00      0.00      0.00         1\\n      177152       1.00      1.00      1.00         1\\n      177160       0.00      0.00      0.00         1\\n      177180       1.00      1.00      1.00         1\\n      177193       1.00      1.00      1.00         1\\n      177212       1.00      1.00      1.00         1\\n      177213       0.00      0.00      0.00         1\\n      177214       0.00      0.00      0.00         1\\n      177222       0.00      0.00      0.00         1\\n      177240       0.00      0.00      0.00         1\\n      177279       0.00      0.00      0.00         1\\n      177281       0.00      0.00      0.00         1\\n      177294       0.00      0.00      0.00         1\\n      177307       1.00      1.00      1.00         1\\n      177346       0.00      0.00      0.00         1\\n      177349       0.00      0.00      0.00         1\\n      177371       0.00      0.00      0.00         1\\n      177396       0.00      0.00      0.00         1\\n      177407       0.00      0.00      0.00         1\\n      177417       0.00      0.00      0.00         1\\n      177420       1.00      1.00      1.00         1\\n      177453       0.00      0.00      0.00         1\\n      177459       1.00      1.00      1.00         1\\n      177470       0.00      0.00      0.00         1\\n      177484       0.00      0.00      0.00         1\\n      177515       0.00      0.00      0.00         1\\n      177520       0.00      0.00      0.00         1\\n      177534       1.00      1.00      1.00         1\\n      177578       1.00      1.00      1.00         1\\n      177580       0.00      0.00      0.00         1\\n      177613       0.00      0.00      0.00         1\\n      177618       0.00      0.00      0.00         1\\n      177642       0.00      0.00      0.00         1\\n      177648       0.00      0.00      0.00         1\\n      177674       0.00      0.00      0.00         1\\n      177694       1.00      1.00      1.00         1\\n      177709       0.00      0.00      0.00         1\\n      177719       0.00      0.00      0.00         1\\n      177721       0.00      0.00      0.00         1\\n      177747       0.00      0.00      0.00         1\\n      177749       1.00      1.00      1.00         1\\n      177763       0.00      0.00      0.00         1\\n      177770       0.00      0.00      0.00         1\\n      177771       1.00      1.00      1.00         1\\n      177792       0.00      0.00      0.00         1\\n      177821       0.00      0.00      0.00         1\\n      177823       0.00      0.00      0.00         1\\n      177842       0.00      0.00      0.00         1\\n      177859       1.00      1.00      1.00         1\\n      177892       0.00      0.00      0.00         1\\n      177895       1.00      1.00      1.00         1\\n      177920       0.00      0.00      0.00         1\\n      177929       0.00      0.00      0.00         1\\n      177934       0.00      0.00      0.00         1\\n      177943       0.00      0.00      0.00         1\\n      177965       0.00      0.00      0.00         1\\n      177986       1.00      1.00      1.00         1\\n      177995       1.00      1.00      1.00         1\\n      178007       0.00      0.00      0.00         1\\n      178008       0.00      0.00      0.00         1\\n      178018       0.00      0.00      0.00         1\\n      178031       0.00      0.00      0.00         1\\n      178047       0.00      0.00      0.00         1\\n      178053       0.00      0.00      0.00         1\\n      178061       0.00      0.00      0.00         1\\n      178068       0.00      0.00      0.00         1\\n      178069       1.00      1.00      1.00         1\\n      178076       0.00      0.00      0.00         1\\n      178080       0.00      0.00      0.00         1\\n      178121       0.00      0.00      0.00         1\\n      178129       1.00      1.00      1.00         1\\n      178144       0.00      0.00      0.00         1\\n      178163       1.00      1.00      1.00         1\\n      178189       1.00      1.00      1.00         1\\n      178194       0.00      0.00      0.00         1\\n      178209       1.00      1.00      1.00         1\\n      178211       0.00      0.00      0.00         1\\n      178227       0.00      0.00      0.00         1\\n      178259       0.00      0.00      0.00         1\\n      178264       0.00      0.00      0.00         1\\n      178290       0.00      0.00      0.00         1\\n      178305       0.00      0.00      0.00         1\\n      178332       0.00      0.00      0.00         1\\n      178337       0.00      0.00      0.00         1\\n      178342       0.00      0.00      0.00         1\\n      178362       0.00      0.00      0.00         1\\n      178375       0.00      0.00      0.00         1\\n      178405       0.00      0.00      0.00         1\\n      178407       0.00      0.00      0.00         1\\n      178438       0.00      0.00      0.00         1\\n      178440       0.00      0.00      0.00         1\\n      178445       0.00      0.00      0.00         1\\n      178459       0.00      0.00      0.00         1\\n      178462       1.00      1.00      1.00         1\\n      178466       1.00      1.00      1.00         1\\n      178471       0.00      0.00      0.00         1\\n      178507       1.00      1.00      1.00         1\\n      178512       0.00      0.00      0.00         1\\n      178555       0.00      0.00      0.00         1\\n      178557       0.00      0.00      0.00         1\\n      178574       0.00      0.00      0.00         1\\n      178598       0.00      0.00      0.00         1\\n      178612       1.00      1.00      1.00         1\\n      178614       0.00      0.00      0.00         1\\n      178635       1.00      1.00      1.00         1\\n      178636       1.00      1.00      1.00         1\\n      178645       0.00      0.00      0.00         1\\n      178670       0.00      0.00      0.00         1\\n      178697       0.00      0.00      0.00         1\\n      178714       0.00      0.00      0.00         1\\n      178735       1.00      1.00      1.00         1\\n      178761       0.00      0.00      0.00         1\\n      178769       0.00      0.00      0.00         1\\n      178780       1.00      1.00      1.00         1\\n      178786       0.00      0.00      0.00         1\\n      178837       0.00      0.00      0.00         1\\n      178889       0.00      0.00      0.00         1\\n      178892       0.00      0.00      0.00         1\\n      178902       1.00      1.00      1.00         1\\n      178915       1.00      1.00      1.00         1\\n      178963       0.00      0.00      0.00         1\\n      178968       0.00      0.00      0.00         1\\n      178989       0.00      0.00      0.00         1\\n      178992       0.00      0.00      0.00         1\\n      179006       0.00      0.00      0.00         1\\n      179075       0.00      0.00      0.00         1\\n      179078       0.00      0.00      0.00         1\\n      179080       0.00      0.00      0.00         1\\n      179082       0.00      0.00      0.00         1\\n      179100       0.00      0.00      0.00         1\\n      179109       0.00      0.00      0.00         1\\n      179116       1.00      1.00      1.00         1\\n      179117       0.00      0.00      0.00         1\\n      179132       1.00      1.00      1.00         1\\n      179158       0.00      0.00      0.00         1\\n      179224       1.00      1.00      1.00         1\\n      179249       0.00      0.00      0.00         1\\n      179266       0.00      0.00      0.00         1\\n      179284       0.00      0.00      0.00         1\\n      179290       0.00      0.00      0.00         1\\n      179301       1.00      1.00      1.00         1\\n      179314       0.00      0.00      0.00         1\\n      179325       0.00      0.00      0.00         1\\n      179329       0.00      0.00      0.00         1\\n      179330       0.00      0.00      0.00         1\\n      179370       0.00      0.00      0.00         1\\n      179391       0.00      0.00      0.00         1\\n      179425       0.00      0.00      0.00         1\\n      179432       0.00      0.00      0.00         1\\n      179435       1.00      1.00      1.00         1\\n      179444       0.00      0.00      0.00         1\\n      179482       1.00      1.00      1.00         1\\n      179510       1.00      1.00      1.00         1\\n      179525       0.00      0.00      0.00         1\\n      179575       1.00      1.00      1.00         1\\n      179595       0.00      0.00      0.00         1\\n      179611       0.00      0.00      0.00         1\\n      179621       0.00      0.00      0.00         1\\n      179622       0.00      0.00      0.00         1\\n      179631       0.00      0.00      0.00         1\\n      179692       1.00      1.00      1.00         1\\n      179695       1.00      1.00      1.00         1\\n      179765       0.00      0.00      0.00         1\\n      179772       0.00      0.00      0.00         1\\n      179773       0.00      0.00      0.00         1\\n      179805       0.00      0.00      0.00         1\\n      179819       1.00      1.00      1.00         1\\n      179840       0.00      0.00      0.00         1\\n      179911       0.00      0.00      0.00         1\\n      179916       0.00      0.00      0.00         1\\n      179932       0.00      0.00      0.00         1\\n      179935       0.00      0.00      0.00         1\\n      179948       1.00      1.00      1.00         1\\n      179960       0.00      0.00      0.00         1\\n      179982       0.00      0.00      0.00         1\\n      180009       0.00      0.00      0.00         1\\n      180027       0.00      0.00      0.00         1\\n      180035       0.00      0.00      0.00         1\\n      180036       0.00      0.00      0.00         1\\n      180070       0.00      0.00      0.00         1\\n      180085       0.00      0.00      0.00         1\\n      180108       0.00      0.00      0.00         1\\n      180125       1.00      1.00      1.00         1\\n      180130       0.00      0.00      0.00         1\\n      180142       1.00      1.00      1.00         1\\n      180228       0.00      0.00      0.00         1\\n      180285       0.00      0.00      0.00         1\\n      180299       0.00      0.00      0.00         1\\n      180303       0.00      0.00      0.00         1\\n      180317       1.00      1.00      1.00         1\\n      180321       1.00      1.00      1.00         1\\n      180326       1.00      1.00      1.00         1\\n      180347       0.00      0.00      0.00         1\\n      180356       0.00      0.00      0.00         1\\n      180394       1.00      1.00      1.00         1\\n      180402       0.00      0.00      0.00         1\\n      180415       0.00      0.00      0.00         1\\n      180421       0.00      0.00      0.00         1\\n      180464       1.00      1.00      1.00         1\\n      180550       0.00      0.00      0.00         1\\n      180561       1.00      1.00      1.00         1\\n      180576       0.00      0.00      0.00         1\\n      180580       0.00      0.00      0.00         1\\n      180607       0.00      0.00      0.00         1\\n      180620       0.00      0.00      0.00         1\\n      180684       0.00      0.00      0.00         1\\n      180689       0.00      0.00      0.00         1\\n      180696       0.00      0.00      0.00         1\\n      180715       0.00      0.00      0.00         1\\n      180732       0.00      0.00      0.00         1\\n      180746       0.00      0.00      0.00         1\\n      180748       0.00      0.00      0.00         1\\n      180761       0.00      0.00      0.00         1\\n      180782       1.00      1.00      1.00         1\\n      180793       1.00      1.00      1.00         1\\n      180820       0.00      0.00      0.00         1\\n      180823       0.00      0.00      0.00         1\\n      180850       1.00      1.00      1.00         1\\n      180882       0.00      0.00      0.00         1\\n      180884       0.00      0.00      0.00         1\\n      180895       0.00      0.00      0.00         1\\n      180921       0.00      0.00      0.00         1\\n      180924       1.00      1.00      1.00         1\\n      180932       1.00      1.00      1.00         1\\n      180933       0.00      0.00      0.00         1\\n      180943       0.00      0.00      0.00         1\\n      180945       0.00      0.00      0.00         1\\n      180951       0.00      0.00      0.00         1\\n      180956       0.00      0.00      0.00         1\\n      180976       0.00      0.00      0.00         1\\n      180998       0.00      0.00      0.00         1\\n      181054       0.00      0.00      0.00         1\\n      181069       1.00      1.00      1.00         1\\n      181073       0.00      0.00      0.00         1\\n      181090       0.00      0.00      0.00         1\\n      181093       0.00      0.00      0.00         1\\n      181116       0.00      0.00      0.00         1\\n      181148       0.00      0.00      0.00         1\\n      181170       0.00      0.00      0.00         1\\n      181173       0.00      0.00      0.00         1\\n      181176       1.00      1.00      1.00         1\\n      181180       0.00      0.00      0.00         1\\n      181233       0.00      0.00      0.00         1\\n      181248       0.00      0.00      0.00         1\\n      181260       0.00      0.00      0.00         1\\n      181271       1.00      1.00      1.00         1\\n      181296       0.00      0.00      0.00         1\\n      181301       0.00      0.00      0.00         1\\n      181312       0.00      0.00      0.00         1\\n      181317       0.50      1.00      0.67         1\\n      181324       0.00      0.00      0.00         1\\n      181333       0.00      0.00      0.00         1\\n      181336       0.00      0.00      0.00         1\\n      181343       0.50      1.00      0.67         1\\n      181374       1.00      1.00      1.00         1\\n      181380       0.00      0.00      0.00         1\\n      181411       0.00      0.00      0.00         1\\n      181484       0.00      0.00      0.00         1\\n      181518       1.00      1.00      1.00         1\\n      181539       0.00      0.00      0.00         1\\n      181563       0.00      0.00      0.00         1\\n      181589       0.00      0.00      0.00         1\\n      181642       1.00      1.00      1.00         1\\n      181652       0.00      0.00      0.00         1\\n      181684       0.00      0.00      0.00         1\\n      181691       1.00      1.00      1.00         1\\n      181734       1.00      1.00      1.00         1\\n      181738       0.00      0.00      0.00         1\\n      181802       1.00      1.00      1.00         1\\n      181814       0.00      0.00      0.00         1\\n      181817       0.00      0.00      0.00         1\\n      181839       0.00      0.00      0.00         1\\n      181848       0.00      0.00      0.00         1\\n      181862       0.00      0.00      0.00         1\\n      181900       0.00      0.00      0.00         1\\n      181923       0.00      0.00      0.00         1\\n      181979       0.00      0.00      0.00         1\\n      181997       0.00      0.00      0.00         1\\n      182009       0.00      0.00      0.00         1\\n      182016       0.00      0.00      0.00         1\\n      182106       0.00      0.00      0.00         1\\n      182108       0.00      0.00      0.00         1\\n      182130       0.00      0.00      0.00         1\\n      182141       0.00      0.00      0.00         1\\n      182175       0.00      0.00      0.00         1\\n      182183       0.00      0.00      0.00         1\\n      182194       0.00      0.00      0.00         1\\n      182198       0.00      0.00      0.00         1\\n      182221       0.00      0.00      0.00         1\\n      182248       1.00      1.00      1.00         1\\n      182268       1.00      1.00      1.00         1\\n      182324       0.00      0.00      0.00         1\\n      182358       0.00      0.00      0.00         1\\n      182369       0.00      0.00      0.00         1\\n      182432       0.00      0.00      0.00         1\\n      182479       0.00      0.00      0.00         1\\n      182481       1.00      1.00      1.00         1\\n      182484       0.00      0.00      0.00         1\\n      182531       0.00      0.00      0.00         1\\n      182550       0.00      0.00      0.00         1\\n      182569       0.00      0.00      0.00         1\\n      182574       1.00      1.00      1.00         1\\n      182579       1.00      1.00      1.00         1\\n      182612       0.00      0.00      0.00         1\\n      182641       0.00      0.00      0.00         1\\n      182648       0.00      0.00      0.00         1\\n      182659       1.00      1.00      1.00         1\\n      182668       0.00      0.00      0.00         1\\n      182680       0.00      0.00      0.00         1\\n      182690       0.00      0.00      0.00         1\\n      182700       0.00      0.00      0.00         1\\n      182744       1.00      1.00      1.00         1\\n      182745       0.00      0.00      0.00         1\\n      182768       0.00      0.00      0.00         1\\n      182802       0.00      0.00      0.00         1\\n      182803       1.00      1.00      1.00         1\\n      182810       0.00      0.00      0.00         1\\n      182819       0.00      0.00      0.00         1\\n      182841       0.00      0.00      0.00         1\\n      182843       0.00      0.00      0.00         1\\n      182882       0.00      0.00      0.00         1\\n      182901       0.00      0.00      0.00         1\\n      182906       0.00      0.00      0.00         1\\n      182921       0.50      1.00      0.67         1\\n      182923       1.00      1.00      1.00         1\\n      182939       0.00      0.00      0.00         1\\n      182942       0.00      0.00      0.00         1\\n      182984       0.00      0.00      0.00         1\\n      182995       0.00      0.00      0.00         1\\n      183039       1.00      1.00      1.00         1\\n      183043       1.00      1.00      1.00         1\\n      183072       1.00      1.00      1.00         1\\n      183088       0.00      0.00      0.00         1\\n      183091       1.00      1.00      1.00         1\\n      183098       0.00      0.00      0.00         1\\n      183099       1.00      1.00      1.00         1\\n      183127       1.00      1.00      1.00         1\\n      183134       0.00      0.00      0.00         1\\n      183157       0.00      0.00      0.00         1\\n      183206       0.00      0.00      0.00         1\\n      183210       0.00      0.00      0.00         1\\n      183228       1.00      1.00      1.00         1\\n      183239       0.00      0.00      0.00         1\\n      183252       1.00      1.00      1.00         1\\n      183257       0.00      0.00      0.00         1\\n      183259       0.00      0.00      0.00         1\\n      183267       0.00      0.00      0.00         1\\n      183280       0.00      0.00      0.00         1\\n      183297       0.00      0.00      0.00         1\\n      183334       0.00      0.00      0.00         1\\n      183352       0.00      0.00      0.00         1\\n      183415       1.00      1.00      1.00         1\\n      183484       0.00      0.00      0.00         1\\n      183486       0.00      0.00      0.00         1\\n      183487       0.00      0.00      0.00         1\\n      183568       0.00      0.00      0.00         1\\n      183621       0.00      0.00      0.00         1\\n      183625       0.00      0.00      0.00         1\\n      183678       0.00      0.00      0.00         1\\n      183726       1.00      1.00      1.00         1\\n      183735       1.00      1.00      1.00         1\\n      183742       0.00      0.00      0.00         1\\n      183782       0.00      0.00      0.00         1\\n      183786       1.00      1.00      1.00         1\\n      183802       0.00      0.00      0.00         1\\n      183822       0.00      0.00      0.00         1\\n      183840       0.00      0.00      0.00         1\\n      183888       1.00      1.00      1.00         1\\n      183895       0.00      0.00      0.00         1\\n      183907       0.00      0.00      0.00         1\\n      183981       0.00      0.00      0.00         1\\n      183985       0.00      0.00      0.00         1\\n      184050       0.00      0.00      0.00         1\\n      184082       0.00      0.00      0.00         1\\n      184110       0.00      0.00      0.00         1\\n      184131       0.00      0.00      0.00         1\\n      184157       0.00      0.00      0.00         1\\n      184183       1.00      1.00      1.00         1\\n      184187       0.00      0.00      0.00         1\\n      184251       1.00      1.00      1.00         1\\n      184257       0.00      0.00      0.00         1\\n      184273       0.00      0.00      0.00         1\\n      184298       0.00      0.00      0.00         1\\n      184301       0.00      0.00      0.00         1\\n      184316       0.00      0.00      0.00         1\\n      184317       0.00      0.00      0.00         1\\n      184386       0.00      0.00      0.00         1\\n      184416       1.00      1.00      1.00         1\\n      184449       0.00      0.00      0.00         1\\n      184481       1.00      1.00      1.00         1\\n      184508       0.00      0.00      0.00         1\\n      184513       0.00      0.00      0.00         1\\n      184526       0.00      0.00      0.00         1\\n      184546       0.00      0.00      0.00         1\\n      184619       0.00      0.00      0.00         1\\n      184648       0.00      0.00      0.00         1\\n      184669       1.00      1.00      1.00         1\\n      184687       0.00      0.00      0.00         1\\n      184693       1.00      1.00      1.00         1\\n      184702       0.00      0.00      0.00         1\\n      184706       0.00      0.00      0.00         1\\n      184713       0.00      0.00      0.00         1\\n      184748       0.00      0.00      0.00         1\\n      184774       0.00      0.00      0.00         1\\n      184775       0.00      0.00      0.00         1\\n      184828       0.00      0.00      0.00         1\\n      184845       0.00      0.00      0.00         1\\n      184867       0.00      0.00      0.00         1\\n      184880       0.00      0.00      0.00         1\\n      184918       0.00      0.00      0.00         1\\n      184920       0.00      0.00      0.00         1\\n      184943       0.00      0.00      0.00         1\\n      184972       0.00      0.00      0.00         1\\n      185012       0.00      0.00      0.00         1\\n      185033       0.00      0.00      0.00         1\\n      185053       0.00      0.00      0.00         1\\n      185062       0.00      0.00      0.00         1\\n      185076       0.00      0.00      0.00         1\\n      185077       0.00      0.00      0.00         1\\n      185085       0.00      0.00      0.00         1\\n      185108       0.00      0.00      0.00         1\\n      185124       1.00      1.00      1.00         1\\n      185127       0.00      0.00      0.00         1\\n      185142       0.00      0.00      0.00         1\\n      185150       0.00      0.00      0.00         1\\n      185177       0.00      0.00      0.00         1\\n      185199       0.00      0.00      0.00         1\\n      185213       1.00      1.00      1.00         1\\n      185251       1.00      1.00      1.00         1\\n      185258       1.00      1.00      1.00         1\\n      185266       1.00      1.00      1.00         1\\n      185294       0.00      0.00      0.00         1\\n      185314       0.00      0.00      0.00         1\\n      185343       0.00      0.00      0.00         1\\n      185355       0.00      0.00      0.00         1\\n      185365       1.00      1.00      1.00         1\\n      185382       0.00      0.00      0.00         1\\n      185407       0.00      0.00      0.00         1\\n      185420       1.00      1.00      1.00         1\\n      185444       0.00      0.00      0.00         1\\n      185466       0.00      0.00      0.00         1\\n      185477       0.00      0.00      0.00         1\\n      185516       0.00      0.00      0.00         1\\n      185519       0.00      0.00      0.00         1\\n      185526       0.00      0.00      0.00         1\\n      185530       0.00      0.00      0.00         1\\n      185533       1.00      1.00      1.00         1\\n      185535       1.00      1.00      1.00         1\\n      185553       0.00      0.00      0.00         1\\n      185582       0.00      0.00      0.00         1\\n      185589       1.00      1.00      1.00         1\\n      185611       0.00      0.00      0.00         1\\n      185624       1.00      1.00      1.00         1\\n      185630       0.00      0.00      0.00         1\\n      185658       0.00      0.00      0.00         1\\n      185712       0.00      0.00      0.00         1\\n      185713       0.00      0.00      0.00         1\\n      185715       0.00      0.00      0.00         1\\n      185724       0.00      0.00      0.00         1\\n      185748       0.00      0.00      0.00         1\\n      185760       0.00      0.00      0.00         1\\n      185785       0.00      0.00      0.00         1\\n      185787       0.00      0.00      0.00         1\\n      185789       0.00      0.00      0.00         1\\n      185799       1.00      1.00      1.00         1\\n      185820       0.00      0.00      0.00         1\\n      185824       0.00      0.00      0.00         1\\n      185867       0.00      0.00      0.00         1\\n      185869       0.00      0.00      0.00         1\\n      185891       0.00      0.00      0.00         1\\n      185908       0.00      0.00      0.00         1\\n      185942       1.00      1.00      1.00         1\\n      185972       0.00      0.00      0.00         1\\n      186029       0.00      0.00      0.00         1\\n      186040       1.00      1.00      1.00         1\\n      186063       0.00      0.00      0.00         1\\n      186068       0.00      0.00      0.00         1\\n      186074       0.00      0.00      0.00         1\\n      186082       0.00      0.00      0.00         1\\n      186104       1.00      1.00      1.00         1\\n      186125       0.00      0.00      0.00         1\\n      186167       0.00      0.00      0.00         1\\n      186176       0.00      0.00      0.00         1\\n      186185       1.00      1.00      1.00         1\\n      186229       0.00      0.00      0.00         1\\n      186233       0.00      0.00      0.00         1\\n      186243       0.00      0.00      0.00         1\\n      186260       0.00      0.00      0.00         1\\n      186293       0.00      0.00      0.00         1\\n      186296       0.00      0.00      0.00         1\\n      186307       0.00      0.00      0.00         1\\n      186312       0.00      0.00      0.00         1\\n      186387       0.00      0.00      0.00         1\\n      186392       0.00      0.00      0.00         1\\n      186416       0.00      0.00      0.00         1\\n      186488       0.00      0.00      0.00         1\\n      186496       1.00      1.00      1.00         1\\n      186532       0.00      0.00      0.00         1\\n      186537       0.00      0.00      0.00         1\\n      186542       0.00      0.00      0.00         1\\n      186581       1.00      1.00      1.00         1\\n      186596       0.00      0.00      0.00         1\\n      186603       0.00      0.00      0.00         1\\n      186696       0.00      0.00      0.00         1\\n      186698       0.00      0.00      0.00         1\\n      186714       0.00      0.00      0.00         1\\n      186715       0.00      0.00      0.00         1\\n      186737       0.00      0.00      0.00         1\\n      186757       1.00      1.00      1.00         1\\n      186776       0.00      0.00      0.00         1\\n      186781       0.00      0.00      0.00         1\\n      186782       1.00      1.00      1.00         1\\n      186805       0.00      0.00      0.00         1\\n      186818       0.00      0.00      0.00         1\\n      186838       0.00      0.00      0.00         1\\n      186839       0.00      0.00      0.00         1\\n      186873       1.00      1.00      1.00         1\\n      186883       1.00      1.00      1.00         1\\n      186904       1.00      1.00      1.00         1\\n      186946       0.00      0.00      0.00         1\\n      186948       0.00      0.00      0.00         1\\n      186960       1.00      1.00      1.00         1\\n      186967       1.00      1.00      1.00         1\\n      186969       0.00      0.00      0.00         1\\n      187028       0.00      0.00      0.00         1\\n      187030       0.00      0.00      0.00         1\\n      187038       0.00      0.00      0.00         1\\n      187060       0.00      0.00      0.00         1\\n      187068       0.00      0.00      0.00         1\\n      187072       0.00      0.00      0.00         1\\n      187074       1.00      1.00      1.00         1\\n      187077       0.00      0.00      0.00         1\\n      187113       0.00      0.00      0.00         1\\n      187129       0.00      0.00      0.00         1\\n      187166       0.00      0.00      0.00         1\\n      187168       1.00      1.00      1.00         1\\n      187181       0.00      0.00      0.00         1\\n      187205       0.00      0.00      0.00         1\\n      187228       0.00      0.00      0.00         1\\n      187241       1.00      1.00      1.00         1\\n      187244       0.00      0.00      0.00         1\\n      187258       0.00      0.00      0.00         1\\n      187286       1.00      1.00      1.00         1\\n      187290       0.00      0.00      0.00         1\\n      187329       0.00      0.00      0.00         1\\n      187341       0.50      1.00      0.67         1\\n      187380       0.00      0.00      0.00         1\\n      187388       1.00      1.00      1.00         1\\n      187419       0.00      0.00      0.00         1\\n      187420       1.00      1.00      1.00         1\\n      187448       0.00      0.00      0.00         1\\n      187463       0.00      0.00      0.00         1\\n      187497       0.00      0.00      0.00         1\\n      187507       0.00      0.00      0.00         1\\n      187510       0.00      0.00      0.00         1\\n      187528       0.00      0.00      0.00         1\\n      187544       0.00      0.00      0.00         1\\n      187549       0.00      0.00      0.00         1\\n      187573       0.00      0.00      0.00         1\\n      187593       0.00      0.00      0.00         1\\n      187596       1.00      1.00      1.00         1\\n      187599       0.00      0.00      0.00         1\\n      187609       0.00      0.00      0.00         1\\n      187639       0.00      0.00      0.00         1\\n      187640       0.00      0.00      0.00         1\\n      187665       0.00      0.00      0.00         1\\n      187685       0.00      0.00      0.00         1\\n      187690       0.00      0.00      0.00         1\\n      187758       0.00      0.00      0.00         1\\n      187772       1.00      1.00      1.00         1\\n      187789       1.00      1.00      1.00         1\\n      187799       1.00      1.00      1.00         1\\n      187811       0.00      0.00      0.00         1\\n      187812       0.00      0.00      0.00         1\\n      187825       1.00      1.00      1.00         1\\n      187846       0.00      0.00      0.00         1\\n      187849       1.00      1.00      1.00         1\\n      187926       1.00      1.00      1.00         1\\n      187978       0.00      0.00      0.00         1\\n      188053       0.00      0.00      0.00         1\\n      188058       0.00      0.00      0.00         1\\n      188081       0.00      0.00      0.00         1\\n      188109       0.00      0.00      0.00         1\\n      188119       0.00      0.00      0.00         1\\n      188127       0.00      0.00      0.00         1\\n      188142       0.00      0.00      0.00         1\\n      188149       0.00      0.00      0.00         1\\n      188153       0.00      0.00      0.00         1\\n      188162       0.00      0.00      0.00         1\\n      188183       1.00      1.00      1.00         1\\n      188201       0.00      0.00      0.00         1\\n      188202       0.00      0.00      0.00         1\\n      188208       0.00      0.00      0.00         1\\n      188218       0.00      0.00      0.00         1\\n      188241       0.00      0.00      0.00         1\\n      188247       0.00      0.00      0.00         1\\n      188280       0.00      0.00      0.00         1\\n      188296       0.00      0.00      0.00         1\\n      188347       0.00      0.00      0.00         1\\n      188354       0.00      0.00      0.00         1\\n      188356       1.00      1.00      1.00         1\\n      188431       1.00      1.00      1.00         1\\n      188482       0.00      0.00      0.00         1\\n      188486       1.00      1.00      1.00         1\\n      188489       0.00      0.00      0.00         1\\n      188508       0.00      0.00      0.00         1\\n      188520       0.00      0.00      0.00         1\\n      188525       1.00      1.00      1.00         1\\n      188564       0.00      0.00      0.00         1\\n      188583       1.00      1.00      1.00         1\\n      188644       0.00      0.00      0.00         1\\n      188660       0.00      0.00      0.00         1\\n      188673       0.00      0.00      0.00         1\\n      188675       0.00      0.00      0.00         1\\n      188716       0.00      0.00      0.00         1\\n      188724       0.00      0.00      0.00         1\\n      188762       0.00      0.00      0.00         1\\n      188775       0.00      0.00      0.00         1\\n      188854       0.00      0.00      0.00         1\\n      188876       0.00      0.00      0.00         1\\n      188888       0.00      0.00      0.00         1\\n      188892       0.00      0.00      0.00         1\\n      188898       0.00      0.00      0.00         1\\n      188988       1.00      1.00      1.00         1\\n      189005       0.00      0.00      0.00         1\\n      189014       1.00      1.00      1.00         1\\n      189069       1.00      1.00      1.00         1\\n      189084       0.00      0.00      0.00         1\\n      189098       0.00      0.00      0.00         1\\n      189105       0.00      0.00      0.00         1\\n      189129       0.00      0.00      0.00         1\\n      189130       0.00      0.00      0.00         1\\n      189134       1.00      1.00      1.00         1\\n      189152       0.00      0.00      0.00         1\\n      189166       0.00      0.00      0.00         1\\n      189171       0.50      1.00      0.67         1\\n      189217       0.00      0.00      0.00         1\\n      189257       0.00      0.00      0.00         1\\n      189263       0.00      0.00      0.00         1\\n      189290       0.00      0.00      0.00         1\\n      189344       0.00      0.00      0.00         1\\n      189371       0.00      0.00      0.00         1\\n      189379       1.00      1.00      1.00         1\\n      189387       0.00      0.00      0.00         1\\n      189421       0.00      0.00      0.00         1\\n      189447       1.00      1.00      1.00         1\\n      189488       0.00      0.00      0.00         1\\n      189508       0.00      0.00      0.00         1\\n      189537       0.00      0.00      0.00         1\\n      189585       1.00      1.00      1.00         1\\n      189670       0.00      0.00      0.00         1\\n      189679       0.00      0.00      0.00         1\\n      189693       0.00      0.00      0.00         1\\n      189695       0.00      0.00      0.00         1\\n      189725       0.00      0.00      0.00         1\\n      189758       0.00      0.00      0.00         1\\n      189760       0.00      0.00      0.00         1\\n      189765       0.00      0.00      0.00         1\\n      189817       0.00      0.00      0.00         1\\n      189843       1.00      1.00      1.00         1\\n      189854       0.00      0.00      0.00         1\\n      189892       0.00      0.00      0.00         1\\n      189933       0.00      0.00      0.00         1\\n      189943       1.00      1.00      1.00         1\\n      189953       1.00      1.00      1.00         1\\n      189957       0.00      0.00      0.00         1\\n      189964       0.00      0.00      0.00         1\\n      189968       0.00      0.00      0.00         1\\n      189996       0.00      0.00      0.00         1\\n      190050       0.00      0.00      0.00         1\\n      190061       1.00      1.00      1.00         1\\n      190091       0.00      0.00      0.00         1\\n      190094       1.00      1.00      1.00         1\\n      190105       1.00      1.00      1.00         1\\n      190106       0.00      0.00      0.00         1\\n      190107       0.00      0.00      0.00         1\\n      190116       1.00      1.00      1.00         1\\n      190118       0.00      0.00      0.00         1\\n      190125       0.00      0.00      0.00         1\\n      190154       1.00      1.00      1.00         1\\n      190160       0.00      0.00      0.00         1\\n      190171       1.00      1.00      1.00         1\\n      190216       0.00      0.00      0.00         1\\n      190233       0.00      0.00      0.00         1\\n      190238       0.00      0.00      0.00         1\\n      190253       0.00      0.00      0.00         1\\n      190256       0.00      0.00      0.00         1\\n      190257       0.00      0.00      0.00         1\\n      190285       0.00      0.00      0.00         1\\n      190304       1.00      1.00      1.00         1\\n      190311       1.00      1.00      1.00         1\\n      190325       1.00      1.00      1.00         1\\n      190375       0.00      0.00      0.00         1\\n      190414       0.00      0.00      0.00         1\\n      190421       0.00      0.00      0.00         1\\n      190432       0.00      0.00      0.00         1\\n      190474       0.00      0.00      0.00         1\\n      190481       0.00      0.00      0.00         1\\n      190556       0.00      0.00      0.00         1\\n      190576       0.00      0.00      0.00         1\\n      190578       0.00      0.00      0.00         1\\n      190587       0.00      0.00      0.00         1\\n      190615       0.00      0.00      0.00         1\\n      190637       0.00      0.00      0.00         1\\n      190657       0.00      0.00      0.00         1\\n      190677       1.00      1.00      1.00         1\\n      190690       0.00      0.00      0.00         1\\n      190695       1.00      1.00      1.00         1\\n      190696       0.00      0.00      0.00         1\\n      190710       0.00      0.00      0.00         1\\n      190725       1.00      1.00      1.00         1\\n      190727       0.00      0.00      0.00         1\\n      190755       0.00      0.00      0.00         1\\n      190756       1.00      1.00      1.00         1\\n      190758       0.00      0.00      0.00         1\\n      190779       0.00      0.00      0.00         1\\n      190797       0.00      0.00      0.00         1\\n      190801       0.00      0.00      0.00         1\\n      190811       1.00      1.00      1.00         1\\n      190839       0.00      0.00      0.00         1\\n      190889       0.00      0.00      0.00         1\\n      190989       1.00      1.00      1.00         1\\n      190990       0.00      0.00      0.00         1\\n      191018       0.00      0.00      0.00         1\\n      191025       0.00      0.00      0.00         1\\n      191027       0.00      0.00      0.00         1\\n      191032       0.00      0.00      0.00         1\\n      191053       1.00      1.00      1.00         1\\n      191080       0.00      0.00      0.00         1\\n      191110       0.00      0.00      0.00         1\\n      191111       0.00      0.00      0.00         1\\n      191130       0.00      0.00      0.00         1\\n      191140       1.00      1.00      1.00         1\\n      191145       0.00      0.00      0.00         1\\n      191148       0.00      0.00      0.00         1\\n      191162       0.00      0.00      0.00         1\\n      191196       0.00      0.00      0.00         1\\n      191206       0.00      0.00      0.00         1\\n      191222       0.00      0.00      0.00         1\\n      191224       0.00      0.00      0.00         1\\n      191245       0.00      0.00      0.00         1\\n      191246       0.00      0.00      0.00         1\\n      191253       0.00      0.00      0.00         1\\n      191256       0.00      0.00      0.00         1\\n      191274       0.00      0.00      0.00         1\\n      191344       1.00      1.00      1.00         1\\n      191375       0.00      0.00      0.00         1\\n      191380       0.00      0.00      0.00         1\\n      191384       1.00      1.00      1.00         1\\n      191445       1.00      1.00      1.00         1\\n      191473       1.00      1.00      1.00         1\\n      191487       0.00      0.00      0.00         1\\n      191491       0.00      0.00      0.00         1\\n      191500       0.00      0.00      0.00         1\\n      191503       0.00      0.00      0.00         1\\n      191522       0.00      0.00      0.00         1\\n      191530       0.00      0.00      0.00         1\\n      191557       0.00      0.00      0.00         1\\n      191595       0.00      0.00      0.00         1\\n      191606       0.00      0.00      0.00         1\\n      191618       0.00      0.00      0.00         1\\n      191626       0.00      0.00      0.00         1\\n      191633       1.00      1.00      1.00         1\\n      191648       0.00      0.00      0.00         1\\n      191661       0.00      0.00      0.00         1\\n      191700       0.00      0.00      0.00         1\\n      191701       1.00      1.00      1.00         1\\n      191731       0.00      0.00      0.00         1\\n      191737       0.00      0.00      0.00         1\\n      191743       0.00      0.00      0.00         1\\n      191749       0.00      0.00      0.00         1\\n      191764       1.00      1.00      1.00         1\\n      191802       0.00      0.00      0.00         1\\n      191824       1.00      1.00      1.00         1\\n      191829       0.00      0.00      0.00         1\\n      191831       0.00      0.00      0.00         1\\n      191844       0.00      0.00      0.00         1\\n      191854       0.00      0.00      0.00         1\\n      191880       0.00      0.00      0.00         1\\n      191922       0.00      0.00      0.00         1\\n      192004       0.00      0.00      0.00         1\\n      192065       0.00      0.00      0.00         1\\n      192089       0.00      0.00      0.00         1\\n      192113       0.00      0.00      0.00         1\\n      192176       0.00      0.00      0.00         1\\n      192195       0.00      0.00      0.00         1\\n      192211       1.00      1.00      1.00         1\\n      192241       0.00      0.00      0.00         1\\n      192263       1.00      1.00      1.00         1\\n      192282       0.00      0.00      0.00         1\\n      192300       0.00      0.00      0.00         1\\n      192302       0.00      0.00      0.00         1\\n      192325       0.00      0.00      0.00         1\\n      192328       0.00      0.00      0.00         1\\n      192329       0.00      0.00      0.00         1\\n      192333       0.00      0.00      0.00         1\\n      192365       1.00      1.00      1.00         1\\n      192374       0.00      0.00      0.00         1\\n      192387       0.00      0.00      0.00         1\\n      192410       0.00      0.00      0.00         1\\n      192424       1.00      1.00      1.00         1\\n      192452       0.00      0.00      0.00         1\\n      192469       0.00      0.00      0.00         1\\n      192481       0.00      0.00      0.00         1\\n      192483       0.00      0.00      0.00         1\\n      192498       1.00      1.00      1.00         1\\n      192548       0.00      0.00      0.00         1\\n      192557       0.00      0.00      0.00         1\\n      192559       0.00      0.00      0.00         1\\n      192572       1.00      1.00      1.00         1\\n      192590       0.00      0.00      0.00         1\\n      192595       0.00      0.00      0.00         1\\n      192622       1.00      1.00      1.00         1\\n      192674       0.00      0.00      0.00         1\\n      192710       0.00      0.00      0.00         1\\n      192714       0.00      0.00      0.00         1\\n      192738       0.00      0.00      0.00         1\\n      192743       0.00      0.00      0.00         1\\n      192823       0.00      0.00      0.00         1\\n      192826       0.00      0.00      0.00         1\\n      192849       0.00      0.00      0.00         1\\n      192862       0.00      0.00      0.00         1\\n      192984       0.00      0.00      0.00         1\\n      192990       0.00      0.00      0.00         1\\n      193009       0.00      0.00      0.00         1\\n      193020       0.00      0.00      0.00         1\\n      193041       0.00      0.00      0.00         1\\n      193096       1.00      1.00      1.00         1\\n      193133       0.00      0.00      0.00         1\\n      193175       0.00      0.00      0.00         1\\n      193180       0.00      0.00      0.00         1\\n      193195       0.00      0.00      0.00         1\\n      193199       0.00      0.00      0.00         1\\n      193202       0.00      0.00      0.00         1\\n      193231       0.00      0.00      0.00         1\\n      193272       0.00      0.00      0.00         1\\n      193289       0.00      0.00      0.00         1\\n      193295       0.00      0.00      0.00         1\\n      193300       0.00      0.00      0.00         1\\n      193313       0.00      0.00      0.00         1\\n      193315       0.00      0.00      0.00         1\\n      193381       0.00      0.00      0.00         1\\n      193385       0.00      0.00      0.00         1\\n      193399       0.00      0.00      0.00         1\\n      193426       0.00      0.00      0.00         1\\n      193448       0.00      0.00      0.00         1\\n      193449       0.00      0.00      0.00         1\\n      193464       0.00      0.00      0.00         1\\n      193515       0.00      0.00      0.00         1\\n      193562       0.00      0.00      0.00         1\\n      193607       0.00      0.00      0.00         1\\n      193628       0.00      0.00      0.00         1\\n      193642       1.00      1.00      1.00         1\\n      193647       0.00      0.00      0.00         1\\n      193662       0.00      0.00      0.00         1\\n      193666       0.00      0.00      0.00         1\\n      193674       1.00      1.00      1.00         1\\n      193679       0.00      0.00      0.00         1\\n      193698       0.00      0.00      0.00         1\\n      193702       1.00      1.00      1.00         1\\n      193716       0.00      0.00      0.00         1\\n      193732       1.00      1.00      1.00         1\\n      193737       1.00      1.00      1.00         1\\n      193738       0.00      0.00      0.00         1\\n      193740       0.00      0.00      0.00         1\\n      193751       0.00      0.00      0.00         1\\n      193769       0.00      0.00      0.00         1\\n      193783       0.00      0.00      0.00         1\\n      193811       0.00      0.00      0.00         1\\n      193812       0.00      0.00      0.00         1\\n      193817       0.00      0.00      0.00         1\\n      193829       0.00      0.00      0.00         1\\n      193840       0.00      0.00      0.00         1\\n      193931       0.00      0.00      0.00         1\\n      193965       0.00      0.00      0.00         1\\n      193977       0.00      0.00      0.00         1\\n      194015       0.00      0.00      0.00         1\\n      194023       0.00      0.00      0.00         1\\n      194030       0.00      0.00      0.00         1\\n      194067       0.00      0.00      0.00         1\\n      194068       1.00      1.00      1.00         1\\n      194073       0.00      0.00      0.00         1\\n      194098       1.00      1.00      1.00         1\\n      194112       0.00      0.00      0.00         1\\n      194126       1.00      1.00      1.00         1\\n      194129       0.00      0.00      0.00         1\\n      194174       1.00      1.00      1.00         1\\n      194183       0.00      0.00      0.00         1\\n      194212       0.00      0.00      0.00         1\\n      194217       0.00      0.00      0.00         1\\n      194225       1.00      1.00      1.00         1\\n      194228       0.00      0.00      0.00         1\\n      194263       0.00      0.00      0.00         1\\n      194304       0.00      0.00      0.00         1\\n      194310       0.00      0.00      0.00         1\\n      194339       0.00      0.00      0.00         1\\n      194347       0.00      0.00      0.00         1\\n      194392       0.00      0.00      0.00         1\\n      194399       0.00      0.00      0.00         1\\n      194400       1.00      1.00      1.00         1\\n      194411       0.00      0.00      0.00         1\\n      194412       1.00      1.00      1.00         1\\n      194431       0.00      0.00      0.00         1\\n      194458       0.00      0.00      0.00         1\\n      194484       0.00      0.00      0.00         1\\n      194495       0.00      0.00      0.00         1\\n      194502       0.00      0.00      0.00         1\\n      194516       0.00      0.00      0.00         1\\n      194531       0.00      0.00      0.00         1\\n      194532       0.00      0.00      0.00         1\\n      194535       0.00      0.00      0.00         1\\n      194544       0.00      0.00      0.00         1\\n      194554       0.00      0.00      0.00         1\\n      194560       0.00      0.00      0.00         1\\n      194602       0.00      0.00      0.00         1\\n      194664       1.00      1.00      1.00         1\\n      194675       1.00      1.00      1.00         1\\n      194756       1.00      1.00      1.00         1\\n      194768       1.00      1.00      1.00         1\\n      194776       1.00      1.00      1.00         1\\n      194780       0.00      0.00      0.00         1\\n      194812       0.00      0.00      0.00         1\\n      194828       0.00      0.00      0.00         1\\n      194830       0.00      0.00      0.00         1\\n      194839       0.00      0.00      0.00         1\\n      194851       0.00      0.00      0.00         1\\n      194891       0.00      0.00      0.00         1\\n      194982       0.00      0.00      0.00         1\\n      194998       0.00      0.00      0.00         1\\n      195064       1.00      1.00      1.00         1\\n      195175       0.00      0.00      0.00         1\\n      195179       1.00      1.00      1.00         1\\n      195221       0.00      0.00      0.00         1\\n      195291       0.00      0.00      0.00         1\\n      195303       0.00      0.00      0.00         1\\n      195319       0.00      0.00      0.00         1\\n      195323       0.00      0.00      0.00         1\\n      195329       0.00      0.00      0.00         1\\n      195334       1.00      1.00      1.00         1\\n      195346       0.00      0.00      0.00         1\\n      195349       0.00      0.00      0.00         1\\n      195357       0.00      0.00      0.00         1\\n      195367       1.00      1.00      1.00         1\\n      195375       1.00      1.00      1.00         1\\n      195380       0.00      0.00      0.00         1\\n      195382       1.00      1.00      1.00         1\\n      195393       0.00      0.00      0.00         1\\n      195414       0.00      0.00      0.00         1\\n      195421       0.00      0.00      0.00         1\\n      195472       0.00      0.00      0.00         1\\n      195542       0.00      0.00      0.00         1\\n      195545       0.00      0.00      0.00         1\\n      195559       0.00      0.00      0.00         1\\n      195581       0.00      0.00      0.00         1\\n      195584       1.00      1.00      1.00         1\\n      195605       0.00      0.00      0.00         1\\n      195623       0.00      0.00      0.00         1\\n      195626       1.00      1.00      1.00         1\\n      195649       1.00      1.00      1.00         1\\n      195660       0.00      0.00      0.00         1\\n      195674       0.00      0.00      0.00         1\\n      195696       0.00      0.00      0.00         1\\n      195762       0.00      0.00      0.00         1\\n      195781       0.00      0.00      0.00         1\\n      195795       0.00      0.00      0.00         1\\n      195801       0.00      0.00      0.00         1\\n      195818       0.00      0.00      0.00         1\\n      195902       0.00      0.00      0.00         1\\n      195907       0.00      0.00      0.00         1\\n      195912       0.00      0.00      0.00         1\\n      195926       0.00      0.00      0.00         1\\n      195934       0.00      0.00      0.00         1\\n      195944       0.00      0.00      0.00         1\\n      195947       1.00      1.00      1.00         1\\n      195979       0.00      0.00      0.00         1\\n      196013       0.00      0.00      0.00         1\\n      196025       0.00      0.00      0.00         1\\n      196036       0.00      0.00      0.00         1\\n      196076       0.00      0.00      0.00         1\\n      196092       0.00      0.00      0.00         1\\n      196098       0.00      0.00      0.00         1\\n      196110       0.00      0.00      0.00         1\\n      196123       0.00      0.00      0.00         1\\n      196151       0.00      0.00      0.00         1\\n      196170       0.00      0.00      0.00         1\\n      196183       0.00      0.00      0.00         1\\n      196201       0.00      0.00      0.00         1\\n      196223       0.00      0.00      0.00         1\\n      196224       0.00      0.00      0.00         1\\n      196252       0.00      0.00      0.00         1\\n      196258       1.00      1.00      1.00         1\\n      196276       0.00      0.00      0.00         1\\n      196285       0.00      0.00      0.00         1\\n      196304       1.00      1.00      1.00         1\\n      196350       0.00      0.00      0.00         1\\n      196369       0.00      0.00      0.00         1\\n      196404       0.00      0.00      0.00         1\\n      196433       0.00      0.00      0.00         1\\n      196457       0.00      0.00      0.00         1\\n      196458       0.00      0.00      0.00         1\\n      196478       1.00      1.00      1.00         1\\n      196495       0.00      0.00      0.00         1\\n      196521       0.00      0.00      0.00         1\\n      196571       1.00      1.00      1.00         1\\n      196578       0.00      0.00      0.00         1\\n      196599       0.00      0.00      0.00         1\\n      196601       0.00      0.00      0.00         1\\n      196615       0.00      0.00      0.00         1\\n      196627       0.00      0.00      0.00         1\\n      196647       1.00      1.00      1.00         1\\n      196669       0.00      0.00      0.00         1\\n      196671       0.00      0.00      0.00         1\\n      196672       0.00      0.00      0.00         1\\n      196733       0.00      0.00      0.00         1\\n      196796       0.00      0.00      0.00         1\\n      196803       0.00      0.00      0.00         1\\n      196830       1.00      1.00      1.00         1\\n      196833       0.00      0.00      0.00         1\\n      196861       0.00      0.00      0.00         1\\n      196864       1.00      1.00      1.00         1\\n      196868       0.00      0.00      0.00         1\\n      196912       0.00      0.00      0.00         1\\n      196930       1.00      1.00      1.00         1\\n      196964       0.00      0.00      0.00         1\\n      196981       0.00      0.00      0.00         1\\n      196985       0.00      0.00      0.00         1\\n      196991       0.00      0.00      0.00         1\\n      197005       1.00      1.00      1.00         1\\n      197020       0.00      0.00      0.00         1\\n      197064       0.00      0.00      0.00         1\\n      197096       0.00      0.00      0.00         1\\n      197147       1.00      1.00      1.00         1\\n      197170       0.00      0.00      0.00         1\\n      197174       0.00      0.00      0.00         1\\n      197203       0.00      0.00      0.00         1\\n      197259       1.00      1.00      1.00         1\\n      197319       1.00      1.00      1.00         1\\n      197382       0.00      0.00      0.00         1\\n      197388       1.00      1.00      1.00         1\\n      197402       0.00      0.00      0.00         1\\n      197406       0.00      0.00      0.00         1\\n      197474       0.00      0.00      0.00         1\\n      197523       0.00      0.00      0.00         1\\n      197538       1.00      1.00      1.00         1\\n      197545       0.00      0.00      0.00         1\\n      197556       0.00      0.00      0.00         1\\n      197561       0.00      0.00      0.00         1\\n      197577       0.00      0.00      0.00         1\\n      197578       1.00      1.00      1.00         1\\n      197587       1.00      1.00      1.00         1\\n      197600       1.00      1.00      1.00         1\\n      197604       1.00      1.00      1.00         1\\n      197614       0.00      0.00      0.00         1\\n      197666       0.00      0.00      0.00         1\\n      197714       0.00      0.00      0.00         1\\n      197723       0.00      0.00      0.00         1\\n      197729       0.00      0.00      0.00         1\\n      197733       0.00      0.00      0.00         1\\n      197773       0.00      0.00      0.00         1\\n      197818       0.00      0.00      0.00         1\\n      197822       0.00      0.00      0.00         1\\n      197833       0.00      0.00      0.00         1\\n      197867       0.00      0.00      0.00         1\\n      197871       0.00      0.00      0.00         1\\n      197889       0.00      0.00      0.00         1\\n      197895       0.00      0.00      0.00         1\\n      197923       0.00      0.00      0.00         1\\n      197949       0.00      0.00      0.00         1\\n      197991       0.00      0.00      0.00         1\\n      198014       1.00      1.00      1.00         1\\n      198052       0.00      0.00      0.00         1\\n      198072       0.00      0.00      0.00         1\\n      198073       0.00      0.00      0.00         1\\n      198099       1.00      1.00      1.00         1\\n      198105       0.00      0.00      0.00         1\\n      198120       0.00      0.00      0.00         1\\n      198125       0.00      0.00      0.00         1\\n      198127       0.00      0.00      0.00         1\\n      198129       0.00      0.00      0.00         1\\n      198135       1.00      1.00      1.00         1\\n      198152       1.00      1.00      1.00         1\\n      198172       0.00      0.00      0.00         1\\n      198195       0.00      0.00      0.00         1\\n      198201       0.00      0.00      0.00         1\\n      198224       0.00      0.00      0.00         1\\n      198227       0.00      0.00      0.00         1\\n      198231       0.00      0.00      0.00         1\\n      198233       0.00      0.00      0.00         1\\n      198258       0.00      0.00      0.00         1\\n      198260       1.00      1.00      1.00         1\\n      198276       0.00      0.00      0.00         1\\n      198285       0.00      0.00      0.00         1\\n      198317       0.00      0.00      0.00         1\\n      198326       0.00      0.00      0.00         1\\n      198359       0.00      0.00      0.00         1\\n      198375       1.00      1.00      1.00         1\\n      198377       0.00      0.00      0.00         1\\n      198412       0.00      0.00      0.00         1\\n      198413       0.00      0.00      0.00         1\\n      198424       1.00      1.00      1.00         1\\n      198494       1.00      1.00      1.00         1\\n      198497       0.00      0.00      0.00         1\\n      198533       0.00      0.00      0.00         1\\n      198544       0.00      0.00      0.00         1\\n      198563       0.00      0.00      0.00         1\\n      198583       0.00      0.00      0.00         1\\n      198589       0.00      0.00      0.00         1\\n      198591       0.00      0.00      0.00         1\\n      198647       1.00      1.00      1.00         1\\n      198676       0.00      0.00      0.00         1\\n      198687       1.00      1.00      1.00         1\\n      198688       1.00      1.00      1.00         1\\n      198704       0.00      0.00      0.00         1\\n      198707       0.00      0.00      0.00         1\\n      198734       1.00      1.00      1.00         1\\n      198745       0.00      0.00      0.00         1\\n      198761       0.00      0.00      0.00         1\\n      198788       0.00      0.00      0.00         1\\n      198791       1.00      1.00      1.00         1\\n      198792       0.00      0.00      0.00         1\\n      198794       0.00      0.00      0.00         1\\n      198815       0.00      0.00      0.00         1\\n      198848       0.00      0.00      0.00         1\\n      198850       1.00      1.00      1.00         1\\n      198902       0.00      0.00      0.00         1\\n      198937       0.00      0.00      0.00         1\\n      198948       0.00      0.00      0.00         1\\n      198957       0.00      0.00      0.00         1\\n      198969       0.00      0.00      0.00         1\\n      198994       1.00      1.00      1.00         1\\n      199009       0.00      0.00      0.00         1\\n      199011       0.00      0.00      0.00         1\\n      199014       0.00      0.00      0.00         1\\n      199043       0.00      0.00      0.00         1\\n      199078       0.00      0.00      0.00         1\\n      199104       0.00      0.00      0.00         1\\n      199113       0.00      0.00      0.00         1\\n      199151       1.00      1.00      1.00         1\\n      199193       0.00      0.00      0.00         1\\n      199212       0.00      0.00      0.00         1\\n      199224       0.00      0.00      0.00         1\\n      199228       1.00      1.00      1.00         1\\n      199265       0.00      0.00      0.00         1\\n      199267       0.00      0.00      0.00         1\\n      199285       0.00      0.00      0.00         1\\n      199287       1.00      1.00      1.00         1\\n      199296       0.00      0.00      0.00         1\\n      199329       0.00      0.00      0.00         1\\n      199378       0.00      0.00      0.00         1\\n      199398       1.00      1.00      1.00         1\\n      199409       0.00      0.00      0.00         1\\n      199420       0.00      0.00      0.00         1\\n      199429       0.00      0.00      0.00         1\\n      199509       0.00      0.00      0.00         1\\n      199532       1.00      1.00      1.00         1\\n      199542       0.00      0.00      0.00         1\\n      199550       0.00      0.00      0.00         1\\n      199580       0.00      0.00      0.00         1\\n      199634       1.00      1.00      1.00         1\\n      199640       0.00      0.00      0.00         1\\n      199646       0.00      0.00      0.00         1\\n      199656       1.00      1.00      1.00         1\\n      199662       0.00      0.00      0.00         1\\n      199667       0.00      0.00      0.00         1\\n      199672       0.00      0.00      0.00         1\\n      199696       0.00      0.00      0.00         1\\n      199710       0.00      0.00      0.00         1\\n      199739       0.00      0.00      0.00         1\\n      199774       0.00      0.00      0.00         1\\n      199775       0.00      0.00      0.00         1\\n      199795       0.00      0.00      0.00         1\\n      199796       0.00      0.00      0.00         1\\n      199805       0.00      0.00      0.00         1\\n      199807       0.00      0.00      0.00         1\\n      199860       0.00      0.00      0.00         1\\n      199880       0.00      0.00      0.00         1\\n      199895       0.00      0.00      0.00         1\\n      199899       1.00      1.00      1.00         1\\n      199920       0.00      0.00      0.00         1\\n      199987       0.00      0.00      0.00         1\\n      199989       0.00      0.00      0.00         1\\n      199998       0.00      0.00      0.00         1\\n      200032       0.00      0.00      0.00         1\\n      200036       0.00      0.00      0.00         1\\n      200066       0.00      0.00      0.00         1\\n      200080       0.00      0.00      0.00         1\\n      200091       0.00      0.00      0.00         1\\n      200103       1.00      1.00      1.00         1\\n      200118       0.00      0.00      0.00         1\\n      200120       0.00      0.00      0.00         1\\n      200126       1.00      1.00      1.00         1\\n      200153       0.00      0.00      0.00         1\\n      200170       0.00      0.00      0.00         1\\n      200243       0.00      0.00      0.00         1\\n      200262       0.00      0.00      0.00         1\\n      200263       0.00      0.00      0.00         1\\n      200278       0.00      0.00      0.00         1\\n      200298       0.00      0.00      0.00         1\\n      200303       0.00      0.00      0.00         1\\n      200304       0.00      0.00      0.00         1\\n      200315       1.00      1.00      1.00         1\\n      200335       0.00      0.00      0.00         1\\n      200336       0.00      0.00      0.00         1\\n      200340       1.00      1.00      1.00         1\\n      200394       0.00      0.00      0.00         1\\n      200445       0.00      0.00      0.00         1\\n      200456       0.00      0.00      0.00         1\\n      200475       0.00      0.00      0.00         1\\n      200478       0.00      0.00      0.00         1\\n      200480       0.00      0.00      0.00         1\\n      200490       1.00      1.00      1.00         1\\n      200520       1.00      1.00      1.00         1\\n      200526       0.00      0.00      0.00         1\\n      200534       0.00      0.00      0.00         1\\n      200595       0.00      0.00      0.00         1\\n      200644       0.00      0.00      0.00         1\\n      200683       1.00      1.00      1.00         1\\n      200700       0.00      0.00      0.00         1\\n      200745       0.00      0.00      0.00         1\\n      200752       1.00      1.00      1.00         1\\n      200753       1.00      1.00      1.00         1\\n      200804       0.00      0.00      0.00         1\\n      200805       1.00      1.00      1.00         1\\n      200808       0.00      0.00      0.00         1\\n      200817       1.00      1.00      1.00         1\\n      200844       0.00      0.00      0.00         1\\n      200856       1.00      1.00      1.00         1\\n      200886       0.00      0.00      0.00         1\\n      200919       0.00      0.00      0.00         1\\n      200944       0.00      0.00      0.00         1\\n      200969       1.00      1.00      1.00         1\\n      200985       0.00      0.00      0.00         1\\n      201008       0.00      0.00      0.00         1\\n      201049       1.00      1.00      1.00         1\\n      201056       0.00      0.00      0.00         1\\n      201084       0.00      0.00      0.00         1\\n      201085       1.00      1.00      1.00         1\\n      201087       0.00      0.00      0.00         1\\n      201110       0.00      0.00      0.00         1\\n      201114       0.00      0.00      0.00         1\\n      201168       0.00      0.00      0.00         1\\n      201218       0.00      0.00      0.00         1\\n      201247       0.00      0.00      0.00         1\\n      201258       0.00      0.00      0.00         1\\n      201275       0.00      0.00      0.00         1\\n      201277       1.00      1.00      1.00         1\\n      201287       0.00      0.00      0.00         1\\n      201355       0.00      0.00      0.00         1\\n      201357       0.00      0.00      0.00         1\\n      201359       1.00      1.00      1.00         1\\n      201387       0.00      0.00      0.00         1\\n      201396       0.00      0.00      0.00         1\\n      201401       0.00      0.00      0.00         1\\n      201425       0.00      0.00      0.00         1\\n      201449       1.00      1.00      1.00         1\\n      201469       1.00      1.00      1.00         1\\n      201493       0.00      0.00      0.00         1\\n      201495       1.00      1.00      1.00         1\\n      201496       0.00      0.00      0.00         1\\n      201529       0.00      0.00      0.00         1\\n      201571       0.00      0.00      0.00         1\\n      201575       0.00      0.00      0.00         1\\n      201580       0.00      0.00      0.00         1\\n      201649       0.00      0.00      0.00         1\\n      201664       0.00      0.00      0.00         1\\n      201682       0.00      0.00      0.00         1\\n      201686       0.00      0.00      0.00         1\\n      201704       0.00      0.00      0.00         1\\n      201746       0.00      0.00      0.00         1\\n      201755       0.00      0.00      0.00         1\\n      201805       0.00      0.00      0.00         1\\n      201813       0.00      0.00      0.00         1\\n      201822       0.00      0.00      0.00         1\\n      201860       0.00      0.00      0.00         1\\n      201884       0.50      1.00      0.67         1\\n      201894       0.00      0.00      0.00         1\\n      201919       0.00      0.00      0.00         1\\n      201975       0.00      0.00      0.00         1\\n      201990       1.00      1.00      1.00         1\\n      201994       0.00      0.00      0.00         1\\n      201996       0.00      0.00      0.00         1\\n      202001       0.00      0.00      0.00         1\\n      202002       1.00      1.00      1.00         1\\n      202031       0.00      0.00      0.00         1\\n      202056       1.00      1.00      1.00         1\\n      202100       0.00      0.00      0.00         1\\n      202107       0.00      0.00      0.00         1\\n      202109       0.00      0.00      0.00         1\\n      202119       0.00      0.00      0.00         1\\n      202129       0.00      0.00      0.00         1\\n      202172       0.00      0.00      0.00         1\\n      202177       1.00      1.00      1.00         1\\n      202184       0.00      0.00      0.00         1\\n      202194       1.00      1.00      1.00         1\\n      202229       0.00      0.00      0.00         1\\n      202250       0.00      0.00      0.00         1\\n      202284       0.00      0.00      0.00         1\\n      202332       0.00      0.00      0.00         1\\n      202337       0.00      0.00      0.00         1\\n      202385       1.00      1.00      1.00         1\\n      202424       0.00      0.00      0.00         1\\n      202453       0.00      0.00      0.00         1\\n      202458       0.00      0.00      0.00         1\\n      202459       0.00      0.00      0.00         1\\n      202500       1.00      1.00      1.00         1\\n      202502       0.00      0.00      0.00         1\\n      202504       0.00      0.00      0.00         1\\n      202521       0.00      0.00      0.00         1\\n      202523       0.00      0.00      0.00         1\\n      202554       0.00      0.00      0.00         1\\n      202568       0.00      0.00      0.00         1\\n      202586       0.00      0.00      0.00         1\\n      202610       0.00      0.00      0.00         1\\n      202623       1.00      1.00      1.00         1\\n      202624       0.00      0.00      0.00         1\\n      202646       1.00      1.00      1.00         1\\n      202647       0.50      1.00      0.67         1\\n      202648       0.00      0.00      0.00         1\\n      202664       0.00      0.00      0.00         1\\n      202688       0.00      0.00      0.00         1\\n      202712       1.00      1.00      1.00         1\\n      202724       0.00      0.00      0.00         1\\n      202788       1.00      1.00      1.00         1\\n      202798       0.00      0.00      0.00         1\\n      202869       0.00      0.00      0.00         1\\n      202908       0.00      0.00      0.00         1\\n      202936       0.00      0.00      0.00         1\\n      202957       1.00      1.00      1.00         1\\n      202976       0.00      0.00      0.00         1\\n      202978       0.00      0.00      0.00         1\\n      202987       0.00      0.00      0.00         1\\n      202990       1.00      1.00      1.00         1\\n      202992       0.00      0.00      0.00         1\\n      202997       0.00      0.00      0.00         1\\n      203045       0.00      0.00      0.00         1\\n      203050       0.00      0.00      0.00         1\\n      203101       1.00      1.00      1.00         1\\n      203124       0.00      0.00      0.00         1\\n      203128       1.00      1.00      1.00         1\\n      203143       0.00      0.00      0.00         1\\n      203159       0.00      0.00      0.00         1\\n      203198       0.00      0.00      0.00         1\\n      203215       0.00      0.00      0.00         1\\n      203227       0.00      0.00      0.00         1\\n      203236       1.00      1.00      1.00         1\\n      203256       0.00      0.00      0.00         1\\n      203275       0.00      0.00      0.00         1\\n      203337       0.00      0.00      0.00         1\\n      203344       0.00      0.00      0.00         1\\n      203367       0.00      0.00      0.00         1\\n      203370       0.00      0.00      0.00         1\\n      203371       0.00      0.00      0.00         1\\n      203387       0.00      0.00      0.00         1\\n      203411       0.00      0.00      0.00         1\\n      203452       0.00      0.00      0.00         1\\n      203471       0.00      0.00      0.00         1\\n      203489       0.00      0.00      0.00         1\\n      203505       0.00      0.00      0.00         1\\n      203525       1.00      1.00      1.00         1\\n      203575       0.00      0.00      0.00         1\\n      203590       0.00      0.00      0.00         1\\n      203599       0.00      0.00      0.00         1\\n      203610       0.00      0.00      0.00         1\\n      203616       0.00      0.00      0.00         1\\n      203619       0.00      0.00      0.00         1\\n      203625       0.00      0.00      0.00         1\\n      203633       0.00      0.00      0.00         1\\n      203635       0.00      0.00      0.00         1\\n      203645       0.00      0.00      0.00         1\\n      203700       0.00      0.00      0.00         1\\n      203705       0.00      0.00      0.00         1\\n      203712       1.00      1.00      1.00         1\\n      203759       0.00      0.00      0.00         1\\n      203770       0.00      0.00      0.00         1\\n      203772       0.00      0.00      0.00         1\\n      203792       0.00      0.00      0.00         1\\n      203803       0.00      0.00      0.00         1\\n      203804       1.00      1.00      1.00         1\\n      203822       1.00      1.00      1.00         1\\n      203825       0.00      0.00      0.00         1\\n      203836       0.00      0.00      0.00         1\\n      203839       0.00      0.00      0.00         1\\n      203845       0.50      1.00      0.67         1\\n      203847       1.00      1.00      1.00         1\\n      203848       0.00      0.00      0.00         1\\n      203865       0.00      0.00      0.00         1\\n      203895       0.00      0.00      0.00         1\\n      203901       1.00      1.00      1.00         1\\n      203903       0.00      0.00      0.00         1\\n      203914       1.00      1.00      1.00         1\\n      203934       0.00      0.00      0.00         1\\n      203974       0.00      0.00      0.00         1\\n      204004       0.00      0.00      0.00         1\\n      204006       0.00      0.00      0.00         1\\n      204010       1.00      1.00      1.00         1\\n      204080       0.00      0.00      0.00         1\\n      204096       0.00      0.00      0.00         1\\n      204138       0.00      0.00      0.00         1\\n      204145       0.00      0.00      0.00         1\\n      204148       0.00      0.00      0.00         1\\n      204185       0.00      0.00      0.00         1\\n      204215       0.00      0.00      0.00         1\\n      204220       0.00      0.00      0.00         1\\n      204225       1.00      1.00      1.00         1\\n      204226       0.00      0.00      0.00         1\\n      204231       0.00      0.00      0.00         1\\n      204234       0.00      0.00      0.00         1\\n      204250       0.00      0.00      0.00         1\\n      204258       0.00      0.00      0.00         1\\n      204262       1.00      1.00      1.00         1\\n      204281       0.00      0.00      0.00         1\\n      204305       0.00      0.00      0.00         1\\n      204327       0.00      0.00      0.00         1\\n      204359       0.00      0.00      0.00         1\\n      204377       0.00      0.00      0.00         1\\n      204389       0.00      0.00      0.00         1\\n      204401       0.00      0.00      0.00         1\\n      204411       0.00      0.00      0.00         1\\n      204417       0.00      0.00      0.00         1\\n      204487       0.00      0.00      0.00         1\\n      204490       1.00      1.00      1.00         1\\n      204496       1.00      1.00      1.00         1\\n      204510       1.00      1.00      1.00         1\\n      204513       0.00      0.00      0.00         1\\n      204525       1.00      1.00      1.00         1\\n      204542       0.00      0.00      0.00         1\\n      204552       0.00      0.00      0.00         1\\n      204574       0.00      0.00      0.00         1\\n      204606       0.00      0.00      0.00         1\\n      204608       0.50      1.00      0.67         1\\n      204629       0.00      0.00      0.00         1\\n      204665       0.00      0.00      0.00         1\\n      204673       0.00      0.00      0.00         1\\n      204677       0.00      0.00      0.00         1\\n      204695       0.00      0.00      0.00         1\\n      204708       0.00      0.00      0.00         1\\n      204731       0.00      0.00      0.00         1\\n      204734       1.00      1.00      1.00         1\\n      204735       0.00      0.00      0.00         1\\n      204742       0.00      0.00      0.00         1\\n      204749       1.00      1.00      1.00         1\\n      204761       0.00      0.00      0.00         1\\n      204780       0.00      0.00      0.00         1\\n      204805       0.00      0.00      0.00         1\\n      204847       0.00      0.00      0.00         1\\n      204855       0.00      0.00      0.00         1\\n      204859       0.00      0.00      0.00         1\\n      204875       0.00      0.00      0.00         1\\n      204901       1.00      1.00      1.00         1\\n      204927       0.00      0.00      0.00         1\\n      204955       0.00      0.00      0.00         1\\n      204959       0.00      0.00      0.00         1\\n      204967       0.00      0.00      0.00         1\\n      204968       0.00      0.00      0.00         1\\n      204969       1.00      1.00      1.00         1\\n      204985       0.00      0.00      0.00         1\\n      205016       0.00      0.00      0.00         1\\n      205022       1.00      1.00      1.00         1\\n      205058       0.00      0.00      0.00         1\\n      205091       1.00      1.00      1.00         1\\n      205096       1.00      1.00      1.00         1\\n      205114       0.00      0.00      0.00         1\\n      205131       1.00      1.00      1.00         1\\n      205139       0.00      0.00      0.00         1\\n      205150       0.00      0.00      0.00         1\\n      205191       0.00      0.00      0.00         1\\n      205198       1.00      1.00      1.00         1\\n      205208       0.00      0.00      0.00         1\\n      205246       0.00      0.00      0.00         1\\n      205249       0.00      0.00      0.00         1\\n      205256       0.00      0.00      0.00         1\\n      205269       0.00      0.00      0.00         1\\n      205304       0.00      0.00      0.00         1\\n      205308       0.00      0.00      0.00         1\\n      205310       0.00      0.00      0.00         1\\n      205331       0.00      0.00      0.00         1\\n      205338       0.00      0.00      0.00         1\\n      205380       0.00      0.00      0.00         1\\n      205396       0.00      0.00      0.00         1\\n      205431       0.00      0.00      0.00         1\\n      205488       0.00      0.00      0.00         1\\n      205489       1.00      1.00      1.00         1\\n      205505       0.00      0.00      0.00         1\\n      205521       0.00      0.00      0.00         1\\n      205530       0.00      0.00      0.00         1\\n      205547       0.00      0.00      0.00         1\\n      205562       0.00      0.00      0.00         1\\n      205563       0.00      0.00      0.00         1\\n      205575       0.00      0.00      0.00         1\\n      205602       0.00      0.00      0.00         1\\n      205618       1.00      1.00      1.00         1\\n      205651       0.00      0.00      0.00         1\\n      205681       0.00      0.00      0.00         1\\n      205692       0.00      0.00      0.00         1\\n      205705       0.00      0.00      0.00         1\\n      205719       0.00      0.00      0.00         1\\n      205722       1.00      1.00      1.00         1\\n      205741       0.00      0.00      0.00         1\\n      205753       1.00      1.00      1.00         1\\n      205771       1.00      1.00      1.00         1\\n      205796       0.00      0.00      0.00         1\\n      205804       0.00      0.00      0.00         1\\n      205821       0.00      0.00      0.00         1\\n      205826       0.00      0.00      0.00         1\\n      205841       1.00      1.00      1.00         1\\n      205885       0.00      0.00      0.00         1\\n      205916       0.00      0.00      0.00         1\\n      205924       0.00      0.00      0.00         1\\n      205941       0.00      0.00      0.00         1\\n      205949       0.00      0.00      0.00         1\\n      205970       0.00      0.00      0.00         1\\n      205995       1.00      1.00      1.00         1\\n      206028       0.00      0.00      0.00         1\\n      206030       0.00      0.00      0.00         1\\n      206053       0.00      0.00      0.00         1\\n      206057       1.00      1.00      1.00         1\\n      206058       0.00      0.00      0.00         1\\n      206059       1.00      1.00      1.00         1\\n      206062       0.00      0.00      0.00         1\\n      206069       1.00      1.00      1.00         1\\n      206083       1.00      1.00      1.00         1\\n      206114       0.00      0.00      0.00         1\\n      206164       0.00      0.00      0.00         1\\n      206178       0.00      0.00      0.00         1\\n      206205       0.00      0.00      0.00         1\\n      206213       1.00      1.00      1.00         1\\n      206252       0.00      0.00      0.00         1\\n      206255       0.00      0.00      0.00         1\\n      206296       0.00      0.00      0.00         1\\n      206308       0.00      0.00      0.00         1\\n      206331       0.00      0.00      0.00         1\\n      206335       0.00      0.00      0.00         1\\n      206350       1.00      1.00      1.00         1\\n      206358       0.00      0.00      0.00         1\\n      206369       0.00      0.00      0.00         1\\n      206386       0.00      0.00      0.00         1\\n      206389       1.00      1.00      1.00         1\\n      206396       0.00      0.00      0.00         1\\n      206418       0.00      0.00      0.00         1\\n      206431       0.00      0.00      0.00         1\\n      206449       1.00      1.00      1.00         1\\n      206453       0.00      0.00      0.00         1\\n      206461       0.00      0.00      0.00         1\\n      206468       0.00      0.00      0.00         1\\n      206469       0.00      0.00      0.00         1\\n      206470       1.00      1.00      1.00         1\\n      206484       1.00      1.00      1.00         1\\n      206498       1.00      1.00      1.00         1\\n      206565       0.00      0.00      0.00         1\\n      206575       0.00      0.00      0.00         1\\n      206577       0.00      0.00      0.00         1\\n      206582       1.00      1.00      1.00         1\\n      206599       1.00      1.00      1.00         1\\n      206626       1.00      1.00      1.00         1\\n      206633       1.00      1.00      1.00         1\\n      206637       1.00      1.00      1.00         1\\n      206654       0.00      0.00      0.00         1\\n      206656       0.00      0.00      0.00         1\\n      206659       0.00      0.00      0.00         1\\n      206698       1.00      1.00      1.00         1\\n      206702       0.00      0.00      0.00         1\\n      206710       0.00      0.00      0.00         1\\n      206714       1.00      1.00      1.00         1\\n      206717       0.00      0.00      0.00         1\\n      206719       1.00      1.00      1.00         1\\n      206751       0.00      0.00      0.00         1\\n      206768       0.00      0.00      0.00         1\\n      206778       0.00      0.00      0.00         1\\n      206791       0.00      0.00      0.00         1\\n      206822       1.00      1.00      1.00         1\\n      206886       1.00      1.00      1.00         1\\n      206921       0.00      0.00      0.00         1\\n      206944       0.00      0.00      0.00         1\\n      206976       0.00      0.00      0.00         1\\n      206983       0.00      0.00      0.00         1\\n      206987       1.00      1.00      1.00         1\\n      207043       1.00      1.00      1.00         1\\n      207049       0.00      0.00      0.00         1\\n      207051       0.00      0.00      0.00         1\\n      207070       0.00      0.00      0.00         1\\n      207077       0.00      0.00      0.00         1\\n      207086       1.00      1.00      1.00         1\\n      207092       0.00      0.00      0.00         1\\n      207119       1.00      1.00      1.00         1\\n      207129       0.00      0.00      0.00         1\\n      207166       0.00      0.00      0.00         1\\n      207182       0.00      0.00      0.00         1\\n      207216       0.00      0.00      0.00         1\\n      207221       0.00      0.00      0.00         1\\n      207237       0.00      0.00      0.00         1\\n      207292       0.00      0.00      0.00         1\\n      207371       0.00      0.00      0.00         1\\n      207381       0.00      0.00      0.00         1\\n      207402       0.00      0.00      0.00         1\\n      207508       0.00      0.00      0.00         1\\n      207514       1.00      1.00      1.00         1\\n      207517       0.50      1.00      0.67         1\\n      207531       0.00      0.00      0.00         1\\n      207566       0.00      0.00      0.00         1\\n      207572       0.00      0.00      0.00         1\\n      207600       0.00      0.00      0.00         1\\n      207602       0.00      0.00      0.00         1\\n      207643       1.00      1.00      1.00         1\\n      207655       0.00      0.00      0.00         1\\n      207672       0.00      0.00      0.00         1\\n      207701       1.00      1.00      1.00         1\\n      207720       0.00      0.00      0.00         1\\n      207725       0.00      0.00      0.00         1\\n      207728       0.00      0.00      0.00         1\\n      207736       1.00      1.00      1.00         1\\n      207747       0.00      0.00      0.00         1\\n      207774       0.00      0.00      0.00         1\\n      207784       1.00      1.00      1.00         1\\n      207788       0.00      0.00      0.00         1\\n      207790       0.00      0.00      0.00         1\\n      207799       0.00      0.00      0.00         1\\n      207821       0.00      0.00      0.00         1\\n      207861       0.00      0.00      0.00         1\\n      207887       0.00      0.00      0.00         1\\n      207890       0.00      0.00      0.00         1\\n      207897       1.00      1.00      1.00         1\\n      207902       0.00      0.00      0.00         1\\n      207925       1.00      1.00      1.00         1\\n      207976       0.00      0.00      0.00         1\\n      207988       0.00      0.00      0.00         1\\n      208015       0.00      0.00      0.00         1\\n      208022       0.00      0.00      0.00         1\\n      208039       0.00      0.00      0.00         1\\n      208046       1.00      1.00      1.00         1\\n      208049       0.00      0.00      0.00         1\\n      208072       0.00      0.00      0.00         1\\n      208091       0.00      0.00      0.00         1\\n      208100       0.00      0.00      0.00         1\\n      208129       0.00      0.00      0.00         1\\n      208143       0.00      0.00      0.00         1\\n      208158       1.00      1.00      1.00         1\\n      208210       0.00      0.00      0.00         1\\n      208250       0.00      0.00      0.00         1\\n      208264       0.00      0.00      0.00         1\\n      208291       0.00      0.00      0.00         1\\n      208295       0.00      0.00      0.00         1\\n      208296       0.00      0.00      0.00         1\\n      208310       0.00      0.00      0.00         1\\n      208314       0.00      0.00      0.00         1\\n      208328       0.00      0.00      0.00         1\\n      208349       0.00      0.00      0.00         1\\n      208394       0.00      0.00      0.00         1\\n      208399       0.00      0.00      0.00         1\\n      208446       0.00      0.00      0.00         1\\n      208463       0.00      0.00      0.00         1\\n      208504       0.00      0.00      0.00         1\\n      208510       0.00      0.00      0.00         1\\n      208512       1.00      1.00      1.00         1\\n      208553       0.00      0.00      0.00         1\\n      208554       1.00      1.00      1.00         1\\n      208568       0.00      0.00      0.00         1\\n      208582       0.00      0.00      0.00         1\\n      208583       1.00      1.00      1.00         1\\n      208613       1.00      1.00      1.00         1\\n      208618       1.00      1.00      1.00         1\\n      208619       0.00      0.00      0.00         1\\n      208629       1.00      1.00      1.00         1\\n      208634       0.00      0.00      0.00         1\\n      208652       1.00      1.00      1.00         1\\n      208693       1.00      1.00      1.00         1\\n      208736       0.00      0.00      0.00         1\\n      208737       0.00      0.00      0.00         1\\n      208741       0.00      0.00      0.00         1\\n      208797       0.00      0.00      0.00         1\\n      208825       0.00      0.00      0.00         1\\n      208864       0.00      0.00      0.00         1\\n      208867       0.00      0.00      0.00         1\\n      208886       0.00      0.00      0.00         1\\n      208892       0.00      0.00      0.00         1\\n      208906       0.00      0.00      0.00         1\\n      208915       0.00      0.00      0.00         1\\n      208924       0.00      0.00      0.00         1\\n      208934       0.00      0.00      0.00         1\\n      208938       0.00      0.00      0.00         1\\n      208940       0.00      0.00      0.00         1\\n      208945       0.00      0.00      0.00         1\\n      208957       0.00      0.00      0.00         1\\n      208972       0.00      0.00      0.00         1\\n      208977       0.00      0.00      0.00         1\\n      208980       0.00      0.00      0.00         1\\n      209001       1.00      1.00      1.00         1\\n      209022       1.00      1.00      1.00         1\\n      209032       0.00      0.00      0.00         1\\n      209033       1.00      1.00      1.00         1\\n      209096       0.00      0.00      0.00         1\\n      209129       1.00      1.00      1.00         1\\n      209130       1.00      1.00      1.00         1\\n      209143       1.00      1.00      1.00         1\\n      209170       0.00      0.00      0.00         1\\n      209175       0.00      0.00      0.00         1\\n      209185       0.00      0.00      0.00         1\\n      209213       0.00      0.00      0.00         1\\n      209248       0.00      0.00      0.00         1\\n      209252       1.00      1.00      1.00         1\\n      209253       0.00      0.00      0.00         1\\n      209264       0.00      0.00      0.00         1\\n      209272       0.00      0.00      0.00         1\\n      209280       1.00      1.00      1.00         1\\n      209368       0.00      0.00      0.00         1\\n      209376       0.00      0.00      0.00         1\\n      209385       0.00      0.00      0.00         1\\n      209418       1.00      1.00      1.00         1\\n      209424       0.00      0.00      0.00         1\\n      209426       0.00      0.00      0.00         1\\n      209442       0.00      0.00      0.00         1\\n      209444       0.00      0.00      0.00         1\\n      209473       0.00      0.00      0.00         1\\n      209477       0.00      0.00      0.00         1\\n      209492       0.00      0.00      0.00         1\\n      209493       0.00      0.00      0.00         1\\n      209538       0.00      0.00      0.00         1\\n      209555       0.00      0.00      0.00         1\\n      209566       1.00      1.00      1.00         1\\n      209570       0.00      0.00      0.00         1\\n      209588       0.00      0.00      0.00         1\\n      209600       0.00      0.00      0.00         1\\n      209615       1.00      1.00      1.00         1\\n      209616       1.00      1.00      1.00         1\\n      209643       0.00      0.00      0.00         1\\n      209658       1.00      1.00      1.00         1\\n      209696       0.00      0.00      0.00         1\\n      209705       0.00      0.00      0.00         1\\n      209733       0.00      0.00      0.00         1\\n      209737       1.00      1.00      1.00         1\\n      209785       0.00      0.00      0.00         1\\n      209802       1.00      1.00      1.00         1\\n      209841       0.00      0.00      0.00         1\\n      209873       0.00      0.00      0.00         1\\n      209874       0.00      0.00      0.00         1\\n      209877       0.00      0.00      0.00         1\\n      209902       0.00      0.00      0.00         1\\n      209913       0.00      0.00      0.00         1\\n      209933       1.00      1.00      1.00         1\\n      209948       0.00      0.00      0.00         1\\n      209956       0.00      0.00      0.00         1\\n      210013       0.00      0.00      0.00         1\\n      210014       0.00      0.00      0.00         1\\n      210026       0.00      0.00      0.00         1\\n      210028       0.00      0.00      0.00         1\\n      210037       0.00      0.00      0.00         1\\n      210051       0.00      0.00      0.00         1\\n      210053       0.00      0.00      0.00         1\\n      210069       0.00      0.00      0.00         1\\n      210073       0.00      0.00      0.00         1\\n      210086       0.00      0.00      0.00         1\\n      210120       0.00      0.00      0.00         1\\n      210133       0.00      0.00      0.00         1\\n      210143       0.00      0.00      0.00         1\\n      210154       0.00      0.00      0.00         1\\n      210218       0.00      0.00      0.00         1\\n      210249       0.00      0.00      0.00         1\\n      210251       0.00      0.00      0.00         1\\n      210254       1.00      1.00      1.00         1\\n      210265       0.00      0.00      0.00         1\\n      210276       0.00      0.00      0.00         1\\n      210278       0.00      0.00      0.00         1\\n      210309       0.00      0.00      0.00         1\\n      210310       0.00      0.00      0.00         1\\n      210322       0.00      0.00      0.00         1\\n      210352       0.00      0.00      0.00         1\\n      210392       0.00      0.00      0.00         1\\n      210394       0.00      0.00      0.00         1\\n      210409       0.00      0.00      0.00         1\\n      210436       0.00      0.00      0.00         1\\n      210451       0.00      0.00      0.00         1\\n      210454       0.00      0.00      0.00         1\\n      210494       0.00      0.00      0.00         1\\n      210532       0.00      0.00      0.00         1\\n      210547       0.00      0.00      0.00         1\\n      210562       1.00      1.00      1.00         1\\n      210564       1.00      1.00      1.00         1\\n      210571       1.00      1.00      1.00         1\\n      210631       0.00      0.00      0.00         1\\n      210673       0.00      0.00      0.00         1\\n      210678       0.00      0.00      0.00         1\\n      210720       0.00      0.00      0.00         1\\n      210733       1.00      1.00      1.00         1\\n      210736       0.00      0.00      0.00         1\\n      210798       0.00      0.00      0.00         1\\n      210825       0.00      0.00      0.00         1\\n      210836       0.00      0.00      0.00         1\\n      210841       0.00      0.00      0.00         1\\n      210866       1.00      1.00      1.00         1\\n      210870       1.00      1.00      1.00         1\\n      210885       0.00      0.00      0.00         1\\n      210923       0.00      0.00      0.00         1\\n      210940       0.00      0.00      0.00         1\\n      210945       1.00      1.00      1.00         1\\n      210947       0.00      0.00      0.00         1\\n      211005       0.00      0.00      0.00         1\\n      211014       0.00      0.00      0.00         1\\n      211023       0.00      0.00      0.00         1\\n      211038       1.00      1.00      1.00         1\\n      211056       0.00      0.00      0.00         1\\n      211059       0.00      0.00      0.00         1\\n      211083       0.00      0.00      0.00         1\\n      211101       0.00      0.00      0.00         1\\n      211145       0.00      0.00      0.00         1\\n      211155       0.00      0.00      0.00         1\\n      211166       0.00      0.00      0.00         1\\n      211190       0.00      0.00      0.00         1\\n      211201       0.00      0.00      0.00         1\\n      211212       1.00      1.00      1.00         1\\n      211220       0.00      0.00      0.00         1\\n      211240       0.00      0.00      0.00         1\\n      211255       1.00      1.00      1.00         1\\n      211277       0.00      0.00      0.00         1\\n      211301       0.00      0.00      0.00         1\\n      211302       0.00      0.00      0.00         1\\n      211333       1.00      1.00      1.00         1\\n      211379       0.00      0.00      0.00         1\\n      211389       0.00      0.00      0.00         1\\n      211400       0.00      0.00      0.00         1\\n      211427       0.00      0.00      0.00         1\\n      211432       1.00      1.00      1.00         1\\n      211433       0.00      0.00      0.00         1\\n      211465       1.00      1.00      1.00         1\\n      211466       0.00      0.00      0.00         1\\n      211480       0.00      0.00      0.00         1\\n      211523       0.00      0.00      0.00         1\\n      211556       1.00      1.00      1.00         1\\n      211594       0.00      0.00      0.00         1\\n      211602       0.00      0.00      0.00         1\\n      211607       0.00      0.00      0.00         1\\n      211645       1.00      1.00      1.00         1\\n      211682       0.00      0.00      0.00         1\\n      211686       0.00      0.00      0.00         1\\n      211708       0.00      0.00      0.00         1\\n      211709       0.00      0.00      0.00         1\\n      211718       0.00      0.00      0.00         1\\n      211744       0.00      0.00      0.00         1\\n      211762       0.00      0.00      0.00         1\\n      211789       1.00      1.00      1.00         1\\n      211806       1.00      1.00      1.00         1\\n      211812       0.00      0.00      0.00         1\\n      211822       0.00      0.00      0.00         1\\n      211824       0.00      0.00      0.00         1\\n      211827       0.00      0.00      0.00         1\\n      211830       0.00      0.00      0.00         1\\n      211838       0.00      0.00      0.00         1\\n      211854       0.00      0.00      0.00         1\\n      211856       0.00      0.00      0.00         1\\n      211877       1.00      1.00      1.00         1\\n      211893       0.00      0.00      0.00         1\\n      211924       1.00      1.00      1.00         1\\n      211954       0.00      0.00      0.00         1\\n      211969       0.00      0.00      0.00         1\\n      211989       0.00      0.00      0.00         1\\n      212003       0.00      0.00      0.00         1\\n      212026       0.00      0.00      0.00         1\\n      212059       0.00      0.00      0.00         1\\n      212075       0.00      0.00      0.00         1\\n      212081       1.00      1.00      1.00         1\\n      212089       0.00      0.00      0.00         1\\n      212156       0.00      0.00      0.00         1\\n      212174       0.00      0.00      0.00         1\\n      212194       0.00      0.00      0.00         1\\n      212210       0.00      0.00      0.00         1\\n      212217       0.00      0.00      0.00         1\\n      212236       0.00      0.00      0.00         1\\n      212248       0.00      0.00      0.00         1\\n      212286       0.00      0.00      0.00         1\\n      212324       0.00      0.00      0.00         1\\n      212325       1.00      1.00      1.00         1\\n      212341       0.00      0.00      0.00         1\\n      212394       1.00      1.00      1.00         1\\n      212395       0.00      0.00      0.00         1\\n      212404       0.00      0.00      0.00         1\\n      212442       0.00      0.00      0.00         1\\n      212460       0.00      0.00      0.00         1\\n      212485       0.00      0.00      0.00         1\\n      212532       1.00      1.00      1.00         1\\n      212545       0.00      0.00      0.00         1\\n      212551       0.00      0.00      0.00         1\\n      212571       1.00      1.00      1.00         1\\n      212582       0.00      0.00      0.00         1\\n      212598       0.00      0.00      0.00         1\\n      212610       1.00      1.00      1.00         1\\n      212611       0.50      1.00      0.67         1\\n      212624       0.00      0.00      0.00         1\\n      212641       0.00      0.00      0.00         1\\n      212700       0.00      0.00      0.00         1\\n      212709       0.00      0.00      0.00         1\\n      212717       1.00      1.00      1.00         1\\n      212750       0.00      0.00      0.00         1\\n      212761       0.00      0.00      0.00         1\\n      212764       0.00      0.00      0.00         1\\n      212784       0.00      0.00      0.00         1\\n      212837       1.00      1.00      1.00         1\\n      212858       1.00      1.00      1.00         1\\n      212865       0.00      0.00      0.00         1\\n      212921       1.00      1.00      1.00         1\\n      212934       0.00      0.00      0.00         1\\n      212968       0.00      0.00      0.00         1\\n      212990       0.00      0.00      0.00         1\\n      212992       0.00      0.00      0.00         1\\n      213001       0.00      0.00      0.00         1\\n      213009       0.00      0.00      0.00         1\\n      213012       0.00      0.00      0.00         1\\n      213023       1.00      1.00      1.00         1\\n      213038       0.00      0.00      0.00         1\\n      213077       1.00      1.00      1.00         1\\n      213088       0.00      0.00      0.00         1\\n      213129       1.00      1.00      1.00         1\\n      213130       0.00      0.00      0.00         1\\n      213159       1.00      1.00      1.00         1\\n      213182       0.00      0.00      0.00         1\\n      213193       0.00      0.00      0.00         1\\n      213215       0.00      0.00      0.00         1\\n      213255       0.00      0.00      0.00         1\\n      213264       0.00      0.00      0.00         1\\n      213284       1.00      1.00      1.00         1\\n      213292       1.00      1.00      1.00         1\\n      213294       1.00      1.00      1.00         1\\n      213307       0.00      0.00      0.00         1\\n      213311       0.00      0.00      0.00         1\\n      213333       0.00      0.00      0.00         1\\n      213396       0.00      0.00      0.00         1\\n      213425       0.00      0.00      0.00         1\\n      213434       0.00      0.00      0.00         1\\n      213450       1.00      1.00      1.00         1\\n      213540       0.00      0.00      0.00         1\\n      213546       0.00      0.00      0.00         1\\n      213606       0.00      0.00      0.00         1\\n      213613       1.00      1.00      1.00         1\\n      213618       0.00      0.00      0.00         1\\n      213619       0.00      0.00      0.00         1\\n      213650       0.00      0.00      0.00         1\\n      213656       1.00      1.00      1.00         1\\n      213665       1.00      1.00      1.00         1\\n      213702       0.00      0.00      0.00         1\\n      213707       0.00      0.00      0.00         1\\n      213777       0.00      0.00      0.00         1\\n      213795       0.00      0.00      0.00         1\\n      213800       0.00      0.00      0.00         1\\n      213815       0.00      0.00      0.00         1\\n      213830       1.00      1.00      1.00         1\\n      213834       0.00      0.00      0.00         1\\n      213844       0.00      0.00      0.00         1\\n      213868       0.00      0.00      0.00         1\\n      213885       1.00      1.00      1.00         1\\n      213901       0.00      0.00      0.00         1\\n      213935       0.00      0.00      0.00         1\\n      213952       0.00      0.00      0.00         1\\n      213954       0.00      0.00      0.00         1\\n      214000       0.00      0.00      0.00         1\\n      214001       0.00      0.00      0.00         1\\n      214008       0.00      0.00      0.00         1\\n      214061       0.00      0.00      0.00         1\\n      214065       0.00      0.00      0.00         1\\n      214068       0.00      0.00      0.00         1\\n      214084       0.00      0.00      0.00         1\\n      214102       0.00      0.00      0.00         1\\n      214134       0.00      0.00      0.00         1\\n      214140       0.00      0.00      0.00         1\\n      214141       0.00      0.00      0.00         1\\n      214144       0.00      0.00      0.00         1\\n      214148       0.00      0.00      0.00         1\\n      214150       0.00      0.00      0.00         1\\n      214157       0.00      0.00      0.00         1\\n      214161       0.00      0.00      0.00         1\\n      214168       0.00      0.00      0.00         1\\n      214208       1.00      1.00      1.00         1\\n      214250       1.00      1.00      1.00         1\\n      214262       0.00      0.00      0.00         1\\n      214281       0.00      0.00      0.00         1\\n      214302       0.00      0.00      0.00         1\\n      214317       0.00      0.00      0.00         1\\n      214342       0.00      0.00      0.00         1\\n      214344       0.00      0.00      0.00         1\\n      214381       1.00      1.00      1.00         1\\n      214393       0.00      0.00      0.00         1\\n      214439       0.00      0.00      0.00         1\\n      214449       0.00      0.00      0.00         1\\n      214459       0.00      0.00      0.00         1\\n      214484       0.00      0.00      0.00         1\\n      214526       0.00      0.00      0.00         1\\n      214528       0.00      0.00      0.00         1\\n      214562       0.00      0.00      0.00         1\\n      214573       0.00      0.00      0.00         1\\n      214575       1.00      1.00      1.00         1\\n      214587       0.00      0.00      0.00         1\\n      214592       0.00      0.00      0.00         1\\n      214597       0.00      0.00      0.00         1\\n      214618       0.00      0.00      0.00         1\\n      214627       1.00      1.00      1.00         1\\n      214632       0.00      0.00      0.00         1\\n      214638       0.00      0.00      0.00         1\\n      214674       1.00      1.00      1.00         1\\n      214682       1.00      1.00      1.00         1\\n      214689       0.00      0.00      0.00         1\\n      214717       0.00      0.00      0.00         1\\n      214722       0.00      0.00      0.00         1\\n      214747       1.00      1.00      1.00         1\\n      214748       1.00      1.00      1.00         1\\n      214763       0.00      0.00      0.00         1\\n      214772       0.00      0.00      0.00         1\\n      214792       0.00      0.00      0.00         1\\n      214805       0.00      0.00      0.00         1\\n      214812       0.00      0.00      0.00         1\\n      214819       1.00      1.00      1.00         1\\n      214844       0.00      0.00      0.00         1\\n      214858       0.00      0.00      0.00         1\\n      214867       0.00      0.00      0.00         1\\n      214892       1.00      1.00      1.00         1\\n      214893       0.00      0.00      0.00         1\\n      214905       0.00      0.00      0.00         1\\n      214940       0.00      0.00      0.00         1\\n      215014       0.00      0.00      0.00         1\\n      215026       0.00      0.00      0.00         1\\n      215036       0.00      0.00      0.00         1\\n      215061       1.00      1.00      1.00         1\\n      215069       0.00      0.00      0.00         1\\n      215073       0.00      0.00      0.00         1\\n      215084       1.00      1.00      1.00         1\\n      215089       1.00      1.00      1.00         1\\n      215109       0.00      0.00      0.00         1\\n      215115       1.00      1.00      1.00         1\\n      215119       0.00      0.00      0.00         1\\n      215142       0.00      0.00      0.00         1\\n      215163       0.00      0.00      0.00         1\\n      215172       0.00      0.00      0.00         1\\n      215187       0.00      0.00      0.00         1\\n      215190       0.00      0.00      0.00         1\\n      215227       0.00      0.00      0.00         1\\n      215230       0.00      0.00      0.00         1\\n      215245       0.00      0.00      0.00         1\\n      215281       0.00      0.00      0.00         1\\n      215292       0.00      0.00      0.00         1\\n      215327       0.00      0.00      0.00         1\\n      215329       0.00      0.00      0.00         1\\n      215345       0.00      0.00      0.00         1\\n      215346       0.00      0.00      0.00         1\\n      215353       0.00      0.00      0.00         1\\n      215354       0.00      0.00      0.00         1\\n      215365       0.00      0.00      0.00         1\\n      215405       1.00      1.00      1.00         1\\n      215418       0.00      0.00      0.00         1\\n      215440       1.00      1.00      1.00         1\\n      215446       0.00      0.00      0.00         1\\n      215459       0.00      0.00      0.00         1\\n      215462       0.00      0.00      0.00         1\\n      215496       0.00      0.00      0.00         1\\n      215503       0.00      0.00      0.00         1\\n      215537       0.00      0.00      0.00         1\\n      215543       0.00      0.00      0.00         1\\n      215614       0.00      0.00      0.00         1\\n      215641       0.00      0.00      0.00         1\\n      215661       1.00      1.00      1.00         1\\n      215665       0.00      0.00      0.00         1\\n      215666       0.00      0.00      0.00         1\\n      215673       0.00      0.00      0.00         1\\n      215713       0.00      0.00      0.00         1\\n      215756       0.00      0.00      0.00         1\\n      215794       0.00      0.00      0.00         1\\n      215807       1.00      1.00      1.00         1\\n      215818       0.00      0.00      0.00         1\\n      215846       0.00      0.00      0.00         1\\n      215857       0.00      0.00      0.00         1\\n      215872       0.00      0.00      0.00         1\\n      215879       0.00      0.00      0.00         1\\n      215883       0.00      0.00      0.00         1\\n      215885       0.00      0.00      0.00         1\\n      215891       0.00      0.00      0.00         1\\n      215907       0.00      0.00      0.00         1\\n      215961       0.00      0.00      0.00         1\\n      216005       0.00      0.00      0.00         1\\n      216033       1.00      1.00      1.00         1\\n      216065       0.00      0.00      0.00         1\\n      216072       0.00      0.00      0.00         1\\n      216082       0.00      0.00      0.00         1\\n      216119       1.00      1.00      1.00         1\\n      216128       0.00      0.00      0.00         1\\n      216142       0.00      0.00      0.00         1\\n      216144       0.00      0.00      0.00         1\\n      216204       0.00      0.00      0.00         1\\n      216212       1.00      1.00      1.00         1\\n      216215       1.00      1.00      1.00         1\\n      216248       0.00      0.00      0.00         1\\n      216255       0.00      0.00      0.00         1\\n      216284       0.00      0.00      0.00         1\\n      216291       1.00      1.00      1.00         1\\n      216317       0.00      0.00      0.00         1\\n      216338       1.00      1.00      1.00         1\\n      216343       0.00      0.00      0.00         1\\n      216345       0.00      0.00      0.00         1\\n      216364       0.00      0.00      0.00         1\\n      216368       0.00      0.00      0.00         1\\n      216370       0.00      0.00      0.00         1\\n      216373       1.00      1.00      1.00         1\\n      216382       0.00      0.00      0.00         1\\n      216399       0.00      0.00      0.00         1\\n      216419       0.00      0.00      0.00         1\\n      216425       0.00      0.00      0.00         1\\n      216437       0.00      0.00      0.00         1\\n      216458       1.00      1.00      1.00         1\\n      216461       0.00      0.00      0.00         1\\n      216494       0.00      0.00      0.00         1\\n      216516       1.00      1.00      1.00         1\\n      216544       0.00      0.00      0.00         1\\n      216550       0.00      0.00      0.00         1\\n      216579       1.00      1.00      1.00         1\\n      216598       0.00      0.00      0.00         1\\n      216623       0.00      0.00      0.00         1\\n      216627       0.00      0.00      0.00         1\\n      216654       0.00      0.00      0.00         1\\n      216665       0.00      0.00      0.00         1\\n      216668       0.00      0.00      0.00         1\\n      216691       1.00      1.00      1.00         1\\n      216697       1.00      1.00      1.00         1\\n      216702       0.00      0.00      0.00         1\\n      216726       1.00      1.00      1.00         1\\n      216745       0.00      0.00      0.00         1\\n      216758       0.00      0.00      0.00         1\\n      216772       0.00      0.00      0.00         1\\n      216781       0.00      0.00      0.00         1\\n      216790       0.00      0.00      0.00         1\\n      216828       0.00      0.00      0.00         1\\n      216830       1.00      1.00      1.00         1\\n      216839       0.00      0.00      0.00         1\\n      216850       0.00      0.00      0.00         1\\n      216852       0.00      0.00      0.00         1\\n      216859       0.00      0.00      0.00         1\\n      216874       0.00      0.00      0.00         1\\n      216876       0.00      0.00      0.00         1\\n      216941       0.00      0.00      0.00         1\\n      216948       1.00      1.00      1.00         1\\n      216968       0.00      0.00      0.00         1\\n      216970       1.00      1.00      1.00         1\\n      216971       1.00      1.00      1.00         1\\n      216972       0.00      0.00      0.00         1\\n      216984       0.00      0.00      0.00         1\\n      216991       0.00      0.00      0.00         1\\n      216994       0.00      0.00      0.00         1\\n      217025       1.00      1.00      1.00         1\\n      217085       0.00      0.00      0.00         1\\n      217091       0.00      0.00      0.00         1\\n      217102       1.00      1.00      1.00         1\\n      217114       1.00      1.00      1.00         1\\n      217118       0.00      0.00      0.00         1\\n      217139       1.00      1.00      1.00         1\\n      217158       0.00      0.00      0.00         1\\n      217182       0.00      0.00      0.00         1\\n      217213       1.00      1.00      1.00         1\\n      217214       0.00      0.00      0.00         1\\n      217266       0.00      0.00      0.00         1\\n      217288       0.00      0.00      0.00         1\\n      217290       0.00      0.00      0.00         1\\n      217328       0.00      0.00      0.00         1\\n      217340       0.00      0.00      0.00         1\\n      217350       0.00      0.00      0.00         1\\n      217351       1.00      1.00      1.00         1\\n      217359       0.00      0.00      0.00         1\\n      217384       0.00      0.00      0.00         1\\n      217394       0.00      0.00      0.00         1\\n      217405       0.00      0.00      0.00         1\\n      217406       0.00      0.00      0.00         1\\n      217413       0.00      0.00      0.00         1\\n      217414       0.00      0.00      0.00         1\\n      217464       0.00      0.00      0.00         1\\n      217490       1.00      1.00      1.00         1\\n      217491       0.00      0.00      0.00         1\\n      217500       0.00      0.00      0.00         1\\n      217510       0.00      0.00      0.00         1\\n      217517       0.00      0.00      0.00         1\\n      217534       1.00      1.00      1.00         1\\n      217541       1.00      1.00      1.00         1\\n      217566       0.00      0.00      0.00         1\\n      217591       1.00      1.00      1.00         1\\n      217619       0.00      0.00      0.00         1\\n      217631       0.00      0.00      0.00         1\\n      217639       1.00      1.00      1.00         1\\n      217641       0.00      0.00      0.00         1\\n      217645       0.00      0.00      0.00         1\\n      217648       1.00      1.00      1.00         1\\n      217666       0.00      0.00      0.00         1\\n      217669       1.00      1.00      1.00         1\\n      217678       1.00      1.00      1.00         1\\n      217702       0.00      0.00      0.00         1\\n      217706       0.00      0.00      0.00         1\\n      217716       0.00      0.00      0.00         1\\n      217717       0.00      0.00      0.00         1\\n      217720       0.00      0.00      0.00         1\\n      217727       0.00      0.00      0.00         1\\n      217733       1.00      1.00      1.00         1\\n      217756       1.00      1.00      1.00         1\\n      217769       0.00      0.00      0.00         1\\n      217780       0.00      0.00      0.00         1\\n      217782       0.00      0.00      0.00         1\\n      217799       0.00      0.00      0.00         1\\n      217800       0.00      0.00      0.00         1\\n      217809       0.00      0.00      0.00         1\\n      217813       0.00      0.00      0.00         1\\n      217816       0.00      0.00      0.00         1\\n      217826       1.00      1.00      1.00         1\\n      217841       1.00      1.00      1.00         1\\n      217842       0.00      0.00      0.00         1\\n      217846       0.00      0.00      0.00         1\\n\\n   micro avg       0.28      0.28      0.28     10000\\n   macro avg       0.24      0.28      0.25     10000\\nweighted avg       0.24      0.28      0.25     10000\\n'"
      ]
     },
     "execution_count": 153,
     "metadata": {},
     "output_type": "execute_result"
    }
   ],
   "source": [
    "class_report"
   ]
  },
  {
   "cell_type": "code",
   "execution_count": 154,
   "metadata": {},
   "outputs": [
    {
     "data": {
      "text/plain": [
       "array([[1, 0, 0, ..., 0, 0, 0],\n",
       "       [0, 1, 0, ..., 0, 0, 0],\n",
       "       [0, 0, 1, ..., 0, 0, 0],\n",
       "       ...,\n",
       "       [0, 0, 0, ..., 1, 0, 0],\n",
       "       [0, 0, 0, ..., 0, 0, 0],\n",
       "       [0, 0, 0, ..., 0, 0, 0]], dtype=int64)"
      ]
     },
     "execution_count": 154,
     "metadata": {},
     "output_type": "execute_result"
    }
   ],
   "source": [
    "cm=confusion_matrix(user_based_approach['UserID'],pridicted)\n",
    "cm"
   ]
  },
  {
   "cell_type": "code",
   "execution_count": 155,
   "metadata": {},
   "outputs": [],
   "source": [
    "# http://scikit-learn.org/stable/modules/metrics.html#linear-kernel\n",
    "cosine_sim = linear_kernel(tfidf_matrix, tfidf_matrix)"
   ]
  },
  {
   "cell_type": "code",
   "execution_count": 156,
   "metadata": {},
   "outputs": [],
   "source": [
    "cosine_sim_test = linear_kernel(tfidf_matrix_test, tfidf_matrix_test)"
   ]
  },
  {
   "cell_type": "code",
   "execution_count": 157,
   "metadata": {},
   "outputs": [
    {
     "data": {
      "text/plain": [
       "array([1.        , 0.67053882, 0.84759861, ..., 0.43990417, 0.79335895,\n",
       "       0.69670809])"
      ]
     },
     "execution_count": 157,
     "metadata": {},
     "output_type": "execute_result"
    }
   ],
   "source": [
    "cosine_sim[0]"
   ]
  },
  {
   "cell_type": "code",
   "execution_count": 158,
   "metadata": {},
   "outputs": [
    {
     "data": {
      "text/plain": [
       "array([1.        , 0.32653975, 0.44118099, ..., 0.50731834, 0.53669984,\n",
       "       0.53669984])"
      ]
     },
     "execution_count": 158,
     "metadata": {},
     "output_type": "execute_result"
    }
   ],
   "source": [
    "cosine_sim_test[0]"
   ]
  },
  {
   "cell_type": "code",
   "execution_count": 159,
   "metadata": {},
   "outputs": [
    {
     "data": {
      "text/plain": [
       "UserID\n",
       "47    0\n",
       "72    1\n",
       "dtype: int64"
      ]
     },
     "execution_count": 159,
     "metadata": {},
     "output_type": "execute_result"
    }
   ],
   "source": [
    "user_based_approach = user_based_approach.reset_index()\n",
    "userid = user_based_approach['UserID']\n",
    "indices = pd.Series(user_based_approach.index, index=user_based_approach['UserID'])\n",
    "indices.head(2)"
   ]
  },
  {
   "cell_type": "code",
   "execution_count": 160,
   "metadata": {},
   "outputs": [
    {
     "data": {
      "text/plain": [
       "UserID\n",
       "767    0\n",
       "769    1\n",
       "dtype: int64"
      ]
     },
     "execution_count": 160,
     "metadata": {},
     "output_type": "execute_result"
    }
   ],
   "source": [
    "user_based_approach_test = user_based_approach_test.reset_index()\n",
    "userid_test = user_based_approach_test['UserID']\n",
    "indices_test = pd.Series(user_based_approach_test.index, index=user_based_approach_test['UserID'])\n",
    "indices_test.head(2)"
   ]
  },
  {
   "cell_type": "code",
   "execution_count": 161,
   "metadata": {},
   "outputs": [],
   "source": [
    "def job_recommendations_userwise(userid):\n",
    "    idx = indices[userid]\n",
    "    sim_scores = list(enumerate(cosine_sim[idx]))\n",
    "    sim_scores = sorted(sim_scores, key=lambda x: x[1], reverse=True)\n",
    "    user_indices = [i[0] for i in sim_scores]\n",
    "    return user_indices[0:11]"
   ]
  },
  {
   "cell_type": "code",
   "execution_count": 162,
   "metadata": {},
   "outputs": [
    {
     "name": "stdout",
     "output_type": "stream",
     "text": [
      "Top 10 Similar users with userId: 123\n"
     ]
    },
    {
     "data": {
      "text/plain": [
       "[4, 150, 1594, 5560, 2464, 2846, 7945, 8125, 1171, 11, 24]"
      ]
     },
     "execution_count": 162,
     "metadata": {},
     "output_type": "execute_result"
    }
   ],
   "source": [
    "print (\"Top 10 Similar users with userId: 123\")\n",
    "job_recommendations_userwise(123)"
   ]
  },
  {
   "cell_type": "markdown",
   "metadata": {},
   "source": [
    "### Recommendation Algorithms"
   ]
  },
  {
   "cell_type": "code",
   "execution_count": 163,
   "metadata": {},
   "outputs": [],
   "source": [
    "def get_job_id(usrid_list):\n",
    "    jobs_userwise = apps_training['UserID'].isin(usrid_list) #\n",
    "    df1 = pd.DataFrame(data = apps_training[jobs_userwise], columns=['JobID'])\n",
    "    joblist = df1['JobID'].tolist()\n",
    "    Job_list = jobs['JobID'].isin(joblist) \n",
    "    df_temp = pd.DataFrame(data = jobs[Job_list], columns=['JobID','Title','Description','City','State'])\n",
    "    return df_temp"
   ]
  },
  {
   "cell_type": "code",
   "execution_count": 164,
   "metadata": {},
   "outputs": [
    {
     "data": {
      "text/html": [
       "<div>\n",
       "<style scoped>\n",
       "    .dataframe tbody tr th:only-of-type {\n",
       "        vertical-align: middle;\n",
       "    }\n",
       "\n",
       "    .dataframe tbody tr th {\n",
       "        vertical-align: top;\n",
       "    }\n",
       "\n",
       "    .dataframe thead th {\n",
       "        text-align: right;\n",
       "    }\n",
       "</style>\n",
       "<table border=\"1\" class=\"dataframe\">\n",
       "  <thead>\n",
       "    <tr style=\"text-align: right;\">\n",
       "      <th></th>\n",
       "      <th>JobID</th>\n",
       "      <th>Title</th>\n",
       "      <th>Description</th>\n",
       "      <th>City</th>\n",
       "      <th>State</th>\n",
       "    </tr>\n",
       "  </thead>\n",
       "  <tbody>\n",
       "  </tbody>\n",
       "</table>\n",
       "</div>"
      ],
      "text/plain": [
       "Empty DataFrame\n",
       "Columns: [JobID, Title, Description, City, State]\n",
       "Index: []"
      ]
     },
     "execution_count": 164,
     "metadata": {},
     "output_type": "execute_result"
    }
   ],
   "source": [
    "get_job_id(job_recommendations_userwise(47))"
   ]
  },
  {
   "cell_type": "code",
   "execution_count": 165,
   "metadata": {},
   "outputs": [
    {
     "name": "stdout",
     "output_type": "stream",
     "text": [
      "Top 10 Similar users with userId: 47\n"
     ]
    },
    {
     "data": {
      "text/plain": [
       "[1, 1810, 3388, 5488, 7033, 7445, 7985, 11, 24, 37, 44]"
      ]
     },
     "execution_count": 165,
     "metadata": {},
     "output_type": "execute_result"
    }
   ],
   "source": [
    "print (\"Top 10 Similar users with userId: 47\")\n",
    "job_recommendations_userwise(72)"
   ]
  },
  {
   "cell_type": "code",
   "execution_count": 166,
   "metadata": {},
   "outputs": [
    {
     "data": {
      "text/html": [
       "<div>\n",
       "<style scoped>\n",
       "    .dataframe tbody tr th:only-of-type {\n",
       "        vertical-align: middle;\n",
       "    }\n",
       "\n",
       "    .dataframe tbody tr th {\n",
       "        vertical-align: top;\n",
       "    }\n",
       "\n",
       "    .dataframe thead th {\n",
       "        text-align: right;\n",
       "    }\n",
       "</style>\n",
       "<table border=\"1\" class=\"dataframe\">\n",
       "  <thead>\n",
       "    <tr style=\"text-align: right;\">\n",
       "      <th></th>\n",
       "      <th>JobID</th>\n",
       "      <th>Title</th>\n",
       "      <th>Description</th>\n",
       "      <th>City</th>\n",
       "      <th>State</th>\n",
       "    </tr>\n",
       "  </thead>\n",
       "  <tbody>\n",
       "    <tr>\n",
       "      <th>479106</th>\n",
       "      <td>309823</td>\n",
       "      <td>Teller</td>\n",
       "      <td>Our vision is to satisfy all our customers  fi...</td>\n",
       "      <td>Roanoke</td>\n",
       "      <td>VA</td>\n",
       "    </tr>\n",
       "    <tr>\n",
       "      <th>527966</th>\n",
       "      <td>703889</td>\n",
       "      <td>Customer Service Representative, Now Accepting...</td>\n",
       "      <td>&lt;DIV&gt;How's your Quality of Life?&lt;/DIV&gt;\\r\\n&lt;DIV...</td>\n",
       "      <td>Roanoke</td>\n",
       "      <td>VA</td>\n",
       "    </tr>\n",
       "    <tr>\n",
       "      <th>596996</th>\n",
       "      <td>136489</td>\n",
       "      <td>UPS Part Time Package Handler</td>\n",
       "      <td>&lt;hr&gt;\\r&lt;strong&gt;\\r&lt;center&gt;Part Time Package Hand...</td>\n",
       "      <td>Houston</td>\n",
       "      <td>TX</td>\n",
       "    </tr>\n",
       "  </tbody>\n",
       "</table>\n",
       "</div>"
      ],
      "text/plain": [
       "         JobID                                              Title  \\\n",
       "479106  309823                                             Teller   \n",
       "527966  703889  Customer Service Representative, Now Accepting...   \n",
       "596996  136489                      UPS Part Time Package Handler   \n",
       "\n",
       "                                              Description     City State  \n",
       "479106  Our vision is to satisfy all our customers  fi...  Roanoke    VA  \n",
       "527966  <DIV>How's your Quality of Life?</DIV>\\r\\n<DIV...  Roanoke    VA  \n",
       "596996  <hr>\\r<strong>\\r<center>Part Time Package Hand...  Houston    TX  "
      ]
     },
     "execution_count": 166,
     "metadata": {},
     "output_type": "execute_result"
    }
   ],
   "source": [
    "get_job_id(job_recommendations_userwise(80))"
   ]
  },
  {
   "cell_type": "raw",
   "metadata": {},
   "source": []
  },
  {
   "cell_type": "code",
   "execution_count": 167,
   "metadata": {},
   "outputs": [],
   "source": [
    "from sklearn.feature_extraction.text import CountVectorizer\n",
    "import pandas as pd\n",
    "vect = CountVectorizer()\n",
    "vect.fit(user_based_approach['DegreeType'])\n",
    "simple_dtm = vect.transform(user_based_approach['DegreeType'])"
   ]
  },
  {
   "cell_type": "code",
   "execution_count": 168,
   "metadata": {},
   "outputs": [
    {
     "data": {
      "text/plain": [
       "(10000, 2205)"
      ]
     },
     "execution_count": 168,
     "metadata": {},
     "output_type": "execute_result"
    }
   ],
   "source": [
    "simple_dtm.shape"
   ]
  },
  {
   "cell_type": "code",
   "execution_count": 169,
   "metadata": {},
   "outputs": [],
   "source": [
    "cosine_sim1 = linear_kernel(simple_dtm, simple_dtm)"
   ]
  },
  {
   "cell_type": "code",
   "execution_count": 170,
   "metadata": {},
   "outputs": [
    {
     "data": {
      "text/plain": [
       "array([207., 205., 206., ..., 208., 205., 205.])"
      ]
     },
     "execution_count": 170,
     "metadata": {},
     "output_type": "execute_result"
    }
   ],
   "source": [
    "cosine_sim1[0]"
   ]
  },
  {
   "cell_type": "markdown",
   "metadata": {},
   "source": [
    "### Recommendation Algorithms"
   ]
  },
  {
   "cell_type": "code",
   "execution_count": 171,
   "metadata": {},
   "outputs": [],
   "source": [
    "def job_recommendations_userwise(userid):\n",
    "    idx = indices[userid]\n",
    "    sim_scores = list(enumerate(cosine_sim1[idx]))\n",
    "    sim_scores = sorted(sim_scores, key=lambda x: x[1], reverse=True)\n",
    "    user_indices = [i[0] for i in sim_scores]\n",
    "    return user_indices[0:11]"
   ]
  },
  {
   "cell_type": "code",
   "execution_count": 172,
   "metadata": {},
   "outputs": [],
   "source": [
    "def get_job_id(usrid_list):#require correction\n",
    "    jobs_userwise = apps_training['UserID'].isin(usrid_list) #\n",
    "    df1 = pd.DataFrame(data = apps_training[jobs_userwise], columns=['JobID'])\n",
    "    joblist = df1['JobID'].tolist()\n",
    "    Job_list = jobs['JobID'].isin(joblist) \n",
    "    df_temp = pd.DataFrame(data = jobs[Job_list], columns=['JobID','Title','Description','City','State'])\n",
    "    return df_temp"
   ]
  },
  {
   "cell_type": "code",
   "execution_count": 173,
   "metadata": {},
   "outputs": [
    {
     "name": "stdout",
     "output_type": "stream",
     "text": [
      "Top 10 Similar users with userId: 123\n"
     ]
    },
    {
     "data": {
      "text/plain": [
       "[9997, 4, 150, 8683, 1075, 1171, 1465, 1594, 2266, 2427, 2553]"
      ]
     },
     "execution_count": 173,
     "metadata": {},
     "output_type": "execute_result"
    }
   ],
   "source": [
    "print (\"Top 10 Similar users with userId: 123\")\n",
    "job_recommendations_userwise(123)"
   ]
  },
  {
   "cell_type": "code",
   "execution_count": 174,
   "metadata": {
    "scrolled": true
   },
   "outputs": [
    {
     "data": {
      "text/html": [
       "<div>\n",
       "<style scoped>\n",
       "    .dataframe tbody tr th:only-of-type {\n",
       "        vertical-align: middle;\n",
       "    }\n",
       "\n",
       "    .dataframe tbody tr th {\n",
       "        vertical-align: top;\n",
       "    }\n",
       "\n",
       "    .dataframe thead th {\n",
       "        text-align: right;\n",
       "    }\n",
       "</style>\n",
       "<table border=\"1\" class=\"dataframe\">\n",
       "  <thead>\n",
       "    <tr style=\"text-align: right;\">\n",
       "      <th></th>\n",
       "      <th>JobID</th>\n",
       "      <th>Title</th>\n",
       "      <th>Description</th>\n",
       "      <th>City</th>\n",
       "      <th>State</th>\n",
       "    </tr>\n",
       "  </thead>\n",
       "  <tbody>\n",
       "    <tr>\n",
       "      <th>423215</th>\n",
       "      <td>994333</td>\n",
       "      <td>Team Lead Operations</td>\n",
       "      <td>&lt;p&gt;The &lt;strong&gt;Operations Team Lead&lt;/strong&gt; i...</td>\n",
       "      <td>Sparks</td>\n",
       "      <td>NV</td>\n",
       "    </tr>\n",
       "    <tr>\n",
       "      <th>440312</th>\n",
       "      <td>548</td>\n",
       "      <td>Educators</td>\n",
       "      <td>Educators -  Positions available for Principal...</td>\n",
       "      <td>Hollywood</td>\n",
       "      <td>FL</td>\n",
       "    </tr>\n",
       "    <tr>\n",
       "      <th>447851</th>\n",
       "      <td>61390</td>\n",
       "      <td>Assistant School Director</td>\n",
       "      <td>&lt;P&gt;&lt;B&gt;Main Role:&lt;/B&gt;&lt;/P&gt;\\r&lt;P&gt; &lt;/P&gt;\\r&lt;P&gt;Provide...</td>\n",
       "      <td>Coral Gables</td>\n",
       "      <td>FL</td>\n",
       "    </tr>\n",
       "    <tr>\n",
       "      <th>498307</th>\n",
       "      <td>465218</td>\n",
       "      <td>Teacher / Co Teacher</td>\n",
       "      <td>&lt;strong&gt;&lt;em&gt;&lt;span&gt;&lt;/span&gt;&lt;/em&gt;&lt;/strong&gt;\\r&lt;p&gt;&lt;s...</td>\n",
       "      <td>Coral Gables</td>\n",
       "      <td>FL</td>\n",
       "    </tr>\n",
       "    <tr>\n",
       "      <th>542875</th>\n",
       "      <td>820901</td>\n",
       "      <td>Retail</td>\n",
       "      <td>RETAIL SALES REP Are you a Wine Expert or self...</td>\n",
       "      <td>Miami</td>\n",
       "      <td>FL</td>\n",
       "    </tr>\n",
       "    <tr>\n",
       "      <th>552902</th>\n",
       "      <td>900429</td>\n",
       "      <td>TEACHER - City of Pembroke Pines Charter High ...</td>\n",
       "      <td>TEACHER \\r\\n\\r\\nCity of Pembroke Pines Charter...</td>\n",
       "      <td>Pembroke Pines</td>\n",
       "      <td>FL</td>\n",
       "    </tr>\n",
       "    <tr>\n",
       "      <th>552905</th>\n",
       "      <td>900436</td>\n",
       "      <td>Job Fair</td>\n",
       "      <td>Job Fair -  Somerset Academy Miramar (PK-8) &amp; ...</td>\n",
       "      <td>Miramar</td>\n",
       "      <td>FL</td>\n",
       "    </tr>\n",
       "    <tr>\n",
       "      <th>557723</th>\n",
       "      <td>939381</td>\n",
       "      <td>Anticipating Florida Teacher Positions (K-12) ...</td>\n",
       "      <td>&lt;p&gt;K¹² is a dynamic company on a mission to pr...</td>\n",
       "      <td>Miami</td>\n",
       "      <td>FL</td>\n",
       "    </tr>\n",
       "    <tr>\n",
       "      <th>577843</th>\n",
       "      <td>1100891</td>\n",
       "      <td>Research Assistant</td>\n",
       "      <td>&lt;p&gt;We are seeking a very professional and cour...</td>\n",
       "      <td>Miami Beach</td>\n",
       "      <td>FL</td>\n",
       "    </tr>\n",
       "  </tbody>\n",
       "</table>\n",
       "</div>"
      ],
      "text/plain": [
       "          JobID                                              Title  \\\n",
       "423215   994333                               Team Lead Operations   \n",
       "440312      548                                          Educators   \n",
       "447851    61390                          Assistant School Director   \n",
       "498307   465218                               Teacher / Co Teacher   \n",
       "542875   820901                                             Retail   \n",
       "552902   900429  TEACHER - City of Pembroke Pines Charter High ...   \n",
       "552905   900436                                           Job Fair   \n",
       "557723   939381  Anticipating Florida Teacher Positions (K-12) ...   \n",
       "577843  1100891                                 Research Assistant   \n",
       "\n",
       "                                              Description            City  \\\n",
       "423215  <p>The <strong>Operations Team Lead</strong> i...          Sparks   \n",
       "440312  Educators -  Positions available for Principal...       Hollywood   \n",
       "447851  <P><B>Main Role:</B></P>\\r<P> </P>\\r<P>Provide...    Coral Gables   \n",
       "498307  <strong><em><span></span></em></strong>\\r<p><s...    Coral Gables   \n",
       "542875  RETAIL SALES REP Are you a Wine Expert or self...           Miami   \n",
       "552902  TEACHER \\r\\n\\r\\nCity of Pembroke Pines Charter...  Pembroke Pines   \n",
       "552905  Job Fair -  Somerset Academy Miramar (PK-8) & ...         Miramar   \n",
       "557723  <p>K¹² is a dynamic company on a mission to pr...           Miami   \n",
       "577843  <p>We are seeking a very professional and cour...     Miami Beach   \n",
       "\n",
       "       State  \n",
       "423215    NV  \n",
       "440312    FL  \n",
       "447851    FL  \n",
       "498307    FL  \n",
       "542875    FL  \n",
       "552902    FL  \n",
       "552905    FL  \n",
       "557723    FL  \n",
       "577843    FL  "
      ]
     },
     "execution_count": 174,
     "metadata": {},
     "output_type": "execute_result"
    }
   ],
   "source": [
    "get_job_id(job_recommendations_userwise(123))"
   ]
  },
  {
   "cell_type": "code",
   "execution_count": 175,
   "metadata": {},
   "outputs": [
    {
     "data": {
      "text/html": [
       "<div>\n",
       "<style scoped>\n",
       "    .dataframe tbody tr th:only-of-type {\n",
       "        vertical-align: middle;\n",
       "    }\n",
       "\n",
       "    .dataframe tbody tr th {\n",
       "        vertical-align: top;\n",
       "    }\n",
       "\n",
       "    .dataframe thead th {\n",
       "        text-align: right;\n",
       "    }\n",
       "</style>\n",
       "<table border=\"1\" class=\"dataframe\">\n",
       "  <thead>\n",
       "    <tr style=\"text-align: right;\">\n",
       "      <th></th>\n",
       "      <th>JobID</th>\n",
       "      <th>Title</th>\n",
       "      <th>Description</th>\n",
       "      <th>City</th>\n",
       "      <th>State</th>\n",
       "    </tr>\n",
       "  </thead>\n",
       "  <tbody>\n",
       "    <tr>\n",
       "      <th>479106</th>\n",
       "      <td>309823</td>\n",
       "      <td>Teller</td>\n",
       "      <td>Our vision is to satisfy all our customers  fi...</td>\n",
       "      <td>Roanoke</td>\n",
       "      <td>VA</td>\n",
       "    </tr>\n",
       "    <tr>\n",
       "      <th>527966</th>\n",
       "      <td>703889</td>\n",
       "      <td>Customer Service Representative, Now Accepting...</td>\n",
       "      <td>&lt;DIV&gt;How's your Quality of Life?&lt;/DIV&gt;\\r\\n&lt;DIV...</td>\n",
       "      <td>Roanoke</td>\n",
       "      <td>VA</td>\n",
       "    </tr>\n",
       "    <tr>\n",
       "      <th>596996</th>\n",
       "      <td>136489</td>\n",
       "      <td>UPS Part Time Package Handler</td>\n",
       "      <td>&lt;hr&gt;\\r&lt;strong&gt;\\r&lt;center&gt;Part Time Package Hand...</td>\n",
       "      <td>Houston</td>\n",
       "      <td>TX</td>\n",
       "    </tr>\n",
       "  </tbody>\n",
       "</table>\n",
       "</div>"
      ],
      "text/plain": [
       "         JobID                                              Title  \\\n",
       "479106  309823                                             Teller   \n",
       "527966  703889  Customer Service Representative, Now Accepting...   \n",
       "596996  136489                      UPS Part Time Package Handler   \n",
       "\n",
       "                                              Description     City State  \n",
       "479106  Our vision is to satisfy all our customers  fi...  Roanoke    VA  \n",
       "527966  <DIV>How's your Quality of Life?</DIV>\\r\\n<DIV...  Roanoke    VA  \n",
       "596996  <hr>\\r<strong>\\r<center>Part Time Package Hand...  Houston    TX  "
      ]
     },
     "execution_count": 175,
     "metadata": {},
     "output_type": "execute_result"
    }
   ],
   "source": [
    "get_job_id(job_recommendations_userwise(80))"
   ]
  },
  {
   "cell_type": "code",
   "execution_count": null,
   "metadata": {},
   "outputs": [],
   "source": []
  }
 ],
 "metadata": {
  "kernelspec": {
   "display_name": "Python 3",
   "language": "python",
   "name": "python3"
  },
  "language_info": {
   "codemirror_mode": {
    "name": "ipython",
    "version": 3
   },
   "file_extension": ".py",
   "mimetype": "text/x-python",
   "name": "python",
   "nbconvert_exporter": "python",
   "pygments_lexer": "ipython3",
   "version": "3.7.3"
  }
 },
 "nbformat": 4,
 "nbformat_minor": 2
}
